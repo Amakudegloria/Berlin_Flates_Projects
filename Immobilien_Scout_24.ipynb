{
  "nbformat": 4,
  "nbformat_minor": 0,
  "metadata": {
    "colab": {
      "name": "Immobilien_Scout_24.ipynb",
      "provenance": [],
      "collapsed_sections": [],
      "include_colab_link": true
    },
    "kernelspec": {
      "name": "python3",
      "display_name": "Python 3"
    }
  },
  "cells": [
    {
      "cell_type": "markdown",
      "metadata": {
        "id": "view-in-github",
        "colab_type": "text"
      },
      "source": [
        "<a href=\"https://colab.research.google.com/github/Amakudegloria/Berlin_Flats_Project/blob/main/Immobilien_Scout_24.ipynb\" target=\"_parent\"><img src=\"https://colab.research.google.com/assets/colab-badge.svg\" alt=\"Open In Colab\"/></a>"
      ]
    },
    {
      "cell_type": "markdown",
      "metadata": {
        "id": "jHXW5E0kZ38J"
      },
      "source": [
        "![Immoscout](https://raw.githubusercontent.com/juliandnl/redi_ss20/master/image.png)"
      ]
    },
    {
      "cell_type": "markdown",
      "metadata": {
        "id": "KAxkfPwXadvb"
      },
      "source": [
        "# **Immobilien Scout 24 Dataset**\n",
        "Immobilien Scout 24 is the leading online platform for residential and commercial real estate in Germany. For over 20 years, ImmoScout24 has been revolutionising the real estate market, and supports 14.5 million users each month on their way to acquiring their new home or commercial space.\n",
        "\n",
        "With its digital solutions, the online marketplace coordinates and brings owners, realtors, tenants and buyers successfully together. Immobilien Scout 24 is working towards the goal of digitising the process of real estate transactions and thereby making complex decisions easy. Since 2012, Immobilien Scout 24 has also been active in the German real estate market, reaching around 3 million users monthly.\n",
        "\n",
        "This dataset contains entries from rental flats in Berlin. \n",
        "\n",
        "**Lets explore the dataset and find a suitable flat for my friend Josy, who is currently, desperately in need of a new flat in Berlin!!!**"
      ]
    },
    {
      "cell_type": "markdown",
      "metadata": {
        "id": "k2Gv9pEiU4Ao"
      },
      "source": [
        "**There are 6 relevant columns in this dataset, which are:**\n",
        "- URL: is the link to the rental expose. You can have a look at the flat!\n",
        "- Region: is the Berlin district, where the flat is located\n",
        "- Condition: is the condition of the flat\n",
        "- Rooms: The number of rooms the flat has\n",
        "- Rent: Monthly rent for the flat\n",
        "- Year_Construction: The year in which the house was build\n",
        "- Space: How many square meters does the flat has?\n",
        "\n",
        "---\n",
        "\n",
        "\n",
        "**Let us start by asking questions we might want to understand the Immobilien scout data and to make smarter business decisions Questions such as;**\n",
        "\n",
        "1. How many different Regions are there?\n",
        "2. What is the maximum and minimum rent?\n",
        "3. What is on average the most expensive region and at what size?\n",
        "4. What is the mean rent for the different room sizes and per condition?\n",
        "5. Which region has the best price per square meter?"
      ]
    },
    {
      "cell_type": "markdown",
      "metadata": {
        "id": "JM8aJEFXUxQO"
      },
      "source": [
        "# **Import Packages**"
      ]
    },
    {
      "cell_type": "code",
      "metadata": {
        "id": "lhduQalLT4mA",
        "colab": {
          "base_uri": "https://localhost:8080/",
          "height": 17
        },
        "outputId": "94577676-2d01-466a-9de4-de60516a95a5"
      },
      "source": [
        "# Import necessary packages\n",
        "import pandas as pd\n",
        "import numpy as np\n",
        "import seaborn as sns\n",
        "sns.set(style=\"darkgrid\")\n",
        "import matplotlib.pyplot as plt\n",
        "import datetime\n",
        "from plotly.offline import init_notebook_mode, iplot, plot\n",
        "import plotly as py\n",
        "init_notebook_mode(connected=True)\n",
        "import plotly.graph_objs as go\n",
        "from dateutil.relativedelta import relativedelta\n",
        "from wordcloud import WordCloud\n",
        "from sklearn.ensemble import RandomForestClassifier\n",
        "from sklearn.model_selection import train_test_split\n",
        "from sklearn.linear_model import LinearRegression"
      ],
      "execution_count": 1,
      "outputs": [
        {
          "output_type": "display_data",
          "data": {
            "text/html": [
              "        <script type=\"text/javascript\">\n",
              "        window.PlotlyConfig = {MathJaxConfig: 'local'};\n",
              "        if (window.MathJax) {MathJax.Hub.Config({SVG: {font: \"STIX-Web\"}});}\n",
              "        if (typeof require !== 'undefined') {\n",
              "        require.undef(\"plotly\");\n",
              "        requirejs.config({\n",
              "            paths: {\n",
              "                'plotly': ['https://cdn.plot.ly/plotly-latest.min']\n",
              "            }\n",
              "        });\n",
              "        require(['plotly'], function(Plotly) {\n",
              "            window._Plotly = Plotly;\n",
              "        });\n",
              "        }\n",
              "        </script>\n",
              "        "
            ]
          },
          "metadata": {
            "tags": []
          }
        }
      ]
    },
    {
      "cell_type": "markdown",
      "metadata": {
        "id": "c0FRT4TxUwLZ"
      },
      "source": [
        "# **Load Dataset**"
      ]
    },
    {
      "cell_type": "code",
      "metadata": {
        "id": "v9cxv3jwUp5Z",
        "colab": {
          "base_uri": "https://localhost:8080/",
          "height": 359
        },
        "outputId": "7a0f95a4-1d61-45f8-9232-26778c772bd8"
      },
      "source": [
        "#Now lets have a look at the dataset\n",
        "rentals = pd.read_csv(\"https://raw.githubusercontent.com/juliandnl/redi_ss20/master/berlin_rental.csv\")\n",
        "rentals.head(10)"
      ],
      "execution_count": 2,
      "outputs": [
        {
          "output_type": "execute_result",
          "data": {
            "text/html": [
              "<div>\n",
              "<style scoped>\n",
              "    .dataframe tbody tr th:only-of-type {\n",
              "        vertical-align: middle;\n",
              "    }\n",
              "\n",
              "    .dataframe tbody tr th {\n",
              "        vertical-align: top;\n",
              "    }\n",
              "\n",
              "    .dataframe thead th {\n",
              "        text-align: right;\n",
              "    }\n",
              "</style>\n",
              "<table border=\"1\" class=\"dataframe\">\n",
              "  <thead>\n",
              "    <tr style=\"text-align: right;\">\n",
              "      <th></th>\n",
              "      <th>Unnamed: 0</th>\n",
              "      <th>URL</th>\n",
              "      <th>Region</th>\n",
              "      <th>Condition</th>\n",
              "      <th>Rooms</th>\n",
              "      <th>Rent</th>\n",
              "      <th>Year_Construction</th>\n",
              "      <th>Space</th>\n",
              "    </tr>\n",
              "  </thead>\n",
              "  <tbody>\n",
              "    <tr>\n",
              "      <th>0</th>\n",
              "      <td>0</td>\n",
              "      <td>https://www.immobilienscout24.de/expose/116051687</td>\n",
              "      <td>Mitte</td>\n",
              "      <td>first_time_use</td>\n",
              "      <td>4.0</td>\n",
              "      <td>2659.00</td>\n",
              "      <td>2019</td>\n",
              "      <td>117.20</td>\n",
              "    </tr>\n",
              "    <tr>\n",
              "      <th>1</th>\n",
              "      <td>1</td>\n",
              "      <td>https://www.immobilienscout24.de/expose/115338103</td>\n",
              "      <td>Kreuzberg</td>\n",
              "      <td>first_time_use</td>\n",
              "      <td>1.0</td>\n",
              "      <td>1200.00</td>\n",
              "      <td>2020</td>\n",
              "      <td>29.33</td>\n",
              "    </tr>\n",
              "    <tr>\n",
              "      <th>2</th>\n",
              "      <td>2</td>\n",
              "      <td>https://www.immobilienscout24.de/expose/116458710</td>\n",
              "      <td>Köpenick</td>\n",
              "      <td>well_kept</td>\n",
              "      <td>2.0</td>\n",
              "      <td>979.00</td>\n",
              "      <td>1997</td>\n",
              "      <td>83.61</td>\n",
              "    </tr>\n",
              "    <tr>\n",
              "      <th>3</th>\n",
              "      <td>3</td>\n",
              "      <td>https://www.immobilienscout24.de/expose/116573177</td>\n",
              "      <td>Wilmersdorf</td>\n",
              "      <td>well_kept</td>\n",
              "      <td>4.0</td>\n",
              "      <td>1830.22</td>\n",
              "      <td>1900</td>\n",
              "      <td>171.18</td>\n",
              "    </tr>\n",
              "    <tr>\n",
              "      <th>4</th>\n",
              "      <td>4</td>\n",
              "      <td>https://www.immobilienscout24.de/expose/115925878</td>\n",
              "      <td>Kreuzberg</td>\n",
              "      <td>first_time_use</td>\n",
              "      <td>2.0</td>\n",
              "      <td>2272.00</td>\n",
              "      <td>2020</td>\n",
              "      <td>88.27</td>\n",
              "    </tr>\n",
              "    <tr>\n",
              "      <th>5</th>\n",
              "      <td>6</td>\n",
              "      <td>https://www.immobilienscout24.de/expose/115611847</td>\n",
              "      <td>Köpenick</td>\n",
              "      <td>well_kept</td>\n",
              "      <td>2.0</td>\n",
              "      <td>840.00</td>\n",
              "      <td>1997</td>\n",
              "      <td>73.51</td>\n",
              "    </tr>\n",
              "    <tr>\n",
              "      <th>6</th>\n",
              "      <td>7</td>\n",
              "      <td>https://www.immobilienscout24.de/expose/108376992</td>\n",
              "      <td>Mitte</td>\n",
              "      <td>mint_condition</td>\n",
              "      <td>2.0</td>\n",
              "      <td>1509.45</td>\n",
              "      <td>2015</td>\n",
              "      <td>61.61</td>\n",
              "    </tr>\n",
              "    <tr>\n",
              "      <th>7</th>\n",
              "      <td>10</td>\n",
              "      <td>https://www.immobilienscout24.de/expose/116573270</td>\n",
              "      <td>Charlottenburg</td>\n",
              "      <td>well_kept</td>\n",
              "      <td>2.0</td>\n",
              "      <td>730.73</td>\n",
              "      <td>1900</td>\n",
              "      <td>72.61</td>\n",
              "    </tr>\n",
              "    <tr>\n",
              "      <th>8</th>\n",
              "      <td>13</td>\n",
              "      <td>https://www.immobilienscout24.de/expose/116456427</td>\n",
              "      <td>Friedrichsfelde</td>\n",
              "      <td>well_kept</td>\n",
              "      <td>2.0</td>\n",
              "      <td>561.93</td>\n",
              "      <td>1971</td>\n",
              "      <td>62.40</td>\n",
              "    </tr>\n",
              "    <tr>\n",
              "      <th>9</th>\n",
              "      <td>16</td>\n",
              "      <td>https://www.immobilienscout24.de/expose/113934099</td>\n",
              "      <td>Tiergarten</td>\n",
              "      <td>first_time_use</td>\n",
              "      <td>3.0</td>\n",
              "      <td>1789.00</td>\n",
              "      <td>2020</td>\n",
              "      <td>77.66</td>\n",
              "    </tr>\n",
              "  </tbody>\n",
              "</table>\n",
              "</div>"
            ],
            "text/plain": [
              "   Unnamed: 0  ...   Space\n",
              "0           0  ...  117.20\n",
              "1           1  ...   29.33\n",
              "2           2  ...   83.61\n",
              "3           3  ...  171.18\n",
              "4           4  ...   88.27\n",
              "5           6  ...   73.51\n",
              "6           7  ...   61.61\n",
              "7          10  ...   72.61\n",
              "8          13  ...   62.40\n",
              "9          16  ...   77.66\n",
              "\n",
              "[10 rows x 8 columns]"
            ]
          },
          "metadata": {
            "tags": []
          },
          "execution_count": 2
        }
      ]
    },
    {
      "cell_type": "markdown",
      "metadata": {
        "id": "lXkG7JvHNE4X"
      },
      "source": [
        "# **Exploratory Data Analysis**"
      ]
    },
    {
      "cell_type": "code",
      "metadata": {
        "id": "zLb8bSjUZ0Z5",
        "colab": {
          "base_uri": "https://localhost:8080/"
        },
        "outputId": "e0d2829e-d3da-4167-8dd5-ecd326e414e7"
      },
      "source": [
        "rentals.shape"
      ],
      "execution_count": 3,
      "outputs": [
        {
          "output_type": "execute_result",
          "data": {
            "text/plain": [
              "(764, 8)"
            ]
          },
          "metadata": {
            "tags": []
          },
          "execution_count": 3
        }
      ]
    },
    {
      "cell_type": "code",
      "metadata": {
        "id": "yNSju4rFM5K5",
        "colab": {
          "base_uri": "https://localhost:8080/"
        },
        "outputId": "c92e3744-3e1e-40ec-eaf7-40bfb9293a8b"
      },
      "source": [
        "rentals.count()"
      ],
      "execution_count": 4,
      "outputs": [
        {
          "output_type": "execute_result",
          "data": {
            "text/plain": [
              "Unnamed: 0           764\n",
              "URL                  764\n",
              "Region               764\n",
              "Condition            764\n",
              "Rooms                764\n",
              "Rent                 764\n",
              "Year_Construction    764\n",
              "Space                764\n",
              "dtype: int64"
            ]
          },
          "metadata": {
            "tags": []
          },
          "execution_count": 4
        }
      ]
    },
    {
      "cell_type": "code",
      "metadata": {
        "id": "a1bLxxK5Xkx8",
        "colab": {
          "base_uri": "https://localhost:8080/",
          "height": 390
        },
        "outputId": "e113ce8d-9ea7-446d-e1bb-f91010832350"
      },
      "source": [
        "rentals.describe(include='all')"
      ],
      "execution_count": 5,
      "outputs": [
        {
          "output_type": "execute_result",
          "data": {
            "text/html": [
              "<div>\n",
              "<style scoped>\n",
              "    .dataframe tbody tr th:only-of-type {\n",
              "        vertical-align: middle;\n",
              "    }\n",
              "\n",
              "    .dataframe tbody tr th {\n",
              "        vertical-align: top;\n",
              "    }\n",
              "\n",
              "    .dataframe thead th {\n",
              "        text-align: right;\n",
              "    }\n",
              "</style>\n",
              "<table border=\"1\" class=\"dataframe\">\n",
              "  <thead>\n",
              "    <tr style=\"text-align: right;\">\n",
              "      <th></th>\n",
              "      <th>Unnamed: 0</th>\n",
              "      <th>URL</th>\n",
              "      <th>Region</th>\n",
              "      <th>Condition</th>\n",
              "      <th>Rooms</th>\n",
              "      <th>Rent</th>\n",
              "      <th>Year_Construction</th>\n",
              "      <th>Space</th>\n",
              "    </tr>\n",
              "  </thead>\n",
              "  <tbody>\n",
              "    <tr>\n",
              "      <th>count</th>\n",
              "      <td>764.000000</td>\n",
              "      <td>764</td>\n",
              "      <td>764</td>\n",
              "      <td>764</td>\n",
              "      <td>764.000000</td>\n",
              "      <td>764.000000</td>\n",
              "      <td>764.000000</td>\n",
              "      <td>764.000000</td>\n",
              "    </tr>\n",
              "    <tr>\n",
              "      <th>unique</th>\n",
              "      <td>NaN</td>\n",
              "      <td>764</td>\n",
              "      <td>10</td>\n",
              "      <td>9</td>\n",
              "      <td>NaN</td>\n",
              "      <td>NaN</td>\n",
              "      <td>NaN</td>\n",
              "      <td>NaN</td>\n",
              "    </tr>\n",
              "    <tr>\n",
              "      <th>top</th>\n",
              "      <td>NaN</td>\n",
              "      <td>https://www.immobilienscout24.de/expose/110760507</td>\n",
              "      <td>Tiergarten</td>\n",
              "      <td>first_time_use</td>\n",
              "      <td>NaN</td>\n",
              "      <td>NaN</td>\n",
              "      <td>NaN</td>\n",
              "      <td>NaN</td>\n",
              "    </tr>\n",
              "    <tr>\n",
              "      <th>freq</th>\n",
              "      <td>NaN</td>\n",
              "      <td>1</td>\n",
              "      <td>171</td>\n",
              "      <td>270</td>\n",
              "      <td>NaN</td>\n",
              "      <td>NaN</td>\n",
              "      <td>NaN</td>\n",
              "      <td>NaN</td>\n",
              "    </tr>\n",
              "    <tr>\n",
              "      <th>mean</th>\n",
              "      <td>777.913613</td>\n",
              "      <td>NaN</td>\n",
              "      <td>NaN</td>\n",
              "      <td>NaN</td>\n",
              "      <td>2.549738</td>\n",
              "      <td>1768.560942</td>\n",
              "      <td>1983.695026</td>\n",
              "      <td>84.656270</td>\n",
              "    </tr>\n",
              "    <tr>\n",
              "      <th>std</th>\n",
              "      <td>481.576864</td>\n",
              "      <td>NaN</td>\n",
              "      <td>NaN</td>\n",
              "      <td>NaN</td>\n",
              "      <td>1.010826</td>\n",
              "      <td>1118.263961</td>\n",
              "      <td>48.006060</td>\n",
              "      <td>44.195338</td>\n",
              "    </tr>\n",
              "    <tr>\n",
              "      <th>min</th>\n",
              "      <td>0.000000</td>\n",
              "      <td>NaN</td>\n",
              "      <td>NaN</td>\n",
              "      <td>NaN</td>\n",
              "      <td>1.000000</td>\n",
              "      <td>271.250000</td>\n",
              "      <td>1864.000000</td>\n",
              "      <td>14.000000</td>\n",
              "    </tr>\n",
              "    <tr>\n",
              "      <th>25%</th>\n",
              "      <td>321.500000</td>\n",
              "      <td>NaN</td>\n",
              "      <td>NaN</td>\n",
              "      <td>NaN</td>\n",
              "      <td>2.000000</td>\n",
              "      <td>1039.500000</td>\n",
              "      <td>1959.000000</td>\n",
              "      <td>55.097500</td>\n",
              "    </tr>\n",
              "    <tr>\n",
              "      <th>50%</th>\n",
              "      <td>746.500000</td>\n",
              "      <td>NaN</td>\n",
              "      <td>NaN</td>\n",
              "      <td>NaN</td>\n",
              "      <td>2.500000</td>\n",
              "      <td>1565.480000</td>\n",
              "      <td>2015.000000</td>\n",
              "      <td>77.600000</td>\n",
              "    </tr>\n",
              "    <tr>\n",
              "      <th>75%</th>\n",
              "      <td>1247.500000</td>\n",
              "      <td>NaN</td>\n",
              "      <td>NaN</td>\n",
              "      <td>NaN</td>\n",
              "      <td>3.000000</td>\n",
              "      <td>2170.000000</td>\n",
              "      <td>2019.000000</td>\n",
              "      <td>104.450000</td>\n",
              "    </tr>\n",
              "    <tr>\n",
              "      <th>max</th>\n",
              "      <td>1549.000000</td>\n",
              "      <td>NaN</td>\n",
              "      <td>NaN</td>\n",
              "      <td>NaN</td>\n",
              "      <td>7.000000</td>\n",
              "      <td>14207.000000</td>\n",
              "      <td>2020.000000</td>\n",
              "      <td>413.910000</td>\n",
              "    </tr>\n",
              "  </tbody>\n",
              "</table>\n",
              "</div>"
            ],
            "text/plain": [
              "         Unnamed: 0  ...       Space\n",
              "count    764.000000  ...  764.000000\n",
              "unique          NaN  ...         NaN\n",
              "top             NaN  ...         NaN\n",
              "freq            NaN  ...         NaN\n",
              "mean     777.913613  ...   84.656270\n",
              "std      481.576864  ...   44.195338\n",
              "min        0.000000  ...   14.000000\n",
              "25%      321.500000  ...   55.097500\n",
              "50%      746.500000  ...   77.600000\n",
              "75%     1247.500000  ...  104.450000\n",
              "max     1549.000000  ...  413.910000\n",
              "\n",
              "[11 rows x 8 columns]"
            ]
          },
          "metadata": {
            "tags": []
          },
          "execution_count": 5
        }
      ]
    },
    {
      "cell_type": "code",
      "metadata": {
        "id": "_KB9WnocX1vX",
        "colab": {
          "base_uri": "https://localhost:8080/"
        },
        "outputId": "16a14299-eb64-42eb-c7bc-180f6e820f83"
      },
      "source": [
        "rentals.isnull().any()"
      ],
      "execution_count": 6,
      "outputs": [
        {
          "output_type": "execute_result",
          "data": {
            "text/plain": [
              "Unnamed: 0           False\n",
              "URL                  False\n",
              "Region               False\n",
              "Condition            False\n",
              "Rooms                False\n",
              "Rent                 False\n",
              "Year_Construction    False\n",
              "Space                False\n",
              "dtype: bool"
            ]
          },
          "metadata": {
            "tags": []
          },
          "execution_count": 6
        }
      ]
    },
    {
      "cell_type": "code",
      "metadata": {
        "id": "oNk3S5bacnyy"
      },
      "source": [
        "rentals = rentals.drop('Unnamed: 0', axis=1)"
      ],
      "execution_count": 7,
      "outputs": []
    },
    {
      "cell_type": "markdown",
      "metadata": {
        "id": "fYtv_QpPKH3a"
      },
      "source": [
        "# **How many different Regions are there?**\n",
        "\n",
        "**Answer:**\n",
        "\n",
        "There are ten (10) diffent regions available on the Immobilien Scout database. Users can filter there searches based on the regions in berlin"
      ]
    },
    {
      "cell_type": "code",
      "metadata": {
        "id": "_mgLYJ2oJrvB",
        "colab": {
          "base_uri": "https://localhost:8080/"
        },
        "outputId": "bf28d225-2bc4-4f98-f421-5b5a23c988f4"
      },
      "source": [
        "rentals.Region.unique()"
      ],
      "execution_count": 8,
      "outputs": [
        {
          "output_type": "execute_result",
          "data": {
            "text/plain": [
              "array(['Mitte', 'Kreuzberg', 'Köpenick', 'Wilmersdorf', 'Charlottenburg',\n",
              "       'Friedrichsfelde', 'Tiergarten', 'Prenzlauer', 'Wedding',\n",
              "       'Neukölln'], dtype=object)"
            ]
          },
          "metadata": {
            "tags": []
          },
          "execution_count": 8
        }
      ]
    },
    {
      "cell_type": "code",
      "metadata": {
        "id": "4g1O7VrBJr2q",
        "colab": {
          "base_uri": "https://localhost:8080/"
        },
        "outputId": "5e907853-6b44-4569-e106-200079fa82b7"
      },
      "source": [
        "rentals.Region.nunique()"
      ],
      "execution_count": 9,
      "outputs": [
        {
          "output_type": "execute_result",
          "data": {
            "text/plain": [
              "10"
            ]
          },
          "metadata": {
            "tags": []
          },
          "execution_count": 9
        }
      ]
    },
    {
      "cell_type": "markdown",
      "metadata": {
        "id": "65XDGRo9KUKR"
      },
      "source": [
        "# **What is the maximum and minimum rent?**\n",
        "\n",
        "**Answer:**\n",
        "\n",
        "maximum rent for an apartment: 14207\n",
        "\n",
        "minimum rent for an apartment: 271.25"
      ]
    },
    {
      "cell_type": "code",
      "metadata": {
        "id": "fQR7DkKeKYhP",
        "colab": {
          "base_uri": "https://localhost:8080/"
        },
        "outputId": "a19bc00a-d22b-4548-ea99-04f3bec5271f"
      },
      "source": [
        "rentals.Rent.max()"
      ],
      "execution_count": 10,
      "outputs": [
        {
          "output_type": "execute_result",
          "data": {
            "text/plain": [
              "14207.0"
            ]
          },
          "metadata": {
            "tags": []
          },
          "execution_count": 10
        }
      ]
    },
    {
      "cell_type": "code",
      "metadata": {
        "id": "S-P4gW70KYwr",
        "colab": {
          "base_uri": "https://localhost:8080/"
        },
        "outputId": "940d6b51-7302-4d0b-e9c4-19e2e7222306"
      },
      "source": [
        "rentals.Rent.min()"
      ],
      "execution_count": 11,
      "outputs": [
        {
          "output_type": "execute_result",
          "data": {
            "text/plain": [
              "271.25"
            ]
          },
          "metadata": {
            "tags": []
          },
          "execution_count": 11
        }
      ]
    },
    {
      "cell_type": "markdown",
      "metadata": {
        "id": "88wtrYaNKrcb"
      },
      "source": [
        "# **What is the smallest apartment (in terms of \"Space\" and \"Rooms\") available on our rental list?**\n",
        "\n",
        "---\n",
        "**Answer:** \n",
        "\n",
        "A well kept, one bederoom apartment in Neuköln with a space of 14sqr meters, constructed in the year 1910 and at the rental cost of 450 Euros Is the minimum which can be found.\n"
      ]
    },
    {
      "cell_type": "code",
      "metadata": {
        "id": "zWu1RCGbKqRZ",
        "colab": {
          "base_uri": "https://localhost:8080/"
        },
        "outputId": "69a90821-d1b1-44fa-a15c-bb4d83cd0182"
      },
      "source": [
        "rentals.Space.min()"
      ],
      "execution_count": 12,
      "outputs": [
        {
          "output_type": "execute_result",
          "data": {
            "text/plain": [
              "14.0"
            ]
          },
          "metadata": {
            "tags": []
          },
          "execution_count": 12
        }
      ]
    },
    {
      "cell_type": "code",
      "metadata": {
        "id": "zDtAV8Y-K28P",
        "colab": {
          "base_uri": "https://localhost:8080/"
        },
        "outputId": "2d50beeb-24aa-4ebb-f13b-91ae5100d123"
      },
      "source": [
        "rentals.Rooms.min()"
      ],
      "execution_count": 13,
      "outputs": [
        {
          "output_type": "execute_result",
          "data": {
            "text/plain": [
              "1.0"
            ]
          },
          "metadata": {
            "tags": []
          },
          "execution_count": 13
        }
      ]
    },
    {
      "cell_type": "code",
      "metadata": {
        "id": "Sm0EUxnILEeI",
        "colab": {
          "base_uri": "https://localhost:8080/",
          "height": 80
        },
        "outputId": "9253d892-4184-48da-826e-7492afa19c9c"
      },
      "source": [
        "#Let's see details about the smallest available room\n",
        "min_space = rentals.sort_values(\"Space\", ascending= True)\n",
        "min_space.iloc[:1]"
      ],
      "execution_count": 14,
      "outputs": [
        {
          "output_type": "execute_result",
          "data": {
            "text/html": [
              "<div>\n",
              "<style scoped>\n",
              "    .dataframe tbody tr th:only-of-type {\n",
              "        vertical-align: middle;\n",
              "    }\n",
              "\n",
              "    .dataframe tbody tr th {\n",
              "        vertical-align: top;\n",
              "    }\n",
              "\n",
              "    .dataframe thead th {\n",
              "        text-align: right;\n",
              "    }\n",
              "</style>\n",
              "<table border=\"1\" class=\"dataframe\">\n",
              "  <thead>\n",
              "    <tr style=\"text-align: right;\">\n",
              "      <th></th>\n",
              "      <th>URL</th>\n",
              "      <th>Region</th>\n",
              "      <th>Condition</th>\n",
              "      <th>Rooms</th>\n",
              "      <th>Rent</th>\n",
              "      <th>Year_Construction</th>\n",
              "      <th>Space</th>\n",
              "    </tr>\n",
              "  </thead>\n",
              "  <tbody>\n",
              "    <tr>\n",
              "      <th>84</th>\n",
              "      <td>https://www.immobilienscout24.de/expose/116238503</td>\n",
              "      <td>Neukölln</td>\n",
              "      <td>well_kept</td>\n",
              "      <td>1.0</td>\n",
              "      <td>450.0</td>\n",
              "      <td>1910</td>\n",
              "      <td>14.0</td>\n",
              "    </tr>\n",
              "  </tbody>\n",
              "</table>\n",
              "</div>"
            ],
            "text/plain": [
              "                                                  URL  ... Space\n",
              "84  https://www.immobilienscout24.de/expose/116238503  ...  14.0\n",
              "\n",
              "[1 rows x 7 columns]"
            ]
          },
          "metadata": {
            "tags": []
          },
          "execution_count": 14
        }
      ]
    },
    {
      "cell_type": "markdown",
      "metadata": {
        "id": "_q4K36E6NSZT"
      },
      "source": [
        "# **What is on average the most expensive region and at what size?**\n",
        "\n",
        "Answer:\n",
        "Mitte, Kreuzberg as well as Prenzlauer are the most expensive areas of Berlin. This neighborhoods are at the center of Berlin, and the area is home to the city’s most famous landmarks, several major embassies, as well as the seat of the German government."
      ]
    },
    {
      "cell_type": "code",
      "metadata": {
        "id": "aYGd73o46HDW",
        "colab": {
          "base_uri": "https://localhost:8080/",
          "height": 271
        },
        "outputId": "3df85f32-2316-4103-b2e6-96d3340efdb1"
      },
      "source": [
        "rentals.groupby('Region')[['Rent','Space']].mean().style.background_gradient(cmap='YlOrRd')"
      ],
      "execution_count": 15,
      "outputs": [
        {
          "output_type": "execute_result",
          "data": {
            "text/html": [
              "<style  type=\"text/css\" >\n",
              "#T_bad1bad4_2eb4_11eb_98f3_0242ac1c0002row0_col0{\n",
              "            background-color:  #fc6430;\n",
              "            color:  #000000;\n",
              "        }#T_bad1bad4_2eb4_11eb_98f3_0242ac1c0002row0_col1{\n",
              "            background-color:  #c90823;\n",
              "            color:  #f1f1f1;\n",
              "        }#T_bad1bad4_2eb4_11eb_98f3_0242ac1c0002row1_col0{\n",
              "            background-color:  #ffeda0;\n",
              "            color:  #000000;\n",
              "        }#T_bad1bad4_2eb4_11eb_98f3_0242ac1c0002row1_col1{\n",
              "            background-color:  #feae4a;\n",
              "            color:  #000000;\n",
              "        }#T_bad1bad4_2eb4_11eb_98f3_0242ac1c0002row2_col0{\n",
              "            background-color:  #dc151e;\n",
              "            color:  #f1f1f1;\n",
              "        }#T_bad1bad4_2eb4_11eb_98f3_0242ac1c0002row2_col1{\n",
              "            background-color:  #a60026;\n",
              "            color:  #f1f1f1;\n",
              "        }#T_bad1bad4_2eb4_11eb_98f3_0242ac1c0002row3_col0{\n",
              "            background-color:  #ffe58f;\n",
              "            color:  #000000;\n",
              "        }#T_bad1bad4_2eb4_11eb_98f3_0242ac1c0002row3_col1{\n",
              "            background-color:  #fd7034;\n",
              "            color:  #000000;\n",
              "        }#T_bad1bad4_2eb4_11eb_98f3_0242ac1c0002row4_col0,#T_bad1bad4_2eb4_11eb_98f3_0242ac1c0002row4_col1{\n",
              "            background-color:  #800026;\n",
              "            color:  #f1f1f1;\n",
              "        }#T_bad1bad4_2eb4_11eb_98f3_0242ac1c0002row5_col0{\n",
              "            background-color:  #fede82;\n",
              "            color:  #000000;\n",
              "        }#T_bad1bad4_2eb4_11eb_98f3_0242ac1c0002row5_col1{\n",
              "            background-color:  #fd9740;\n",
              "            color:  #000000;\n",
              "        }#T_bad1bad4_2eb4_11eb_98f3_0242ac1c0002row6_col0{\n",
              "            background-color:  #e61f1d;\n",
              "            color:  #f1f1f1;\n",
              "        }#T_bad1bad4_2eb4_11eb_98f3_0242ac1c0002row6_col1{\n",
              "            background-color:  #840026;\n",
              "            color:  #f1f1f1;\n",
              "        }#T_bad1bad4_2eb4_11eb_98f3_0242ac1c0002row7_col0{\n",
              "            background-color:  #f03523;\n",
              "            color:  #f1f1f1;\n",
              "        }#T_bad1bad4_2eb4_11eb_98f3_0242ac1c0002row7_col1{\n",
              "            background-color:  #bb0026;\n",
              "            color:  #f1f1f1;\n",
              "        }#T_bad1bad4_2eb4_11eb_98f3_0242ac1c0002row8_col0,#T_bad1bad4_2eb4_11eb_98f3_0242ac1c0002row8_col1{\n",
              "            background-color:  #ffffcc;\n",
              "            color:  #000000;\n",
              "        }#T_bad1bad4_2eb4_11eb_98f3_0242ac1c0002row9_col0{\n",
              "            background-color:  #fc6631;\n",
              "            color:  #000000;\n",
              "        }#T_bad1bad4_2eb4_11eb_98f3_0242ac1c0002row9_col1{\n",
              "            background-color:  #d9131f;\n",
              "            color:  #f1f1f1;\n",
              "        }</style><table id=\"T_bad1bad4_2eb4_11eb_98f3_0242ac1c0002\" ><thead>    <tr>        <th class=\"blank level0\" ></th>        <th class=\"col_heading level0 col0\" >Rent</th>        <th class=\"col_heading level0 col1\" >Space</th>    </tr>    <tr>        <th class=\"index_name level0\" >Region</th>        <th class=\"blank\" ></th>        <th class=\"blank\" ></th>    </tr></thead><tbody>\n",
              "                <tr>\n",
              "                        <th id=\"T_bad1bad4_2eb4_11eb_98f3_0242ac1c0002level0_row0\" class=\"row_heading level0 row0\" >Charlottenburg</th>\n",
              "                        <td id=\"T_bad1bad4_2eb4_11eb_98f3_0242ac1c0002row0_col0\" class=\"data row0 col0\" >1753.452532</td>\n",
              "                        <td id=\"T_bad1bad4_2eb4_11eb_98f3_0242ac1c0002row0_col1\" class=\"data row0 col1\" >88.083038</td>\n",
              "            </tr>\n",
              "            <tr>\n",
              "                        <th id=\"T_bad1bad4_2eb4_11eb_98f3_0242ac1c0002level0_row1\" class=\"row_heading level0 row1\" >Friedrichsfelde</th>\n",
              "                        <td id=\"T_bad1bad4_2eb4_11eb_98f3_0242ac1c0002row1_col0\" class=\"data row1 col0\" >1043.871731</td>\n",
              "                        <td id=\"T_bad1bad4_2eb4_11eb_98f3_0242ac1c0002row1_col1\" class=\"data row1 col1\" >66.145000</td>\n",
              "            </tr>\n",
              "            <tr>\n",
              "                        <th id=\"T_bad1bad4_2eb4_11eb_98f3_0242ac1c0002level0_row2\" class=\"row_heading level0 row2\" >Kreuzberg</th>\n",
              "                        <td id=\"T_bad1bad4_2eb4_11eb_98f3_0242ac1c0002row2_col0\" class=\"data row2 col0\" >2049.138085</td>\n",
              "                        <td id=\"T_bad1bad4_2eb4_11eb_98f3_0242ac1c0002row2_col1\" class=\"data row2 col1\" >92.258723</td>\n",
              "            </tr>\n",
              "            <tr>\n",
              "                        <th id=\"T_bad1bad4_2eb4_11eb_98f3_0242ac1c0002level0_row3\" class=\"row_heading level0 row3\" >Köpenick</th>\n",
              "                        <td id=\"T_bad1bad4_2eb4_11eb_98f3_0242ac1c0002row3_col0\" class=\"data row3 col0\" >1125.475818</td>\n",
              "                        <td id=\"T_bad1bad4_2eb4_11eb_98f3_0242ac1c0002row3_col1\" class=\"data row3 col1\" >74.279273</td>\n",
              "            </tr>\n",
              "            <tr>\n",
              "                        <th id=\"T_bad1bad4_2eb4_11eb_98f3_0242ac1c0002level0_row4\" class=\"row_heading level0 row4\" >Mitte</th>\n",
              "                        <td id=\"T_bad1bad4_2eb4_11eb_98f3_0242ac1c0002row4_col0\" class=\"data row4 col0\" >2408.725033</td>\n",
              "                        <td id=\"T_bad1bad4_2eb4_11eb_98f3_0242ac1c0002row4_col1\" class=\"data row4 col1\" >96.235556</td>\n",
              "            </tr>\n",
              "            <tr>\n",
              "                        <th id=\"T_bad1bad4_2eb4_11eb_98f3_0242ac1c0002level0_row5\" class=\"row_heading level0 row5\" >Neukölln</th>\n",
              "                        <td id=\"T_bad1bad4_2eb4_11eb_98f3_0242ac1c0002row5_col0\" class=\"data row5 col0\" >1188.114915</td>\n",
              "                        <td id=\"T_bad1bad4_2eb4_11eb_98f3_0242ac1c0002row5_col1\" class=\"data row5 col1\" >69.849831</td>\n",
              "            </tr>\n",
              "            <tr>\n",
              "                        <th id=\"T_bad1bad4_2eb4_11eb_98f3_0242ac1c0002level0_row6\" class=\"row_heading level0 row6\" >Prenzlauer</th>\n",
              "                        <td id=\"T_bad1bad4_2eb4_11eb_98f3_0242ac1c0002row6_col0\" class=\"data row6 col0\" >1996.962264</td>\n",
              "                        <td id=\"T_bad1bad4_2eb4_11eb_98f3_0242ac1c0002row6_col1\" class=\"data row6 col1\" >95.832264</td>\n",
              "            </tr>\n",
              "            <tr>\n",
              "                        <th id=\"T_bad1bad4_2eb4_11eb_98f3_0242ac1c0002level0_row7\" class=\"row_heading level0 row7\" >Tiergarten</th>\n",
              "                        <td id=\"T_bad1bad4_2eb4_11eb_98f3_0242ac1c0002row7_col0\" class=\"data row7 col0\" >1914.824795</td>\n",
              "                        <td id=\"T_bad1bad4_2eb4_11eb_98f3_0242ac1c0002row7_col1\" class=\"data row7 col1\" >90.228304</td>\n",
              "            </tr>\n",
              "            <tr>\n",
              "                        <th id=\"T_bad1bad4_2eb4_11eb_98f3_0242ac1c0002level0_row8\" class=\"row_heading level0 row8\" >Wedding</th>\n",
              "                        <td id=\"T_bad1bad4_2eb4_11eb_98f3_0242ac1c0002row8_col0\" class=\"data row8 col0\" >847.138571</td>\n",
              "                        <td id=\"T_bad1bad4_2eb4_11eb_98f3_0242ac1c0002row8_col1\" class=\"data row8 col1\" >46.928571</td>\n",
              "            </tr>\n",
              "            <tr>\n",
              "                        <th id=\"T_bad1bad4_2eb4_11eb_98f3_0242ac1c0002level0_row9\" class=\"row_heading level0 row9\" >Wilmersdorf</th>\n",
              "                        <td id=\"T_bad1bad4_2eb4_11eb_98f3_0242ac1c0002row9_col0\" class=\"data row9 col0\" >1748.646226</td>\n",
              "                        <td id=\"T_bad1bad4_2eb4_11eb_98f3_0242ac1c0002row9_col1\" class=\"data row9 col1\" >85.536604</td>\n",
              "            </tr>\n",
              "    </tbody></table>"
            ],
            "text/plain": [
              "<pandas.io.formats.style.Styler at 0x7fa972260518>"
            ]
          },
          "metadata": {
            "tags": []
          },
          "execution_count": 15
        }
      ]
    },
    {
      "cell_type": "markdown",
      "metadata": {
        "id": "GQCsBOxpNTHD"
      },
      "source": [
        "# **What is the mean rent for the different room sizes?**\n",
        "\n",
        "**Answer:**\n",
        "\n",
        "From the data we can see that an average three bedroom apartment costs about 2048 Euros while an individual looking for a one bedroom apartment can estimate about 830 euros per month."
      ]
    },
    {
      "cell_type": "code",
      "metadata": {
        "id": "k4pF48smNRLn",
        "colab": {
          "base_uri": "https://localhost:8080/",
          "height": 292
        },
        "outputId": "484e80ce-58aa-49be-e08f-997c4bcec0fb"
      },
      "source": [
        "rentals.groupby('Rooms')[['Rent']].mean().style.background_gradient(cmap='YlOrRd')"
      ],
      "execution_count": 16,
      "outputs": [
        {
          "output_type": "execute_result",
          "data": {
            "text/html": [
              "<style  type=\"text/css\" >\n",
              "#T_bad582c2_2eb4_11eb_98f3_0242ac1c0002row0_col0{\n",
              "            background-color:  #ffffcc;\n",
              "            color:  #000000;\n",
              "        }#T_bad582c2_2eb4_11eb_98f3_0242ac1c0002row1_col0{\n",
              "            background-color:  #fffec9;\n",
              "            color:  #000000;\n",
              "        }#T_bad582c2_2eb4_11eb_98f3_0242ac1c0002row2_col0{\n",
              "            background-color:  #ffeda1;\n",
              "            color:  #000000;\n",
              "        }#T_bad582c2_2eb4_11eb_98f3_0242ac1c0002row3_col0{\n",
              "            background-color:  #fee187;\n",
              "            color:  #000000;\n",
              "        }#T_bad582c2_2eb4_11eb_98f3_0242ac1c0002row4_col0{\n",
              "            background-color:  #fece6a;\n",
              "            color:  #000000;\n",
              "        }#T_bad582c2_2eb4_11eb_98f3_0242ac1c0002row5_col0{\n",
              "            background-color:  #fed976;\n",
              "            color:  #000000;\n",
              "        }#T_bad582c2_2eb4_11eb_98f3_0242ac1c0002row6_col0{\n",
              "            background-color:  #fea044;\n",
              "            color:  #000000;\n",
              "        }#T_bad582c2_2eb4_11eb_98f3_0242ac1c0002row7_col0{\n",
              "            background-color:  #ffeda0;\n",
              "            color:  #000000;\n",
              "        }#T_bad582c2_2eb4_11eb_98f3_0242ac1c0002row8_col0{\n",
              "            background-color:  #ca0923;\n",
              "            color:  #f1f1f1;\n",
              "        }#T_bad582c2_2eb4_11eb_98f3_0242ac1c0002row9_col0{\n",
              "            background-color:  #f03523;\n",
              "            color:  #f1f1f1;\n",
              "        }#T_bad582c2_2eb4_11eb_98f3_0242ac1c0002row10_col0{\n",
              "            background-color:  #800026;\n",
              "            color:  #f1f1f1;\n",
              "        }</style><table id=\"T_bad582c2_2eb4_11eb_98f3_0242ac1c0002\" ><thead>    <tr>        <th class=\"blank level0\" ></th>        <th class=\"col_heading level0 col0\" >Rent</th>    </tr>    <tr>        <th class=\"index_name level0\" >Rooms</th>        <th class=\"blank\" ></th>    </tr></thead><tbody>\n",
              "                <tr>\n",
              "                        <th id=\"T_bad582c2_2eb4_11eb_98f3_0242ac1c0002level0_row0\" class=\"row_heading level0 row0\" >1.0</th>\n",
              "                        <td id=\"T_bad582c2_2eb4_11eb_98f3_0242ac1c0002row0_col0\" class=\"data row0 col0\" >833.258318</td>\n",
              "            </tr>\n",
              "            <tr>\n",
              "                        <th id=\"T_bad582c2_2eb4_11eb_98f3_0242ac1c0002level0_row1\" class=\"row_heading level0 row1\" >1.5</th>\n",
              "                        <td id=\"T_bad582c2_2eb4_11eb_98f3_0242ac1c0002row1_col0\" class=\"data row1 col0\" >882.735556</td>\n",
              "            </tr>\n",
              "            <tr>\n",
              "                        <th id=\"T_bad582c2_2eb4_11eb_98f3_0242ac1c0002level0_row2\" class=\"row_heading level0 row2\" >2.0</th>\n",
              "                        <td id=\"T_bad582c2_2eb4_11eb_98f3_0242ac1c0002row2_col0\" class=\"data row2 col0\" >1358.017786</td>\n",
              "            </tr>\n",
              "            <tr>\n",
              "                        <th id=\"T_bad582c2_2eb4_11eb_98f3_0242ac1c0002level0_row3\" class=\"row_heading level0 row3\" >2.5</th>\n",
              "                        <td id=\"T_bad582c2_2eb4_11eb_98f3_0242ac1c0002row3_col0\" class=\"data row3 col0\" >1691.043750</td>\n",
              "            </tr>\n",
              "            <tr>\n",
              "                        <th id=\"T_bad582c2_2eb4_11eb_98f3_0242ac1c0002level0_row4\" class=\"row_heading level0 row4\" >3.0</th>\n",
              "                        <td id=\"T_bad582c2_2eb4_11eb_98f3_0242ac1c0002row4_col0\" class=\"data row4 col0\" >2048.237042</td>\n",
              "            </tr>\n",
              "            <tr>\n",
              "                        <th id=\"T_bad582c2_2eb4_11eb_98f3_0242ac1c0002level0_row5\" class=\"row_heading level0 row5\" >3.5</th>\n",
              "                        <td id=\"T_bad582c2_2eb4_11eb_98f3_0242ac1c0002row5_col0\" class=\"data row5 col0\" >1901.928750</td>\n",
              "            </tr>\n",
              "            <tr>\n",
              "                        <th id=\"T_bad582c2_2eb4_11eb_98f3_0242ac1c0002level0_row6\" class=\"row_heading level0 row6\" >4.0</th>\n",
              "                        <td id=\"T_bad582c2_2eb4_11eb_98f3_0242ac1c0002row6_col0\" class=\"data row6 col0\" >2690.214242</td>\n",
              "            </tr>\n",
              "            <tr>\n",
              "                        <th id=\"T_bad582c2_2eb4_11eb_98f3_0242ac1c0002level0_row7\" class=\"row_heading level0 row7\" >4.5</th>\n",
              "                        <td id=\"T_bad582c2_2eb4_11eb_98f3_0242ac1c0002row7_col0\" class=\"data row7 col0\" >1370.000000</td>\n",
              "            </tr>\n",
              "            <tr>\n",
              "                        <th id=\"T_bad582c2_2eb4_11eb_98f3_0242ac1c0002level0_row8\" class=\"row_heading level0 row8\" >5.0</th>\n",
              "                        <td id=\"T_bad582c2_2eb4_11eb_98f3_0242ac1c0002row8_col0\" class=\"data row8 col0\" >4359.084211</td>\n",
              "            </tr>\n",
              "            <tr>\n",
              "                        <th id=\"T_bad582c2_2eb4_11eb_98f3_0242ac1c0002level0_row9\" class=\"row_heading level0 row9\" >6.0</th>\n",
              "                        <td id=\"T_bad582c2_2eb4_11eb_98f3_0242ac1c0002row9_col0\" class=\"data row9 col0\" >3739.460000</td>\n",
              "            </tr>\n",
              "            <tr>\n",
              "                        <th id=\"T_bad582c2_2eb4_11eb_98f3_0242ac1c0002level0_row10\" class=\"row_heading level0 row10\" >7.0</th>\n",
              "                        <td id=\"T_bad582c2_2eb4_11eb_98f3_0242ac1c0002row10_col0\" class=\"data row10 col0\" >5082.175000</td>\n",
              "            </tr>\n",
              "    </tbody></table>"
            ],
            "text/plain": [
              "<pandas.io.formats.style.Styler at 0x7fa9795a84e0>"
            ]
          },
          "metadata": {
            "tags": []
          },
          "execution_count": 16
        }
      ]
    },
    {
      "cell_type": "markdown",
      "metadata": {
        "id": "1i4xL0GTNT0C"
      },
      "source": [
        "# **What is the mean rent per condition?**\n",
        "\n",
        "**Answer:**\n",
        "\n",
        "Apartments in mint conditions or first time use are often more expensive, which is expected due to its condition. For an individual looking for an affordation or low budget accommodation, he/she should focus more on apartments in need of renovation or just well kept."
      ]
    },
    {
      "cell_type": "code",
      "metadata": {
        "id": "XKTCPBQ9NRUo",
        "colab": {
          "base_uri": "https://localhost:8080/",
          "height": 250
        },
        "outputId": "aea17abe-3fff-43c9-acb2-7f8c0833dca5"
      },
      "source": [
        "rentals.groupby('Condition')[['Rent']].mean().style.background_gradient(cmap='YlOrRd')"
      ],
      "execution_count": 17,
      "outputs": [
        {
          "output_type": "execute_result",
          "data": {
            "text/html": [
              "<style  type=\"text/css\" >\n",
              "#T_bad9fb04_2eb4_11eb_98f3_0242ac1c0002row0_col0{\n",
              "            background-color:  #d30f20;\n",
              "            color:  #f1f1f1;\n",
              "        }#T_bad9fb04_2eb4_11eb_98f3_0242ac1c0002row1_col0{\n",
              "            background-color:  #c80723;\n",
              "            color:  #f1f1f1;\n",
              "        }#T_bad9fb04_2eb4_11eb_98f3_0242ac1c0002row2_col0{\n",
              "            background-color:  #e41c1d;\n",
              "            color:  #f1f1f1;\n",
              "        }#T_bad9fb04_2eb4_11eb_98f3_0242ac1c0002row3_col0{\n",
              "            background-color:  #910026;\n",
              "            color:  #f1f1f1;\n",
              "        }#T_bad9fb04_2eb4_11eb_98f3_0242ac1c0002row4_col0{\n",
              "            background-color:  #feb54f;\n",
              "            color:  #000000;\n",
              "        }#T_bad9fb04_2eb4_11eb_98f3_0242ac1c0002row5_col0{\n",
              "            background-color:  #ffffcc;\n",
              "            color:  #000000;\n",
              "        }#T_bad9fb04_2eb4_11eb_98f3_0242ac1c0002row6_col0{\n",
              "            background-color:  #fc5d2e;\n",
              "            color:  #000000;\n",
              "        }#T_bad9fb04_2eb4_11eb_98f3_0242ac1c0002row7_col0{\n",
              "            background-color:  #800026;\n",
              "            color:  #f1f1f1;\n",
              "        }#T_bad9fb04_2eb4_11eb_98f3_0242ac1c0002row8_col0{\n",
              "            background-color:  #feaf4b;\n",
              "            color:  #000000;\n",
              "        }</style><table id=\"T_bad9fb04_2eb4_11eb_98f3_0242ac1c0002\" ><thead>    <tr>        <th class=\"blank level0\" ></th>        <th class=\"col_heading level0 col0\" >Rent</th>    </tr>    <tr>        <th class=\"index_name level0\" >Condition</th>        <th class=\"blank\" ></th>    </tr></thead><tbody>\n",
              "                <tr>\n",
              "                        <th id=\"T_bad9fb04_2eb4_11eb_98f3_0242ac1c0002level0_row0\" class=\"row_heading level0 row0\" >first_time_use</th>\n",
              "                        <td id=\"T_bad9fb04_2eb4_11eb_98f3_0242ac1c0002row0_col0\" class=\"data row0 col0\" >1866.564222</td>\n",
              "            </tr>\n",
              "            <tr>\n",
              "                        <th id=\"T_bad9fb04_2eb4_11eb_98f3_0242ac1c0002level0_row1\" class=\"row_heading level0 row1\" >first_time_use_after_refurbishment</th>\n",
              "                        <td id=\"T_bad9fb04_2eb4_11eb_98f3_0242ac1c0002row1_col0\" class=\"data row1 col0\" >1925.351944</td>\n",
              "            </tr>\n",
              "            <tr>\n",
              "                        <th id=\"T_bad9fb04_2eb4_11eb_98f3_0242ac1c0002level0_row2\" class=\"row_heading level0 row2\" >fully_renovated</th>\n",
              "                        <td id=\"T_bad9fb04_2eb4_11eb_98f3_0242ac1c0002row2_col0\" class=\"data row2 col0\" >1778.308571</td>\n",
              "            </tr>\n",
              "            <tr>\n",
              "                        <th id=\"T_bad9fb04_2eb4_11eb_98f3_0242ac1c0002level0_row3\" class=\"row_heading level0 row3\" >mint_condition</th>\n",
              "                        <td id=\"T_bad9fb04_2eb4_11eb_98f3_0242ac1c0002row3_col0\" class=\"data row3 col0\" >2122.196154</td>\n",
              "            </tr>\n",
              "            <tr>\n",
              "                        <th id=\"T_bad9fb04_2eb4_11eb_98f3_0242ac1c0002level0_row4\" class=\"row_heading level0 row4\" >modernized</th>\n",
              "                        <td id=\"T_bad9fb04_2eb4_11eb_98f3_0242ac1c0002row4_col0\" class=\"data row4 col0\" >1185.705172</td>\n",
              "            </tr>\n",
              "            <tr>\n",
              "                        <th id=\"T_bad9fb04_2eb4_11eb_98f3_0242ac1c0002level0_row5\" class=\"row_heading level0 row5\" >need_of_renovation</th>\n",
              "                        <td id=\"T_bad9fb04_2eb4_11eb_98f3_0242ac1c0002row5_col0\" class=\"data row5 col0\" >612.290000</td>\n",
              "            </tr>\n",
              "            <tr>\n",
              "                        <th id=\"T_bad9fb04_2eb4_11eb_98f3_0242ac1c0002level0_row6\" class=\"row_heading level0 row6\" >no_information</th>\n",
              "                        <td id=\"T_bad9fb04_2eb4_11eb_98f3_0242ac1c0002row6_col0\" class=\"data row6 col0\" >1544.274955</td>\n",
              "            </tr>\n",
              "            <tr>\n",
              "                        <th id=\"T_bad9fb04_2eb4_11eb_98f3_0242ac1c0002level0_row7\" class=\"row_heading level0 row7\" >refurbished</th>\n",
              "                        <td id=\"T_bad9fb04_2eb4_11eb_98f3_0242ac1c0002row7_col0\" class=\"data row7 col0\" >2177.256500</td>\n",
              "            </tr>\n",
              "            <tr>\n",
              "                        <th id=\"T_bad9fb04_2eb4_11eb_98f3_0242ac1c0002level0_row8\" class=\"row_heading level0 row8\" >well_kept</th>\n",
              "                        <td id=\"T_bad9fb04_2eb4_11eb_98f3_0242ac1c0002row8_col0\" class=\"data row8 col0\" >1217.096979</td>\n",
              "            </tr>\n",
              "    </tbody></table>"
            ],
            "text/plain": [
              "<pandas.io.formats.style.Styler at 0x7fa970f26b00>"
            ]
          },
          "metadata": {
            "tags": []
          },
          "execution_count": 17
        }
      ]
    },
    {
      "cell_type": "markdown",
      "metadata": {
        "id": "C9P86GlrO6Bo"
      },
      "source": [
        "\n",
        "# **Which region has the best price per square meter? The cheapest square meter priceon an average?**\n",
        "Köpenick, Friedrichsfelde and Neukölln have the cheapest prices per square meter with approximately 16 euros per sq mter for an apartment in Köpenick while an average apartment in mitte cost about 26 per sqr meter."
      ]
    },
    {
      "cell_type": "code",
      "metadata": {
        "id": "-Qr-jO--6GkB"
      },
      "source": [
        "rentals[\"Per_sqr_meter\"] = rentals[\"Rent\"]/rentals[\"Space\"]"
      ],
      "execution_count": 18,
      "outputs": []
    },
    {
      "cell_type": "code",
      "metadata": {
        "colab": {
          "base_uri": "https://localhost:8080/",
          "height": 271
        },
        "id": "Xcn194wSpQRG",
        "outputId": "a85b10f2-febe-4280-f5e4-6cbd0f3806f8"
      },
      "source": [
        "rentals.groupby('Region')[['Per_sqr_meter']].mean().sort_values(by=\"Per_sqr_meter\").style.background_gradient(cmap='YlOrRd')"
      ],
      "execution_count": 19,
      "outputs": [
        {
          "output_type": "execute_result",
          "data": {
            "text/html": [
              "<style  type=\"text/css\" >\n",
              "#T_bae054ea_2eb4_11eb_98f3_0242ac1c0002row0_col0{\n",
              "            background-color:  #ffffcc;\n",
              "            color:  #000000;\n",
              "        }#T_bae054ea_2eb4_11eb_98f3_0242ac1c0002row1_col0{\n",
              "            background-color:  #fff9bd;\n",
              "            color:  #000000;\n",
              "        }#T_bae054ea_2eb4_11eb_98f3_0242ac1c0002row2_col0{\n",
              "            background-color:  #ffe793;\n",
              "            color:  #000000;\n",
              "        }#T_bae054ea_2eb4_11eb_98f3_0242ac1c0002row3_col0{\n",
              "            background-color:  #fd7034;\n",
              "            color:  #000000;\n",
              "        }#T_bae054ea_2eb4_11eb_98f3_0242ac1c0002row4_col0,#T_bae054ea_2eb4_11eb_98f3_0242ac1c0002row5_col0{\n",
              "            background-color:  #fc6c33;\n",
              "            color:  #000000;\n",
              "        }#T_bae054ea_2eb4_11eb_98f3_0242ac1c0002row6_col0{\n",
              "            background-color:  #fc552c;\n",
              "            color:  #000000;\n",
              "        }#T_bae054ea_2eb4_11eb_98f3_0242ac1c0002row7_col0{\n",
              "            background-color:  #ee3122;\n",
              "            color:  #f1f1f1;\n",
              "        }#T_bae054ea_2eb4_11eb_98f3_0242ac1c0002row8_col0{\n",
              "            background-color:  #e41c1d;\n",
              "            color:  #f1f1f1;\n",
              "        }#T_bae054ea_2eb4_11eb_98f3_0242ac1c0002row9_col0{\n",
              "            background-color:  #800026;\n",
              "            color:  #f1f1f1;\n",
              "        }</style><table id=\"T_bae054ea_2eb4_11eb_98f3_0242ac1c0002\" ><thead>    <tr>        <th class=\"blank level0\" ></th>        <th class=\"col_heading level0 col0\" >Per_sqr_meter</th>    </tr>    <tr>        <th class=\"index_name level0\" >Region</th>        <th class=\"blank\" ></th>    </tr></thead><tbody>\n",
              "                <tr>\n",
              "                        <th id=\"T_bae054ea_2eb4_11eb_98f3_0242ac1c0002level0_row0\" class=\"row_heading level0 row0\" >Köpenick</th>\n",
              "                        <td id=\"T_bae054ea_2eb4_11eb_98f3_0242ac1c0002row0_col0\" class=\"data row0 col0\" >15.630360</td>\n",
              "            </tr>\n",
              "            <tr>\n",
              "                        <th id=\"T_bae054ea_2eb4_11eb_98f3_0242ac1c0002level0_row1\" class=\"row_heading level0 row1\" >Friedrichsfelde</th>\n",
              "                        <td id=\"T_bae054ea_2eb4_11eb_98f3_0242ac1c0002row1_col0\" class=\"data row1 col0\" >16.094004</td>\n",
              "            </tr>\n",
              "            <tr>\n",
              "                        <th id=\"T_bae054ea_2eb4_11eb_98f3_0242ac1c0002level0_row2\" class=\"row_heading level0 row2\" >Neukölln</th>\n",
              "                        <td id=\"T_bae054ea_2eb4_11eb_98f3_0242ac1c0002row2_col0\" class=\"data row2 col0\" >17.347237</td>\n",
              "            </tr>\n",
              "            <tr>\n",
              "                        <th id=\"T_bae054ea_2eb4_11eb_98f3_0242ac1c0002level0_row3\" class=\"row_heading level0 row3\" >Charlottenburg</th>\n",
              "                        <td id=\"T_bae054ea_2eb4_11eb_98f3_0242ac1c0002row3_col0\" class=\"data row3 col0\" >21.394455</td>\n",
              "            </tr>\n",
              "            <tr>\n",
              "                        <th id=\"T_bae054ea_2eb4_11eb_98f3_0242ac1c0002level0_row4\" class=\"row_heading level0 row4\" >Tiergarten</th>\n",
              "                        <td id=\"T_bae054ea_2eb4_11eb_98f3_0242ac1c0002row4_col0\" class=\"data row4 col0\" >21.461178</td>\n",
              "            </tr>\n",
              "            <tr>\n",
              "                        <th id=\"T_bae054ea_2eb4_11eb_98f3_0242ac1c0002level0_row5\" class=\"row_heading level0 row5\" >Wilmersdorf</th>\n",
              "                        <td id=\"T_bae054ea_2eb4_11eb_98f3_0242ac1c0002row5_col0\" class=\"data row5 col0\" >21.474912</td>\n",
              "            </tr>\n",
              "            <tr>\n",
              "                        <th id=\"T_bae054ea_2eb4_11eb_98f3_0242ac1c0002level0_row6\" class=\"row_heading level0 row6\" >Prenzlauer</th>\n",
              "                        <td id=\"T_bae054ea_2eb4_11eb_98f3_0242ac1c0002row6_col0\" class=\"data row6 col0\" >21.957957</td>\n",
              "            </tr>\n",
              "            <tr>\n",
              "                        <th id=\"T_bae054ea_2eb4_11eb_98f3_0242ac1c0002level0_row7\" class=\"row_heading level0 row7\" >Wedding</th>\n",
              "                        <td id=\"T_bae054ea_2eb4_11eb_98f3_0242ac1c0002row7_col0\" class=\"data row7 col0\" >22.811979</td>\n",
              "            </tr>\n",
              "            <tr>\n",
              "                        <th id=\"T_bae054ea_2eb4_11eb_98f3_0242ac1c0002level0_row8\" class=\"row_heading level0 row8\" >Kreuzberg</th>\n",
              "                        <td id=\"T_bae054ea_2eb4_11eb_98f3_0242ac1c0002row8_col0\" class=\"data row8 col0\" >23.333198</td>\n",
              "            </tr>\n",
              "            <tr>\n",
              "                        <th id=\"T_bae054ea_2eb4_11eb_98f3_0242ac1c0002level0_row9\" class=\"row_heading level0 row9\" >Mitte</th>\n",
              "                        <td id=\"T_bae054ea_2eb4_11eb_98f3_0242ac1c0002row9_col0\" class=\"data row9 col0\" >25.966819</td>\n",
              "            </tr>\n",
              "    </tbody></table>"
            ],
            "text/plain": [
              "<pandas.io.formats.style.Styler at 0x7fa9724c5a90>"
            ]
          },
          "metadata": {
            "tags": []
          },
          "execution_count": 19
        }
      ]
    },
    {
      "cell_type": "markdown",
      "metadata": {
        "id": "LmWlMN_4O7CJ"
      },
      "source": [
        "# **Which region has on average the oldest buildings?**\n",
        "\n",
        "**Answer:**\n",
        "\n",
        "An apartment in Charlottenburg which was constructed in the year 1889 is the currently the oldest buildings."
      ]
    },
    {
      "cell_type": "code",
      "metadata": {
        "id": "FDb_suYP6Gs4",
        "colab": {
          "base_uri": "https://localhost:8080/",
          "height": 111
        },
        "outputId": "c97ba8f4-9671-4a21-e611-283562b999dd"
      },
      "source": [
        "rentals.groupby('Region')[['Year_Construction']].min().iloc[:1]"
      ],
      "execution_count": 20,
      "outputs": [
        {
          "output_type": "execute_result",
          "data": {
            "text/html": [
              "<div>\n",
              "<style scoped>\n",
              "    .dataframe tbody tr th:only-of-type {\n",
              "        vertical-align: middle;\n",
              "    }\n",
              "\n",
              "    .dataframe tbody tr th {\n",
              "        vertical-align: top;\n",
              "    }\n",
              "\n",
              "    .dataframe thead th {\n",
              "        text-align: right;\n",
              "    }\n",
              "</style>\n",
              "<table border=\"1\" class=\"dataframe\">\n",
              "  <thead>\n",
              "    <tr style=\"text-align: right;\">\n",
              "      <th></th>\n",
              "      <th>Year_Construction</th>\n",
              "    </tr>\n",
              "    <tr>\n",
              "      <th>Region</th>\n",
              "      <th></th>\n",
              "    </tr>\n",
              "  </thead>\n",
              "  <tbody>\n",
              "    <tr>\n",
              "      <th>Charlottenburg</th>\n",
              "      <td>1889</td>\n",
              "    </tr>\n",
              "  </tbody>\n",
              "</table>\n",
              "</div>"
            ],
            "text/plain": [
              "                Year_Construction\n",
              "Region                           \n",
              "Charlottenburg               1889"
            ]
          },
          "metadata": {
            "tags": []
          },
          "execution_count": 20
        }
      ]
    },
    {
      "cell_type": "markdown",
      "metadata": {
        "id": "klc8U6dVO7za"
      },
      "source": [
        "# **Which region has the most \"in-shape\" flats to offer?**\n",
        "**Answer:**\n",
        "\n",
        "Based on my findings, Berlin Tiergarten has the most in-shape flats due to the fact that it has the most newly built, fully renovated and well kept apartments."
      ]
    },
    {
      "cell_type": "code",
      "metadata": {
        "id": "uEFDOOjPO3lE",
        "colab": {
          "base_uri": "https://localhost:8080/"
        },
        "outputId": "c4e0b130-826b-4b57-cb94-359d249e2ca5"
      },
      "source": [
        "rentals.Condition.unique()"
      ],
      "execution_count": 21,
      "outputs": [
        {
          "output_type": "execute_result",
          "data": {
            "text/plain": [
              "array(['first_time_use', 'well_kept', 'mint_condition', 'no_information',\n",
              "       'fully_renovated', 'first_time_use_after_refurbishment',\n",
              "       'refurbished', 'modernized', 'need_of_renovation'], dtype=object)"
            ]
          },
          "metadata": {
            "tags": []
          },
          "execution_count": 21
        }
      ]
    },
    {
      "cell_type": "code",
      "metadata": {
        "id": "ohiy0p6sYQJ-",
        "colab": {
          "base_uri": "https://localhost:8080/",
          "height": 410
        },
        "outputId": "ea1e3310-bdcf-4583-bbde-cbfd39e6ecf6"
      },
      "source": [
        "rentals.groupby([\"Region\",\"Condition\"]).size().unstack(fill_value=0).sort_values(by= \"first_time_use\",ascending=False)"
      ],
      "execution_count": 22,
      "outputs": [
        {
          "output_type": "execute_result",
          "data": {
            "text/html": [
              "<div>\n",
              "<style scoped>\n",
              "    .dataframe tbody tr th:only-of-type {\n",
              "        vertical-align: middle;\n",
              "    }\n",
              "\n",
              "    .dataframe tbody tr th {\n",
              "        vertical-align: top;\n",
              "    }\n",
              "\n",
              "    .dataframe thead th {\n",
              "        text-align: right;\n",
              "    }\n",
              "</style>\n",
              "<table border=\"1\" class=\"dataframe\">\n",
              "  <thead>\n",
              "    <tr style=\"text-align: right;\">\n",
              "      <th>Condition</th>\n",
              "      <th>first_time_use</th>\n",
              "      <th>first_time_use_after_refurbishment</th>\n",
              "      <th>fully_renovated</th>\n",
              "      <th>mint_condition</th>\n",
              "      <th>modernized</th>\n",
              "      <th>need_of_renovation</th>\n",
              "      <th>no_information</th>\n",
              "      <th>refurbished</th>\n",
              "      <th>well_kept</th>\n",
              "    </tr>\n",
              "    <tr>\n",
              "      <th>Region</th>\n",
              "      <th></th>\n",
              "      <th></th>\n",
              "      <th></th>\n",
              "      <th></th>\n",
              "      <th></th>\n",
              "      <th></th>\n",
              "      <th></th>\n",
              "      <th></th>\n",
              "      <th></th>\n",
              "    </tr>\n",
              "  </thead>\n",
              "  <tbody>\n",
              "    <tr>\n",
              "      <th>Tiergarten</th>\n",
              "      <td>101</td>\n",
              "      <td>1</td>\n",
              "      <td>10</td>\n",
              "      <td>13</td>\n",
              "      <td>2</td>\n",
              "      <td>1</td>\n",
              "      <td>28</td>\n",
              "      <td>2</td>\n",
              "      <td>13</td>\n",
              "    </tr>\n",
              "    <tr>\n",
              "      <th>Mitte</th>\n",
              "      <td>43</td>\n",
              "      <td>7</td>\n",
              "      <td>3</td>\n",
              "      <td>49</td>\n",
              "      <td>1</td>\n",
              "      <td>0</td>\n",
              "      <td>29</td>\n",
              "      <td>15</td>\n",
              "      <td>6</td>\n",
              "    </tr>\n",
              "    <tr>\n",
              "      <th>Charlottenburg</th>\n",
              "      <td>27</td>\n",
              "      <td>7</td>\n",
              "      <td>5</td>\n",
              "      <td>9</td>\n",
              "      <td>4</td>\n",
              "      <td>0</td>\n",
              "      <td>8</td>\n",
              "      <td>7</td>\n",
              "      <td>12</td>\n",
              "    </tr>\n",
              "    <tr>\n",
              "      <th>Friedrichsfelde</th>\n",
              "      <td>25</td>\n",
              "      <td>0</td>\n",
              "      <td>3</td>\n",
              "      <td>5</td>\n",
              "      <td>8</td>\n",
              "      <td>0</td>\n",
              "      <td>4</td>\n",
              "      <td>0</td>\n",
              "      <td>7</td>\n",
              "    </tr>\n",
              "    <tr>\n",
              "      <th>Neukölln</th>\n",
              "      <td>20</td>\n",
              "      <td>0</td>\n",
              "      <td>4</td>\n",
              "      <td>3</td>\n",
              "      <td>3</td>\n",
              "      <td>1</td>\n",
              "      <td>10</td>\n",
              "      <td>5</td>\n",
              "      <td>13</td>\n",
              "    </tr>\n",
              "    <tr>\n",
              "      <th>Wilmersdorf</th>\n",
              "      <td>19</td>\n",
              "      <td>6</td>\n",
              "      <td>3</td>\n",
              "      <td>6</td>\n",
              "      <td>1</td>\n",
              "      <td>0</td>\n",
              "      <td>4</td>\n",
              "      <td>3</td>\n",
              "      <td>11</td>\n",
              "    </tr>\n",
              "    <tr>\n",
              "      <th>Köpenick</th>\n",
              "      <td>15</td>\n",
              "      <td>8</td>\n",
              "      <td>1</td>\n",
              "      <td>6</td>\n",
              "      <td>4</td>\n",
              "      <td>0</td>\n",
              "      <td>0</td>\n",
              "      <td>1</td>\n",
              "      <td>20</td>\n",
              "    </tr>\n",
              "    <tr>\n",
              "      <th>Kreuzberg</th>\n",
              "      <td>11</td>\n",
              "      <td>2</td>\n",
              "      <td>2</td>\n",
              "      <td>17</td>\n",
              "      <td>2</td>\n",
              "      <td>0</td>\n",
              "      <td>7</td>\n",
              "      <td>2</td>\n",
              "      <td>4</td>\n",
              "    </tr>\n",
              "    <tr>\n",
              "      <th>Wedding</th>\n",
              "      <td>5</td>\n",
              "      <td>2</td>\n",
              "      <td>1</td>\n",
              "      <td>16</td>\n",
              "      <td>1</td>\n",
              "      <td>2</td>\n",
              "      <td>10</td>\n",
              "      <td>0</td>\n",
              "      <td>5</td>\n",
              "    </tr>\n",
              "    <tr>\n",
              "      <th>Prenzlauer</th>\n",
              "      <td>4</td>\n",
              "      <td>3</td>\n",
              "      <td>3</td>\n",
              "      <td>19</td>\n",
              "      <td>3</td>\n",
              "      <td>0</td>\n",
              "      <td>11</td>\n",
              "      <td>5</td>\n",
              "      <td>5</td>\n",
              "    </tr>\n",
              "  </tbody>\n",
              "</table>\n",
              "</div>"
            ],
            "text/plain": [
              "Condition        first_time_use  ...  well_kept\n",
              "Region                           ...           \n",
              "Tiergarten                  101  ...         13\n",
              "Mitte                        43  ...          6\n",
              "Charlottenburg               27  ...         12\n",
              "Friedrichsfelde              25  ...          7\n",
              "Neukölln                     20  ...         13\n",
              "Wilmersdorf                  19  ...         11\n",
              "Köpenick                     15  ...         20\n",
              "Kreuzberg                    11  ...          4\n",
              "Wedding                       5  ...          5\n",
              "Prenzlauer                    4  ...          5\n",
              "\n",
              "[10 rows x 9 columns]"
            ]
          },
          "metadata": {
            "tags": []
          },
          "execution_count": 22
        }
      ]
    },
    {
      "cell_type": "markdown",
      "metadata": {
        "id": "UQxoVu9RWk7C"
      },
      "source": [
        "# **Visualization**\n",
        "\n",
        "---  \n"
      ]
    },
    {
      "cell_type": "markdown",
      "metadata": {
        "id": "8xQUxCBW-Mv1"
      },
      "source": [
        "## **A Plot to show the Total count of regions in berlin**"
      ]
    },
    {
      "cell_type": "code",
      "metadata": {
        "id": "rKms4xSz0Kal",
        "colab": {
          "base_uri": "https://localhost:8080/",
          "height": 542
        },
        "outputId": "ef38932a-808a-44dd-818e-351f77537b60"
      },
      "source": [
        "data = {\n",
        "  'x': rentals['Region'],\n",
        "  'name': 'Region',\n",
        "  'type': 'bar'\n",
        "};\n",
        "\n",
        "layout = {\n",
        "  'xaxis': {'title': 'Regions'},\n",
        "    'yaxis': {'title': 'Count of regions'},\n",
        "  'barmode': 'relative',\n",
        "  'title': 'Total count of regions'\n",
        "};\n",
        "fig = go.Figure(data = data, layout = layout)\n",
        "iplot(fig)"
      ],
      "execution_count": 37,
      "outputs": [
        {
          "output_type": "display_data",
          "data": {
            "text/html": [
              "<div>\n",
              "        \n",
              "        \n",
              "            <div id=\"7f254eb3-de70-4d5c-bbf8-35f885ca0ab1\" class=\"plotly-graph-div\" style=\"height:525px; width:100%;\"></div>\n",
              "            <script type=\"text/javascript\">\n",
              "                require([\"plotly\"], function(Plotly) {\n",
              "                    window.PLOTLYENV=window.PLOTLYENV || {};\n",
              "                    \n",
              "                if (document.getElementById(\"7f254eb3-de70-4d5c-bbf8-35f885ca0ab1\")) {\n",
              "                    Plotly.newPlot(\n",
              "                        '7f254eb3-de70-4d5c-bbf8-35f885ca0ab1',\n",
              "                        [{\"name\": \"Region\", \"type\": \"bar\", \"x\": [\"Mitte\", \"Kreuzberg\", \"K\\u00f6penick\", \"Wilmersdorf\", \"Kreuzberg\", \"K\\u00f6penick\", \"Mitte\", \"Charlottenburg\", \"Friedrichsfelde\", \"Tiergarten\", \"Mitte\", \"Kreuzberg\", \"Mitte\", \"Kreuzberg\", \"Tiergarten\", \"Mitte\", \"Friedrichsfelde\", \"K\\u00f6penick\", \"Friedrichsfelde\", \"Mitte\", \"Mitte\", \"K\\u00f6penick\", \"Prenzlauer\", \"Tiergarten\", \"Prenzlauer\", \"Tiergarten\", \"Mitte\", \"K\\u00f6penick\", \"Charlottenburg\", \"Charlottenburg\", \"Tiergarten\", \"Charlottenburg\", \"Tiergarten\", \"Mitte\", \"Mitte\", \"Wilmersdorf\", \"Tiergarten\", \"Charlottenburg\", \"Wedding\", \"Charlottenburg\", \"Tiergarten\", \"Tiergarten\", \"Tiergarten\", \"Mitte\", \"Mitte\", \"Neuk\\u00f6lln\", \"Wedding\", \"Neuk\\u00f6lln\", \"Neuk\\u00f6lln\", \"Wedding\", \"Wedding\", \"Prenzlauer\", \"Prenzlauer\", \"Charlottenburg\", \"Prenzlauer\", \"Charlottenburg\", \"Tiergarten\", \"Wedding\", \"Tiergarten\", \"Charlottenburg\", \"Prenzlauer\", \"Mitte\", \"Charlottenburg\", \"Mitte\", \"Prenzlauer\", \"Charlottenburg\", \"Mitte\", \"Friedrichsfelde\", \"Tiergarten\", \"Mitte\", \"Wedding\", \"Neuk\\u00f6lln\", \"Tiergarten\", \"Tiergarten\", \"Mitte\", \"Prenzlauer\", \"Kreuzberg\", \"K\\u00f6penick\", \"Kreuzberg\", \"Wedding\", \"Tiergarten\", \"K\\u00f6penick\", \"Kreuzberg\", \"Charlottenburg\", \"Neuk\\u00f6lln\", \"Charlottenburg\", \"Wilmersdorf\", \"Mitte\", \"Mitte\", \"Tiergarten\", \"Mitte\", \"Charlottenburg\", \"Mitte\", \"Mitte\", \"Wilmersdorf\", \"Mitte\", \"Mitte\", \"Wedding\", \"Charlottenburg\", \"Neuk\\u00f6lln\", \"Prenzlauer\", \"Wilmersdorf\", \"Prenzlauer\", \"Tiergarten\", \"Prenzlauer\", \"Mitte\", \"Prenzlauer\", \"Prenzlauer\", \"Neuk\\u00f6lln\", \"Tiergarten\", \"Neuk\\u00f6lln\", \"Mitte\", \"Kreuzberg\", \"Mitte\", \"K\\u00f6penick\", \"Charlottenburg\", \"Wilmersdorf\", \"Mitte\", \"Mitte\", \"Prenzlauer\", \"Tiergarten\", \"Charlottenburg\", \"Tiergarten\", \"Wilmersdorf\", \"Wilmersdorf\", \"Tiergarten\", \"Neuk\\u00f6lln\", \"K\\u00f6penick\", \"Wilmersdorf\", \"Tiergarten\", \"Mitte\", \"Tiergarten\", \"Mitte\", \"Tiergarten\", \"Tiergarten\", \"Tiergarten\", \"Tiergarten\", \"Kreuzberg\", \"Tiergarten\", \"Charlottenburg\", \"Charlottenburg\", \"Tiergarten\", \"K\\u00f6penick\", \"Mitte\", \"Charlottenburg\", \"Charlottenburg\", \"K\\u00f6penick\", \"Charlottenburg\", \"Prenzlauer\", \"Charlottenburg\", \"Mitte\", \"Kreuzberg\", \"Wedding\", \"Charlottenburg\", \"Mitte\", \"Tiergarten\", \"Mitte\", \"Tiergarten\", \"Mitte\", \"Kreuzberg\", \"Mitte\", \"K\\u00f6penick\", \"Tiergarten\", \"Wedding\", \"K\\u00f6penick\", \"K\\u00f6penick\", \"K\\u00f6penick\", \"Tiergarten\", \"Neuk\\u00f6lln\", \"Friedrichsfelde\", \"K\\u00f6penick\", \"K\\u00f6penick\", \"K\\u00f6penick\", \"Mitte\", \"Wedding\", \"Tiergarten\", \"Wilmersdorf\", \"Tiergarten\", \"Wedding\", \"Tiergarten\", \"Mitte\", \"Tiergarten\", \"Wedding\", \"Mitte\", \"Tiergarten\", \"Tiergarten\", \"Kreuzberg\", \"Mitte\", \"Wilmersdorf\", \"Wilmersdorf\", \"Tiergarten\", \"Mitte\", \"Tiergarten\", \"Tiergarten\", \"Mitte\", \"Prenzlauer\", \"Mitte\", \"Prenzlauer\", \"Mitte\", \"Tiergarten\", \"Tiergarten\", \"K\\u00f6penick\", \"Kreuzberg\", \"Kreuzberg\", \"Neuk\\u00f6lln\", \"Neuk\\u00f6lln\", \"Neuk\\u00f6lln\", \"Wilmersdorf\", \"Wilmersdorf\", \"K\\u00f6penick\", \"Mitte\", \"Tiergarten\", \"Mitte\", \"Friedrichsfelde\", \"Wilmersdorf\", \"Charlottenburg\", \"Charlottenburg\", \"Mitte\", \"Charlottenburg\", \"Mitte\", \"Mitte\", \"Charlottenburg\", \"Charlottenburg\", \"Charlottenburg\", \"Tiergarten\", \"Tiergarten\", \"Wilmersdorf\", \"Charlottenburg\", \"Wedding\", \"Charlottenburg\", \"Wedding\", \"Tiergarten\", \"Prenzlauer\", \"Neuk\\u00f6lln\", \"Wedding\", \"Tiergarten\", \"Charlottenburg\", \"Neuk\\u00f6lln\", \"Tiergarten\", \"Kreuzberg\", \"Charlottenburg\", \"Tiergarten\", \"Mitte\", \"Mitte\", \"Tiergarten\", \"Charlottenburg\", \"Charlottenburg\", \"Mitte\", \"K\\u00f6penick\", \"Mitte\", \"Charlottenburg\", \"Mitte\", \"Mitte\", \"K\\u00f6penick\", \"Kreuzberg\", \"Wilmersdorf\", \"Tiergarten\", \"Wilmersdorf\", \"Friedrichsfelde\", \"Charlottenburg\", \"Friedrichsfelde\", \"Tiergarten\", \"Charlottenburg\", \"Tiergarten\", \"Neuk\\u00f6lln\", \"Neuk\\u00f6lln\", \"Charlottenburg\", \"Neuk\\u00f6lln\", \"Mitte\", \"Mitte\", \"K\\u00f6penick\", \"Charlottenburg\", \"Mitte\", \"K\\u00f6penick\", \"Neuk\\u00f6lln\", \"K\\u00f6penick\", \"Wilmersdorf\", \"Mitte\", \"Wedding\", \"Mitte\", \"Wilmersdorf\", \"Mitte\", \"Friedrichsfelde\", \"K\\u00f6penick\", \"Wilmersdorf\", \"Mitte\", \"Mitte\", \"Mitte\", \"Mitte\", \"Tiergarten\", \"Mitte\", \"Wedding\", \"Wedding\", \"Tiergarten\", \"Wedding\", \"Wedding\", \"Wedding\", \"Wilmersdorf\", \"Charlottenburg\", \"Wilmersdorf\", \"Wedding\", \"Neuk\\u00f6lln\", \"Wilmersdorf\", \"Charlottenburg\", \"Kreuzberg\", \"Mitte\", \"Mitte\", \"Prenzlauer\", \"Tiergarten\", \"Prenzlauer\", \"Tiergarten\", \"Charlottenburg\", \"Kreuzberg\", \"Tiergarten\", \"Prenzlauer\", \"Kreuzberg\", \"Wedding\", \"Wilmersdorf\", \"Neuk\\u00f6lln\", \"K\\u00f6penick\", \"K\\u00f6penick\", \"K\\u00f6penick\", \"Wilmersdorf\", \"Kreuzberg\", \"Wedding\", \"K\\u00f6penick\", \"Kreuzberg\", \"Charlottenburg\", \"Mitte\", \"Charlottenburg\", \"Charlottenburg\", \"Tiergarten\", \"Mitte\", \"Mitte\", \"Mitte\", \"Neuk\\u00f6lln\", \"Prenzlauer\", \"Neuk\\u00f6lln\", \"Mitte\", \"Mitte\", \"K\\u00f6penick\", \"Kreuzberg\", \"Mitte\", \"Neuk\\u00f6lln\", \"Tiergarten\", \"Charlottenburg\", \"Wilmersdorf\", \"Neuk\\u00f6lln\", \"Kreuzberg\", \"Wilmersdorf\", \"Tiergarten\", \"Tiergarten\", \"Mitte\", \"Prenzlauer\", \"Charlottenburg\", \"Mitte\", \"Tiergarten\", \"Wilmersdorf\", \"Wilmersdorf\", \"Tiergarten\", \"Tiergarten\", \"K\\u00f6penick\", \"Mitte\", \"Tiergarten\", \"Charlottenburg\", \"Prenzlauer\", \"Tiergarten\", \"Tiergarten\", \"Charlottenburg\", \"Tiergarten\", \"Wilmersdorf\", \"Wilmersdorf\", \"Charlottenburg\", \"Prenzlauer\", \"K\\u00f6penick\", \"K\\u00f6penick\", \"Friedrichsfelde\", \"Wilmersdorf\", \"Friedrichsfelde\", \"Kreuzberg\", \"Friedrichsfelde\", \"Friedrichsfelde\", \"Friedrichsfelde\", \"Friedrichsfelde\", \"Friedrichsfelde\", \"Prenzlauer\", \"Mitte\", \"Neuk\\u00f6lln\", \"Wilmersdorf\", \"Wilmersdorf\", \"K\\u00f6penick\", \"Wedding\", \"Mitte\", \"Mitte\", \"Mitte\", \"Neuk\\u00f6lln\", \"Wilmersdorf\", \"Wedding\", \"Charlottenburg\", \"Prenzlauer\", \"Charlottenburg\", \"Kreuzberg\", \"Wedding\", \"Mitte\", \"Prenzlauer\", \"Mitte\", \"Kreuzberg\", \"K\\u00f6penick\", \"Neuk\\u00f6lln\", \"Neuk\\u00f6lln\", \"Charlottenburg\", \"Neuk\\u00f6lln\", \"Friedrichsfelde\", \"Charlottenburg\", \"Friedrichsfelde\", \"Friedrichsfelde\", \"Neuk\\u00f6lln\", \"Friedrichsfelde\", \"Friedrichsfelde\", \"Charlottenburg\", \"Tiergarten\", \"Wilmersdorf\", \"Tiergarten\", \"Kreuzberg\", \"Friedrichsfelde\", \"Friedrichsfelde\", \"Friedrichsfelde\", \"Friedrichsfelde\", \"Neuk\\u00f6lln\", \"Friedrichsfelde\", \"Neuk\\u00f6lln\", \"Neuk\\u00f6lln\", \"Neuk\\u00f6lln\", \"Neuk\\u00f6lln\", \"Neuk\\u00f6lln\", \"Tiergarten\", \"Tiergarten\", \"Prenzlauer\", \"Mitte\", \"Tiergarten\", \"Tiergarten\", \"Tiergarten\", \"Tiergarten\", \"Kreuzberg\", \"Mitte\", \"Wedding\", \"Mitte\", \"Friedrichsfelde\", \"Tiergarten\", \"Charlottenburg\", \"K\\u00f6penick\", \"Wilmersdorf\", \"K\\u00f6penick\", \"Kreuzberg\", \"Charlottenburg\", \"K\\u00f6penick\", \"Neuk\\u00f6lln\", \"Mitte\", \"K\\u00f6penick\", \"Prenzlauer\", \"K\\u00f6penick\", \"Wilmersdorf\", \"Tiergarten\", \"Mitte\", \"Mitte\", \"Neuk\\u00f6lln\", \"Tiergarten\", \"Prenzlauer\", \"Friedrichsfelde\", \"Tiergarten\", \"Mitte\", \"Friedrichsfelde\", \"Tiergarten\", \"Charlottenburg\", \"Tiergarten\", \"Tiergarten\", \"Charlottenburg\", \"Tiergarten\", \"Mitte\", \"Neuk\\u00f6lln\", \"Friedrichsfelde\", \"Charlottenburg\", \"Wilmersdorf\", \"Friedrichsfelde\", \"K\\u00f6penick\", \"K\\u00f6penick\", \"K\\u00f6penick\", \"Mitte\", \"Prenzlauer\", \"K\\u00f6penick\", \"Charlottenburg\", \"K\\u00f6penick\", \"Mitte\", \"Neuk\\u00f6lln\", \"Friedrichsfelde\", \"Kreuzberg\", \"K\\u00f6penick\", \"K\\u00f6penick\", \"Tiergarten\", \"Charlottenburg\", \"Kreuzberg\", \"Prenzlauer\", \"Tiergarten\", \"Kreuzberg\", \"Tiergarten\", \"Tiergarten\", \"Neuk\\u00f6lln\", \"Mitte\", \"Tiergarten\", \"Mitte\", \"Mitte\", \"Charlottenburg\", \"K\\u00f6penick\", \"K\\u00f6penick\", \"Neuk\\u00f6lln\", \"Neuk\\u00f6lln\", \"Neuk\\u00f6lln\", \"K\\u00f6penick\", \"Mitte\", \"Charlottenburg\", \"Kreuzberg\", \"Wilmersdorf\", \"Kreuzberg\", \"Charlottenburg\", \"Friedrichsfelde\", \"Mitte\", \"Prenzlauer\", \"Tiergarten\", \"Neuk\\u00f6lln\", \"Friedrichsfelde\", \"Tiergarten\", \"Neuk\\u00f6lln\", \"Tiergarten\", \"Tiergarten\", \"Friedrichsfelde\", \"Prenzlauer\", \"Wilmersdorf\", \"Friedrichsfelde\", \"Charlottenburg\", \"Tiergarten\", \"Friedrichsfelde\", \"Friedrichsfelde\", \"Friedrichsfelde\", \"Mitte\", \"Neuk\\u00f6lln\", \"Mitte\", \"Friedrichsfelde\", \"Tiergarten\", \"Kreuzberg\", \"Kreuzberg\", \"Friedrichsfelde\", \"Neuk\\u00f6lln\", \"Friedrichsfelde\", \"Kreuzberg\", \"Neuk\\u00f6lln\", \"Prenzlauer\", \"Tiergarten\", \"Prenzlauer\", \"Neuk\\u00f6lln\", \"Prenzlauer\", \"Tiergarten\", \"Mitte\", \"Mitte\", \"Neuk\\u00f6lln\", \"Mitte\", \"Mitte\", \"Neuk\\u00f6lln\", \"Mitte\", \"Tiergarten\", \"Mitte\", \"Wilmersdorf\", \"Friedrichsfelde\", \"Mitte\", \"Mitte\", \"Tiergarten\", \"Tiergarten\", \"Neuk\\u00f6lln\", \"Tiergarten\", \"Mitte\", \"Tiergarten\", \"Tiergarten\", \"Tiergarten\", \"Tiergarten\", \"Prenzlauer\", \"Tiergarten\", \"Tiergarten\", \"Wedding\", \"Tiergarten\", \"Mitte\", \"Wilmersdorf\", \"Mitte\", \"Mitte\", \"Mitte\", \"Charlottenburg\", \"Mitte\", \"Charlottenburg\", \"Mitte\", \"Friedrichsfelde\", \"Friedrichsfelde\", \"Friedrichsfelde\", \"Tiergarten\", \"Kreuzberg\", \"Neuk\\u00f6lln\", \"Friedrichsfelde\", \"Friedrichsfelde\", \"Wedding\", \"Tiergarten\", \"Mitte\", \"Mitte\", \"Tiergarten\", \"Tiergarten\", \"Tiergarten\", \"Charlottenburg\", \"Tiergarten\", \"Friedrichsfelde\", \"Wilmersdorf\", \"Friedrichsfelde\", \"Tiergarten\", \"Friedrichsfelde\", \"Tiergarten\", \"Tiergarten\", \"Tiergarten\", \"Tiergarten\", \"Kreuzberg\", \"Wilmersdorf\", \"Tiergarten\", \"Tiergarten\", \"Tiergarten\", \"Tiergarten\", \"Wilmersdorf\", \"Tiergarten\", \"Tiergarten\", \"Tiergarten\", \"Mitte\", \"Tiergarten\", \"Tiergarten\", \"Charlottenburg\", \"Mitte\", \"Tiergarten\", \"Tiergarten\", \"Mitte\", \"Charlottenburg\", \"K\\u00f6penick\", \"Tiergarten\", \"Mitte\", \"Mitte\", \"Mitte\", \"Neuk\\u00f6lln\", \"Mitte\", \"Tiergarten\", \"Mitte\", \"Kreuzberg\", \"Tiergarten\", \"Mitte\", \"Tiergarten\", \"Mitte\", \"Charlottenburg\", \"Mitte\", \"Tiergarten\", \"Mitte\", \"Tiergarten\", \"Prenzlauer\", \"Tiergarten\", \"Mitte\", \"Tiergarten\", \"Neuk\\u00f6lln\", \"Tiergarten\", \"Tiergarten\", \"Tiergarten\", \"Tiergarten\", \"Tiergarten\", \"Tiergarten\", \"Tiergarten\", \"Wedding\", \"Prenzlauer\", \"Wilmersdorf\", \"Tiergarten\", \"Tiergarten\", \"Tiergarten\", \"Tiergarten\", \"Mitte\", \"Mitte\", \"Mitte\", \"Wilmersdorf\", \"Tiergarten\", \"Tiergarten\", \"Charlottenburg\", \"Charlottenburg\", \"Tiergarten\", \"Tiergarten\", \"Charlottenburg\", \"Prenzlauer\", \"Charlottenburg\", \"Mitte\", \"Mitte\", \"Tiergarten\", \"Charlottenburg\", \"Kreuzberg\", \"Tiergarten\", \"K\\u00f6penick\", \"Mitte\", \"Tiergarten\", \"Tiergarten\", \"Mitte\", \"Prenzlauer\", \"Tiergarten\", \"Tiergarten\", \"Tiergarten\", \"Tiergarten\", \"Prenzlauer\", \"Prenzlauer\", \"Prenzlauer\", \"Prenzlauer\", \"Mitte\", \"Wilmersdorf\", \"Mitte\", \"Kreuzberg\", \"Mitte\", \"K\\u00f6penick\", \"Tiergarten\", \"Kreuzberg\", \"Mitte\", \"Prenzlauer\", \"Wilmersdorf\", \"Kreuzberg\", \"Kreuzberg\", \"Mitte\", \"Tiergarten\", \"Kreuzberg\", \"Mitte\", \"Mitte\", \"Tiergarten\", \"Prenzlauer\", \"Mitte\", \"Wilmersdorf\", \"Mitte\", \"Mitte\", \"Kreuzberg\", \"Prenzlauer\", \"Friedrichsfelde\", \"Wedding\", \"Mitte\", \"Prenzlauer\", \"Wedding\", \"Prenzlauer\", \"Wedding\", \"Wedding\", \"Wedding\", \"Mitte\", \"Tiergarten\", \"Wedding\", \"Mitte\", \"Tiergarten\", \"Wedding\", \"Mitte\", \"Prenzlauer\", \"Wedding\", \"Tiergarten\", \"Neuk\\u00f6lln\", \"Wedding\", \"Wedding\", \"Wilmersdorf\", \"K\\u00f6penick\", \"Neuk\\u00f6lln\"]}],\n",
              "                        {\"barmode\": \"relative\", \"template\": {\"data\": {\"bar\": [{\"error_x\": {\"color\": \"#2a3f5f\"}, \"error_y\": {\"color\": \"#2a3f5f\"}, \"marker\": {\"line\": {\"color\": \"#E5ECF6\", \"width\": 0.5}}, \"type\": \"bar\"}], \"barpolar\": [{\"marker\": {\"line\": {\"color\": \"#E5ECF6\", \"width\": 0.5}}, \"type\": \"barpolar\"}], \"carpet\": [{\"aaxis\": {\"endlinecolor\": \"#2a3f5f\", \"gridcolor\": \"white\", \"linecolor\": \"white\", \"minorgridcolor\": \"white\", \"startlinecolor\": \"#2a3f5f\"}, \"baxis\": {\"endlinecolor\": \"#2a3f5f\", \"gridcolor\": \"white\", \"linecolor\": \"white\", \"minorgridcolor\": \"white\", \"startlinecolor\": \"#2a3f5f\"}, \"type\": \"carpet\"}], \"choropleth\": [{\"colorbar\": {\"outlinewidth\": 0, \"ticks\": \"\"}, \"type\": \"choropleth\"}], \"contour\": [{\"colorbar\": {\"outlinewidth\": 0, \"ticks\": \"\"}, \"colorscale\": [[0.0, \"#0d0887\"], [0.1111111111111111, \"#46039f\"], [0.2222222222222222, \"#7201a8\"], [0.3333333333333333, \"#9c179e\"], [0.4444444444444444, \"#bd3786\"], [0.5555555555555556, \"#d8576b\"], [0.6666666666666666, \"#ed7953\"], [0.7777777777777778, \"#fb9f3a\"], [0.8888888888888888, \"#fdca26\"], [1.0, \"#f0f921\"]], \"type\": \"contour\"}], \"contourcarpet\": [{\"colorbar\": {\"outlinewidth\": 0, \"ticks\": \"\"}, \"type\": \"contourcarpet\"}], \"heatmap\": [{\"colorbar\": {\"outlinewidth\": 0, \"ticks\": \"\"}, \"colorscale\": [[0.0, \"#0d0887\"], [0.1111111111111111, \"#46039f\"], [0.2222222222222222, \"#7201a8\"], [0.3333333333333333, \"#9c179e\"], [0.4444444444444444, \"#bd3786\"], [0.5555555555555556, \"#d8576b\"], [0.6666666666666666, \"#ed7953\"], [0.7777777777777778, \"#fb9f3a\"], [0.8888888888888888, \"#fdca26\"], [1.0, \"#f0f921\"]], \"type\": \"heatmap\"}], \"heatmapgl\": [{\"colorbar\": {\"outlinewidth\": 0, \"ticks\": \"\"}, \"colorscale\": [[0.0, \"#0d0887\"], [0.1111111111111111, \"#46039f\"], [0.2222222222222222, \"#7201a8\"], [0.3333333333333333, \"#9c179e\"], [0.4444444444444444, \"#bd3786\"], [0.5555555555555556, \"#d8576b\"], [0.6666666666666666, \"#ed7953\"], [0.7777777777777778, \"#fb9f3a\"], [0.8888888888888888, \"#fdca26\"], [1.0, \"#f0f921\"]], \"type\": \"heatmapgl\"}], \"histogram\": [{\"marker\": {\"colorbar\": {\"outlinewidth\": 0, \"ticks\": \"\"}}, \"type\": \"histogram\"}], \"histogram2d\": [{\"colorbar\": {\"outlinewidth\": 0, \"ticks\": \"\"}, \"colorscale\": [[0.0, \"#0d0887\"], [0.1111111111111111, \"#46039f\"], [0.2222222222222222, \"#7201a8\"], [0.3333333333333333, \"#9c179e\"], [0.4444444444444444, \"#bd3786\"], [0.5555555555555556, \"#d8576b\"], [0.6666666666666666, \"#ed7953\"], [0.7777777777777778, \"#fb9f3a\"], [0.8888888888888888, \"#fdca26\"], [1.0, \"#f0f921\"]], \"type\": \"histogram2d\"}], \"histogram2dcontour\": [{\"colorbar\": {\"outlinewidth\": 0, \"ticks\": \"\"}, \"colorscale\": [[0.0, \"#0d0887\"], [0.1111111111111111, \"#46039f\"], [0.2222222222222222, \"#7201a8\"], [0.3333333333333333, \"#9c179e\"], [0.4444444444444444, \"#bd3786\"], [0.5555555555555556, \"#d8576b\"], [0.6666666666666666, \"#ed7953\"], [0.7777777777777778, \"#fb9f3a\"], [0.8888888888888888, \"#fdca26\"], [1.0, \"#f0f921\"]], \"type\": \"histogram2dcontour\"}], \"mesh3d\": [{\"colorbar\": {\"outlinewidth\": 0, \"ticks\": \"\"}, \"type\": \"mesh3d\"}], \"parcoords\": [{\"line\": {\"colorbar\": {\"outlinewidth\": 0, \"ticks\": \"\"}}, \"type\": \"parcoords\"}], \"pie\": [{\"automargin\": true, \"type\": \"pie\"}], \"scatter\": [{\"marker\": {\"colorbar\": {\"outlinewidth\": 0, \"ticks\": \"\"}}, \"type\": \"scatter\"}], \"scatter3d\": [{\"line\": {\"colorbar\": {\"outlinewidth\": 0, \"ticks\": \"\"}}, \"marker\": {\"colorbar\": {\"outlinewidth\": 0, \"ticks\": \"\"}}, \"type\": \"scatter3d\"}], \"scattercarpet\": [{\"marker\": {\"colorbar\": {\"outlinewidth\": 0, \"ticks\": \"\"}}, \"type\": \"scattercarpet\"}], \"scattergeo\": [{\"marker\": {\"colorbar\": {\"outlinewidth\": 0, \"ticks\": \"\"}}, \"type\": \"scattergeo\"}], \"scattergl\": [{\"marker\": {\"colorbar\": {\"outlinewidth\": 0, \"ticks\": \"\"}}, \"type\": \"scattergl\"}], \"scattermapbox\": [{\"marker\": {\"colorbar\": {\"outlinewidth\": 0, \"ticks\": \"\"}}, \"type\": \"scattermapbox\"}], \"scatterpolar\": [{\"marker\": {\"colorbar\": {\"outlinewidth\": 0, \"ticks\": \"\"}}, \"type\": \"scatterpolar\"}], \"scatterpolargl\": [{\"marker\": {\"colorbar\": {\"outlinewidth\": 0, \"ticks\": \"\"}}, \"type\": \"scatterpolargl\"}], \"scatterternary\": [{\"marker\": {\"colorbar\": {\"outlinewidth\": 0, \"ticks\": \"\"}}, \"type\": \"scatterternary\"}], \"surface\": [{\"colorbar\": {\"outlinewidth\": 0, \"ticks\": \"\"}, \"colorscale\": [[0.0, \"#0d0887\"], [0.1111111111111111, \"#46039f\"], [0.2222222222222222, \"#7201a8\"], [0.3333333333333333, \"#9c179e\"], [0.4444444444444444, \"#bd3786\"], [0.5555555555555556, \"#d8576b\"], [0.6666666666666666, \"#ed7953\"], [0.7777777777777778, \"#fb9f3a\"], [0.8888888888888888, \"#fdca26\"], [1.0, \"#f0f921\"]], \"type\": \"surface\"}], \"table\": [{\"cells\": {\"fill\": {\"color\": \"#EBF0F8\"}, \"line\": {\"color\": \"white\"}}, \"header\": {\"fill\": {\"color\": \"#C8D4E3\"}, \"line\": {\"color\": \"white\"}}, \"type\": \"table\"}]}, \"layout\": {\"annotationdefaults\": {\"arrowcolor\": \"#2a3f5f\", \"arrowhead\": 0, \"arrowwidth\": 1}, \"coloraxis\": {\"colorbar\": {\"outlinewidth\": 0, \"ticks\": \"\"}}, \"colorscale\": {\"diverging\": [[0, \"#8e0152\"], [0.1, \"#c51b7d\"], [0.2, \"#de77ae\"], [0.3, \"#f1b6da\"], [0.4, \"#fde0ef\"], [0.5, \"#f7f7f7\"], [0.6, \"#e6f5d0\"], [0.7, \"#b8e186\"], [0.8, \"#7fbc41\"], [0.9, \"#4d9221\"], [1, \"#276419\"]], \"sequential\": [[0.0, \"#0d0887\"], [0.1111111111111111, \"#46039f\"], [0.2222222222222222, \"#7201a8\"], [0.3333333333333333, \"#9c179e\"], [0.4444444444444444, \"#bd3786\"], [0.5555555555555556, \"#d8576b\"], [0.6666666666666666, \"#ed7953\"], [0.7777777777777778, \"#fb9f3a\"], [0.8888888888888888, \"#fdca26\"], [1.0, \"#f0f921\"]], \"sequentialminus\": [[0.0, \"#0d0887\"], [0.1111111111111111, \"#46039f\"], [0.2222222222222222, \"#7201a8\"], [0.3333333333333333, \"#9c179e\"], [0.4444444444444444, \"#bd3786\"], [0.5555555555555556, \"#d8576b\"], [0.6666666666666666, \"#ed7953\"], [0.7777777777777778, \"#fb9f3a\"], [0.8888888888888888, \"#fdca26\"], [1.0, \"#f0f921\"]]}, \"colorway\": [\"#636efa\", \"#EF553B\", \"#00cc96\", \"#ab63fa\", \"#FFA15A\", \"#19d3f3\", \"#FF6692\", \"#B6E880\", \"#FF97FF\", \"#FECB52\"], \"font\": {\"color\": \"#2a3f5f\"}, \"geo\": {\"bgcolor\": \"white\", \"lakecolor\": \"white\", \"landcolor\": \"#E5ECF6\", \"showlakes\": true, \"showland\": true, \"subunitcolor\": \"white\"}, \"hoverlabel\": {\"align\": \"left\"}, \"hovermode\": \"closest\", \"mapbox\": {\"style\": \"light\"}, \"paper_bgcolor\": \"white\", \"plot_bgcolor\": \"#E5ECF6\", \"polar\": {\"angularaxis\": {\"gridcolor\": \"white\", \"linecolor\": \"white\", \"ticks\": \"\"}, \"bgcolor\": \"#E5ECF6\", \"radialaxis\": {\"gridcolor\": \"white\", \"linecolor\": \"white\", \"ticks\": \"\"}}, \"scene\": {\"xaxis\": {\"backgroundcolor\": \"#E5ECF6\", \"gridcolor\": \"white\", \"gridwidth\": 2, \"linecolor\": \"white\", \"showbackground\": true, \"ticks\": \"\", \"zerolinecolor\": \"white\"}, \"yaxis\": {\"backgroundcolor\": \"#E5ECF6\", \"gridcolor\": \"white\", \"gridwidth\": 2, \"linecolor\": \"white\", \"showbackground\": true, \"ticks\": \"\", \"zerolinecolor\": \"white\"}, \"zaxis\": {\"backgroundcolor\": \"#E5ECF6\", \"gridcolor\": \"white\", \"gridwidth\": 2, \"linecolor\": \"white\", \"showbackground\": true, \"ticks\": \"\", \"zerolinecolor\": \"white\"}}, \"shapedefaults\": {\"line\": {\"color\": \"#2a3f5f\"}}, \"ternary\": {\"aaxis\": {\"gridcolor\": \"white\", \"linecolor\": \"white\", \"ticks\": \"\"}, \"baxis\": {\"gridcolor\": \"white\", \"linecolor\": \"white\", \"ticks\": \"\"}, \"bgcolor\": \"#E5ECF6\", \"caxis\": {\"gridcolor\": \"white\", \"linecolor\": \"white\", \"ticks\": \"\"}}, \"title\": {\"x\": 0.05}, \"xaxis\": {\"automargin\": true, \"gridcolor\": \"white\", \"linecolor\": \"white\", \"ticks\": \"\", \"title\": {\"standoff\": 15}, \"zerolinecolor\": \"white\", \"zerolinewidth\": 2}, \"yaxis\": {\"automargin\": true, \"gridcolor\": \"white\", \"linecolor\": \"white\", \"ticks\": \"\", \"title\": {\"standoff\": 15}, \"zerolinecolor\": \"white\", \"zerolinewidth\": 2}}}, \"title\": {\"text\": \"Total count of regions\"}, \"xaxis\": {\"title\": {\"text\": \"Regions\"}}, \"yaxis\": {\"title\": {\"text\": \"Count of regions\"}}},\n",
              "                        {\"responsive\": true}\n",
              "                    ).then(function(){\n",
              "                            \n",
              "var gd = document.getElementById('7f254eb3-de70-4d5c-bbf8-35f885ca0ab1');\n",
              "var x = new MutationObserver(function (mutations, observer) {{\n",
              "        var display = window.getComputedStyle(gd).display;\n",
              "        if (!display || display === 'none') {{\n",
              "            console.log([gd, 'removed!']);\n",
              "            Plotly.purge(gd);\n",
              "            observer.disconnect();\n",
              "        }}\n",
              "}});\n",
              "\n",
              "// Listen for the removal of the full notebook cells\n",
              "var notebookContainer = gd.closest('#notebook-container');\n",
              "if (notebookContainer) {{\n",
              "    x.observe(notebookContainer, {childList: true});\n",
              "}}\n",
              "\n",
              "// Listen for the clearing of the current output cell\n",
              "var outputEl = gd.closest('.output');\n",
              "if (outputEl) {{\n",
              "    x.observe(outputEl, {childList: true});\n",
              "}}\n",
              "\n",
              "                        })\n",
              "                };\n",
              "                });\n",
              "            </script>\n",
              "        </div>"
            ],
            "application/vnd.plotly.v1+json": {
              "data": [
                {
                  "x": [
                    "Mitte",
                    "Kreuzberg",
                    "Köpenick",
                    "Wilmersdorf",
                    "Kreuzberg",
                    "Köpenick",
                    "Mitte",
                    "Charlottenburg",
                    "Friedrichsfelde",
                    "Tiergarten",
                    "Mitte",
                    "Kreuzberg",
                    "Mitte",
                    "Kreuzberg",
                    "Tiergarten",
                    "Mitte",
                    "Friedrichsfelde",
                    "Köpenick",
                    "Friedrichsfelde",
                    "Mitte",
                    "Mitte",
                    "Köpenick",
                    "Prenzlauer",
                    "Tiergarten",
                    "Prenzlauer",
                    "Tiergarten",
                    "Mitte",
                    "Köpenick",
                    "Charlottenburg",
                    "Charlottenburg",
                    "Tiergarten",
                    "Charlottenburg",
                    "Tiergarten",
                    "Mitte",
                    "Mitte",
                    "Wilmersdorf",
                    "Tiergarten",
                    "Charlottenburg",
                    "Wedding",
                    "Charlottenburg",
                    "Tiergarten",
                    "Tiergarten",
                    "Tiergarten",
                    "Mitte",
                    "Mitte",
                    "Neukölln",
                    "Wedding",
                    "Neukölln",
                    "Neukölln",
                    "Wedding",
                    "Wedding",
                    "Prenzlauer",
                    "Prenzlauer",
                    "Charlottenburg",
                    "Prenzlauer",
                    "Charlottenburg",
                    "Tiergarten",
                    "Wedding",
                    "Tiergarten",
                    "Charlottenburg",
                    "Prenzlauer",
                    "Mitte",
                    "Charlottenburg",
                    "Mitte",
                    "Prenzlauer",
                    "Charlottenburg",
                    "Mitte",
                    "Friedrichsfelde",
                    "Tiergarten",
                    "Mitte",
                    "Wedding",
                    "Neukölln",
                    "Tiergarten",
                    "Tiergarten",
                    "Mitte",
                    "Prenzlauer",
                    "Kreuzberg",
                    "Köpenick",
                    "Kreuzberg",
                    "Wedding",
                    "Tiergarten",
                    "Köpenick",
                    "Kreuzberg",
                    "Charlottenburg",
                    "Neukölln",
                    "Charlottenburg",
                    "Wilmersdorf",
                    "Mitte",
                    "Mitte",
                    "Tiergarten",
                    "Mitte",
                    "Charlottenburg",
                    "Mitte",
                    "Mitte",
                    "Wilmersdorf",
                    "Mitte",
                    "Mitte",
                    "Wedding",
                    "Charlottenburg",
                    "Neukölln",
                    "Prenzlauer",
                    "Wilmersdorf",
                    "Prenzlauer",
                    "Tiergarten",
                    "Prenzlauer",
                    "Mitte",
                    "Prenzlauer",
                    "Prenzlauer",
                    "Neukölln",
                    "Tiergarten",
                    "Neukölln",
                    "Mitte",
                    "Kreuzberg",
                    "Mitte",
                    "Köpenick",
                    "Charlottenburg",
                    "Wilmersdorf",
                    "Mitte",
                    "Mitte",
                    "Prenzlauer",
                    "Tiergarten",
                    "Charlottenburg",
                    "Tiergarten",
                    "Wilmersdorf",
                    "Wilmersdorf",
                    "Tiergarten",
                    "Neukölln",
                    "Köpenick",
                    "Wilmersdorf",
                    "Tiergarten",
                    "Mitte",
                    "Tiergarten",
                    "Mitte",
                    "Tiergarten",
                    "Tiergarten",
                    "Tiergarten",
                    "Tiergarten",
                    "Kreuzberg",
                    "Tiergarten",
                    "Charlottenburg",
                    "Charlottenburg",
                    "Tiergarten",
                    "Köpenick",
                    "Mitte",
                    "Charlottenburg",
                    "Charlottenburg",
                    "Köpenick",
                    "Charlottenburg",
                    "Prenzlauer",
                    "Charlottenburg",
                    "Mitte",
                    "Kreuzberg",
                    "Wedding",
                    "Charlottenburg",
                    "Mitte",
                    "Tiergarten",
                    "Mitte",
                    "Tiergarten",
                    "Mitte",
                    "Kreuzberg",
                    "Mitte",
                    "Köpenick",
                    "Tiergarten",
                    "Wedding",
                    "Köpenick",
                    "Köpenick",
                    "Köpenick",
                    "Tiergarten",
                    "Neukölln",
                    "Friedrichsfelde",
                    "Köpenick",
                    "Köpenick",
                    "Köpenick",
                    "Mitte",
                    "Wedding",
                    "Tiergarten",
                    "Wilmersdorf",
                    "Tiergarten",
                    "Wedding",
                    "Tiergarten",
                    "Mitte",
                    "Tiergarten",
                    "Wedding",
                    "Mitte",
                    "Tiergarten",
                    "Tiergarten",
                    "Kreuzberg",
                    "Mitte",
                    "Wilmersdorf",
                    "Wilmersdorf",
                    "Tiergarten",
                    "Mitte",
                    "Tiergarten",
                    "Tiergarten",
                    "Mitte",
                    "Prenzlauer",
                    "Mitte",
                    "Prenzlauer",
                    "Mitte",
                    "Tiergarten",
                    "Tiergarten",
                    "Köpenick",
                    "Kreuzberg",
                    "Kreuzberg",
                    "Neukölln",
                    "Neukölln",
                    "Neukölln",
                    "Wilmersdorf",
                    "Wilmersdorf",
                    "Köpenick",
                    "Mitte",
                    "Tiergarten",
                    "Mitte",
                    "Friedrichsfelde",
                    "Wilmersdorf",
                    "Charlottenburg",
                    "Charlottenburg",
                    "Mitte",
                    "Charlottenburg",
                    "Mitte",
                    "Mitte",
                    "Charlottenburg",
                    "Charlottenburg",
                    "Charlottenburg",
                    "Tiergarten",
                    "Tiergarten",
                    "Wilmersdorf",
                    "Charlottenburg",
                    "Wedding",
                    "Charlottenburg",
                    "Wedding",
                    "Tiergarten",
                    "Prenzlauer",
                    "Neukölln",
                    "Wedding",
                    "Tiergarten",
                    "Charlottenburg",
                    "Neukölln",
                    "Tiergarten",
                    "Kreuzberg",
                    "Charlottenburg",
                    "Tiergarten",
                    "Mitte",
                    "Mitte",
                    "Tiergarten",
                    "Charlottenburg",
                    "Charlottenburg",
                    "Mitte",
                    "Köpenick",
                    "Mitte",
                    "Charlottenburg",
                    "Mitte",
                    "Mitte",
                    "Köpenick",
                    "Kreuzberg",
                    "Wilmersdorf",
                    "Tiergarten",
                    "Wilmersdorf",
                    "Friedrichsfelde",
                    "Charlottenburg",
                    "Friedrichsfelde",
                    "Tiergarten",
                    "Charlottenburg",
                    "Tiergarten",
                    "Neukölln",
                    "Neukölln",
                    "Charlottenburg",
                    "Neukölln",
                    "Mitte",
                    "Mitte",
                    "Köpenick",
                    "Charlottenburg",
                    "Mitte",
                    "Köpenick",
                    "Neukölln",
                    "Köpenick",
                    "Wilmersdorf",
                    "Mitte",
                    "Wedding",
                    "Mitte",
                    "Wilmersdorf",
                    "Mitte",
                    "Friedrichsfelde",
                    "Köpenick",
                    "Wilmersdorf",
                    "Mitte",
                    "Mitte",
                    "Mitte",
                    "Mitte",
                    "Tiergarten",
                    "Mitte",
                    "Wedding",
                    "Wedding",
                    "Tiergarten",
                    "Wedding",
                    "Wedding",
                    "Wedding",
                    "Wilmersdorf",
                    "Charlottenburg",
                    "Wilmersdorf",
                    "Wedding",
                    "Neukölln",
                    "Wilmersdorf",
                    "Charlottenburg",
                    "Kreuzberg",
                    "Mitte",
                    "Mitte",
                    "Prenzlauer",
                    "Tiergarten",
                    "Prenzlauer",
                    "Tiergarten",
                    "Charlottenburg",
                    "Kreuzberg",
                    "Tiergarten",
                    "Prenzlauer",
                    "Kreuzberg",
                    "Wedding",
                    "Wilmersdorf",
                    "Neukölln",
                    "Köpenick",
                    "Köpenick",
                    "Köpenick",
                    "Wilmersdorf",
                    "Kreuzberg",
                    "Wedding",
                    "Köpenick",
                    "Kreuzberg",
                    "Charlottenburg",
                    "Mitte",
                    "Charlottenburg",
                    "Charlottenburg",
                    "Tiergarten",
                    "Mitte",
                    "Mitte",
                    "Mitte",
                    "Neukölln",
                    "Prenzlauer",
                    "Neukölln",
                    "Mitte",
                    "Mitte",
                    "Köpenick",
                    "Kreuzberg",
                    "Mitte",
                    "Neukölln",
                    "Tiergarten",
                    "Charlottenburg",
                    "Wilmersdorf",
                    "Neukölln",
                    "Kreuzberg",
                    "Wilmersdorf",
                    "Tiergarten",
                    "Tiergarten",
                    "Mitte",
                    "Prenzlauer",
                    "Charlottenburg",
                    "Mitte",
                    "Tiergarten",
                    "Wilmersdorf",
                    "Wilmersdorf",
                    "Tiergarten",
                    "Tiergarten",
                    "Köpenick",
                    "Mitte",
                    "Tiergarten",
                    "Charlottenburg",
                    "Prenzlauer",
                    "Tiergarten",
                    "Tiergarten",
                    "Charlottenburg",
                    "Tiergarten",
                    "Wilmersdorf",
                    "Wilmersdorf",
                    "Charlottenburg",
                    "Prenzlauer",
                    "Köpenick",
                    "Köpenick",
                    "Friedrichsfelde",
                    "Wilmersdorf",
                    "Friedrichsfelde",
                    "Kreuzberg",
                    "Friedrichsfelde",
                    "Friedrichsfelde",
                    "Friedrichsfelde",
                    "Friedrichsfelde",
                    "Friedrichsfelde",
                    "Prenzlauer",
                    "Mitte",
                    "Neukölln",
                    "Wilmersdorf",
                    "Wilmersdorf",
                    "Köpenick",
                    "Wedding",
                    "Mitte",
                    "Mitte",
                    "Mitte",
                    "Neukölln",
                    "Wilmersdorf",
                    "Wedding",
                    "Charlottenburg",
                    "Prenzlauer",
                    "Charlottenburg",
                    "Kreuzberg",
                    "Wedding",
                    "Mitte",
                    "Prenzlauer",
                    "Mitte",
                    "Kreuzberg",
                    "Köpenick",
                    "Neukölln",
                    "Neukölln",
                    "Charlottenburg",
                    "Neukölln",
                    "Friedrichsfelde",
                    "Charlottenburg",
                    "Friedrichsfelde",
                    "Friedrichsfelde",
                    "Neukölln",
                    "Friedrichsfelde",
                    "Friedrichsfelde",
                    "Charlottenburg",
                    "Tiergarten",
                    "Wilmersdorf",
                    "Tiergarten",
                    "Kreuzberg",
                    "Friedrichsfelde",
                    "Friedrichsfelde",
                    "Friedrichsfelde",
                    "Friedrichsfelde",
                    "Neukölln",
                    "Friedrichsfelde",
                    "Neukölln",
                    "Neukölln",
                    "Neukölln",
                    "Neukölln",
                    "Neukölln",
                    "Tiergarten",
                    "Tiergarten",
                    "Prenzlauer",
                    "Mitte",
                    "Tiergarten",
                    "Tiergarten",
                    "Tiergarten",
                    "Tiergarten",
                    "Kreuzberg",
                    "Mitte",
                    "Wedding",
                    "Mitte",
                    "Friedrichsfelde",
                    "Tiergarten",
                    "Charlottenburg",
                    "Köpenick",
                    "Wilmersdorf",
                    "Köpenick",
                    "Kreuzberg",
                    "Charlottenburg",
                    "Köpenick",
                    "Neukölln",
                    "Mitte",
                    "Köpenick",
                    "Prenzlauer",
                    "Köpenick",
                    "Wilmersdorf",
                    "Tiergarten",
                    "Mitte",
                    "Mitte",
                    "Neukölln",
                    "Tiergarten",
                    "Prenzlauer",
                    "Friedrichsfelde",
                    "Tiergarten",
                    "Mitte",
                    "Friedrichsfelde",
                    "Tiergarten",
                    "Charlottenburg",
                    "Tiergarten",
                    "Tiergarten",
                    "Charlottenburg",
                    "Tiergarten",
                    "Mitte",
                    "Neukölln",
                    "Friedrichsfelde",
                    "Charlottenburg",
                    "Wilmersdorf",
                    "Friedrichsfelde",
                    "Köpenick",
                    "Köpenick",
                    "Köpenick",
                    "Mitte",
                    "Prenzlauer",
                    "Köpenick",
                    "Charlottenburg",
                    "Köpenick",
                    "Mitte",
                    "Neukölln",
                    "Friedrichsfelde",
                    "Kreuzberg",
                    "Köpenick",
                    "Köpenick",
                    "Tiergarten",
                    "Charlottenburg",
                    "Kreuzberg",
                    "Prenzlauer",
                    "Tiergarten",
                    "Kreuzberg",
                    "Tiergarten",
                    "Tiergarten",
                    "Neukölln",
                    "Mitte",
                    "Tiergarten",
                    "Mitte",
                    "Mitte",
                    "Charlottenburg",
                    "Köpenick",
                    "Köpenick",
                    "Neukölln",
                    "Neukölln",
                    "Neukölln",
                    "Köpenick",
                    "Mitte",
                    "Charlottenburg",
                    "Kreuzberg",
                    "Wilmersdorf",
                    "Kreuzberg",
                    "Charlottenburg",
                    "Friedrichsfelde",
                    "Mitte",
                    "Prenzlauer",
                    "Tiergarten",
                    "Neukölln",
                    "Friedrichsfelde",
                    "Tiergarten",
                    "Neukölln",
                    "Tiergarten",
                    "Tiergarten",
                    "Friedrichsfelde",
                    "Prenzlauer",
                    "Wilmersdorf",
                    "Friedrichsfelde",
                    "Charlottenburg",
                    "Tiergarten",
                    "Friedrichsfelde",
                    "Friedrichsfelde",
                    "Friedrichsfelde",
                    "Mitte",
                    "Neukölln",
                    "Mitte",
                    "Friedrichsfelde",
                    "Tiergarten",
                    "Kreuzberg",
                    "Kreuzberg",
                    "Friedrichsfelde",
                    "Neukölln",
                    "Friedrichsfelde",
                    "Kreuzberg",
                    "Neukölln",
                    "Prenzlauer",
                    "Tiergarten",
                    "Prenzlauer",
                    "Neukölln",
                    "Prenzlauer",
                    "Tiergarten",
                    "Mitte",
                    "Mitte",
                    "Neukölln",
                    "Mitte",
                    "Mitte",
                    "Neukölln",
                    "Mitte",
                    "Tiergarten",
                    "Mitte",
                    "Wilmersdorf",
                    "Friedrichsfelde",
                    "Mitte",
                    "Mitte",
                    "Tiergarten",
                    "Tiergarten",
                    "Neukölln",
                    "Tiergarten",
                    "Mitte",
                    "Tiergarten",
                    "Tiergarten",
                    "Tiergarten",
                    "Tiergarten",
                    "Prenzlauer",
                    "Tiergarten",
                    "Tiergarten",
                    "Wedding",
                    "Tiergarten",
                    "Mitte",
                    "Wilmersdorf",
                    "Mitte",
                    "Mitte",
                    "Mitte",
                    "Charlottenburg",
                    "Mitte",
                    "Charlottenburg",
                    "Mitte",
                    "Friedrichsfelde",
                    "Friedrichsfelde",
                    "Friedrichsfelde",
                    "Tiergarten",
                    "Kreuzberg",
                    "Neukölln",
                    "Friedrichsfelde",
                    "Friedrichsfelde",
                    "Wedding",
                    "Tiergarten",
                    "Mitte",
                    "Mitte",
                    "Tiergarten",
                    "Tiergarten",
                    "Tiergarten",
                    "Charlottenburg",
                    "Tiergarten",
                    "Friedrichsfelde",
                    "Wilmersdorf",
                    "Friedrichsfelde",
                    "Tiergarten",
                    "Friedrichsfelde",
                    "Tiergarten",
                    "Tiergarten",
                    "Tiergarten",
                    "Tiergarten",
                    "Kreuzberg",
                    "Wilmersdorf",
                    "Tiergarten",
                    "Tiergarten",
                    "Tiergarten",
                    "Tiergarten",
                    "Wilmersdorf",
                    "Tiergarten",
                    "Tiergarten",
                    "Tiergarten",
                    "Mitte",
                    "Tiergarten",
                    "Tiergarten",
                    "Charlottenburg",
                    "Mitte",
                    "Tiergarten",
                    "Tiergarten",
                    "Mitte",
                    "Charlottenburg",
                    "Köpenick",
                    "Tiergarten",
                    "Mitte",
                    "Mitte",
                    "Mitte",
                    "Neukölln",
                    "Mitte",
                    "Tiergarten",
                    "Mitte",
                    "Kreuzberg",
                    "Tiergarten",
                    "Mitte",
                    "Tiergarten",
                    "Mitte",
                    "Charlottenburg",
                    "Mitte",
                    "Tiergarten",
                    "Mitte",
                    "Tiergarten",
                    "Prenzlauer",
                    "Tiergarten",
                    "Mitte",
                    "Tiergarten",
                    "Neukölln",
                    "Tiergarten",
                    "Tiergarten",
                    "Tiergarten",
                    "Tiergarten",
                    "Tiergarten",
                    "Tiergarten",
                    "Tiergarten",
                    "Wedding",
                    "Prenzlauer",
                    "Wilmersdorf",
                    "Tiergarten",
                    "Tiergarten",
                    "Tiergarten",
                    "Tiergarten",
                    "Mitte",
                    "Mitte",
                    "Mitte",
                    "Wilmersdorf",
                    "Tiergarten",
                    "Tiergarten",
                    "Charlottenburg",
                    "Charlottenburg",
                    "Tiergarten",
                    "Tiergarten",
                    "Charlottenburg",
                    "Prenzlauer",
                    "Charlottenburg",
                    "Mitte",
                    "Mitte",
                    "Tiergarten",
                    "Charlottenburg",
                    "Kreuzberg",
                    "Tiergarten",
                    "Köpenick",
                    "Mitte",
                    "Tiergarten",
                    "Tiergarten",
                    "Mitte",
                    "Prenzlauer",
                    "Tiergarten",
                    "Tiergarten",
                    "Tiergarten",
                    "Tiergarten",
                    "Prenzlauer",
                    "Prenzlauer",
                    "Prenzlauer",
                    "Prenzlauer",
                    "Mitte",
                    "Wilmersdorf",
                    "Mitte",
                    "Kreuzberg",
                    "Mitte",
                    "Köpenick",
                    "Tiergarten",
                    "Kreuzberg",
                    "Mitte",
                    "Prenzlauer",
                    "Wilmersdorf",
                    "Kreuzberg",
                    "Kreuzberg",
                    "Mitte",
                    "Tiergarten",
                    "Kreuzberg",
                    "Mitte",
                    "Mitte",
                    "Tiergarten",
                    "Prenzlauer",
                    "Mitte",
                    "Wilmersdorf",
                    "Mitte",
                    "Mitte",
                    "Kreuzberg",
                    "Prenzlauer",
                    "Friedrichsfelde",
                    "Wedding",
                    "Mitte",
                    "Prenzlauer",
                    "Wedding",
                    "Prenzlauer",
                    "Wedding",
                    "Wedding",
                    "Wedding",
                    "Mitte",
                    "Tiergarten",
                    "Wedding",
                    "Mitte",
                    "Tiergarten",
                    "Wedding",
                    "Mitte",
                    "Prenzlauer",
                    "Wedding",
                    "Tiergarten",
                    "Neukölln",
                    "Wedding",
                    "Wedding",
                    "Wilmersdorf",
                    "Köpenick",
                    "Neukölln"
                  ],
                  "type": "bar",
                  "name": "Region"
                }
              ],
              "config": {
                "plotlyServerURL": "https://plot.ly",
                "linkText": "Export to plot.ly",
                "showLink": false
              },
              "layout": {
                "barmode": "relative",
                "yaxis": {
                  "title": {
                    "text": "Count of regions"
                  }
                },
                "xaxis": {
                  "title": {
                    "text": "Regions"
                  }
                },
                "template": {
                  "layout": {
                    "shapedefaults": {
                      "line": {
                        "color": "#2a3f5f"
                      }
                    },
                    "polar": {
                      "radialaxis": {
                        "ticks": "",
                        "gridcolor": "white",
                        "linecolor": "white"
                      },
                      "bgcolor": "#E5ECF6",
                      "angularaxis": {
                        "ticks": "",
                        "gridcolor": "white",
                        "linecolor": "white"
                      }
                    },
                    "colorway": [
                      "#636efa",
                      "#EF553B",
                      "#00cc96",
                      "#ab63fa",
                      "#FFA15A",
                      "#19d3f3",
                      "#FF6692",
                      "#B6E880",
                      "#FF97FF",
                      "#FECB52"
                    ],
                    "xaxis": {
                      "automargin": true,
                      "title": {
                        "standoff": 15
                      },
                      "zerolinewidth": 2,
                      "ticks": "",
                      "zerolinecolor": "white",
                      "gridcolor": "white",
                      "linecolor": "white"
                    },
                    "colorscale": {
                      "diverging": [
                        [
                          0,
                          "#8e0152"
                        ],
                        [
                          0.1,
                          "#c51b7d"
                        ],
                        [
                          0.2,
                          "#de77ae"
                        ],
                        [
                          0.3,
                          "#f1b6da"
                        ],
                        [
                          0.4,
                          "#fde0ef"
                        ],
                        [
                          0.5,
                          "#f7f7f7"
                        ],
                        [
                          0.6,
                          "#e6f5d0"
                        ],
                        [
                          0.7,
                          "#b8e186"
                        ],
                        [
                          0.8,
                          "#7fbc41"
                        ],
                        [
                          0.9,
                          "#4d9221"
                        ],
                        [
                          1,
                          "#276419"
                        ]
                      ],
                      "sequential": [
                        [
                          0,
                          "#0d0887"
                        ],
                        [
                          0.1111111111111111,
                          "#46039f"
                        ],
                        [
                          0.2222222222222222,
                          "#7201a8"
                        ],
                        [
                          0.3333333333333333,
                          "#9c179e"
                        ],
                        [
                          0.4444444444444444,
                          "#bd3786"
                        ],
                        [
                          0.5555555555555556,
                          "#d8576b"
                        ],
                        [
                          0.6666666666666666,
                          "#ed7953"
                        ],
                        [
                          0.7777777777777778,
                          "#fb9f3a"
                        ],
                        [
                          0.8888888888888888,
                          "#fdca26"
                        ],
                        [
                          1,
                          "#f0f921"
                        ]
                      ],
                      "sequentialminus": [
                        [
                          0,
                          "#0d0887"
                        ],
                        [
                          0.1111111111111111,
                          "#46039f"
                        ],
                        [
                          0.2222222222222222,
                          "#7201a8"
                        ],
                        [
                          0.3333333333333333,
                          "#9c179e"
                        ],
                        [
                          0.4444444444444444,
                          "#bd3786"
                        ],
                        [
                          0.5555555555555556,
                          "#d8576b"
                        ],
                        [
                          0.6666666666666666,
                          "#ed7953"
                        ],
                        [
                          0.7777777777777778,
                          "#fb9f3a"
                        ],
                        [
                          0.8888888888888888,
                          "#fdca26"
                        ],
                        [
                          1,
                          "#f0f921"
                        ]
                      ]
                    },
                    "paper_bgcolor": "white",
                    "plot_bgcolor": "#E5ECF6",
                    "title": {
                      "x": 0.05
                    },
                    "scene": {
                      "zaxis": {
                        "backgroundcolor": "#E5ECF6",
                        "ticks": "",
                        "gridwidth": 2,
                        "showbackground": true,
                        "zerolinecolor": "white",
                        "gridcolor": "white",
                        "linecolor": "white"
                      },
                      "xaxis": {
                        "backgroundcolor": "#E5ECF6",
                        "ticks": "",
                        "gridwidth": 2,
                        "showbackground": true,
                        "zerolinecolor": "white",
                        "gridcolor": "white",
                        "linecolor": "white"
                      },
                      "yaxis": {
                        "backgroundcolor": "#E5ECF6",
                        "ticks": "",
                        "gridwidth": 2,
                        "showbackground": true,
                        "zerolinecolor": "white",
                        "gridcolor": "white",
                        "linecolor": "white"
                      }
                    },
                    "yaxis": {
                      "automargin": true,
                      "title": {
                        "standoff": 15
                      },
                      "zerolinewidth": 2,
                      "ticks": "",
                      "zerolinecolor": "white",
                      "gridcolor": "white",
                      "linecolor": "white"
                    },
                    "annotationdefaults": {
                      "arrowwidth": 1,
                      "arrowhead": 0,
                      "arrowcolor": "#2a3f5f"
                    },
                    "hoverlabel": {
                      "align": "left"
                    },
                    "ternary": {
                      "bgcolor": "#E5ECF6",
                      "baxis": {
                        "ticks": "",
                        "gridcolor": "white",
                        "linecolor": "white"
                      },
                      "caxis": {
                        "ticks": "",
                        "gridcolor": "white",
                        "linecolor": "white"
                      },
                      "aaxis": {
                        "ticks": "",
                        "gridcolor": "white",
                        "linecolor": "white"
                      }
                    },
                    "mapbox": {
                      "style": "light"
                    },
                    "hovermode": "closest",
                    "font": {
                      "color": "#2a3f5f"
                    },
                    "geo": {
                      "showland": true,
                      "landcolor": "#E5ECF6",
                      "showlakes": true,
                      "bgcolor": "white",
                      "subunitcolor": "white",
                      "lakecolor": "white"
                    },
                    "coloraxis": {
                      "colorbar": {
                        "outlinewidth": 0,
                        "ticks": ""
                      }
                    }
                  },
                  "data": {
                    "mesh3d": [
                      {
                        "colorbar": {
                          "outlinewidth": 0,
                          "ticks": ""
                        },
                        "type": "mesh3d"
                      }
                    ],
                    "scattercarpet": [
                      {
                        "marker": {
                          "colorbar": {
                            "outlinewidth": 0,
                            "ticks": ""
                          }
                        },
                        "type": "scattercarpet"
                      }
                    ],
                    "pie": [
                      {
                        "automargin": true,
                        "type": "pie"
                      }
                    ],
                    "surface": [
                      {
                        "colorbar": {
                          "outlinewidth": 0,
                          "ticks": ""
                        },
                        "type": "surface",
                        "colorscale": [
                          [
                            0,
                            "#0d0887"
                          ],
                          [
                            0.1111111111111111,
                            "#46039f"
                          ],
                          [
                            0.2222222222222222,
                            "#7201a8"
                          ],
                          [
                            0.3333333333333333,
                            "#9c179e"
                          ],
                          [
                            0.4444444444444444,
                            "#bd3786"
                          ],
                          [
                            0.5555555555555556,
                            "#d8576b"
                          ],
                          [
                            0.6666666666666666,
                            "#ed7953"
                          ],
                          [
                            0.7777777777777778,
                            "#fb9f3a"
                          ],
                          [
                            0.8888888888888888,
                            "#fdca26"
                          ],
                          [
                            1,
                            "#f0f921"
                          ]
                        ]
                      }
                    ],
                    "table": [
                      {
                        "header": {
                          "line": {
                            "color": "white"
                          },
                          "fill": {
                            "color": "#C8D4E3"
                          }
                        },
                        "cells": {
                          "line": {
                            "color": "white"
                          },
                          "fill": {
                            "color": "#EBF0F8"
                          }
                        },
                        "type": "table"
                      }
                    ],
                    "scatterpolargl": [
                      {
                        "marker": {
                          "colorbar": {
                            "outlinewidth": 0,
                            "ticks": ""
                          }
                        },
                        "type": "scatterpolargl"
                      }
                    ],
                    "contour": [
                      {
                        "colorbar": {
                          "outlinewidth": 0,
                          "ticks": ""
                        },
                        "type": "contour",
                        "colorscale": [
                          [
                            0,
                            "#0d0887"
                          ],
                          [
                            0.1111111111111111,
                            "#46039f"
                          ],
                          [
                            0.2222222222222222,
                            "#7201a8"
                          ],
                          [
                            0.3333333333333333,
                            "#9c179e"
                          ],
                          [
                            0.4444444444444444,
                            "#bd3786"
                          ],
                          [
                            0.5555555555555556,
                            "#d8576b"
                          ],
                          [
                            0.6666666666666666,
                            "#ed7953"
                          ],
                          [
                            0.7777777777777778,
                            "#fb9f3a"
                          ],
                          [
                            0.8888888888888888,
                            "#fdca26"
                          ],
                          [
                            1,
                            "#f0f921"
                          ]
                        ]
                      }
                    ],
                    "carpet": [
                      {
                        "type": "carpet",
                        "baxis": {
                          "minorgridcolor": "white",
                          "gridcolor": "white",
                          "linecolor": "white",
                          "endlinecolor": "#2a3f5f",
                          "startlinecolor": "#2a3f5f"
                        },
                        "aaxis": {
                          "minorgridcolor": "white",
                          "gridcolor": "white",
                          "linecolor": "white",
                          "endlinecolor": "#2a3f5f",
                          "startlinecolor": "#2a3f5f"
                        }
                      }
                    ],
                    "contourcarpet": [
                      {
                        "colorbar": {
                          "outlinewidth": 0,
                          "ticks": ""
                        },
                        "type": "contourcarpet"
                      }
                    ],
                    "heatmap": [
                      {
                        "colorbar": {
                          "outlinewidth": 0,
                          "ticks": ""
                        },
                        "type": "heatmap",
                        "colorscale": [
                          [
                            0,
                            "#0d0887"
                          ],
                          [
                            0.1111111111111111,
                            "#46039f"
                          ],
                          [
                            0.2222222222222222,
                            "#7201a8"
                          ],
                          [
                            0.3333333333333333,
                            "#9c179e"
                          ],
                          [
                            0.4444444444444444,
                            "#bd3786"
                          ],
                          [
                            0.5555555555555556,
                            "#d8576b"
                          ],
                          [
                            0.6666666666666666,
                            "#ed7953"
                          ],
                          [
                            0.7777777777777778,
                            "#fb9f3a"
                          ],
                          [
                            0.8888888888888888,
                            "#fdca26"
                          ],
                          [
                            1,
                            "#f0f921"
                          ]
                        ]
                      }
                    ],
                    "scattermapbox": [
                      {
                        "marker": {
                          "colorbar": {
                            "outlinewidth": 0,
                            "ticks": ""
                          }
                        },
                        "type": "scattermapbox"
                      }
                    ],
                    "scatter3d": [
                      {
                        "marker": {
                          "colorbar": {
                            "outlinewidth": 0,
                            "ticks": ""
                          }
                        },
                        "line": {
                          "colorbar": {
                            "outlinewidth": 0,
                            "ticks": ""
                          }
                        },
                        "type": "scatter3d"
                      }
                    ],
                    "scattergl": [
                      {
                        "marker": {
                          "colorbar": {
                            "outlinewidth": 0,
                            "ticks": ""
                          }
                        },
                        "type": "scattergl"
                      }
                    ],
                    "scatterternary": [
                      {
                        "marker": {
                          "colorbar": {
                            "outlinewidth": 0,
                            "ticks": ""
                          }
                        },
                        "type": "scatterternary"
                      }
                    ],
                    "histogram": [
                      {
                        "marker": {
                          "colorbar": {
                            "outlinewidth": 0,
                            "ticks": ""
                          }
                        },
                        "type": "histogram"
                      }
                    ],
                    "heatmapgl": [
                      {
                        "colorbar": {
                          "outlinewidth": 0,
                          "ticks": ""
                        },
                        "type": "heatmapgl",
                        "colorscale": [
                          [
                            0,
                            "#0d0887"
                          ],
                          [
                            0.1111111111111111,
                            "#46039f"
                          ],
                          [
                            0.2222222222222222,
                            "#7201a8"
                          ],
                          [
                            0.3333333333333333,
                            "#9c179e"
                          ],
                          [
                            0.4444444444444444,
                            "#bd3786"
                          ],
                          [
                            0.5555555555555556,
                            "#d8576b"
                          ],
                          [
                            0.6666666666666666,
                            "#ed7953"
                          ],
                          [
                            0.7777777777777778,
                            "#fb9f3a"
                          ],
                          [
                            0.8888888888888888,
                            "#fdca26"
                          ],
                          [
                            1,
                            "#f0f921"
                          ]
                        ]
                      }
                    ],
                    "scatterpolar": [
                      {
                        "marker": {
                          "colorbar": {
                            "outlinewidth": 0,
                            "ticks": ""
                          }
                        },
                        "type": "scatterpolar"
                      }
                    ],
                    "histogram2d": [
                      {
                        "colorbar": {
                          "outlinewidth": 0,
                          "ticks": ""
                        },
                        "type": "histogram2d",
                        "colorscale": [
                          [
                            0,
                            "#0d0887"
                          ],
                          [
                            0.1111111111111111,
                            "#46039f"
                          ],
                          [
                            0.2222222222222222,
                            "#7201a8"
                          ],
                          [
                            0.3333333333333333,
                            "#9c179e"
                          ],
                          [
                            0.4444444444444444,
                            "#bd3786"
                          ],
                          [
                            0.5555555555555556,
                            "#d8576b"
                          ],
                          [
                            0.6666666666666666,
                            "#ed7953"
                          ],
                          [
                            0.7777777777777778,
                            "#fb9f3a"
                          ],
                          [
                            0.8888888888888888,
                            "#fdca26"
                          ],
                          [
                            1,
                            "#f0f921"
                          ]
                        ]
                      }
                    ],
                    "scattergeo": [
                      {
                        "marker": {
                          "colorbar": {
                            "outlinewidth": 0,
                            "ticks": ""
                          }
                        },
                        "type": "scattergeo"
                      }
                    ],
                    "bar": [
                      {
                        "marker": {
                          "line": {
                            "color": "#E5ECF6",
                            "width": 0.5
                          }
                        },
                        "type": "bar",
                        "error_x": {
                          "color": "#2a3f5f"
                        },
                        "error_y": {
                          "color": "#2a3f5f"
                        }
                      }
                    ],
                    "choropleth": [
                      {
                        "colorbar": {
                          "outlinewidth": 0,
                          "ticks": ""
                        },
                        "type": "choropleth"
                      }
                    ],
                    "parcoords": [
                      {
                        "line": {
                          "colorbar": {
                            "outlinewidth": 0,
                            "ticks": ""
                          }
                        },
                        "type": "parcoords"
                      }
                    ],
                    "barpolar": [
                      {
                        "marker": {
                          "line": {
                            "color": "#E5ECF6",
                            "width": 0.5
                          }
                        },
                        "type": "barpolar"
                      }
                    ],
                    "histogram2dcontour": [
                      {
                        "colorbar": {
                          "outlinewidth": 0,
                          "ticks": ""
                        },
                        "type": "histogram2dcontour",
                        "colorscale": [
                          [
                            0,
                            "#0d0887"
                          ],
                          [
                            0.1111111111111111,
                            "#46039f"
                          ],
                          [
                            0.2222222222222222,
                            "#7201a8"
                          ],
                          [
                            0.3333333333333333,
                            "#9c179e"
                          ],
                          [
                            0.4444444444444444,
                            "#bd3786"
                          ],
                          [
                            0.5555555555555556,
                            "#d8576b"
                          ],
                          [
                            0.6666666666666666,
                            "#ed7953"
                          ],
                          [
                            0.7777777777777778,
                            "#fb9f3a"
                          ],
                          [
                            0.8888888888888888,
                            "#fdca26"
                          ],
                          [
                            1,
                            "#f0f921"
                          ]
                        ]
                      }
                    ],
                    "scatter": [
                      {
                        "marker": {
                          "colorbar": {
                            "outlinewidth": 0,
                            "ticks": ""
                          }
                        },
                        "type": "scatter"
                      }
                    ]
                  }
                },
                "title": {
                  "text": "Total count of regions"
                }
              }
            }
          },
          "metadata": {
            "tags": []
          }
        }
      ]
    },
    {
      "cell_type": "markdown",
      "metadata": {
        "id": "qwK5iSx-9qku"
      },
      "source": [
        "## **Plot the distribution of rents in Berlin**"
      ]
    },
    {
      "cell_type": "code",
      "metadata": {
        "id": "Z38IhcleZxfU",
        "colab": {
          "base_uri": "https://localhost:8080/",
          "height": 542
        },
        "outputId": "7284828b-fc3b-4b27-d258-68798a408daa"
      },
      "source": [
        "fig = go.Figure()\n",
        "fig.add_trace(go.Scatter(y=rentals['Rent'],\n",
        "                    mode='lines',\n",
        "                    name='lines'))\n",
        "fig.show()"
      ],
      "execution_count": 24,
      "outputs": [
        {
          "output_type": "display_data",
          "data": {
            "text/html": [
              "<div>\n",
              "        \n",
              "        \n",
              "            <div id=\"4e536a6b-6bae-469a-8952-a35bd955a519\" class=\"plotly-graph-div\" style=\"height:525px; width:100%;\"></div>\n",
              "            <script type=\"text/javascript\">\n",
              "                require([\"plotly\"], function(Plotly) {\n",
              "                    window.PLOTLYENV=window.PLOTLYENV || {};\n",
              "                    \n",
              "                if (document.getElementById(\"4e536a6b-6bae-469a-8952-a35bd955a519\")) {\n",
              "                    Plotly.newPlot(\n",
              "                        '4e536a6b-6bae-469a-8952-a35bd955a519',\n",
              "                        [{\"mode\": \"lines\", \"name\": \"lines\", \"type\": \"scatter\", \"y\": [2659.0, 1200.0, 979.0, 1830.22, 2272.0, 840.0, 1509.45, 730.73, 561.93, 1789.0, 2499.0, 2328.0, 2500.0, 6450.0, 1399.65, 1505.6, 1429.1, 930.0, 868.06, 2179.0, 1829.0, 1589.0, 1831.0, 1060.0, 3103.0, 1619.0, 715.0, 1237.83, 2290.0, 1810.0, 2320.0, 2230.0, 2155.0, 2660.9, 1427.82, 3170.0, 999.0, 849.24, 658.11, 1340.0, 2433.0, 3275.0, 311.04, 3677.7, 1740.0, 1404.66, 772.0, 479.87, 1853.33, 511.15, 845.0, 2724.17, 2251.0, 3195.0, 2812.0, 976.0, 2044.85, 959.0, 850.0, 2071.9, 4500.0, 5530.0, 1049.0, 1629.0, 1640.0, 1498.0, 889.0, 1598.0, 4945.0, 1500.0, 1949.26, 1265.0, 2500.0, 1565.0, 1550.0, 1424.75, 4400.0, 1690.0, 3400.0, 1189.48, 1570.0, 1000.0, 2680.0, 2100.0, 450.0, 1520.0, 1025.0, 1790.0, 1960.0, 1610.0, 1690.0, 794.0, 1790.0, 3228.25, 2862.0, 3390.0, 1490.0, 383.46, 872.07, 900.0, 3732.64, 4288.0, 3251.66, 4500.0, 2237.78, 2000.0, 3362.41, 3664.25, 2080.0, 2227.0, 1750.0, 2879.0, 3780.0, 2320.0, 1318.0, 1209.0, 990.0, 4475.0, 1850.0, 5930.0, 2076.38, 1820.0, 1499.0, 1609.64, 1550.0, 1215.0, 1320.0, 836.0, 1455.0, 1038.0, 1615.57, 1480.0, 2244.0, 2555.0, 1095.0, 1265.0, 1633.0, 3295.0, 1368.17, 1300.0, 1300.0, 1683.0, 969.0, 1784.0, 1300.0, 990.0, 1706.81, 1300.0, 3739.46, 1388.0, 1533.0, 1883.27, 440.94, 990.0, 1490.0, 3593.17, 1240.0, 735.0, 2250.0, 1673.95, 1950.0, 919.0, 421.87, 1386.43, 719.0, 719.0, 719.0, 999.0, 1901.0, 496.13, 649.0, 895.0, 719.0, 2199.0, 583.03, 1397.0, 2999.0, 271.25, 458.91, 433.71, 1563.75, 2550.0, 670.86, 1405.0, 1266.3, 1665.0, 3000.0, 1116.0, 1703.0, 2180.0, 960.0, 2370.71, 1645.0, 773.6, 1478.0, 914.0, 3060.0, 1159.0, 1180.0, 1872.0, 1707.0, 1454.18, 737.49, 1528.25, 705.06, 605.8, 407.42, 1399.92, 1399.92, 1590.39, 1800.0, 408.78, 1465.62, 1691.0, 1625.0, 2124.29, 1510.0, 1600.0, 1410.0, 1897.2, 4192.63, 1570.0, 1470.0, 2528.86, 1800.0, 1359.33, 1480.0, 2670.0, 691.29, 1935.17, 1093.16, 2260.0, 900.23, 887.53, 621.38, 2580.0, 2124.29, 1783.89, 674.8, 435.74, 2990.0, 378.14, 1563.75, 1876.78, 4500.0, 9774.0, 1397.0, 1897.5, 1189.27, 1987.04, 2434.0, 2410.8, 2346.0, 1069.26, 699.0, 1258.0, 1942.72, 2250.0, 668.4, 1777.0, 1265.0, 2096.0, 1350.0, 1500.0, 885.68, 656.1, 1007.0, 489.07, 4600.0, 2450.0, 649.0, 2148.0, 1639.0, 909.0, 565.63, 889.0, 1800.0, 1615.0, 352.95, 2997.0, 404.39, 6855.48, 280.74, 720.0, 2180.0, 4325.69, 2492.05, 2322.02, 1650.0, 2567.0, 2277.91, 845.0, 771.0, 1571.44, 680.0, 803.0, 793.0, 1557.28, 2320.0, 1301.13, 730.0, 1010.31, 1930.38, 705.92, 1181.3, 2043.49, 3568.5, 2115.0, 1530.0, 2734.0, 1500.0, 1490.0, 1040.51, 547.9, 3360.0, 1181.3, 1500.0, 2752.0, 599.74, 1558.8, 1590.35, 2159.2, 580.16, 2950.0, 960.38, 1494.64, 1817.0, 2105.0, 5774.83, 755.3, 1650.0, 1570.0, 2405.0, 1493.0, 1685.0, 759.0, 1300.0, 877.71, 1845.0, 2060.0, 1440.0, 2485.0, 1200.0, 780.0, 3380.0, 2498.0, 1040.0, 1055.43, 1720.0, 1980.0, 2375.0, 967.4, 1785.0, 2435.0, 1350.0, 2310.0, 1290.0, 1359.0, 1700.0, 1136.72, 1500.0, 1250.0, 2380.0, 2170.0, 1040.0, 975.0, 1999.47, 1490.0, 1200.0, 2040.0, 512.93, 1250.0, 1600.0, 2799.0, 1160.0, 950.0, 1654.39, 920.0, 993.96, 4875.0, 1428.64, 984.4, 914.87, 776.47, 886.05, 950.0, 2400.0, 379.95, 669.0, 1400.0, 558.06, 964.0, 924.44, 1394.0, 1632.54, 2202.0, 727.0, 427.0, 1266.28, 475.0, 1700.0, 2850.0, 1452.8, 1480.0, 1395.0, 1959.0, 2255.84, 938.0, 1650.0, 1650.0, 2815.0, 1650.0, 1161.0, 2028.2, 563.91, 642.77, 1650.0, 420.09, 808.46, 620.0, 2193.0, 900.0, 1231.23, 971.15, 991.19, 887.0, 1370.0, 690.0, 712.0, 982.0, 1246.0, 1755.0, 1228.75, 1753.0, 1223.98, 685.0, 1432.6, 1530.0, 2620.0, 2484.62, 1565.4, 1780.9, 2079.02, 1800.0, 1635.0, 768.0, 4800.0, 585.0, 1413.03, 2300.0, 1380.05, 1200.0, 811.1, 1609.1, 2320.0, 1030.0, 647.05, 3090.4, 816.49, 699.3, 846.0, 1124.93, 2807.0, 2892.25, 2488.0, 1749.32, 3994.0, 2708.0, 1336.41, 4184.0, 1854.98, 570.0, 2293.31, 1200.0, 1502.0, 1015.0, 1400.0, 825.0, 1499.0, 2070.0, 876.0, 2320.0, 1700.0, 656.5, 886.05, 703.86, 1886.81, 1500.0, 1660.0, 1690.0, 478.52, 1600.0, 2999.0, 670.03, 860.0, 2269.0, 948.1, 873.0, 2130.31, 969.0, 1175.72, 1200.0, 1834.0, 1349.58, 1320.49, 1886.3, 2295.0, 1980.0, 1846.23, 1447.0, 1770.0, 1343.0, 750.0, 730.36, 1281.5, 976.5, 984.5, 719.56, 2170.0, 2170.0, 995.0, 1250.0, 995.0, 921.59, 1236.72, 1090.0, 2105.4, 1497.45, 829.0, 948.09, 1494.0, 829.0, 2475.98, 2549.0, 1182.0, 1350.0, 3104.0, 1160.55, 1285.0, 1725.15, 575.45, 1709.33, 1535.3, 1356.44, 521.09, 1890.0, 1277.21, 1939.2, 2645.9, 2630.39, 813.4, 1906.14, 960.0, 2039.0, 2265.47, 1184.0, 2700.0, 1639.52, 891.65, 1489.0, 4800.0, 1455.61, 2550.0, 1565.56, 2865.49, 2014.21, 1760.37, 1191.35, 2280.0, 4450.0, 1558.0, 1174.25, 1519.0, 1650.0, 2499.59, 1997.37, 1095.0, 2073.32, 1783.08, 1358.64, 1834.0, 1327.99, 1163.0, 2575.0, 1356.04, 2427.0, 1202.0, 2555.0, 1250.06, 1529.0, 5936.4, 5936.4, 4747.6, 1800.0, 4747.6, 2650.0, 4747.6, 2138.68, 1189.09, 929.34, 1960.8, 2150.0, 1124.0, 896.46, 2033.1, 1031.0, 2039.3, 398.0, 1800.0, 2075.12, 2067.77, 1347.51, 2162.0, 2041.0, 1320.73, 1700.0, 1429.1, 2007.02, 868.06, 1326.61, 2020.99, 2031.52, 2508.24, 2125.0, 1410.0, 1841.68, 2130.96, 2525.97, 1627.11, 1410.0, 1774.43, 1768.29, 2280.0, 4678.3, 1788.57, 2851.96, 3160.0, 1488.25, 1869.56, 2200.0, 1814.85, 3250.0, 1720.0, 2175.0, 1449.24, 1756.36, 5322.5, 1958.69, 2288.06, 2436.48, 2356.2, 2525.0, 2283.98, 6022.5, 1788.14, 2488.26, 929.0, 1897.95, 2107.43, 2982.41, 2130.96, 1755.0, 1839.78, 3230.0, 1846.87, 525.0, 2158.01, 1774.43, 2119.62, 2525.97, 1959.27, 2642.69, 2622.9, 1383.23, 2069.26, 5876.35, 1833.98, 2440.56, 2286.0, 2851.96, 1200.0, 2105.0, 1931.26, 1716.0, 1774.15, 2630.0, 1349.0, 2500.0, 2508.24, 2065.06, 1567.39, 1367.0, 1099.0, 1561.65, 14207.0, 1757.11, 1063.0, 1399.0, 2497.38, 1697.0, 2260.46, 2264.83, 2747.36, 1990.0, 1395.0, 2198.75, 2555.0, 2198.97, 1768.29, 869.0, 1294.0, 1100.0, 1321.0, 1314.15, 2390.0, 899.0, 1236.5, 3706.83, 1550.0, 660.0, 914.0, 2555.59, 2740.0, 1793.0, 1266.0, 1282.5, 1454.74, 2439.6, 1970.0, 2811.38, 655.0, 1524.0, 1489.0, 2300.0, 2129.0, 1350.0, 3500.0, 843.0, 1357.46, 1007.0, 610.0, 3925.0, 1283.71, 622.0, 1366.0, 780.0, 741.0, 771.0, 4040.0, 1728.0, 1079.0, 770.0, 2180.0, 720.0, 2155.5, 577.0, 772.0, 1970.0, 693.0, 959.0, 649.0, 2750.0, 1259.0, 888.0]}],\n",
              "                        {\"template\": {\"data\": {\"bar\": [{\"error_x\": {\"color\": \"#2a3f5f\"}, \"error_y\": {\"color\": \"#2a3f5f\"}, \"marker\": {\"line\": {\"color\": \"#E5ECF6\", \"width\": 0.5}}, \"type\": \"bar\"}], \"barpolar\": [{\"marker\": {\"line\": {\"color\": \"#E5ECF6\", \"width\": 0.5}}, \"type\": \"barpolar\"}], \"carpet\": [{\"aaxis\": {\"endlinecolor\": \"#2a3f5f\", \"gridcolor\": \"white\", \"linecolor\": \"white\", \"minorgridcolor\": \"white\", \"startlinecolor\": \"#2a3f5f\"}, \"baxis\": {\"endlinecolor\": \"#2a3f5f\", \"gridcolor\": \"white\", \"linecolor\": \"white\", \"minorgridcolor\": \"white\", \"startlinecolor\": \"#2a3f5f\"}, \"type\": \"carpet\"}], \"choropleth\": [{\"colorbar\": {\"outlinewidth\": 0, \"ticks\": \"\"}, \"type\": \"choropleth\"}], \"contour\": [{\"colorbar\": {\"outlinewidth\": 0, \"ticks\": \"\"}, \"colorscale\": [[0.0, \"#0d0887\"], [0.1111111111111111, \"#46039f\"], [0.2222222222222222, \"#7201a8\"], [0.3333333333333333, \"#9c179e\"], [0.4444444444444444, \"#bd3786\"], [0.5555555555555556, \"#d8576b\"], [0.6666666666666666, \"#ed7953\"], [0.7777777777777778, \"#fb9f3a\"], [0.8888888888888888, \"#fdca26\"], [1.0, \"#f0f921\"]], \"type\": \"contour\"}], \"contourcarpet\": [{\"colorbar\": {\"outlinewidth\": 0, \"ticks\": \"\"}, \"type\": \"contourcarpet\"}], \"heatmap\": [{\"colorbar\": {\"outlinewidth\": 0, \"ticks\": \"\"}, \"colorscale\": [[0.0, \"#0d0887\"], [0.1111111111111111, \"#46039f\"], [0.2222222222222222, \"#7201a8\"], [0.3333333333333333, \"#9c179e\"], [0.4444444444444444, \"#bd3786\"], [0.5555555555555556, \"#d8576b\"], [0.6666666666666666, \"#ed7953\"], [0.7777777777777778, \"#fb9f3a\"], [0.8888888888888888, \"#fdca26\"], [1.0, \"#f0f921\"]], \"type\": \"heatmap\"}], \"heatmapgl\": [{\"colorbar\": {\"outlinewidth\": 0, \"ticks\": \"\"}, \"colorscale\": [[0.0, \"#0d0887\"], [0.1111111111111111, \"#46039f\"], [0.2222222222222222, \"#7201a8\"], [0.3333333333333333, \"#9c179e\"], [0.4444444444444444, \"#bd3786\"], [0.5555555555555556, \"#d8576b\"], [0.6666666666666666, \"#ed7953\"], [0.7777777777777778, \"#fb9f3a\"], [0.8888888888888888, \"#fdca26\"], [1.0, \"#f0f921\"]], \"type\": \"heatmapgl\"}], \"histogram\": [{\"marker\": {\"colorbar\": {\"outlinewidth\": 0, \"ticks\": \"\"}}, \"type\": \"histogram\"}], \"histogram2d\": [{\"colorbar\": {\"outlinewidth\": 0, \"ticks\": \"\"}, \"colorscale\": [[0.0, \"#0d0887\"], [0.1111111111111111, \"#46039f\"], [0.2222222222222222, \"#7201a8\"], [0.3333333333333333, \"#9c179e\"], [0.4444444444444444, \"#bd3786\"], [0.5555555555555556, \"#d8576b\"], [0.6666666666666666, \"#ed7953\"], [0.7777777777777778, \"#fb9f3a\"], [0.8888888888888888, \"#fdca26\"], [1.0, \"#f0f921\"]], \"type\": \"histogram2d\"}], \"histogram2dcontour\": [{\"colorbar\": {\"outlinewidth\": 0, \"ticks\": \"\"}, \"colorscale\": [[0.0, \"#0d0887\"], [0.1111111111111111, \"#46039f\"], [0.2222222222222222, \"#7201a8\"], [0.3333333333333333, \"#9c179e\"], [0.4444444444444444, \"#bd3786\"], [0.5555555555555556, \"#d8576b\"], [0.6666666666666666, \"#ed7953\"], [0.7777777777777778, \"#fb9f3a\"], [0.8888888888888888, \"#fdca26\"], [1.0, \"#f0f921\"]], \"type\": \"histogram2dcontour\"}], \"mesh3d\": [{\"colorbar\": {\"outlinewidth\": 0, \"ticks\": \"\"}, \"type\": \"mesh3d\"}], \"parcoords\": [{\"line\": {\"colorbar\": {\"outlinewidth\": 0, \"ticks\": \"\"}}, \"type\": \"parcoords\"}], \"pie\": [{\"automargin\": true, \"type\": \"pie\"}], \"scatter\": [{\"marker\": {\"colorbar\": {\"outlinewidth\": 0, \"ticks\": \"\"}}, \"type\": \"scatter\"}], \"scatter3d\": [{\"line\": {\"colorbar\": {\"outlinewidth\": 0, \"ticks\": \"\"}}, \"marker\": {\"colorbar\": {\"outlinewidth\": 0, \"ticks\": \"\"}}, \"type\": \"scatter3d\"}], \"scattercarpet\": [{\"marker\": {\"colorbar\": {\"outlinewidth\": 0, \"ticks\": \"\"}}, \"type\": \"scattercarpet\"}], \"scattergeo\": [{\"marker\": {\"colorbar\": {\"outlinewidth\": 0, \"ticks\": \"\"}}, \"type\": \"scattergeo\"}], \"scattergl\": [{\"marker\": {\"colorbar\": {\"outlinewidth\": 0, \"ticks\": \"\"}}, \"type\": \"scattergl\"}], \"scattermapbox\": [{\"marker\": {\"colorbar\": {\"outlinewidth\": 0, \"ticks\": \"\"}}, \"type\": \"scattermapbox\"}], \"scatterpolar\": [{\"marker\": {\"colorbar\": {\"outlinewidth\": 0, \"ticks\": \"\"}}, \"type\": \"scatterpolar\"}], \"scatterpolargl\": [{\"marker\": {\"colorbar\": {\"outlinewidth\": 0, \"ticks\": \"\"}}, \"type\": \"scatterpolargl\"}], \"scatterternary\": [{\"marker\": {\"colorbar\": {\"outlinewidth\": 0, \"ticks\": \"\"}}, \"type\": \"scatterternary\"}], \"surface\": [{\"colorbar\": {\"outlinewidth\": 0, \"ticks\": \"\"}, \"colorscale\": [[0.0, \"#0d0887\"], [0.1111111111111111, \"#46039f\"], [0.2222222222222222, \"#7201a8\"], [0.3333333333333333, \"#9c179e\"], [0.4444444444444444, \"#bd3786\"], [0.5555555555555556, \"#d8576b\"], [0.6666666666666666, \"#ed7953\"], [0.7777777777777778, \"#fb9f3a\"], [0.8888888888888888, \"#fdca26\"], [1.0, \"#f0f921\"]], \"type\": \"surface\"}], \"table\": [{\"cells\": {\"fill\": {\"color\": \"#EBF0F8\"}, \"line\": {\"color\": \"white\"}}, \"header\": {\"fill\": {\"color\": \"#C8D4E3\"}, \"line\": {\"color\": \"white\"}}, \"type\": \"table\"}]}, \"layout\": {\"annotationdefaults\": {\"arrowcolor\": \"#2a3f5f\", \"arrowhead\": 0, \"arrowwidth\": 1}, \"coloraxis\": {\"colorbar\": {\"outlinewidth\": 0, \"ticks\": \"\"}}, \"colorscale\": {\"diverging\": [[0, \"#8e0152\"], [0.1, \"#c51b7d\"], [0.2, \"#de77ae\"], [0.3, \"#f1b6da\"], [0.4, \"#fde0ef\"], [0.5, \"#f7f7f7\"], [0.6, \"#e6f5d0\"], [0.7, \"#b8e186\"], [0.8, \"#7fbc41\"], [0.9, \"#4d9221\"], [1, \"#276419\"]], \"sequential\": [[0.0, \"#0d0887\"], [0.1111111111111111, \"#46039f\"], [0.2222222222222222, \"#7201a8\"], [0.3333333333333333, \"#9c179e\"], [0.4444444444444444, \"#bd3786\"], [0.5555555555555556, \"#d8576b\"], [0.6666666666666666, \"#ed7953\"], [0.7777777777777778, \"#fb9f3a\"], [0.8888888888888888, \"#fdca26\"], [1.0, \"#f0f921\"]], \"sequentialminus\": [[0.0, \"#0d0887\"], [0.1111111111111111, \"#46039f\"], [0.2222222222222222, \"#7201a8\"], [0.3333333333333333, \"#9c179e\"], [0.4444444444444444, \"#bd3786\"], [0.5555555555555556, \"#d8576b\"], [0.6666666666666666, \"#ed7953\"], [0.7777777777777778, \"#fb9f3a\"], [0.8888888888888888, \"#fdca26\"], [1.0, \"#f0f921\"]]}, \"colorway\": [\"#636efa\", \"#EF553B\", \"#00cc96\", \"#ab63fa\", \"#FFA15A\", \"#19d3f3\", \"#FF6692\", \"#B6E880\", \"#FF97FF\", \"#FECB52\"], \"font\": {\"color\": \"#2a3f5f\"}, \"geo\": {\"bgcolor\": \"white\", \"lakecolor\": \"white\", \"landcolor\": \"#E5ECF6\", \"showlakes\": true, \"showland\": true, \"subunitcolor\": \"white\"}, \"hoverlabel\": {\"align\": \"left\"}, \"hovermode\": \"closest\", \"mapbox\": {\"style\": \"light\"}, \"paper_bgcolor\": \"white\", \"plot_bgcolor\": \"#E5ECF6\", \"polar\": {\"angularaxis\": {\"gridcolor\": \"white\", \"linecolor\": \"white\", \"ticks\": \"\"}, \"bgcolor\": \"#E5ECF6\", \"radialaxis\": {\"gridcolor\": \"white\", \"linecolor\": \"white\", \"ticks\": \"\"}}, \"scene\": {\"xaxis\": {\"backgroundcolor\": \"#E5ECF6\", \"gridcolor\": \"white\", \"gridwidth\": 2, \"linecolor\": \"white\", \"showbackground\": true, \"ticks\": \"\", \"zerolinecolor\": \"white\"}, \"yaxis\": {\"backgroundcolor\": \"#E5ECF6\", \"gridcolor\": \"white\", \"gridwidth\": 2, \"linecolor\": \"white\", \"showbackground\": true, \"ticks\": \"\", \"zerolinecolor\": \"white\"}, \"zaxis\": {\"backgroundcolor\": \"#E5ECF6\", \"gridcolor\": \"white\", \"gridwidth\": 2, \"linecolor\": \"white\", \"showbackground\": true, \"ticks\": \"\", \"zerolinecolor\": \"white\"}}, \"shapedefaults\": {\"line\": {\"color\": \"#2a3f5f\"}}, \"ternary\": {\"aaxis\": {\"gridcolor\": \"white\", \"linecolor\": \"white\", \"ticks\": \"\"}, \"baxis\": {\"gridcolor\": \"white\", \"linecolor\": \"white\", \"ticks\": \"\"}, \"bgcolor\": \"#E5ECF6\", \"caxis\": {\"gridcolor\": \"white\", \"linecolor\": \"white\", \"ticks\": \"\"}}, \"title\": {\"x\": 0.05}, \"xaxis\": {\"automargin\": true, \"gridcolor\": \"white\", \"linecolor\": \"white\", \"ticks\": \"\", \"title\": {\"standoff\": 15}, \"zerolinecolor\": \"white\", \"zerolinewidth\": 2}, \"yaxis\": {\"automargin\": true, \"gridcolor\": \"white\", \"linecolor\": \"white\", \"ticks\": \"\", \"title\": {\"standoff\": 15}, \"zerolinecolor\": \"white\", \"zerolinewidth\": 2}}}},\n",
              "                        {\"responsive\": true}\n",
              "                    ).then(function(){\n",
              "                            \n",
              "var gd = document.getElementById('4e536a6b-6bae-469a-8952-a35bd955a519');\n",
              "var x = new MutationObserver(function (mutations, observer) {{\n",
              "        var display = window.getComputedStyle(gd).display;\n",
              "        if (!display || display === 'none') {{\n",
              "            console.log([gd, 'removed!']);\n",
              "            Plotly.purge(gd);\n",
              "            observer.disconnect();\n",
              "        }}\n",
              "}});\n",
              "\n",
              "// Listen for the removal of the full notebook cells\n",
              "var notebookContainer = gd.closest('#notebook-container');\n",
              "if (notebookContainer) {{\n",
              "    x.observe(notebookContainer, {childList: true});\n",
              "}}\n",
              "\n",
              "// Listen for the clearing of the current output cell\n",
              "var outputEl = gd.closest('.output');\n",
              "if (outputEl) {{\n",
              "    x.observe(outputEl, {childList: true});\n",
              "}}\n",
              "\n",
              "                        })\n",
              "                };\n",
              "                });\n",
              "            </script>\n",
              "        </div>"
            ],
            "application/vnd.plotly.v1+json": {
              "data": [
                {
                  "y": [
                    2659,
                    1200,
                    979,
                    1830.22,
                    2272,
                    840,
                    1509.45,
                    730.73,
                    561.93,
                    1789,
                    2499,
                    2328,
                    2500,
                    6450,
                    1399.65,
                    1505.6,
                    1429.1,
                    930,
                    868.06,
                    2179,
                    1829,
                    1589,
                    1831,
                    1060,
                    3103,
                    1619,
                    715,
                    1237.83,
                    2290,
                    1810,
                    2320,
                    2230,
                    2155,
                    2660.9,
                    1427.82,
                    3170,
                    999,
                    849.24,
                    658.11,
                    1340,
                    2433,
                    3275,
                    311.04,
                    3677.7,
                    1740,
                    1404.66,
                    772,
                    479.87,
                    1853.33,
                    511.15,
                    845,
                    2724.17,
                    2251,
                    3195,
                    2812,
                    976,
                    2044.85,
                    959,
                    850,
                    2071.9,
                    4500,
                    5530,
                    1049,
                    1629,
                    1640,
                    1498,
                    889,
                    1598,
                    4945,
                    1500,
                    1949.26,
                    1265,
                    2500,
                    1565,
                    1550,
                    1424.75,
                    4400,
                    1690,
                    3400,
                    1189.48,
                    1570,
                    1000,
                    2680,
                    2100,
                    450,
                    1520,
                    1025,
                    1790,
                    1960,
                    1610,
                    1690,
                    794,
                    1790,
                    3228.25,
                    2862,
                    3390,
                    1490,
                    383.46,
                    872.07,
                    900,
                    3732.64,
                    4288,
                    3251.66,
                    4500,
                    2237.78,
                    2000,
                    3362.41,
                    3664.25,
                    2080,
                    2227,
                    1750,
                    2879,
                    3780,
                    2320,
                    1318,
                    1209,
                    990,
                    4475,
                    1850,
                    5930,
                    2076.38,
                    1820,
                    1499,
                    1609.64,
                    1550,
                    1215,
                    1320,
                    836,
                    1455,
                    1038,
                    1615.57,
                    1480,
                    2244,
                    2555,
                    1095,
                    1265,
                    1633,
                    3295,
                    1368.17,
                    1300,
                    1300,
                    1683,
                    969,
                    1784,
                    1300,
                    990,
                    1706.81,
                    1300,
                    3739.46,
                    1388,
                    1533,
                    1883.27,
                    440.94,
                    990,
                    1490,
                    3593.17,
                    1240,
                    735,
                    2250,
                    1673.95,
                    1950,
                    919,
                    421.87,
                    1386.43,
                    719,
                    719,
                    719,
                    999,
                    1901,
                    496.13,
                    649,
                    895,
                    719,
                    2199,
                    583.03,
                    1397,
                    2999,
                    271.25,
                    458.91,
                    433.71,
                    1563.75,
                    2550,
                    670.86,
                    1405,
                    1266.3,
                    1665,
                    3000,
                    1116,
                    1703,
                    2180,
                    960,
                    2370.71,
                    1645,
                    773.6,
                    1478,
                    914,
                    3060,
                    1159,
                    1180,
                    1872,
                    1707,
                    1454.18,
                    737.49,
                    1528.25,
                    705.06,
                    605.8,
                    407.42,
                    1399.92,
                    1399.92,
                    1590.39,
                    1800,
                    408.78,
                    1465.62,
                    1691,
                    1625,
                    2124.29,
                    1510,
                    1600,
                    1410,
                    1897.2,
                    4192.63,
                    1570,
                    1470,
                    2528.86,
                    1800,
                    1359.33,
                    1480,
                    2670,
                    691.29,
                    1935.17,
                    1093.16,
                    2260,
                    900.23,
                    887.53,
                    621.38,
                    2580,
                    2124.29,
                    1783.89,
                    674.8,
                    435.74,
                    2990,
                    378.14,
                    1563.75,
                    1876.78,
                    4500,
                    9774,
                    1397,
                    1897.5,
                    1189.27,
                    1987.04,
                    2434,
                    2410.8,
                    2346,
                    1069.26,
                    699,
                    1258,
                    1942.72,
                    2250,
                    668.4,
                    1777,
                    1265,
                    2096,
                    1350,
                    1500,
                    885.68,
                    656.1,
                    1007,
                    489.07,
                    4600,
                    2450,
                    649,
                    2148,
                    1639,
                    909,
                    565.63,
                    889,
                    1800,
                    1615,
                    352.95,
                    2997,
                    404.39,
                    6855.48,
                    280.74,
                    720,
                    2180,
                    4325.69,
                    2492.05,
                    2322.02,
                    1650,
                    2567,
                    2277.91,
                    845,
                    771,
                    1571.44,
                    680,
                    803,
                    793,
                    1557.28,
                    2320,
                    1301.13,
                    730,
                    1010.31,
                    1930.38,
                    705.92,
                    1181.3,
                    2043.49,
                    3568.5,
                    2115,
                    1530,
                    2734,
                    1500,
                    1490,
                    1040.51,
                    547.9,
                    3360,
                    1181.3,
                    1500,
                    2752,
                    599.74,
                    1558.8,
                    1590.35,
                    2159.2,
                    580.16,
                    2950,
                    960.38,
                    1494.64,
                    1817,
                    2105,
                    5774.83,
                    755.3,
                    1650,
                    1570,
                    2405,
                    1493,
                    1685,
                    759,
                    1300,
                    877.71,
                    1845,
                    2060,
                    1440,
                    2485,
                    1200,
                    780,
                    3380,
                    2498,
                    1040,
                    1055.43,
                    1720,
                    1980,
                    2375,
                    967.4,
                    1785,
                    2435,
                    1350,
                    2310,
                    1290,
                    1359,
                    1700,
                    1136.72,
                    1500,
                    1250,
                    2380,
                    2170,
                    1040,
                    975,
                    1999.47,
                    1490,
                    1200,
                    2040,
                    512.93,
                    1250,
                    1600,
                    2799,
                    1160,
                    950,
                    1654.39,
                    920,
                    993.96,
                    4875,
                    1428.64,
                    984.4,
                    914.87,
                    776.47,
                    886.05,
                    950,
                    2400,
                    379.95,
                    669,
                    1400,
                    558.06,
                    964,
                    924.44,
                    1394,
                    1632.54,
                    2202,
                    727,
                    427,
                    1266.28,
                    475,
                    1700,
                    2850,
                    1452.8,
                    1480,
                    1395,
                    1959,
                    2255.84,
                    938,
                    1650,
                    1650,
                    2815,
                    1650,
                    1161,
                    2028.2,
                    563.91,
                    642.77,
                    1650,
                    420.09,
                    808.46,
                    620,
                    2193,
                    900,
                    1231.23,
                    971.15,
                    991.19,
                    887,
                    1370,
                    690,
                    712,
                    982,
                    1246,
                    1755,
                    1228.75,
                    1753,
                    1223.98,
                    685,
                    1432.6,
                    1530,
                    2620,
                    2484.62,
                    1565.4,
                    1780.9,
                    2079.02,
                    1800,
                    1635,
                    768,
                    4800,
                    585,
                    1413.03,
                    2300,
                    1380.05,
                    1200,
                    811.1,
                    1609.1,
                    2320,
                    1030,
                    647.05,
                    3090.4,
                    816.49,
                    699.3,
                    846,
                    1124.93,
                    2807,
                    2892.25,
                    2488,
                    1749.32,
                    3994,
                    2708,
                    1336.41,
                    4184,
                    1854.98,
                    570,
                    2293.31,
                    1200,
                    1502,
                    1015,
                    1400,
                    825,
                    1499,
                    2070,
                    876,
                    2320,
                    1700,
                    656.5,
                    886.05,
                    703.86,
                    1886.81,
                    1500,
                    1660,
                    1690,
                    478.52,
                    1600,
                    2999,
                    670.03,
                    860,
                    2269,
                    948.1,
                    873,
                    2130.31,
                    969,
                    1175.72,
                    1200,
                    1834,
                    1349.58,
                    1320.49,
                    1886.3,
                    2295,
                    1980,
                    1846.23,
                    1447,
                    1770,
                    1343,
                    750,
                    730.36,
                    1281.5,
                    976.5,
                    984.5,
                    719.56,
                    2170,
                    2170,
                    995,
                    1250,
                    995,
                    921.59,
                    1236.72,
                    1090,
                    2105.4,
                    1497.45,
                    829,
                    948.09,
                    1494,
                    829,
                    2475.98,
                    2549,
                    1182,
                    1350,
                    3104,
                    1160.55,
                    1285,
                    1725.15,
                    575.45,
                    1709.33,
                    1535.3,
                    1356.44,
                    521.09,
                    1890,
                    1277.21,
                    1939.2,
                    2645.9,
                    2630.39,
                    813.4,
                    1906.14,
                    960,
                    2039,
                    2265.47,
                    1184,
                    2700,
                    1639.52,
                    891.65,
                    1489,
                    4800,
                    1455.61,
                    2550,
                    1565.56,
                    2865.49,
                    2014.21,
                    1760.37,
                    1191.35,
                    2280,
                    4450,
                    1558,
                    1174.25,
                    1519,
                    1650,
                    2499.59,
                    1997.37,
                    1095,
                    2073.32,
                    1783.08,
                    1358.64,
                    1834,
                    1327.99,
                    1163,
                    2575,
                    1356.04,
                    2427,
                    1202,
                    2555,
                    1250.06,
                    1529,
                    5936.4,
                    5936.4,
                    4747.6,
                    1800,
                    4747.6,
                    2650,
                    4747.6,
                    2138.68,
                    1189.09,
                    929.34,
                    1960.8,
                    2150,
                    1124,
                    896.46,
                    2033.1,
                    1031,
                    2039.3,
                    398,
                    1800,
                    2075.12,
                    2067.77,
                    1347.51,
                    2162,
                    2041,
                    1320.73,
                    1700,
                    1429.1,
                    2007.02,
                    868.06,
                    1326.61,
                    2020.99,
                    2031.52,
                    2508.24,
                    2125,
                    1410,
                    1841.68,
                    2130.96,
                    2525.97,
                    1627.11,
                    1410,
                    1774.43,
                    1768.29,
                    2280,
                    4678.3,
                    1788.57,
                    2851.96,
                    3160,
                    1488.25,
                    1869.56,
                    2200,
                    1814.85,
                    3250,
                    1720,
                    2175,
                    1449.24,
                    1756.36,
                    5322.5,
                    1958.69,
                    2288.06,
                    2436.48,
                    2356.2,
                    2525,
                    2283.98,
                    6022.5,
                    1788.14,
                    2488.26,
                    929,
                    1897.95,
                    2107.43,
                    2982.41,
                    2130.96,
                    1755,
                    1839.78,
                    3230,
                    1846.87,
                    525,
                    2158.01,
                    1774.43,
                    2119.62,
                    2525.97,
                    1959.27,
                    2642.69,
                    2622.9,
                    1383.23,
                    2069.26,
                    5876.35,
                    1833.98,
                    2440.56,
                    2286,
                    2851.96,
                    1200,
                    2105,
                    1931.26,
                    1716,
                    1774.15,
                    2630,
                    1349,
                    2500,
                    2508.24,
                    2065.06,
                    1567.39,
                    1367,
                    1099,
                    1561.65,
                    14207,
                    1757.11,
                    1063,
                    1399,
                    2497.38,
                    1697,
                    2260.46,
                    2264.83,
                    2747.36,
                    1990,
                    1395,
                    2198.75,
                    2555,
                    2198.97,
                    1768.29,
                    869,
                    1294,
                    1100,
                    1321,
                    1314.15,
                    2390,
                    899,
                    1236.5,
                    3706.83,
                    1550,
                    660,
                    914,
                    2555.59,
                    2740,
                    1793,
                    1266,
                    1282.5,
                    1454.74,
                    2439.6,
                    1970,
                    2811.38,
                    655,
                    1524,
                    1489,
                    2300,
                    2129,
                    1350,
                    3500,
                    843,
                    1357.46,
                    1007,
                    610,
                    3925,
                    1283.71,
                    622,
                    1366,
                    780,
                    741,
                    771,
                    4040,
                    1728,
                    1079,
                    770,
                    2180,
                    720,
                    2155.5,
                    577,
                    772,
                    1970,
                    693,
                    959,
                    649,
                    2750,
                    1259,
                    888
                  ],
                  "type": "scatter",
                  "mode": "lines",
                  "name": "lines"
                }
              ],
              "config": {
                "plotlyServerURL": "https://plot.ly"
              },
              "layout": {
                "template": {
                  "layout": {
                    "shapedefaults": {
                      "line": {
                        "color": "#2a3f5f"
                      }
                    },
                    "polar": {
                      "radialaxis": {
                        "ticks": "",
                        "gridcolor": "white",
                        "linecolor": "white"
                      },
                      "bgcolor": "#E5ECF6",
                      "angularaxis": {
                        "ticks": "",
                        "gridcolor": "white",
                        "linecolor": "white"
                      }
                    },
                    "colorway": [
                      "#636efa",
                      "#EF553B",
                      "#00cc96",
                      "#ab63fa",
                      "#FFA15A",
                      "#19d3f3",
                      "#FF6692",
                      "#B6E880",
                      "#FF97FF",
                      "#FECB52"
                    ],
                    "xaxis": {
                      "automargin": true,
                      "title": {
                        "standoff": 15
                      },
                      "zerolinewidth": 2,
                      "ticks": "",
                      "zerolinecolor": "white",
                      "gridcolor": "white",
                      "linecolor": "white"
                    },
                    "colorscale": {
                      "diverging": [
                        [
                          0,
                          "#8e0152"
                        ],
                        [
                          0.1,
                          "#c51b7d"
                        ],
                        [
                          0.2,
                          "#de77ae"
                        ],
                        [
                          0.3,
                          "#f1b6da"
                        ],
                        [
                          0.4,
                          "#fde0ef"
                        ],
                        [
                          0.5,
                          "#f7f7f7"
                        ],
                        [
                          0.6,
                          "#e6f5d0"
                        ],
                        [
                          0.7,
                          "#b8e186"
                        ],
                        [
                          0.8,
                          "#7fbc41"
                        ],
                        [
                          0.9,
                          "#4d9221"
                        ],
                        [
                          1,
                          "#276419"
                        ]
                      ],
                      "sequential": [
                        [
                          0,
                          "#0d0887"
                        ],
                        [
                          0.1111111111111111,
                          "#46039f"
                        ],
                        [
                          0.2222222222222222,
                          "#7201a8"
                        ],
                        [
                          0.3333333333333333,
                          "#9c179e"
                        ],
                        [
                          0.4444444444444444,
                          "#bd3786"
                        ],
                        [
                          0.5555555555555556,
                          "#d8576b"
                        ],
                        [
                          0.6666666666666666,
                          "#ed7953"
                        ],
                        [
                          0.7777777777777778,
                          "#fb9f3a"
                        ],
                        [
                          0.8888888888888888,
                          "#fdca26"
                        ],
                        [
                          1,
                          "#f0f921"
                        ]
                      ],
                      "sequentialminus": [
                        [
                          0,
                          "#0d0887"
                        ],
                        [
                          0.1111111111111111,
                          "#46039f"
                        ],
                        [
                          0.2222222222222222,
                          "#7201a8"
                        ],
                        [
                          0.3333333333333333,
                          "#9c179e"
                        ],
                        [
                          0.4444444444444444,
                          "#bd3786"
                        ],
                        [
                          0.5555555555555556,
                          "#d8576b"
                        ],
                        [
                          0.6666666666666666,
                          "#ed7953"
                        ],
                        [
                          0.7777777777777778,
                          "#fb9f3a"
                        ],
                        [
                          0.8888888888888888,
                          "#fdca26"
                        ],
                        [
                          1,
                          "#f0f921"
                        ]
                      ]
                    },
                    "paper_bgcolor": "white",
                    "plot_bgcolor": "#E5ECF6",
                    "title": {
                      "x": 0.05
                    },
                    "scene": {
                      "zaxis": {
                        "backgroundcolor": "#E5ECF6",
                        "ticks": "",
                        "gridwidth": 2,
                        "showbackground": true,
                        "zerolinecolor": "white",
                        "gridcolor": "white",
                        "linecolor": "white"
                      },
                      "xaxis": {
                        "backgroundcolor": "#E5ECF6",
                        "ticks": "",
                        "gridwidth": 2,
                        "showbackground": true,
                        "zerolinecolor": "white",
                        "gridcolor": "white",
                        "linecolor": "white"
                      },
                      "yaxis": {
                        "backgroundcolor": "#E5ECF6",
                        "ticks": "",
                        "gridwidth": 2,
                        "showbackground": true,
                        "zerolinecolor": "white",
                        "gridcolor": "white",
                        "linecolor": "white"
                      }
                    },
                    "yaxis": {
                      "automargin": true,
                      "title": {
                        "standoff": 15
                      },
                      "zerolinewidth": 2,
                      "ticks": "",
                      "zerolinecolor": "white",
                      "gridcolor": "white",
                      "linecolor": "white"
                    },
                    "annotationdefaults": {
                      "arrowwidth": 1,
                      "arrowhead": 0,
                      "arrowcolor": "#2a3f5f"
                    },
                    "hoverlabel": {
                      "align": "left"
                    },
                    "ternary": {
                      "bgcolor": "#E5ECF6",
                      "baxis": {
                        "ticks": "",
                        "gridcolor": "white",
                        "linecolor": "white"
                      },
                      "caxis": {
                        "ticks": "",
                        "gridcolor": "white",
                        "linecolor": "white"
                      },
                      "aaxis": {
                        "ticks": "",
                        "gridcolor": "white",
                        "linecolor": "white"
                      }
                    },
                    "mapbox": {
                      "style": "light"
                    },
                    "hovermode": "closest",
                    "font": {
                      "color": "#2a3f5f"
                    },
                    "geo": {
                      "showland": true,
                      "landcolor": "#E5ECF6",
                      "showlakes": true,
                      "bgcolor": "white",
                      "subunitcolor": "white",
                      "lakecolor": "white"
                    },
                    "coloraxis": {
                      "colorbar": {
                        "outlinewidth": 0,
                        "ticks": ""
                      }
                    }
                  },
                  "data": {
                    "mesh3d": [
                      {
                        "colorbar": {
                          "outlinewidth": 0,
                          "ticks": ""
                        },
                        "type": "mesh3d"
                      }
                    ],
                    "scattercarpet": [
                      {
                        "marker": {
                          "colorbar": {
                            "outlinewidth": 0,
                            "ticks": ""
                          }
                        },
                        "type": "scattercarpet"
                      }
                    ],
                    "pie": [
                      {
                        "automargin": true,
                        "type": "pie"
                      }
                    ],
                    "surface": [
                      {
                        "colorbar": {
                          "outlinewidth": 0,
                          "ticks": ""
                        },
                        "type": "surface",
                        "colorscale": [
                          [
                            0,
                            "#0d0887"
                          ],
                          [
                            0.1111111111111111,
                            "#46039f"
                          ],
                          [
                            0.2222222222222222,
                            "#7201a8"
                          ],
                          [
                            0.3333333333333333,
                            "#9c179e"
                          ],
                          [
                            0.4444444444444444,
                            "#bd3786"
                          ],
                          [
                            0.5555555555555556,
                            "#d8576b"
                          ],
                          [
                            0.6666666666666666,
                            "#ed7953"
                          ],
                          [
                            0.7777777777777778,
                            "#fb9f3a"
                          ],
                          [
                            0.8888888888888888,
                            "#fdca26"
                          ],
                          [
                            1,
                            "#f0f921"
                          ]
                        ]
                      }
                    ],
                    "table": [
                      {
                        "header": {
                          "line": {
                            "color": "white"
                          },
                          "fill": {
                            "color": "#C8D4E3"
                          }
                        },
                        "cells": {
                          "line": {
                            "color": "white"
                          },
                          "fill": {
                            "color": "#EBF0F8"
                          }
                        },
                        "type": "table"
                      }
                    ],
                    "scatterpolargl": [
                      {
                        "marker": {
                          "colorbar": {
                            "outlinewidth": 0,
                            "ticks": ""
                          }
                        },
                        "type": "scatterpolargl"
                      }
                    ],
                    "contour": [
                      {
                        "colorbar": {
                          "outlinewidth": 0,
                          "ticks": ""
                        },
                        "type": "contour",
                        "colorscale": [
                          [
                            0,
                            "#0d0887"
                          ],
                          [
                            0.1111111111111111,
                            "#46039f"
                          ],
                          [
                            0.2222222222222222,
                            "#7201a8"
                          ],
                          [
                            0.3333333333333333,
                            "#9c179e"
                          ],
                          [
                            0.4444444444444444,
                            "#bd3786"
                          ],
                          [
                            0.5555555555555556,
                            "#d8576b"
                          ],
                          [
                            0.6666666666666666,
                            "#ed7953"
                          ],
                          [
                            0.7777777777777778,
                            "#fb9f3a"
                          ],
                          [
                            0.8888888888888888,
                            "#fdca26"
                          ],
                          [
                            1,
                            "#f0f921"
                          ]
                        ]
                      }
                    ],
                    "carpet": [
                      {
                        "type": "carpet",
                        "baxis": {
                          "minorgridcolor": "white",
                          "gridcolor": "white",
                          "linecolor": "white",
                          "endlinecolor": "#2a3f5f",
                          "startlinecolor": "#2a3f5f"
                        },
                        "aaxis": {
                          "minorgridcolor": "white",
                          "gridcolor": "white",
                          "linecolor": "white",
                          "endlinecolor": "#2a3f5f",
                          "startlinecolor": "#2a3f5f"
                        }
                      }
                    ],
                    "contourcarpet": [
                      {
                        "colorbar": {
                          "outlinewidth": 0,
                          "ticks": ""
                        },
                        "type": "contourcarpet"
                      }
                    ],
                    "heatmap": [
                      {
                        "colorbar": {
                          "outlinewidth": 0,
                          "ticks": ""
                        },
                        "type": "heatmap",
                        "colorscale": [
                          [
                            0,
                            "#0d0887"
                          ],
                          [
                            0.1111111111111111,
                            "#46039f"
                          ],
                          [
                            0.2222222222222222,
                            "#7201a8"
                          ],
                          [
                            0.3333333333333333,
                            "#9c179e"
                          ],
                          [
                            0.4444444444444444,
                            "#bd3786"
                          ],
                          [
                            0.5555555555555556,
                            "#d8576b"
                          ],
                          [
                            0.6666666666666666,
                            "#ed7953"
                          ],
                          [
                            0.7777777777777778,
                            "#fb9f3a"
                          ],
                          [
                            0.8888888888888888,
                            "#fdca26"
                          ],
                          [
                            1,
                            "#f0f921"
                          ]
                        ]
                      }
                    ],
                    "scattermapbox": [
                      {
                        "marker": {
                          "colorbar": {
                            "outlinewidth": 0,
                            "ticks": ""
                          }
                        },
                        "type": "scattermapbox"
                      }
                    ],
                    "scatter3d": [
                      {
                        "marker": {
                          "colorbar": {
                            "outlinewidth": 0,
                            "ticks": ""
                          }
                        },
                        "line": {
                          "colorbar": {
                            "outlinewidth": 0,
                            "ticks": ""
                          }
                        },
                        "type": "scatter3d"
                      }
                    ],
                    "scattergl": [
                      {
                        "marker": {
                          "colorbar": {
                            "outlinewidth": 0,
                            "ticks": ""
                          }
                        },
                        "type": "scattergl"
                      }
                    ],
                    "scatterternary": [
                      {
                        "marker": {
                          "colorbar": {
                            "outlinewidth": 0,
                            "ticks": ""
                          }
                        },
                        "type": "scatterternary"
                      }
                    ],
                    "histogram": [
                      {
                        "marker": {
                          "colorbar": {
                            "outlinewidth": 0,
                            "ticks": ""
                          }
                        },
                        "type": "histogram"
                      }
                    ],
                    "heatmapgl": [
                      {
                        "colorbar": {
                          "outlinewidth": 0,
                          "ticks": ""
                        },
                        "type": "heatmapgl",
                        "colorscale": [
                          [
                            0,
                            "#0d0887"
                          ],
                          [
                            0.1111111111111111,
                            "#46039f"
                          ],
                          [
                            0.2222222222222222,
                            "#7201a8"
                          ],
                          [
                            0.3333333333333333,
                            "#9c179e"
                          ],
                          [
                            0.4444444444444444,
                            "#bd3786"
                          ],
                          [
                            0.5555555555555556,
                            "#d8576b"
                          ],
                          [
                            0.6666666666666666,
                            "#ed7953"
                          ],
                          [
                            0.7777777777777778,
                            "#fb9f3a"
                          ],
                          [
                            0.8888888888888888,
                            "#fdca26"
                          ],
                          [
                            1,
                            "#f0f921"
                          ]
                        ]
                      }
                    ],
                    "scatterpolar": [
                      {
                        "marker": {
                          "colorbar": {
                            "outlinewidth": 0,
                            "ticks": ""
                          }
                        },
                        "type": "scatterpolar"
                      }
                    ],
                    "histogram2d": [
                      {
                        "colorbar": {
                          "outlinewidth": 0,
                          "ticks": ""
                        },
                        "type": "histogram2d",
                        "colorscale": [
                          [
                            0,
                            "#0d0887"
                          ],
                          [
                            0.1111111111111111,
                            "#46039f"
                          ],
                          [
                            0.2222222222222222,
                            "#7201a8"
                          ],
                          [
                            0.3333333333333333,
                            "#9c179e"
                          ],
                          [
                            0.4444444444444444,
                            "#bd3786"
                          ],
                          [
                            0.5555555555555556,
                            "#d8576b"
                          ],
                          [
                            0.6666666666666666,
                            "#ed7953"
                          ],
                          [
                            0.7777777777777778,
                            "#fb9f3a"
                          ],
                          [
                            0.8888888888888888,
                            "#fdca26"
                          ],
                          [
                            1,
                            "#f0f921"
                          ]
                        ]
                      }
                    ],
                    "scattergeo": [
                      {
                        "marker": {
                          "colorbar": {
                            "outlinewidth": 0,
                            "ticks": ""
                          }
                        },
                        "type": "scattergeo"
                      }
                    ],
                    "bar": [
                      {
                        "marker": {
                          "line": {
                            "color": "#E5ECF6",
                            "width": 0.5
                          }
                        },
                        "type": "bar",
                        "error_x": {
                          "color": "#2a3f5f"
                        },
                        "error_y": {
                          "color": "#2a3f5f"
                        }
                      }
                    ],
                    "choropleth": [
                      {
                        "colorbar": {
                          "outlinewidth": 0,
                          "ticks": ""
                        },
                        "type": "choropleth"
                      }
                    ],
                    "parcoords": [
                      {
                        "line": {
                          "colorbar": {
                            "outlinewidth": 0,
                            "ticks": ""
                          }
                        },
                        "type": "parcoords"
                      }
                    ],
                    "barpolar": [
                      {
                        "marker": {
                          "line": {
                            "color": "#E5ECF6",
                            "width": 0.5
                          }
                        },
                        "type": "barpolar"
                      }
                    ],
                    "histogram2dcontour": [
                      {
                        "colorbar": {
                          "outlinewidth": 0,
                          "ticks": ""
                        },
                        "type": "histogram2dcontour",
                        "colorscale": [
                          [
                            0,
                            "#0d0887"
                          ],
                          [
                            0.1111111111111111,
                            "#46039f"
                          ],
                          [
                            0.2222222222222222,
                            "#7201a8"
                          ],
                          [
                            0.3333333333333333,
                            "#9c179e"
                          ],
                          [
                            0.4444444444444444,
                            "#bd3786"
                          ],
                          [
                            0.5555555555555556,
                            "#d8576b"
                          ],
                          [
                            0.6666666666666666,
                            "#ed7953"
                          ],
                          [
                            0.7777777777777778,
                            "#fb9f3a"
                          ],
                          [
                            0.8888888888888888,
                            "#fdca26"
                          ],
                          [
                            1,
                            "#f0f921"
                          ]
                        ]
                      }
                    ],
                    "scatter": [
                      {
                        "marker": {
                          "colorbar": {
                            "outlinewidth": 0,
                            "ticks": ""
                          }
                        },
                        "type": "scatter"
                      }
                    ]
                  }
                }
              }
            }
          },
          "metadata": {
            "tags": []
          }
        }
      ]
    },
    {
      "cell_type": "markdown",
      "metadata": {
        "id": "NWlRHAyY92Tm"
      },
      "source": [
        "## **A Plot of the relationship between the construction year and  rent**"
      ]
    },
    {
      "cell_type": "code",
      "metadata": {
        "id": "4sBQOAkdxKNM",
        "colab": {
          "base_uri": "https://localhost:8080/",
          "height": 542
        },
        "outputId": "ba6437fa-c0ac-4ab8-95a6-ac55c1c6f3c6"
      },
      "source": [
        "\n",
        "Yc_rnt=go.Scatter(\n",
        "                    x = rentals['Year_Construction'],\n",
        "                    y = rentals['Rent'],\n",
        "                    mode = \"markers\",\n",
        "                    name = \"Year of Construction\",\n",
        "                    marker = dict(color = 'rgba(255, 128, 2, 0.8)'),\n",
        "                    )\n",
        "\n",
        "layout = dict(title = 'Relationship between the Year of Construction and the rent',\n",
        "              xaxis= dict(title= 'Rent',ticklen= 5,zeroline= False),\n",
        "              yaxis= dict(title= 'Year of Construction',ticklen= 5,zeroline= False)\n",
        "             )\n",
        "fig = dict(data = Yc_rnt, layout = layout)\n",
        "iplot(fig)"
      ],
      "execution_count": 25,
      "outputs": [
        {
          "output_type": "display_data",
          "data": {
            "text/html": [
              "<div>\n",
              "        \n",
              "        \n",
              "            <div id=\"4b8ad687-ea57-4eca-afee-6185510f3eea\" class=\"plotly-graph-div\" style=\"height:525px; width:100%;\"></div>\n",
              "            <script type=\"text/javascript\">\n",
              "                require([\"plotly\"], function(Plotly) {\n",
              "                    window.PLOTLYENV=window.PLOTLYENV || {};\n",
              "                    \n",
              "                if (document.getElementById(\"4b8ad687-ea57-4eca-afee-6185510f3eea\")) {\n",
              "                    Plotly.newPlot(\n",
              "                        '4b8ad687-ea57-4eca-afee-6185510f3eea',\n",
              "                        [{\"marker\": {\"color\": \"rgba(255, 128, 2, 0.8)\"}, \"mode\": \"markers\", \"name\": \"Year of Construction\", \"type\": \"scatter\", \"x\": [2019, 2020, 1997, 1900, 2020, 1997, 2015, 1900, 1971, 2020, 2019, 2020, 2019, 2016, 2019, 2018, 2020, 2018, 2020, 2019, 2019, 1994, 2019, 2020, 1918, 2020, 2014, 2015, 2019, 2016, 2019, 2019, 1990, 2017, 2017, 2019, 2019, 1969, 1930, 2019, 1998, 1990, 1900, 2016, 2020, 2019, 2017, 1918, 2019, 1900, 2017, 1918, 2019, 1905, 2019, 2019, 2015, 2017, 1902, 2016, 1918, 2016, 2019, 2015, 2014, 2019, 2018, 2016, 2019, 1900, 1902, 1900, 1910, 2017, 2017, 1890, 1867, 2019, 2015, 1902, 2018, 2019, 2019, 2020, 1910, 2020, 1959, 2013, 2011, 2018, 2013, 1889, 2013, 2015, 2020, 2013, 2013, 1890, 1973, 1900, 2019, 1900, 2019, 1887, 2019, 2003, 2019, 2019, 2019, 1998, 2019, 1999, 1904, 2005, 1992, 1905, 1900, 2006, 2009, 2005, 2018, 1919, 2018, 1900, 1959, 1900, 1887, 1995, 2018, 2020, 1959, 2013, 2019, 1910, 1976, 1976, 2020, 2017, 2019, 2019, 2019, 2015, 2018, 2019, 2019, 2019, 1870, 2019, 1910, 2020, 2019, 2019, 1983, 2019, 2019, 1995, 2016, 1900, 2013, 2019, 2019, 1997, 1900, 2019, 1997, 1997, 1997, 2019, 2019, 1971, 1997, 1997, 1997, 1864, 1908, 2019, 1890, 1900, 1900, 1900, 2018, 2017, 1970, 2016, 1964, 1900, 1980, 1890, 2020, 2020, 1976, 2015, 2018, 2019, 2020, 1910, 1986, 1930, 2017, 2018, 2018, 1870, 1966, 2015, 1972, 1973, 1900, 1956, 1956, 1870, 2019, 1900, 1996, 2014, 1995, 1906, 1919, 2014, 1919, 1996, 2015, 1919, 1919, 2019, 2015, 2019, 2014, 2018, 1929, 1997, 1970, 1896, 1910, 1973, 1908, 2018, 1906, 2019, 1917, 1966, 2015, 1900, 2017, 1914, 1887, 1900, 2019, 1914, 1930, 1996, 2015, 1914, 1914, 2019, 2018, 2020, 2019, 2020, 1995, 2017, 2019, 2019, 2019, 1999, 1973, 1971, 1906, 1972, 2013, 2017, 1997, 2016, 2014, 1997, 1900, 1997, 2019, 2013, 1910, 2017, 1958, 2005, 1964, 1892, 1959, 2015, 1996, 1996, 2016, 1982, 2005, 2017, 2017, 1900, 2017, 2017, 2017, 1912, 1900, 1900, 2017, 1910, 1991, 1965, 2019, 1879, 2014, 1906, 2018, 1906, 2018, 1917, 2019, 1900, 2019, 2019, 2020, 1900, 1973, 1870, 1870, 1870, 1900, 1920, 1918, 1870, 2019, 1905, 2015, 1959, 1920, 1919, 2015, 2020, 1995, 2019, 2018, 1900, 2020, 2019, 1900, 2019, 1993, 1962, 2018, 1913, 2019, 2017, 2017, 2015, 2019, 2019, 2019, 2015, 2020, 2014, 2019, 1903, 2017, 2012, 2018, 1998, 2020, 2019, 1956, 1908, 2019, 2019, 1918, 1908, 1986, 1953, 1910, 2014, 2019, 2017, 2020, 1958, 2020, 2010, 2020, 2020, 2020, 2020, 2020, 1903, 2020, 1977, 1963, 1963, 2019, 1961, 2000, 2016, 2013, 2019, 1991, 1956, 2020, 1895, 1991, 1895, 2020, 2017, 1999, 2017, 1988, 2013, 1900, 1900, 1890, 1900, 1979, 2016, 1979, 1979, 1900, 1979, 1979, 1905, 1984, 2015, 2019, 1987, 2019, 1979, 1979, 2019, 1910, 1979, 1994, 2018, 2018, 2018, 2018, 1903, 2018, 2019, 2018, 2018, 2018, 2018, 2018, 2020, 2019, 2016, 1894, 1984, 2019, 2017, 2019, 2020, 2019, 2017, 1900, 2016, 1982, 1892, 2019, 1905, 1886, 1906, 2019, 1892, 2014, 1980, 2019, 1873, 2019, 2019, 2017, 1998, 2019, 1975, 1892, 1892, 1974, 1892, 2020, 2019, 1966, 1900, 1904, 1930, 2019, 2019, 2019, 2016, 1912, 2019, 1965, 2016, 1900, 2000, 1966, 2020, 1996, 1996, 2019, 2020, 1910, 2010, 1900, 2015, 2019, 2019, 2017, 2019, 2019, 2020, 2020, 1965, 1997, 2016, 1994, 1994, 1994, 2016, 2006, 1922, 2016, 1905, 2016, 1969, 2020, 2017, 2019, 2019, 1910, 2019, 1998, 1910, 2019, 1900, 1979, 1900, 1900, 2020, 1969, 2019, 1970, 2020, 2020, 2016, 1977, 2019, 2020, 2019, 2019, 2019, 2020, 1917, 1985, 1900, 1917, 1999, 2019, 1900, 1917, 1901, 1885, 2016, 2020, 1917, 2017, 2018, 1917, 2017, 2018, 2013, 2014, 2019, 1900, 1998, 2019, 2019, 2020, 2019, 1915, 2019, 1900, 2019, 1990, 2019, 2019, 1990, 1969, 1998, 2015, 2018, 2018, 2018, 2018, 2019, 2018, 2010, 2018, 2020, 2020, 2020, 2019, 2010, 2019, 2020, 2020, 1969, 2019, 2017, 2013, 2019, 2019, 2019, 1984, 2019, 2020, 2016, 2020, 2019, 2020, 2019, 2019, 2019, 2019, 1902, 1966, 2019, 2019, 2019, 2019, 1966, 2019, 2019, 2018, 2015, 2019, 2019, 1988, 1915, 2019, 1885, 2016, 1911, 2018, 1990, 2019, 2018, 2019, 1917, 2018, 2019, 2018, 1910, 2019, 2019, 2019, 2018, 2019, 1997, 2019, 1900, 2019, 2008, 2019, 2019, 2019, 2019, 2019, 2019, 2019, 2019, 2019, 2019, 2019, 1918, 1914, 1912, 2019, 2019, 1990, 2019, 2014, 2018, 2018, 1936, 2019, 1998, 1970, 1896, 2019, 2019, 1994, 1911, 1970, 2016, 2015, 2019, 1978, 1874, 2019, 2018, 2019, 2019, 2019, 2014, 1906, 2019, 1998, 2019, 2019, 1903, 1906, 2017, 1906, 2018, 2019, 2018, 1900, 2018, 2015, 1904, 1900, 2018, 1906, 1905, 1900, 1900, 2018, 2018, 2019, 2015, 2017, 2018, 1901, 2014, 2019, 2014, 2009, 1900, 2016, 2017, 2018, 2016, 2016, 2015, 1996, 2018, 2017, 2017, 2015, 1895, 1969, 1997, 2018, 2017, 1879, 1908, 2017, 1900, 1905, 2017, 2017, 2017, 2017, 1990], \"y\": [2659.0, 1200.0, 979.0, 1830.22, 2272.0, 840.0, 1509.45, 730.73, 561.93, 1789.0, 2499.0, 2328.0, 2500.0, 6450.0, 1399.65, 1505.6, 1429.1, 930.0, 868.06, 2179.0, 1829.0, 1589.0, 1831.0, 1060.0, 3103.0, 1619.0, 715.0, 1237.83, 2290.0, 1810.0, 2320.0, 2230.0, 2155.0, 2660.9, 1427.82, 3170.0, 999.0, 849.24, 658.11, 1340.0, 2433.0, 3275.0, 311.04, 3677.7, 1740.0, 1404.66, 772.0, 479.87, 1853.33, 511.15, 845.0, 2724.17, 2251.0, 3195.0, 2812.0, 976.0, 2044.85, 959.0, 850.0, 2071.9, 4500.0, 5530.0, 1049.0, 1629.0, 1640.0, 1498.0, 889.0, 1598.0, 4945.0, 1500.0, 1949.26, 1265.0, 2500.0, 1565.0, 1550.0, 1424.75, 4400.0, 1690.0, 3400.0, 1189.48, 1570.0, 1000.0, 2680.0, 2100.0, 450.0, 1520.0, 1025.0, 1790.0, 1960.0, 1610.0, 1690.0, 794.0, 1790.0, 3228.25, 2862.0, 3390.0, 1490.0, 383.46, 872.07, 900.0, 3732.64, 4288.0, 3251.66, 4500.0, 2237.78, 2000.0, 3362.41, 3664.25, 2080.0, 2227.0, 1750.0, 2879.0, 3780.0, 2320.0, 1318.0, 1209.0, 990.0, 4475.0, 1850.0, 5930.0, 2076.38, 1820.0, 1499.0, 1609.64, 1550.0, 1215.0, 1320.0, 836.0, 1455.0, 1038.0, 1615.57, 1480.0, 2244.0, 2555.0, 1095.0, 1265.0, 1633.0, 3295.0, 1368.17, 1300.0, 1300.0, 1683.0, 969.0, 1784.0, 1300.0, 990.0, 1706.81, 1300.0, 3739.46, 1388.0, 1533.0, 1883.27, 440.94, 990.0, 1490.0, 3593.17, 1240.0, 735.0, 2250.0, 1673.95, 1950.0, 919.0, 421.87, 1386.43, 719.0, 719.0, 719.0, 999.0, 1901.0, 496.13, 649.0, 895.0, 719.0, 2199.0, 583.03, 1397.0, 2999.0, 271.25, 458.91, 433.71, 1563.75, 2550.0, 670.86, 1405.0, 1266.3, 1665.0, 3000.0, 1116.0, 1703.0, 2180.0, 960.0, 2370.71, 1645.0, 773.6, 1478.0, 914.0, 3060.0, 1159.0, 1180.0, 1872.0, 1707.0, 1454.18, 737.49, 1528.25, 705.06, 605.8, 407.42, 1399.92, 1399.92, 1590.39, 1800.0, 408.78, 1465.62, 1691.0, 1625.0, 2124.29, 1510.0, 1600.0, 1410.0, 1897.2, 4192.63, 1570.0, 1470.0, 2528.86, 1800.0, 1359.33, 1480.0, 2670.0, 691.29, 1935.17, 1093.16, 2260.0, 900.23, 887.53, 621.38, 2580.0, 2124.29, 1783.89, 674.8, 435.74, 2990.0, 378.14, 1563.75, 1876.78, 4500.0, 9774.0, 1397.0, 1897.5, 1189.27, 1987.04, 2434.0, 2410.8, 2346.0, 1069.26, 699.0, 1258.0, 1942.72, 2250.0, 668.4, 1777.0, 1265.0, 2096.0, 1350.0, 1500.0, 885.68, 656.1, 1007.0, 489.07, 4600.0, 2450.0, 649.0, 2148.0, 1639.0, 909.0, 565.63, 889.0, 1800.0, 1615.0, 352.95, 2997.0, 404.39, 6855.48, 280.74, 720.0, 2180.0, 4325.69, 2492.05, 2322.02, 1650.0, 2567.0, 2277.91, 845.0, 771.0, 1571.44, 680.0, 803.0, 793.0, 1557.28, 2320.0, 1301.13, 730.0, 1010.31, 1930.38, 705.92, 1181.3, 2043.49, 3568.5, 2115.0, 1530.0, 2734.0, 1500.0, 1490.0, 1040.51, 547.9, 3360.0, 1181.3, 1500.0, 2752.0, 599.74, 1558.8, 1590.35, 2159.2, 580.16, 2950.0, 960.38, 1494.64, 1817.0, 2105.0, 5774.83, 755.3, 1650.0, 1570.0, 2405.0, 1493.0, 1685.0, 759.0, 1300.0, 877.71, 1845.0, 2060.0, 1440.0, 2485.0, 1200.0, 780.0, 3380.0, 2498.0, 1040.0, 1055.43, 1720.0, 1980.0, 2375.0, 967.4, 1785.0, 2435.0, 1350.0, 2310.0, 1290.0, 1359.0, 1700.0, 1136.72, 1500.0, 1250.0, 2380.0, 2170.0, 1040.0, 975.0, 1999.47, 1490.0, 1200.0, 2040.0, 512.93, 1250.0, 1600.0, 2799.0, 1160.0, 950.0, 1654.39, 920.0, 993.96, 4875.0, 1428.64, 984.4, 914.87, 776.47, 886.05, 950.0, 2400.0, 379.95, 669.0, 1400.0, 558.06, 964.0, 924.44, 1394.0, 1632.54, 2202.0, 727.0, 427.0, 1266.28, 475.0, 1700.0, 2850.0, 1452.8, 1480.0, 1395.0, 1959.0, 2255.84, 938.0, 1650.0, 1650.0, 2815.0, 1650.0, 1161.0, 2028.2, 563.91, 642.77, 1650.0, 420.09, 808.46, 620.0, 2193.0, 900.0, 1231.23, 971.15, 991.19, 887.0, 1370.0, 690.0, 712.0, 982.0, 1246.0, 1755.0, 1228.75, 1753.0, 1223.98, 685.0, 1432.6, 1530.0, 2620.0, 2484.62, 1565.4, 1780.9, 2079.02, 1800.0, 1635.0, 768.0, 4800.0, 585.0, 1413.03, 2300.0, 1380.05, 1200.0, 811.1, 1609.1, 2320.0, 1030.0, 647.05, 3090.4, 816.49, 699.3, 846.0, 1124.93, 2807.0, 2892.25, 2488.0, 1749.32, 3994.0, 2708.0, 1336.41, 4184.0, 1854.98, 570.0, 2293.31, 1200.0, 1502.0, 1015.0, 1400.0, 825.0, 1499.0, 2070.0, 876.0, 2320.0, 1700.0, 656.5, 886.05, 703.86, 1886.81, 1500.0, 1660.0, 1690.0, 478.52, 1600.0, 2999.0, 670.03, 860.0, 2269.0, 948.1, 873.0, 2130.31, 969.0, 1175.72, 1200.0, 1834.0, 1349.58, 1320.49, 1886.3, 2295.0, 1980.0, 1846.23, 1447.0, 1770.0, 1343.0, 750.0, 730.36, 1281.5, 976.5, 984.5, 719.56, 2170.0, 2170.0, 995.0, 1250.0, 995.0, 921.59, 1236.72, 1090.0, 2105.4, 1497.45, 829.0, 948.09, 1494.0, 829.0, 2475.98, 2549.0, 1182.0, 1350.0, 3104.0, 1160.55, 1285.0, 1725.15, 575.45, 1709.33, 1535.3, 1356.44, 521.09, 1890.0, 1277.21, 1939.2, 2645.9, 2630.39, 813.4, 1906.14, 960.0, 2039.0, 2265.47, 1184.0, 2700.0, 1639.52, 891.65, 1489.0, 4800.0, 1455.61, 2550.0, 1565.56, 2865.49, 2014.21, 1760.37, 1191.35, 2280.0, 4450.0, 1558.0, 1174.25, 1519.0, 1650.0, 2499.59, 1997.37, 1095.0, 2073.32, 1783.08, 1358.64, 1834.0, 1327.99, 1163.0, 2575.0, 1356.04, 2427.0, 1202.0, 2555.0, 1250.06, 1529.0, 5936.4, 5936.4, 4747.6, 1800.0, 4747.6, 2650.0, 4747.6, 2138.68, 1189.09, 929.34, 1960.8, 2150.0, 1124.0, 896.46, 2033.1, 1031.0, 2039.3, 398.0, 1800.0, 2075.12, 2067.77, 1347.51, 2162.0, 2041.0, 1320.73, 1700.0, 1429.1, 2007.02, 868.06, 1326.61, 2020.99, 2031.52, 2508.24, 2125.0, 1410.0, 1841.68, 2130.96, 2525.97, 1627.11, 1410.0, 1774.43, 1768.29, 2280.0, 4678.3, 1788.57, 2851.96, 3160.0, 1488.25, 1869.56, 2200.0, 1814.85, 3250.0, 1720.0, 2175.0, 1449.24, 1756.36, 5322.5, 1958.69, 2288.06, 2436.48, 2356.2, 2525.0, 2283.98, 6022.5, 1788.14, 2488.26, 929.0, 1897.95, 2107.43, 2982.41, 2130.96, 1755.0, 1839.78, 3230.0, 1846.87, 525.0, 2158.01, 1774.43, 2119.62, 2525.97, 1959.27, 2642.69, 2622.9, 1383.23, 2069.26, 5876.35, 1833.98, 2440.56, 2286.0, 2851.96, 1200.0, 2105.0, 1931.26, 1716.0, 1774.15, 2630.0, 1349.0, 2500.0, 2508.24, 2065.06, 1567.39, 1367.0, 1099.0, 1561.65, 14207.0, 1757.11, 1063.0, 1399.0, 2497.38, 1697.0, 2260.46, 2264.83, 2747.36, 1990.0, 1395.0, 2198.75, 2555.0, 2198.97, 1768.29, 869.0, 1294.0, 1100.0, 1321.0, 1314.15, 2390.0, 899.0, 1236.5, 3706.83, 1550.0, 660.0, 914.0, 2555.59, 2740.0, 1793.0, 1266.0, 1282.5, 1454.74, 2439.6, 1970.0, 2811.38, 655.0, 1524.0, 1489.0, 2300.0, 2129.0, 1350.0, 3500.0, 843.0, 1357.46, 1007.0, 610.0, 3925.0, 1283.71, 622.0, 1366.0, 780.0, 741.0, 771.0, 4040.0, 1728.0, 1079.0, 770.0, 2180.0, 720.0, 2155.5, 577.0, 772.0, 1970.0, 693.0, 959.0, 649.0, 2750.0, 1259.0, 888.0]}],\n",
              "                        {\"template\": {\"data\": {\"bar\": [{\"error_x\": {\"color\": \"#2a3f5f\"}, \"error_y\": {\"color\": \"#2a3f5f\"}, \"marker\": {\"line\": {\"color\": \"#E5ECF6\", \"width\": 0.5}}, \"type\": \"bar\"}], \"barpolar\": [{\"marker\": {\"line\": {\"color\": \"#E5ECF6\", \"width\": 0.5}}, \"type\": \"barpolar\"}], \"carpet\": [{\"aaxis\": {\"endlinecolor\": \"#2a3f5f\", \"gridcolor\": \"white\", \"linecolor\": \"white\", \"minorgridcolor\": \"white\", \"startlinecolor\": \"#2a3f5f\"}, \"baxis\": {\"endlinecolor\": \"#2a3f5f\", \"gridcolor\": \"white\", \"linecolor\": \"white\", \"minorgridcolor\": \"white\", \"startlinecolor\": \"#2a3f5f\"}, \"type\": \"carpet\"}], \"choropleth\": [{\"colorbar\": {\"outlinewidth\": 0, \"ticks\": \"\"}, \"type\": \"choropleth\"}], \"contour\": [{\"colorbar\": {\"outlinewidth\": 0, \"ticks\": \"\"}, \"colorscale\": [[0.0, \"#0d0887\"], [0.1111111111111111, \"#46039f\"], [0.2222222222222222, \"#7201a8\"], [0.3333333333333333, \"#9c179e\"], [0.4444444444444444, \"#bd3786\"], [0.5555555555555556, \"#d8576b\"], [0.6666666666666666, \"#ed7953\"], [0.7777777777777778, \"#fb9f3a\"], [0.8888888888888888, \"#fdca26\"], [1.0, \"#f0f921\"]], \"type\": \"contour\"}], \"contourcarpet\": [{\"colorbar\": {\"outlinewidth\": 0, \"ticks\": \"\"}, \"type\": \"contourcarpet\"}], \"heatmap\": [{\"colorbar\": {\"outlinewidth\": 0, \"ticks\": \"\"}, \"colorscale\": [[0.0, \"#0d0887\"], [0.1111111111111111, \"#46039f\"], [0.2222222222222222, \"#7201a8\"], [0.3333333333333333, \"#9c179e\"], [0.4444444444444444, \"#bd3786\"], [0.5555555555555556, \"#d8576b\"], [0.6666666666666666, \"#ed7953\"], [0.7777777777777778, \"#fb9f3a\"], [0.8888888888888888, \"#fdca26\"], [1.0, \"#f0f921\"]], \"type\": \"heatmap\"}], \"heatmapgl\": [{\"colorbar\": {\"outlinewidth\": 0, \"ticks\": \"\"}, \"colorscale\": [[0.0, \"#0d0887\"], [0.1111111111111111, \"#46039f\"], [0.2222222222222222, \"#7201a8\"], [0.3333333333333333, \"#9c179e\"], [0.4444444444444444, \"#bd3786\"], [0.5555555555555556, \"#d8576b\"], [0.6666666666666666, \"#ed7953\"], [0.7777777777777778, \"#fb9f3a\"], [0.8888888888888888, \"#fdca26\"], [1.0, \"#f0f921\"]], \"type\": \"heatmapgl\"}], \"histogram\": [{\"marker\": {\"colorbar\": {\"outlinewidth\": 0, \"ticks\": \"\"}}, \"type\": \"histogram\"}], \"histogram2d\": [{\"colorbar\": {\"outlinewidth\": 0, \"ticks\": \"\"}, \"colorscale\": [[0.0, \"#0d0887\"], [0.1111111111111111, \"#46039f\"], [0.2222222222222222, \"#7201a8\"], [0.3333333333333333, \"#9c179e\"], [0.4444444444444444, \"#bd3786\"], [0.5555555555555556, \"#d8576b\"], [0.6666666666666666, \"#ed7953\"], [0.7777777777777778, \"#fb9f3a\"], [0.8888888888888888, \"#fdca26\"], [1.0, \"#f0f921\"]], \"type\": \"histogram2d\"}], \"histogram2dcontour\": [{\"colorbar\": {\"outlinewidth\": 0, \"ticks\": \"\"}, \"colorscale\": [[0.0, \"#0d0887\"], [0.1111111111111111, \"#46039f\"], [0.2222222222222222, \"#7201a8\"], [0.3333333333333333, \"#9c179e\"], [0.4444444444444444, \"#bd3786\"], [0.5555555555555556, \"#d8576b\"], [0.6666666666666666, \"#ed7953\"], [0.7777777777777778, \"#fb9f3a\"], [0.8888888888888888, \"#fdca26\"], [1.0, \"#f0f921\"]], \"type\": \"histogram2dcontour\"}], \"mesh3d\": [{\"colorbar\": {\"outlinewidth\": 0, \"ticks\": \"\"}, \"type\": \"mesh3d\"}], \"parcoords\": [{\"line\": {\"colorbar\": {\"outlinewidth\": 0, \"ticks\": \"\"}}, \"type\": \"parcoords\"}], \"pie\": [{\"automargin\": true, \"type\": \"pie\"}], \"scatter\": [{\"marker\": {\"colorbar\": {\"outlinewidth\": 0, \"ticks\": \"\"}}, \"type\": \"scatter\"}], \"scatter3d\": [{\"line\": {\"colorbar\": {\"outlinewidth\": 0, \"ticks\": \"\"}}, \"marker\": {\"colorbar\": {\"outlinewidth\": 0, \"ticks\": \"\"}}, \"type\": \"scatter3d\"}], \"scattercarpet\": [{\"marker\": {\"colorbar\": {\"outlinewidth\": 0, \"ticks\": \"\"}}, \"type\": \"scattercarpet\"}], \"scattergeo\": [{\"marker\": {\"colorbar\": {\"outlinewidth\": 0, \"ticks\": \"\"}}, \"type\": \"scattergeo\"}], \"scattergl\": [{\"marker\": {\"colorbar\": {\"outlinewidth\": 0, \"ticks\": \"\"}}, \"type\": \"scattergl\"}], \"scattermapbox\": [{\"marker\": {\"colorbar\": {\"outlinewidth\": 0, \"ticks\": \"\"}}, \"type\": \"scattermapbox\"}], \"scatterpolar\": [{\"marker\": {\"colorbar\": {\"outlinewidth\": 0, \"ticks\": \"\"}}, \"type\": \"scatterpolar\"}], \"scatterpolargl\": [{\"marker\": {\"colorbar\": {\"outlinewidth\": 0, \"ticks\": \"\"}}, \"type\": \"scatterpolargl\"}], \"scatterternary\": [{\"marker\": {\"colorbar\": {\"outlinewidth\": 0, \"ticks\": \"\"}}, \"type\": \"scatterternary\"}], \"surface\": [{\"colorbar\": {\"outlinewidth\": 0, \"ticks\": \"\"}, \"colorscale\": [[0.0, \"#0d0887\"], [0.1111111111111111, \"#46039f\"], [0.2222222222222222, \"#7201a8\"], [0.3333333333333333, \"#9c179e\"], [0.4444444444444444, \"#bd3786\"], [0.5555555555555556, \"#d8576b\"], [0.6666666666666666, \"#ed7953\"], [0.7777777777777778, \"#fb9f3a\"], [0.8888888888888888, \"#fdca26\"], [1.0, \"#f0f921\"]], \"type\": \"surface\"}], \"table\": [{\"cells\": {\"fill\": {\"color\": \"#EBF0F8\"}, \"line\": {\"color\": \"white\"}}, \"header\": {\"fill\": {\"color\": \"#C8D4E3\"}, \"line\": {\"color\": \"white\"}}, \"type\": \"table\"}]}, \"layout\": {\"annotationdefaults\": {\"arrowcolor\": \"#2a3f5f\", \"arrowhead\": 0, \"arrowwidth\": 1}, \"coloraxis\": {\"colorbar\": {\"outlinewidth\": 0, \"ticks\": \"\"}}, \"colorscale\": {\"diverging\": [[0, \"#8e0152\"], [0.1, \"#c51b7d\"], [0.2, \"#de77ae\"], [0.3, \"#f1b6da\"], [0.4, \"#fde0ef\"], [0.5, \"#f7f7f7\"], [0.6, \"#e6f5d0\"], [0.7, \"#b8e186\"], [0.8, \"#7fbc41\"], [0.9, \"#4d9221\"], [1, \"#276419\"]], \"sequential\": [[0.0, \"#0d0887\"], [0.1111111111111111, \"#46039f\"], [0.2222222222222222, \"#7201a8\"], [0.3333333333333333, \"#9c179e\"], [0.4444444444444444, \"#bd3786\"], [0.5555555555555556, \"#d8576b\"], [0.6666666666666666, \"#ed7953\"], [0.7777777777777778, \"#fb9f3a\"], [0.8888888888888888, \"#fdca26\"], [1.0, \"#f0f921\"]], \"sequentialminus\": [[0.0, \"#0d0887\"], [0.1111111111111111, \"#46039f\"], [0.2222222222222222, \"#7201a8\"], [0.3333333333333333, \"#9c179e\"], [0.4444444444444444, \"#bd3786\"], [0.5555555555555556, \"#d8576b\"], [0.6666666666666666, \"#ed7953\"], [0.7777777777777778, \"#fb9f3a\"], [0.8888888888888888, \"#fdca26\"], [1.0, \"#f0f921\"]]}, \"colorway\": [\"#636efa\", \"#EF553B\", \"#00cc96\", \"#ab63fa\", \"#FFA15A\", \"#19d3f3\", \"#FF6692\", \"#B6E880\", \"#FF97FF\", \"#FECB52\"], \"font\": {\"color\": \"#2a3f5f\"}, \"geo\": {\"bgcolor\": \"white\", \"lakecolor\": \"white\", \"landcolor\": \"#E5ECF6\", \"showlakes\": true, \"showland\": true, \"subunitcolor\": \"white\"}, \"hoverlabel\": {\"align\": \"left\"}, \"hovermode\": \"closest\", \"mapbox\": {\"style\": \"light\"}, \"paper_bgcolor\": \"white\", \"plot_bgcolor\": \"#E5ECF6\", \"polar\": {\"angularaxis\": {\"gridcolor\": \"white\", \"linecolor\": \"white\", \"ticks\": \"\"}, \"bgcolor\": \"#E5ECF6\", \"radialaxis\": {\"gridcolor\": \"white\", \"linecolor\": \"white\", \"ticks\": \"\"}}, \"scene\": {\"xaxis\": {\"backgroundcolor\": \"#E5ECF6\", \"gridcolor\": \"white\", \"gridwidth\": 2, \"linecolor\": \"white\", \"showbackground\": true, \"ticks\": \"\", \"zerolinecolor\": \"white\"}, \"yaxis\": {\"backgroundcolor\": \"#E5ECF6\", \"gridcolor\": \"white\", \"gridwidth\": 2, \"linecolor\": \"white\", \"showbackground\": true, \"ticks\": \"\", \"zerolinecolor\": \"white\"}, \"zaxis\": {\"backgroundcolor\": \"#E5ECF6\", \"gridcolor\": \"white\", \"gridwidth\": 2, \"linecolor\": \"white\", \"showbackground\": true, \"ticks\": \"\", \"zerolinecolor\": \"white\"}}, \"shapedefaults\": {\"line\": {\"color\": \"#2a3f5f\"}}, \"ternary\": {\"aaxis\": {\"gridcolor\": \"white\", \"linecolor\": \"white\", \"ticks\": \"\"}, \"baxis\": {\"gridcolor\": \"white\", \"linecolor\": \"white\", \"ticks\": \"\"}, \"bgcolor\": \"#E5ECF6\", \"caxis\": {\"gridcolor\": \"white\", \"linecolor\": \"white\", \"ticks\": \"\"}}, \"title\": {\"x\": 0.05}, \"xaxis\": {\"automargin\": true, \"gridcolor\": \"white\", \"linecolor\": \"white\", \"ticks\": \"\", \"title\": {\"standoff\": 15}, \"zerolinecolor\": \"white\", \"zerolinewidth\": 2}, \"yaxis\": {\"automargin\": true, \"gridcolor\": \"white\", \"linecolor\": \"white\", \"ticks\": \"\", \"title\": {\"standoff\": 15}, \"zerolinecolor\": \"white\", \"zerolinewidth\": 2}}}, \"title\": {\"text\": \"Relationship between the Year of Construction and the rent\"}, \"xaxis\": {\"ticklen\": 5, \"title\": {\"text\": \"Rent\"}, \"zeroline\": false}, \"yaxis\": {\"ticklen\": 5, \"title\": {\"text\": \"Year of Construction\"}, \"zeroline\": false}},\n",
              "                        {\"responsive\": true}\n",
              "                    ).then(function(){\n",
              "                            \n",
              "var gd = document.getElementById('4b8ad687-ea57-4eca-afee-6185510f3eea');\n",
              "var x = new MutationObserver(function (mutations, observer) {{\n",
              "        var display = window.getComputedStyle(gd).display;\n",
              "        if (!display || display === 'none') {{\n",
              "            console.log([gd, 'removed!']);\n",
              "            Plotly.purge(gd);\n",
              "            observer.disconnect();\n",
              "        }}\n",
              "}});\n",
              "\n",
              "// Listen for the removal of the full notebook cells\n",
              "var notebookContainer = gd.closest('#notebook-container');\n",
              "if (notebookContainer) {{\n",
              "    x.observe(notebookContainer, {childList: true});\n",
              "}}\n",
              "\n",
              "// Listen for the clearing of the current output cell\n",
              "var outputEl = gd.closest('.output');\n",
              "if (outputEl) {{\n",
              "    x.observe(outputEl, {childList: true});\n",
              "}}\n",
              "\n",
              "                        })\n",
              "                };\n",
              "                });\n",
              "            </script>\n",
              "        </div>"
            ],
            "application/vnd.plotly.v1+json": {
              "data": [
                {
                  "name": "Year of Construction",
                  "y": [
                    2659,
                    1200,
                    979,
                    1830.22,
                    2272,
                    840,
                    1509.45,
                    730.73,
                    561.93,
                    1789,
                    2499,
                    2328,
                    2500,
                    6450,
                    1399.65,
                    1505.6,
                    1429.1,
                    930,
                    868.06,
                    2179,
                    1829,
                    1589,
                    1831,
                    1060,
                    3103,
                    1619,
                    715,
                    1237.83,
                    2290,
                    1810,
                    2320,
                    2230,
                    2155,
                    2660.9,
                    1427.82,
                    3170,
                    999,
                    849.24,
                    658.11,
                    1340,
                    2433,
                    3275,
                    311.04,
                    3677.7,
                    1740,
                    1404.66,
                    772,
                    479.87,
                    1853.33,
                    511.15,
                    845,
                    2724.17,
                    2251,
                    3195,
                    2812,
                    976,
                    2044.85,
                    959,
                    850,
                    2071.9,
                    4500,
                    5530,
                    1049,
                    1629,
                    1640,
                    1498,
                    889,
                    1598,
                    4945,
                    1500,
                    1949.26,
                    1265,
                    2500,
                    1565,
                    1550,
                    1424.75,
                    4400,
                    1690,
                    3400,
                    1189.48,
                    1570,
                    1000,
                    2680,
                    2100,
                    450,
                    1520,
                    1025,
                    1790,
                    1960,
                    1610,
                    1690,
                    794,
                    1790,
                    3228.25,
                    2862,
                    3390,
                    1490,
                    383.46,
                    872.07,
                    900,
                    3732.64,
                    4288,
                    3251.66,
                    4500,
                    2237.78,
                    2000,
                    3362.41,
                    3664.25,
                    2080,
                    2227,
                    1750,
                    2879,
                    3780,
                    2320,
                    1318,
                    1209,
                    990,
                    4475,
                    1850,
                    5930,
                    2076.38,
                    1820,
                    1499,
                    1609.64,
                    1550,
                    1215,
                    1320,
                    836,
                    1455,
                    1038,
                    1615.57,
                    1480,
                    2244,
                    2555,
                    1095,
                    1265,
                    1633,
                    3295,
                    1368.17,
                    1300,
                    1300,
                    1683,
                    969,
                    1784,
                    1300,
                    990,
                    1706.81,
                    1300,
                    3739.46,
                    1388,
                    1533,
                    1883.27,
                    440.94,
                    990,
                    1490,
                    3593.17,
                    1240,
                    735,
                    2250,
                    1673.95,
                    1950,
                    919,
                    421.87,
                    1386.43,
                    719,
                    719,
                    719,
                    999,
                    1901,
                    496.13,
                    649,
                    895,
                    719,
                    2199,
                    583.03,
                    1397,
                    2999,
                    271.25,
                    458.91,
                    433.71,
                    1563.75,
                    2550,
                    670.86,
                    1405,
                    1266.3,
                    1665,
                    3000,
                    1116,
                    1703,
                    2180,
                    960,
                    2370.71,
                    1645,
                    773.6,
                    1478,
                    914,
                    3060,
                    1159,
                    1180,
                    1872,
                    1707,
                    1454.18,
                    737.49,
                    1528.25,
                    705.06,
                    605.8,
                    407.42,
                    1399.92,
                    1399.92,
                    1590.39,
                    1800,
                    408.78,
                    1465.62,
                    1691,
                    1625,
                    2124.29,
                    1510,
                    1600,
                    1410,
                    1897.2,
                    4192.63,
                    1570,
                    1470,
                    2528.86,
                    1800,
                    1359.33,
                    1480,
                    2670,
                    691.29,
                    1935.17,
                    1093.16,
                    2260,
                    900.23,
                    887.53,
                    621.38,
                    2580,
                    2124.29,
                    1783.89,
                    674.8,
                    435.74,
                    2990,
                    378.14,
                    1563.75,
                    1876.78,
                    4500,
                    9774,
                    1397,
                    1897.5,
                    1189.27,
                    1987.04,
                    2434,
                    2410.8,
                    2346,
                    1069.26,
                    699,
                    1258,
                    1942.72,
                    2250,
                    668.4,
                    1777,
                    1265,
                    2096,
                    1350,
                    1500,
                    885.68,
                    656.1,
                    1007,
                    489.07,
                    4600,
                    2450,
                    649,
                    2148,
                    1639,
                    909,
                    565.63,
                    889,
                    1800,
                    1615,
                    352.95,
                    2997,
                    404.39,
                    6855.48,
                    280.74,
                    720,
                    2180,
                    4325.69,
                    2492.05,
                    2322.02,
                    1650,
                    2567,
                    2277.91,
                    845,
                    771,
                    1571.44,
                    680,
                    803,
                    793,
                    1557.28,
                    2320,
                    1301.13,
                    730,
                    1010.31,
                    1930.38,
                    705.92,
                    1181.3,
                    2043.49,
                    3568.5,
                    2115,
                    1530,
                    2734,
                    1500,
                    1490,
                    1040.51,
                    547.9,
                    3360,
                    1181.3,
                    1500,
                    2752,
                    599.74,
                    1558.8,
                    1590.35,
                    2159.2,
                    580.16,
                    2950,
                    960.38,
                    1494.64,
                    1817,
                    2105,
                    5774.83,
                    755.3,
                    1650,
                    1570,
                    2405,
                    1493,
                    1685,
                    759,
                    1300,
                    877.71,
                    1845,
                    2060,
                    1440,
                    2485,
                    1200,
                    780,
                    3380,
                    2498,
                    1040,
                    1055.43,
                    1720,
                    1980,
                    2375,
                    967.4,
                    1785,
                    2435,
                    1350,
                    2310,
                    1290,
                    1359,
                    1700,
                    1136.72,
                    1500,
                    1250,
                    2380,
                    2170,
                    1040,
                    975,
                    1999.47,
                    1490,
                    1200,
                    2040,
                    512.93,
                    1250,
                    1600,
                    2799,
                    1160,
                    950,
                    1654.39,
                    920,
                    993.96,
                    4875,
                    1428.64,
                    984.4,
                    914.87,
                    776.47,
                    886.05,
                    950,
                    2400,
                    379.95,
                    669,
                    1400,
                    558.06,
                    964,
                    924.44,
                    1394,
                    1632.54,
                    2202,
                    727,
                    427,
                    1266.28,
                    475,
                    1700,
                    2850,
                    1452.8,
                    1480,
                    1395,
                    1959,
                    2255.84,
                    938,
                    1650,
                    1650,
                    2815,
                    1650,
                    1161,
                    2028.2,
                    563.91,
                    642.77,
                    1650,
                    420.09,
                    808.46,
                    620,
                    2193,
                    900,
                    1231.23,
                    971.15,
                    991.19,
                    887,
                    1370,
                    690,
                    712,
                    982,
                    1246,
                    1755,
                    1228.75,
                    1753,
                    1223.98,
                    685,
                    1432.6,
                    1530,
                    2620,
                    2484.62,
                    1565.4,
                    1780.9,
                    2079.02,
                    1800,
                    1635,
                    768,
                    4800,
                    585,
                    1413.03,
                    2300,
                    1380.05,
                    1200,
                    811.1,
                    1609.1,
                    2320,
                    1030,
                    647.05,
                    3090.4,
                    816.49,
                    699.3,
                    846,
                    1124.93,
                    2807,
                    2892.25,
                    2488,
                    1749.32,
                    3994,
                    2708,
                    1336.41,
                    4184,
                    1854.98,
                    570,
                    2293.31,
                    1200,
                    1502,
                    1015,
                    1400,
                    825,
                    1499,
                    2070,
                    876,
                    2320,
                    1700,
                    656.5,
                    886.05,
                    703.86,
                    1886.81,
                    1500,
                    1660,
                    1690,
                    478.52,
                    1600,
                    2999,
                    670.03,
                    860,
                    2269,
                    948.1,
                    873,
                    2130.31,
                    969,
                    1175.72,
                    1200,
                    1834,
                    1349.58,
                    1320.49,
                    1886.3,
                    2295,
                    1980,
                    1846.23,
                    1447,
                    1770,
                    1343,
                    750,
                    730.36,
                    1281.5,
                    976.5,
                    984.5,
                    719.56,
                    2170,
                    2170,
                    995,
                    1250,
                    995,
                    921.59,
                    1236.72,
                    1090,
                    2105.4,
                    1497.45,
                    829,
                    948.09,
                    1494,
                    829,
                    2475.98,
                    2549,
                    1182,
                    1350,
                    3104,
                    1160.55,
                    1285,
                    1725.15,
                    575.45,
                    1709.33,
                    1535.3,
                    1356.44,
                    521.09,
                    1890,
                    1277.21,
                    1939.2,
                    2645.9,
                    2630.39,
                    813.4,
                    1906.14,
                    960,
                    2039,
                    2265.47,
                    1184,
                    2700,
                    1639.52,
                    891.65,
                    1489,
                    4800,
                    1455.61,
                    2550,
                    1565.56,
                    2865.49,
                    2014.21,
                    1760.37,
                    1191.35,
                    2280,
                    4450,
                    1558,
                    1174.25,
                    1519,
                    1650,
                    2499.59,
                    1997.37,
                    1095,
                    2073.32,
                    1783.08,
                    1358.64,
                    1834,
                    1327.99,
                    1163,
                    2575,
                    1356.04,
                    2427,
                    1202,
                    2555,
                    1250.06,
                    1529,
                    5936.4,
                    5936.4,
                    4747.6,
                    1800,
                    4747.6,
                    2650,
                    4747.6,
                    2138.68,
                    1189.09,
                    929.34,
                    1960.8,
                    2150,
                    1124,
                    896.46,
                    2033.1,
                    1031,
                    2039.3,
                    398,
                    1800,
                    2075.12,
                    2067.77,
                    1347.51,
                    2162,
                    2041,
                    1320.73,
                    1700,
                    1429.1,
                    2007.02,
                    868.06,
                    1326.61,
                    2020.99,
                    2031.52,
                    2508.24,
                    2125,
                    1410,
                    1841.68,
                    2130.96,
                    2525.97,
                    1627.11,
                    1410,
                    1774.43,
                    1768.29,
                    2280,
                    4678.3,
                    1788.57,
                    2851.96,
                    3160,
                    1488.25,
                    1869.56,
                    2200,
                    1814.85,
                    3250,
                    1720,
                    2175,
                    1449.24,
                    1756.36,
                    5322.5,
                    1958.69,
                    2288.06,
                    2436.48,
                    2356.2,
                    2525,
                    2283.98,
                    6022.5,
                    1788.14,
                    2488.26,
                    929,
                    1897.95,
                    2107.43,
                    2982.41,
                    2130.96,
                    1755,
                    1839.78,
                    3230,
                    1846.87,
                    525,
                    2158.01,
                    1774.43,
                    2119.62,
                    2525.97,
                    1959.27,
                    2642.69,
                    2622.9,
                    1383.23,
                    2069.26,
                    5876.35,
                    1833.98,
                    2440.56,
                    2286,
                    2851.96,
                    1200,
                    2105,
                    1931.26,
                    1716,
                    1774.15,
                    2630,
                    1349,
                    2500,
                    2508.24,
                    2065.06,
                    1567.39,
                    1367,
                    1099,
                    1561.65,
                    14207,
                    1757.11,
                    1063,
                    1399,
                    2497.38,
                    1697,
                    2260.46,
                    2264.83,
                    2747.36,
                    1990,
                    1395,
                    2198.75,
                    2555,
                    2198.97,
                    1768.29,
                    869,
                    1294,
                    1100,
                    1321,
                    1314.15,
                    2390,
                    899,
                    1236.5,
                    3706.83,
                    1550,
                    660,
                    914,
                    2555.59,
                    2740,
                    1793,
                    1266,
                    1282.5,
                    1454.74,
                    2439.6,
                    1970,
                    2811.38,
                    655,
                    1524,
                    1489,
                    2300,
                    2129,
                    1350,
                    3500,
                    843,
                    1357.46,
                    1007,
                    610,
                    3925,
                    1283.71,
                    622,
                    1366,
                    780,
                    741,
                    771,
                    4040,
                    1728,
                    1079,
                    770,
                    2180,
                    720,
                    2155.5,
                    577,
                    772,
                    1970,
                    693,
                    959,
                    649,
                    2750,
                    1259,
                    888
                  ],
                  "mode": "markers",
                  "marker": {
                    "color": "rgba(255, 128, 2, 0.8)"
                  },
                  "x": [
                    2019,
                    2020,
                    1997,
                    1900,
                    2020,
                    1997,
                    2015,
                    1900,
                    1971,
                    2020,
                    2019,
                    2020,
                    2019,
                    2016,
                    2019,
                    2018,
                    2020,
                    2018,
                    2020,
                    2019,
                    2019,
                    1994,
                    2019,
                    2020,
                    1918,
                    2020,
                    2014,
                    2015,
                    2019,
                    2016,
                    2019,
                    2019,
                    1990,
                    2017,
                    2017,
                    2019,
                    2019,
                    1969,
                    1930,
                    2019,
                    1998,
                    1990,
                    1900,
                    2016,
                    2020,
                    2019,
                    2017,
                    1918,
                    2019,
                    1900,
                    2017,
                    1918,
                    2019,
                    1905,
                    2019,
                    2019,
                    2015,
                    2017,
                    1902,
                    2016,
                    1918,
                    2016,
                    2019,
                    2015,
                    2014,
                    2019,
                    2018,
                    2016,
                    2019,
                    1900,
                    1902,
                    1900,
                    1910,
                    2017,
                    2017,
                    1890,
                    1867,
                    2019,
                    2015,
                    1902,
                    2018,
                    2019,
                    2019,
                    2020,
                    1910,
                    2020,
                    1959,
                    2013,
                    2011,
                    2018,
                    2013,
                    1889,
                    2013,
                    2015,
                    2020,
                    2013,
                    2013,
                    1890,
                    1973,
                    1900,
                    2019,
                    1900,
                    2019,
                    1887,
                    2019,
                    2003,
                    2019,
                    2019,
                    2019,
                    1998,
                    2019,
                    1999,
                    1904,
                    2005,
                    1992,
                    1905,
                    1900,
                    2006,
                    2009,
                    2005,
                    2018,
                    1919,
                    2018,
                    1900,
                    1959,
                    1900,
                    1887,
                    1995,
                    2018,
                    2020,
                    1959,
                    2013,
                    2019,
                    1910,
                    1976,
                    1976,
                    2020,
                    2017,
                    2019,
                    2019,
                    2019,
                    2015,
                    2018,
                    2019,
                    2019,
                    2019,
                    1870,
                    2019,
                    1910,
                    2020,
                    2019,
                    2019,
                    1983,
                    2019,
                    2019,
                    1995,
                    2016,
                    1900,
                    2013,
                    2019,
                    2019,
                    1997,
                    1900,
                    2019,
                    1997,
                    1997,
                    1997,
                    2019,
                    2019,
                    1971,
                    1997,
                    1997,
                    1997,
                    1864,
                    1908,
                    2019,
                    1890,
                    1900,
                    1900,
                    1900,
                    2018,
                    2017,
                    1970,
                    2016,
                    1964,
                    1900,
                    1980,
                    1890,
                    2020,
                    2020,
                    1976,
                    2015,
                    2018,
                    2019,
                    2020,
                    1910,
                    1986,
                    1930,
                    2017,
                    2018,
                    2018,
                    1870,
                    1966,
                    2015,
                    1972,
                    1973,
                    1900,
                    1956,
                    1956,
                    1870,
                    2019,
                    1900,
                    1996,
                    2014,
                    1995,
                    1906,
                    1919,
                    2014,
                    1919,
                    1996,
                    2015,
                    1919,
                    1919,
                    2019,
                    2015,
                    2019,
                    2014,
                    2018,
                    1929,
                    1997,
                    1970,
                    1896,
                    1910,
                    1973,
                    1908,
                    2018,
                    1906,
                    2019,
                    1917,
                    1966,
                    2015,
                    1900,
                    2017,
                    1914,
                    1887,
                    1900,
                    2019,
                    1914,
                    1930,
                    1996,
                    2015,
                    1914,
                    1914,
                    2019,
                    2018,
                    2020,
                    2019,
                    2020,
                    1995,
                    2017,
                    2019,
                    2019,
                    2019,
                    1999,
                    1973,
                    1971,
                    1906,
                    1972,
                    2013,
                    2017,
                    1997,
                    2016,
                    2014,
                    1997,
                    1900,
                    1997,
                    2019,
                    2013,
                    1910,
                    2017,
                    1958,
                    2005,
                    1964,
                    1892,
                    1959,
                    2015,
                    1996,
                    1996,
                    2016,
                    1982,
                    2005,
                    2017,
                    2017,
                    1900,
                    2017,
                    2017,
                    2017,
                    1912,
                    1900,
                    1900,
                    2017,
                    1910,
                    1991,
                    1965,
                    2019,
                    1879,
                    2014,
                    1906,
                    2018,
                    1906,
                    2018,
                    1917,
                    2019,
                    1900,
                    2019,
                    2019,
                    2020,
                    1900,
                    1973,
                    1870,
                    1870,
                    1870,
                    1900,
                    1920,
                    1918,
                    1870,
                    2019,
                    1905,
                    2015,
                    1959,
                    1920,
                    1919,
                    2015,
                    2020,
                    1995,
                    2019,
                    2018,
                    1900,
                    2020,
                    2019,
                    1900,
                    2019,
                    1993,
                    1962,
                    2018,
                    1913,
                    2019,
                    2017,
                    2017,
                    2015,
                    2019,
                    2019,
                    2019,
                    2015,
                    2020,
                    2014,
                    2019,
                    1903,
                    2017,
                    2012,
                    2018,
                    1998,
                    2020,
                    2019,
                    1956,
                    1908,
                    2019,
                    2019,
                    1918,
                    1908,
                    1986,
                    1953,
                    1910,
                    2014,
                    2019,
                    2017,
                    2020,
                    1958,
                    2020,
                    2010,
                    2020,
                    2020,
                    2020,
                    2020,
                    2020,
                    1903,
                    2020,
                    1977,
                    1963,
                    1963,
                    2019,
                    1961,
                    2000,
                    2016,
                    2013,
                    2019,
                    1991,
                    1956,
                    2020,
                    1895,
                    1991,
                    1895,
                    2020,
                    2017,
                    1999,
                    2017,
                    1988,
                    2013,
                    1900,
                    1900,
                    1890,
                    1900,
                    1979,
                    2016,
                    1979,
                    1979,
                    1900,
                    1979,
                    1979,
                    1905,
                    1984,
                    2015,
                    2019,
                    1987,
                    2019,
                    1979,
                    1979,
                    2019,
                    1910,
                    1979,
                    1994,
                    2018,
                    2018,
                    2018,
                    2018,
                    1903,
                    2018,
                    2019,
                    2018,
                    2018,
                    2018,
                    2018,
                    2018,
                    2020,
                    2019,
                    2016,
                    1894,
                    1984,
                    2019,
                    2017,
                    2019,
                    2020,
                    2019,
                    2017,
                    1900,
                    2016,
                    1982,
                    1892,
                    2019,
                    1905,
                    1886,
                    1906,
                    2019,
                    1892,
                    2014,
                    1980,
                    2019,
                    1873,
                    2019,
                    2019,
                    2017,
                    1998,
                    2019,
                    1975,
                    1892,
                    1892,
                    1974,
                    1892,
                    2020,
                    2019,
                    1966,
                    1900,
                    1904,
                    1930,
                    2019,
                    2019,
                    2019,
                    2016,
                    1912,
                    2019,
                    1965,
                    2016,
                    1900,
                    2000,
                    1966,
                    2020,
                    1996,
                    1996,
                    2019,
                    2020,
                    1910,
                    2010,
                    1900,
                    2015,
                    2019,
                    2019,
                    2017,
                    2019,
                    2019,
                    2020,
                    2020,
                    1965,
                    1997,
                    2016,
                    1994,
                    1994,
                    1994,
                    2016,
                    2006,
                    1922,
                    2016,
                    1905,
                    2016,
                    1969,
                    2020,
                    2017,
                    2019,
                    2019,
                    1910,
                    2019,
                    1998,
                    1910,
                    2019,
                    1900,
                    1979,
                    1900,
                    1900,
                    2020,
                    1969,
                    2019,
                    1970,
                    2020,
                    2020,
                    2016,
                    1977,
                    2019,
                    2020,
                    2019,
                    2019,
                    2019,
                    2020,
                    1917,
                    1985,
                    1900,
                    1917,
                    1999,
                    2019,
                    1900,
                    1917,
                    1901,
                    1885,
                    2016,
                    2020,
                    1917,
                    2017,
                    2018,
                    1917,
                    2017,
                    2018,
                    2013,
                    2014,
                    2019,
                    1900,
                    1998,
                    2019,
                    2019,
                    2020,
                    2019,
                    1915,
                    2019,
                    1900,
                    2019,
                    1990,
                    2019,
                    2019,
                    1990,
                    1969,
                    1998,
                    2015,
                    2018,
                    2018,
                    2018,
                    2018,
                    2019,
                    2018,
                    2010,
                    2018,
                    2020,
                    2020,
                    2020,
                    2019,
                    2010,
                    2019,
                    2020,
                    2020,
                    1969,
                    2019,
                    2017,
                    2013,
                    2019,
                    2019,
                    2019,
                    1984,
                    2019,
                    2020,
                    2016,
                    2020,
                    2019,
                    2020,
                    2019,
                    2019,
                    2019,
                    2019,
                    1902,
                    1966,
                    2019,
                    2019,
                    2019,
                    2019,
                    1966,
                    2019,
                    2019,
                    2018,
                    2015,
                    2019,
                    2019,
                    1988,
                    1915,
                    2019,
                    1885,
                    2016,
                    1911,
                    2018,
                    1990,
                    2019,
                    2018,
                    2019,
                    1917,
                    2018,
                    2019,
                    2018,
                    1910,
                    2019,
                    2019,
                    2019,
                    2018,
                    2019,
                    1997,
                    2019,
                    1900,
                    2019,
                    2008,
                    2019,
                    2019,
                    2019,
                    2019,
                    2019,
                    2019,
                    2019,
                    2019,
                    2019,
                    2019,
                    2019,
                    1918,
                    1914,
                    1912,
                    2019,
                    2019,
                    1990,
                    2019,
                    2014,
                    2018,
                    2018,
                    1936,
                    2019,
                    1998,
                    1970,
                    1896,
                    2019,
                    2019,
                    1994,
                    1911,
                    1970,
                    2016,
                    2015,
                    2019,
                    1978,
                    1874,
                    2019,
                    2018,
                    2019,
                    2019,
                    2019,
                    2014,
                    1906,
                    2019,
                    1998,
                    2019,
                    2019,
                    1903,
                    1906,
                    2017,
                    1906,
                    2018,
                    2019,
                    2018,
                    1900,
                    2018,
                    2015,
                    1904,
                    1900,
                    2018,
                    1906,
                    1905,
                    1900,
                    1900,
                    2018,
                    2018,
                    2019,
                    2015,
                    2017,
                    2018,
                    1901,
                    2014,
                    2019,
                    2014,
                    2009,
                    1900,
                    2016,
                    2017,
                    2018,
                    2016,
                    2016,
                    2015,
                    1996,
                    2018,
                    2017,
                    2017,
                    2015,
                    1895,
                    1969,
                    1997,
                    2018,
                    2017,
                    1879,
                    1908,
                    2017,
                    1900,
                    1905,
                    2017,
                    2017,
                    2017,
                    2017,
                    1990
                  ],
                  "type": "scatter"
                }
              ],
              "config": {
                "plotlyServerURL": "https://plot.ly",
                "linkText": "Export to plot.ly",
                "showLink": false
              },
              "layout": {
                "yaxis": {
                  "zeroline": false,
                  "ticklen": 5,
                  "title": {
                    "text": "Year of Construction"
                  }
                },
                "xaxis": {
                  "zeroline": false,
                  "ticklen": 5,
                  "title": {
                    "text": "Rent"
                  }
                },
                "template": {
                  "layout": {
                    "shapedefaults": {
                      "line": {
                        "color": "#2a3f5f"
                      }
                    },
                    "polar": {
                      "radialaxis": {
                        "ticks": "",
                        "gridcolor": "white",
                        "linecolor": "white"
                      },
                      "bgcolor": "#E5ECF6",
                      "angularaxis": {
                        "ticks": "",
                        "gridcolor": "white",
                        "linecolor": "white"
                      }
                    },
                    "colorway": [
                      "#636efa",
                      "#EF553B",
                      "#00cc96",
                      "#ab63fa",
                      "#FFA15A",
                      "#19d3f3",
                      "#FF6692",
                      "#B6E880",
                      "#FF97FF",
                      "#FECB52"
                    ],
                    "xaxis": {
                      "automargin": true,
                      "title": {
                        "standoff": 15
                      },
                      "zerolinewidth": 2,
                      "ticks": "",
                      "zerolinecolor": "white",
                      "gridcolor": "white",
                      "linecolor": "white"
                    },
                    "colorscale": {
                      "diverging": [
                        [
                          0,
                          "#8e0152"
                        ],
                        [
                          0.1,
                          "#c51b7d"
                        ],
                        [
                          0.2,
                          "#de77ae"
                        ],
                        [
                          0.3,
                          "#f1b6da"
                        ],
                        [
                          0.4,
                          "#fde0ef"
                        ],
                        [
                          0.5,
                          "#f7f7f7"
                        ],
                        [
                          0.6,
                          "#e6f5d0"
                        ],
                        [
                          0.7,
                          "#b8e186"
                        ],
                        [
                          0.8,
                          "#7fbc41"
                        ],
                        [
                          0.9,
                          "#4d9221"
                        ],
                        [
                          1,
                          "#276419"
                        ]
                      ],
                      "sequential": [
                        [
                          0,
                          "#0d0887"
                        ],
                        [
                          0.1111111111111111,
                          "#46039f"
                        ],
                        [
                          0.2222222222222222,
                          "#7201a8"
                        ],
                        [
                          0.3333333333333333,
                          "#9c179e"
                        ],
                        [
                          0.4444444444444444,
                          "#bd3786"
                        ],
                        [
                          0.5555555555555556,
                          "#d8576b"
                        ],
                        [
                          0.6666666666666666,
                          "#ed7953"
                        ],
                        [
                          0.7777777777777778,
                          "#fb9f3a"
                        ],
                        [
                          0.8888888888888888,
                          "#fdca26"
                        ],
                        [
                          1,
                          "#f0f921"
                        ]
                      ],
                      "sequentialminus": [
                        [
                          0,
                          "#0d0887"
                        ],
                        [
                          0.1111111111111111,
                          "#46039f"
                        ],
                        [
                          0.2222222222222222,
                          "#7201a8"
                        ],
                        [
                          0.3333333333333333,
                          "#9c179e"
                        ],
                        [
                          0.4444444444444444,
                          "#bd3786"
                        ],
                        [
                          0.5555555555555556,
                          "#d8576b"
                        ],
                        [
                          0.6666666666666666,
                          "#ed7953"
                        ],
                        [
                          0.7777777777777778,
                          "#fb9f3a"
                        ],
                        [
                          0.8888888888888888,
                          "#fdca26"
                        ],
                        [
                          1,
                          "#f0f921"
                        ]
                      ]
                    },
                    "paper_bgcolor": "white",
                    "plot_bgcolor": "#E5ECF6",
                    "title": {
                      "x": 0.05
                    },
                    "scene": {
                      "zaxis": {
                        "backgroundcolor": "#E5ECF6",
                        "ticks": "",
                        "gridwidth": 2,
                        "showbackground": true,
                        "zerolinecolor": "white",
                        "gridcolor": "white",
                        "linecolor": "white"
                      },
                      "xaxis": {
                        "backgroundcolor": "#E5ECF6",
                        "ticks": "",
                        "gridwidth": 2,
                        "showbackground": true,
                        "zerolinecolor": "white",
                        "gridcolor": "white",
                        "linecolor": "white"
                      },
                      "yaxis": {
                        "backgroundcolor": "#E5ECF6",
                        "ticks": "",
                        "gridwidth": 2,
                        "showbackground": true,
                        "zerolinecolor": "white",
                        "gridcolor": "white",
                        "linecolor": "white"
                      }
                    },
                    "yaxis": {
                      "automargin": true,
                      "title": {
                        "standoff": 15
                      },
                      "zerolinewidth": 2,
                      "ticks": "",
                      "zerolinecolor": "white",
                      "gridcolor": "white",
                      "linecolor": "white"
                    },
                    "annotationdefaults": {
                      "arrowwidth": 1,
                      "arrowhead": 0,
                      "arrowcolor": "#2a3f5f"
                    },
                    "hoverlabel": {
                      "align": "left"
                    },
                    "ternary": {
                      "bgcolor": "#E5ECF6",
                      "baxis": {
                        "ticks": "",
                        "gridcolor": "white",
                        "linecolor": "white"
                      },
                      "caxis": {
                        "ticks": "",
                        "gridcolor": "white",
                        "linecolor": "white"
                      },
                      "aaxis": {
                        "ticks": "",
                        "gridcolor": "white",
                        "linecolor": "white"
                      }
                    },
                    "mapbox": {
                      "style": "light"
                    },
                    "hovermode": "closest",
                    "font": {
                      "color": "#2a3f5f"
                    },
                    "geo": {
                      "showland": true,
                      "landcolor": "#E5ECF6",
                      "showlakes": true,
                      "bgcolor": "white",
                      "subunitcolor": "white",
                      "lakecolor": "white"
                    },
                    "coloraxis": {
                      "colorbar": {
                        "outlinewidth": 0,
                        "ticks": ""
                      }
                    }
                  },
                  "data": {
                    "mesh3d": [
                      {
                        "colorbar": {
                          "outlinewidth": 0,
                          "ticks": ""
                        },
                        "type": "mesh3d"
                      }
                    ],
                    "scattercarpet": [
                      {
                        "marker": {
                          "colorbar": {
                            "outlinewidth": 0,
                            "ticks": ""
                          }
                        },
                        "type": "scattercarpet"
                      }
                    ],
                    "pie": [
                      {
                        "automargin": true,
                        "type": "pie"
                      }
                    ],
                    "surface": [
                      {
                        "colorbar": {
                          "outlinewidth": 0,
                          "ticks": ""
                        },
                        "type": "surface",
                        "colorscale": [
                          [
                            0,
                            "#0d0887"
                          ],
                          [
                            0.1111111111111111,
                            "#46039f"
                          ],
                          [
                            0.2222222222222222,
                            "#7201a8"
                          ],
                          [
                            0.3333333333333333,
                            "#9c179e"
                          ],
                          [
                            0.4444444444444444,
                            "#bd3786"
                          ],
                          [
                            0.5555555555555556,
                            "#d8576b"
                          ],
                          [
                            0.6666666666666666,
                            "#ed7953"
                          ],
                          [
                            0.7777777777777778,
                            "#fb9f3a"
                          ],
                          [
                            0.8888888888888888,
                            "#fdca26"
                          ],
                          [
                            1,
                            "#f0f921"
                          ]
                        ]
                      }
                    ],
                    "table": [
                      {
                        "header": {
                          "line": {
                            "color": "white"
                          },
                          "fill": {
                            "color": "#C8D4E3"
                          }
                        },
                        "cells": {
                          "line": {
                            "color": "white"
                          },
                          "fill": {
                            "color": "#EBF0F8"
                          }
                        },
                        "type": "table"
                      }
                    ],
                    "scatterpolargl": [
                      {
                        "marker": {
                          "colorbar": {
                            "outlinewidth": 0,
                            "ticks": ""
                          }
                        },
                        "type": "scatterpolargl"
                      }
                    ],
                    "contour": [
                      {
                        "colorbar": {
                          "outlinewidth": 0,
                          "ticks": ""
                        },
                        "type": "contour",
                        "colorscale": [
                          [
                            0,
                            "#0d0887"
                          ],
                          [
                            0.1111111111111111,
                            "#46039f"
                          ],
                          [
                            0.2222222222222222,
                            "#7201a8"
                          ],
                          [
                            0.3333333333333333,
                            "#9c179e"
                          ],
                          [
                            0.4444444444444444,
                            "#bd3786"
                          ],
                          [
                            0.5555555555555556,
                            "#d8576b"
                          ],
                          [
                            0.6666666666666666,
                            "#ed7953"
                          ],
                          [
                            0.7777777777777778,
                            "#fb9f3a"
                          ],
                          [
                            0.8888888888888888,
                            "#fdca26"
                          ],
                          [
                            1,
                            "#f0f921"
                          ]
                        ]
                      }
                    ],
                    "carpet": [
                      {
                        "type": "carpet",
                        "baxis": {
                          "minorgridcolor": "white",
                          "gridcolor": "white",
                          "linecolor": "white",
                          "endlinecolor": "#2a3f5f",
                          "startlinecolor": "#2a3f5f"
                        },
                        "aaxis": {
                          "minorgridcolor": "white",
                          "gridcolor": "white",
                          "linecolor": "white",
                          "endlinecolor": "#2a3f5f",
                          "startlinecolor": "#2a3f5f"
                        }
                      }
                    ],
                    "contourcarpet": [
                      {
                        "colorbar": {
                          "outlinewidth": 0,
                          "ticks": ""
                        },
                        "type": "contourcarpet"
                      }
                    ],
                    "heatmap": [
                      {
                        "colorbar": {
                          "outlinewidth": 0,
                          "ticks": ""
                        },
                        "type": "heatmap",
                        "colorscale": [
                          [
                            0,
                            "#0d0887"
                          ],
                          [
                            0.1111111111111111,
                            "#46039f"
                          ],
                          [
                            0.2222222222222222,
                            "#7201a8"
                          ],
                          [
                            0.3333333333333333,
                            "#9c179e"
                          ],
                          [
                            0.4444444444444444,
                            "#bd3786"
                          ],
                          [
                            0.5555555555555556,
                            "#d8576b"
                          ],
                          [
                            0.6666666666666666,
                            "#ed7953"
                          ],
                          [
                            0.7777777777777778,
                            "#fb9f3a"
                          ],
                          [
                            0.8888888888888888,
                            "#fdca26"
                          ],
                          [
                            1,
                            "#f0f921"
                          ]
                        ]
                      }
                    ],
                    "scattermapbox": [
                      {
                        "marker": {
                          "colorbar": {
                            "outlinewidth": 0,
                            "ticks": ""
                          }
                        },
                        "type": "scattermapbox"
                      }
                    ],
                    "scatter3d": [
                      {
                        "marker": {
                          "colorbar": {
                            "outlinewidth": 0,
                            "ticks": ""
                          }
                        },
                        "line": {
                          "colorbar": {
                            "outlinewidth": 0,
                            "ticks": ""
                          }
                        },
                        "type": "scatter3d"
                      }
                    ],
                    "scattergl": [
                      {
                        "marker": {
                          "colorbar": {
                            "outlinewidth": 0,
                            "ticks": ""
                          }
                        },
                        "type": "scattergl"
                      }
                    ],
                    "scatterternary": [
                      {
                        "marker": {
                          "colorbar": {
                            "outlinewidth": 0,
                            "ticks": ""
                          }
                        },
                        "type": "scatterternary"
                      }
                    ],
                    "histogram": [
                      {
                        "marker": {
                          "colorbar": {
                            "outlinewidth": 0,
                            "ticks": ""
                          }
                        },
                        "type": "histogram"
                      }
                    ],
                    "heatmapgl": [
                      {
                        "colorbar": {
                          "outlinewidth": 0,
                          "ticks": ""
                        },
                        "type": "heatmapgl",
                        "colorscale": [
                          [
                            0,
                            "#0d0887"
                          ],
                          [
                            0.1111111111111111,
                            "#46039f"
                          ],
                          [
                            0.2222222222222222,
                            "#7201a8"
                          ],
                          [
                            0.3333333333333333,
                            "#9c179e"
                          ],
                          [
                            0.4444444444444444,
                            "#bd3786"
                          ],
                          [
                            0.5555555555555556,
                            "#d8576b"
                          ],
                          [
                            0.6666666666666666,
                            "#ed7953"
                          ],
                          [
                            0.7777777777777778,
                            "#fb9f3a"
                          ],
                          [
                            0.8888888888888888,
                            "#fdca26"
                          ],
                          [
                            1,
                            "#f0f921"
                          ]
                        ]
                      }
                    ],
                    "scatterpolar": [
                      {
                        "marker": {
                          "colorbar": {
                            "outlinewidth": 0,
                            "ticks": ""
                          }
                        },
                        "type": "scatterpolar"
                      }
                    ],
                    "histogram2d": [
                      {
                        "colorbar": {
                          "outlinewidth": 0,
                          "ticks": ""
                        },
                        "type": "histogram2d",
                        "colorscale": [
                          [
                            0,
                            "#0d0887"
                          ],
                          [
                            0.1111111111111111,
                            "#46039f"
                          ],
                          [
                            0.2222222222222222,
                            "#7201a8"
                          ],
                          [
                            0.3333333333333333,
                            "#9c179e"
                          ],
                          [
                            0.4444444444444444,
                            "#bd3786"
                          ],
                          [
                            0.5555555555555556,
                            "#d8576b"
                          ],
                          [
                            0.6666666666666666,
                            "#ed7953"
                          ],
                          [
                            0.7777777777777778,
                            "#fb9f3a"
                          ],
                          [
                            0.8888888888888888,
                            "#fdca26"
                          ],
                          [
                            1,
                            "#f0f921"
                          ]
                        ]
                      }
                    ],
                    "scattergeo": [
                      {
                        "marker": {
                          "colorbar": {
                            "outlinewidth": 0,
                            "ticks": ""
                          }
                        },
                        "type": "scattergeo"
                      }
                    ],
                    "bar": [
                      {
                        "marker": {
                          "line": {
                            "color": "#E5ECF6",
                            "width": 0.5
                          }
                        },
                        "type": "bar",
                        "error_x": {
                          "color": "#2a3f5f"
                        },
                        "error_y": {
                          "color": "#2a3f5f"
                        }
                      }
                    ],
                    "choropleth": [
                      {
                        "colorbar": {
                          "outlinewidth": 0,
                          "ticks": ""
                        },
                        "type": "choropleth"
                      }
                    ],
                    "parcoords": [
                      {
                        "line": {
                          "colorbar": {
                            "outlinewidth": 0,
                            "ticks": ""
                          }
                        },
                        "type": "parcoords"
                      }
                    ],
                    "barpolar": [
                      {
                        "marker": {
                          "line": {
                            "color": "#E5ECF6",
                            "width": 0.5
                          }
                        },
                        "type": "barpolar"
                      }
                    ],
                    "histogram2dcontour": [
                      {
                        "colorbar": {
                          "outlinewidth": 0,
                          "ticks": ""
                        },
                        "type": "histogram2dcontour",
                        "colorscale": [
                          [
                            0,
                            "#0d0887"
                          ],
                          [
                            0.1111111111111111,
                            "#46039f"
                          ],
                          [
                            0.2222222222222222,
                            "#7201a8"
                          ],
                          [
                            0.3333333333333333,
                            "#9c179e"
                          ],
                          [
                            0.4444444444444444,
                            "#bd3786"
                          ],
                          [
                            0.5555555555555556,
                            "#d8576b"
                          ],
                          [
                            0.6666666666666666,
                            "#ed7953"
                          ],
                          [
                            0.7777777777777778,
                            "#fb9f3a"
                          ],
                          [
                            0.8888888888888888,
                            "#fdca26"
                          ],
                          [
                            1,
                            "#f0f921"
                          ]
                        ]
                      }
                    ],
                    "scatter": [
                      {
                        "marker": {
                          "colorbar": {
                            "outlinewidth": 0,
                            "ticks": ""
                          }
                        },
                        "type": "scatter"
                      }
                    ]
                  }
                },
                "title": {
                  "text": "Relationship between the Year of Construction and the rent"
                }
              }
            }
          },
          "metadata": {
            "tags": []
          }
        }
      ]
    },
    {
      "cell_type": "markdown",
      "metadata": {
        "id": "6Zx3SDTb97bv"
      },
      "source": [
        "## **A Plot of the relationship between the Space and rent**"
      ]
    },
    {
      "cell_type": "code",
      "metadata": {
        "id": "1tIxWjY2wpvW",
        "colab": {
          "base_uri": "https://localhost:8080/",
          "height": 542
        },
        "outputId": "b8442cf0-ae91-444c-f8e7-4f8e6d7a1454"
      },
      "source": [
        "\n",
        "Sp_rnt=go.Scatter(\n",
        "                    x = rentals['Space'],\n",
        "                    y = rentals['Rent'],\n",
        "                    mode = \"markers\",\n",
        "                    name = \"Space\",\n",
        "                    marker = dict(color = 'rgba(0, 255, 200, 0.8)'),\n",
        "                    )\n",
        "\n",
        "layout = dict(title = 'Relationship between the Space and the rent',\n",
        "              xaxis= dict(title= 'Rent',ticklen= 5,zeroline= False),\n",
        "              yaxis= dict(title= 'Space',ticklen= 5,zeroline= False)\n",
        "             )\n",
        "fig = dict(data = Sp_rnt, layout = layout)\n",
        "iplot(fig)"
      ],
      "execution_count": 26,
      "outputs": [
        {
          "output_type": "display_data",
          "data": {
            "text/html": [
              "<div>\n",
              "        \n",
              "        \n",
              "            <div id=\"861f164e-b2ac-456f-abbf-ff42ce4a1c97\" class=\"plotly-graph-div\" style=\"height:525px; width:100%;\"></div>\n",
              "            <script type=\"text/javascript\">\n",
              "                require([\"plotly\"], function(Plotly) {\n",
              "                    window.PLOTLYENV=window.PLOTLYENV || {};\n",
              "                    \n",
              "                if (document.getElementById(\"861f164e-b2ac-456f-abbf-ff42ce4a1c97\")) {\n",
              "                    Plotly.newPlot(\n",
              "                        '861f164e-b2ac-456f-abbf-ff42ce4a1c97',\n",
              "                        [{\"marker\": {\"color\": \"rgba(0, 255, 200, 0.8)\"}, \"mode\": \"markers\", \"name\": \"Space\", \"type\": \"scatter\", \"x\": [117.2, 29.33, 83.61, 171.18, 88.27, 73.51, 61.61, 72.61, 62.4, 77.66, 125.2, 90.36, 81.1, 186.0, 66.65, 75.28, 82.05, 29.12, 49.19, 95.8, 67.0, 105.47, 72.28, 32.0, 141.75, 60.0, 19.0, 80.97, 96.81, 100.47, 101.38, 112.26, 101.15, 132.81, 73.97, 139.07, 28.0, 84.0, 60.0, 47.4, 120.64, 156.68, 32.0, 125.54, 75.7, 68.52, 20.5, 47.12, 82.37, 49.0, 27.8, 135.68, 79.05, 170.0, 100.7, 37.69, 114.99, 27.8, 55.0, 107.33, 225.0, 201.0, 40.51, 106.0, 80.0, 47.2, 27.71, 118.0, 215.0, 57.0, 104.63, 59.0, 125.0, 67.27, 46.0, 88.5, 236.0, 99.4, 106.0, 61.44, 83.0, 56.7, 116.5, 121.91, 14.0, 98.72, 37.0, 30.0, 116.21, 83.0, 25.0, 40.2, 34.0, 142.1, 106.0, 55.0, 21.0, 48.23, 61.71, 33.75, 182.0, 202.0, 151.0, 230.0, 109.0, 98.0, 164.0, 170.0, 95.0, 105.97, 80.0, 167.0, 207.0, 95.0, 105.76, 81.0, 35.0, 209.0, 109.0, 324.0, 90.06, 91.0, 66.4, 99.63, 55.0, 67.0, 55.0, 83.05, 61.41, 30.0, 50.31, 66.2, 76.6, 140.16, 48.26, 56.25, 60.0, 168.86, 65.4, 34.87, 36.75, 81.0, 36.0, 80.0, 39.4, 25.85, 104.0, 38.36, 237.0, 53.0, 65.0, 98.38, 41.45, 23.62, 69.78, 139.23, 45.2, 50.11, 127.0, 85.35, 86.4, 76.0, 43.0, 72.97, 60.0, 60.0, 60.0, 28.9, 133.42, 55.0, 56.0, 74.0, 60.0, 106.98, 58.0, 70.22, 160.94, 24.0, 39.0, 36.0, 75.91, 121.0, 76.0, 65.5, 64.9, 85.64, 99.0, 52.0, 88.58, 103.27, 43.1, 101.74, 47.0, 27.0, 70.0, 73.67, 127.66, 57.0, 56.0, 77.0, 85.0, 97.0, 65.0, 84.75, 73.0, 51.0, 42.75, 39.5, 53.5, 99.0, 80.9, 44.0, 75.16, 115.0, 83.0, 136.61, 77.0, 56.0, 80.0, 102.0, 191.13, 85.0, 76.0, 150.99, 51.59, 63.52, 73.72, 147.0, 71.0, 119.0, 123.0, 161.24, 90.0, 76.0, 63.0, 105.0, 136.61, 90.66, 71.0, 38.0, 118.0, 36.61, 75.91, 91.55, 230.0, 274.0, 53.0, 115.1, 79.71, 106.83, 112.0, 117.6, 117.3, 60.45, 20.0, 65.01, 90.15, 118.37, 49.99, 84.0, 63.0, 98.0, 50.3, 61.0, 76.0, 69.0, 46.0, 48.0, 160.0, 94.0, 56.0, 118.68, 96.0, 76.0, 64.0, 74.0, 68.0, 70.0, 32.0, 133.19, 34.0, 286.84, 26.0, 49.36, 77.54, 198.75, 126.5, 124.84, 69.0, 131.19, 95.31, 27.7, 20.5, 104.39, 20.5, 24.1, 20.5, 80.84, 160.0, 71.97, 20.5, 73.21, 117.04, 45.21, 60.55, 83.78, 170.45, 79.56, 64.0, 99.39, 43.5, 49.0, 53.03, 63.0, 164.0, 60.55, 78.0, 129.53, 51.0, 94.0, 99.0, 128.0, 51.0, 161.0, 102.0, 90.0, 97.62, 119.0, 242.64, 61.95, 77.0, 95.5, 106.0, 66.0, 73.78, 22.0, 60.0, 37.0, 85.48, 85.5, 95.0, 97.3, 54.0, 61.5, 120.0, 124.0, 26.9, 61.0, 74.37, 84.0, 100.0, 48.8, 66.55, 122.98, 52.97, 142.0, 44.0, 77.0, 82.07, 83.03, 57.7, 61.0, 108.5, 105.0, 57.0, 56.0, 103.0, 64.14, 72.0, 136.0, 41.03, 62.5, 90.0, 105.0, 65.0, 60.72, 85.32, 42.0, 50.33, 195.0, 73.72, 51.88, 48.56, 41.0, 47.04, 40.0, 108.0, 32.99, 35.0, 72.0, 40.38, 51.41, 61.14, 52.0, 101.61, 120.41, 59.2, 37.16, 56.24, 18.0, 80.77, 127.0, 78.3, 48.0, 86.26, 85.0, 136.53, 61.46, 75.0, 77.0, 175.0, 75.0, 91.11, 115.48, 49.4, 55.13, 77.0, 29.48, 74.9, 28.0, 115.48, 42.3, 57.94, 64.63, 43.1, 67.88, 106.1, 25.68, 60.0, 71.41, 80.79, 92.0, 65.0, 92.0, 66.0, 57.08, 66.4, 68.0, 75.95, 112.71, 66.4, 82.6, 106.36, 70.49, 58.0, 32.0, 143.22, 36.94, 66.81, 97.0, 82.16, 31.0, 46.82, 58.64, 160.0, 63.0, 59.02, 154.52, 43.39, 42.0, 62.59, 82.25, 112.27, 144.61, 90.0, 101.89, 160.0, 140.13, 102.88, 167.36, 90.92, 54.02, 102.38, 30.0, 101.81, 70.88, 60.0, 57.75, 61.26, 105.35, 61.53, 160.0, 100.0, 61.83, 48.59, 42.45, 120.29, 75.12, 114.14, 99.4, 47.76, 111.0, 145.0, 49.67, 60.5, 92.0, 75.31, 54.78, 95.96, 40.0, 33.95, 67.0, 96.44, 60.4, 64.73, 90.47, 137.31, 83.73, 89.19, 64.0, 83.0, 84.48, 62.0, 32.61, 76.15, 58.2, 56.68, 28.4, 83.65, 146.0, 36.0, 67.0, 36.0, 67.24, 72.18, 54.7, 87.4, 71.82, 36.0, 43.1, 66.77, 36.0, 115.7, 143.13, 91.11, 35.0, 174.63, 61.31, 64.0, 82.15, 73.5, 90.21, 88.29, 75.5, 48.72, 75.65, 65.96, 87.43, 131.05, 126.4, 48.99, 112.99, 77.96, 110.0, 133.42, 74.31, 119.0, 79.0, 51.72, 73.41, 240.0, 79.44, 116.0, 88.3, 123.08, 76.22, 100.65, 52.48, 73.0, 152.7, 76.0, 46.97, 95.9, 67.55, 122.83, 95.34, 66.0, 99.44, 68.58, 66.6, 100.93, 64.78, 52.85, 150.0, 66.31, 108.13, 57.4, 125.49, 52.24, 71.0, 131.92, 131.92, 110.41, 85.0, 110.41, 123.0, 110.41, 118.44, 57.96, 50.65, 98.04, 95.8, 65.79, 50.2, 113.06, 48.99, 91.04, 18.0, 80.95, 100.49, 98.7, 66.38, 107.0, 96.73, 68.17, 84.0, 82.05, 96.26, 49.19, 65.35, 96.93, 96.97, 119.44, 130.0, 47.0, 86.06, 92.05, 107.26, 76.57, 47.0, 81.96, 84.81, 73.0, 212.3, 81.67, 121.36, 169.53, 59.53, 84.98, 84.0, 98.7, 173.79, 116.35, 101.02, 54.05, 50.18, 123.0, 112.31, 65.37, 101.52, 67.32, 170.0, 101.51, 123.0, 81.65, 71.09, 28.45, 111.34, 98.02, 129.67, 92.05, 101.46, 81.95, 68.0, 81.72, 22.0, 92.42, 81.96, 92.56, 107.26, 93.97, 122.29, 121.15, 128.81, 82.77, 300.0, 85.7, 101.69, 110.75, 121.36, 55.0, 90.02, 80.78, 90.4, 81.57, 142.35, 51.0, 173.14, 119.44, 97.87, 88.19, 66.33, 43.0, 86.91, 413.91, 84.68, 69.5, 50.0, 111.49, 115.35, 101.43, 104.13, 122.65, 80.0, 52.0, 108.58, 125.46, 108.86, 84.81, 30.0, 42.52, 30.0, 49.9, 40.32, 100.46, 30.98, 46.02, 141.26, 100.0, 25.0, 33.7, 91.72, 99.65, 110.0, 47.13, 44.4, 54.97, 103.6, 85.6, 124.95, 23.16, 45.0, 73.41, 99.47, 96.6, 68.0, 165.0, 32.2, 59.8, 79.87, 21.0, 138.0, 54.59, 19.22, 46.0, 26.0, 20.5, 20.5, 176.5, 94.65, 50.79, 35.0, 85.0, 20.5, 86.42, 48.47, 20.5, 127.0, 57.0, 27.8, 20.5, 110.0, 91.2, 68.48], \"y\": [2659.0, 1200.0, 979.0, 1830.22, 2272.0, 840.0, 1509.45, 730.73, 561.93, 1789.0, 2499.0, 2328.0, 2500.0, 6450.0, 1399.65, 1505.6, 1429.1, 930.0, 868.06, 2179.0, 1829.0, 1589.0, 1831.0, 1060.0, 3103.0, 1619.0, 715.0, 1237.83, 2290.0, 1810.0, 2320.0, 2230.0, 2155.0, 2660.9, 1427.82, 3170.0, 999.0, 849.24, 658.11, 1340.0, 2433.0, 3275.0, 311.04, 3677.7, 1740.0, 1404.66, 772.0, 479.87, 1853.33, 511.15, 845.0, 2724.17, 2251.0, 3195.0, 2812.0, 976.0, 2044.85, 959.0, 850.0, 2071.9, 4500.0, 5530.0, 1049.0, 1629.0, 1640.0, 1498.0, 889.0, 1598.0, 4945.0, 1500.0, 1949.26, 1265.0, 2500.0, 1565.0, 1550.0, 1424.75, 4400.0, 1690.0, 3400.0, 1189.48, 1570.0, 1000.0, 2680.0, 2100.0, 450.0, 1520.0, 1025.0, 1790.0, 1960.0, 1610.0, 1690.0, 794.0, 1790.0, 3228.25, 2862.0, 3390.0, 1490.0, 383.46, 872.07, 900.0, 3732.64, 4288.0, 3251.66, 4500.0, 2237.78, 2000.0, 3362.41, 3664.25, 2080.0, 2227.0, 1750.0, 2879.0, 3780.0, 2320.0, 1318.0, 1209.0, 990.0, 4475.0, 1850.0, 5930.0, 2076.38, 1820.0, 1499.0, 1609.64, 1550.0, 1215.0, 1320.0, 836.0, 1455.0, 1038.0, 1615.57, 1480.0, 2244.0, 2555.0, 1095.0, 1265.0, 1633.0, 3295.0, 1368.17, 1300.0, 1300.0, 1683.0, 969.0, 1784.0, 1300.0, 990.0, 1706.81, 1300.0, 3739.46, 1388.0, 1533.0, 1883.27, 440.94, 990.0, 1490.0, 3593.17, 1240.0, 735.0, 2250.0, 1673.95, 1950.0, 919.0, 421.87, 1386.43, 719.0, 719.0, 719.0, 999.0, 1901.0, 496.13, 649.0, 895.0, 719.0, 2199.0, 583.03, 1397.0, 2999.0, 271.25, 458.91, 433.71, 1563.75, 2550.0, 670.86, 1405.0, 1266.3, 1665.0, 3000.0, 1116.0, 1703.0, 2180.0, 960.0, 2370.71, 1645.0, 773.6, 1478.0, 914.0, 3060.0, 1159.0, 1180.0, 1872.0, 1707.0, 1454.18, 737.49, 1528.25, 705.06, 605.8, 407.42, 1399.92, 1399.92, 1590.39, 1800.0, 408.78, 1465.62, 1691.0, 1625.0, 2124.29, 1510.0, 1600.0, 1410.0, 1897.2, 4192.63, 1570.0, 1470.0, 2528.86, 1800.0, 1359.33, 1480.0, 2670.0, 691.29, 1935.17, 1093.16, 2260.0, 900.23, 887.53, 621.38, 2580.0, 2124.29, 1783.89, 674.8, 435.74, 2990.0, 378.14, 1563.75, 1876.78, 4500.0, 9774.0, 1397.0, 1897.5, 1189.27, 1987.04, 2434.0, 2410.8, 2346.0, 1069.26, 699.0, 1258.0, 1942.72, 2250.0, 668.4, 1777.0, 1265.0, 2096.0, 1350.0, 1500.0, 885.68, 656.1, 1007.0, 489.07, 4600.0, 2450.0, 649.0, 2148.0, 1639.0, 909.0, 565.63, 889.0, 1800.0, 1615.0, 352.95, 2997.0, 404.39, 6855.48, 280.74, 720.0, 2180.0, 4325.69, 2492.05, 2322.02, 1650.0, 2567.0, 2277.91, 845.0, 771.0, 1571.44, 680.0, 803.0, 793.0, 1557.28, 2320.0, 1301.13, 730.0, 1010.31, 1930.38, 705.92, 1181.3, 2043.49, 3568.5, 2115.0, 1530.0, 2734.0, 1500.0, 1490.0, 1040.51, 547.9, 3360.0, 1181.3, 1500.0, 2752.0, 599.74, 1558.8, 1590.35, 2159.2, 580.16, 2950.0, 960.38, 1494.64, 1817.0, 2105.0, 5774.83, 755.3, 1650.0, 1570.0, 2405.0, 1493.0, 1685.0, 759.0, 1300.0, 877.71, 1845.0, 2060.0, 1440.0, 2485.0, 1200.0, 780.0, 3380.0, 2498.0, 1040.0, 1055.43, 1720.0, 1980.0, 2375.0, 967.4, 1785.0, 2435.0, 1350.0, 2310.0, 1290.0, 1359.0, 1700.0, 1136.72, 1500.0, 1250.0, 2380.0, 2170.0, 1040.0, 975.0, 1999.47, 1490.0, 1200.0, 2040.0, 512.93, 1250.0, 1600.0, 2799.0, 1160.0, 950.0, 1654.39, 920.0, 993.96, 4875.0, 1428.64, 984.4, 914.87, 776.47, 886.05, 950.0, 2400.0, 379.95, 669.0, 1400.0, 558.06, 964.0, 924.44, 1394.0, 1632.54, 2202.0, 727.0, 427.0, 1266.28, 475.0, 1700.0, 2850.0, 1452.8, 1480.0, 1395.0, 1959.0, 2255.84, 938.0, 1650.0, 1650.0, 2815.0, 1650.0, 1161.0, 2028.2, 563.91, 642.77, 1650.0, 420.09, 808.46, 620.0, 2193.0, 900.0, 1231.23, 971.15, 991.19, 887.0, 1370.0, 690.0, 712.0, 982.0, 1246.0, 1755.0, 1228.75, 1753.0, 1223.98, 685.0, 1432.6, 1530.0, 2620.0, 2484.62, 1565.4, 1780.9, 2079.02, 1800.0, 1635.0, 768.0, 4800.0, 585.0, 1413.03, 2300.0, 1380.05, 1200.0, 811.1, 1609.1, 2320.0, 1030.0, 647.05, 3090.4, 816.49, 699.3, 846.0, 1124.93, 2807.0, 2892.25, 2488.0, 1749.32, 3994.0, 2708.0, 1336.41, 4184.0, 1854.98, 570.0, 2293.31, 1200.0, 1502.0, 1015.0, 1400.0, 825.0, 1499.0, 2070.0, 876.0, 2320.0, 1700.0, 656.5, 886.05, 703.86, 1886.81, 1500.0, 1660.0, 1690.0, 478.52, 1600.0, 2999.0, 670.03, 860.0, 2269.0, 948.1, 873.0, 2130.31, 969.0, 1175.72, 1200.0, 1834.0, 1349.58, 1320.49, 1886.3, 2295.0, 1980.0, 1846.23, 1447.0, 1770.0, 1343.0, 750.0, 730.36, 1281.5, 976.5, 984.5, 719.56, 2170.0, 2170.0, 995.0, 1250.0, 995.0, 921.59, 1236.72, 1090.0, 2105.4, 1497.45, 829.0, 948.09, 1494.0, 829.0, 2475.98, 2549.0, 1182.0, 1350.0, 3104.0, 1160.55, 1285.0, 1725.15, 575.45, 1709.33, 1535.3, 1356.44, 521.09, 1890.0, 1277.21, 1939.2, 2645.9, 2630.39, 813.4, 1906.14, 960.0, 2039.0, 2265.47, 1184.0, 2700.0, 1639.52, 891.65, 1489.0, 4800.0, 1455.61, 2550.0, 1565.56, 2865.49, 2014.21, 1760.37, 1191.35, 2280.0, 4450.0, 1558.0, 1174.25, 1519.0, 1650.0, 2499.59, 1997.37, 1095.0, 2073.32, 1783.08, 1358.64, 1834.0, 1327.99, 1163.0, 2575.0, 1356.04, 2427.0, 1202.0, 2555.0, 1250.06, 1529.0, 5936.4, 5936.4, 4747.6, 1800.0, 4747.6, 2650.0, 4747.6, 2138.68, 1189.09, 929.34, 1960.8, 2150.0, 1124.0, 896.46, 2033.1, 1031.0, 2039.3, 398.0, 1800.0, 2075.12, 2067.77, 1347.51, 2162.0, 2041.0, 1320.73, 1700.0, 1429.1, 2007.02, 868.06, 1326.61, 2020.99, 2031.52, 2508.24, 2125.0, 1410.0, 1841.68, 2130.96, 2525.97, 1627.11, 1410.0, 1774.43, 1768.29, 2280.0, 4678.3, 1788.57, 2851.96, 3160.0, 1488.25, 1869.56, 2200.0, 1814.85, 3250.0, 1720.0, 2175.0, 1449.24, 1756.36, 5322.5, 1958.69, 2288.06, 2436.48, 2356.2, 2525.0, 2283.98, 6022.5, 1788.14, 2488.26, 929.0, 1897.95, 2107.43, 2982.41, 2130.96, 1755.0, 1839.78, 3230.0, 1846.87, 525.0, 2158.01, 1774.43, 2119.62, 2525.97, 1959.27, 2642.69, 2622.9, 1383.23, 2069.26, 5876.35, 1833.98, 2440.56, 2286.0, 2851.96, 1200.0, 2105.0, 1931.26, 1716.0, 1774.15, 2630.0, 1349.0, 2500.0, 2508.24, 2065.06, 1567.39, 1367.0, 1099.0, 1561.65, 14207.0, 1757.11, 1063.0, 1399.0, 2497.38, 1697.0, 2260.46, 2264.83, 2747.36, 1990.0, 1395.0, 2198.75, 2555.0, 2198.97, 1768.29, 869.0, 1294.0, 1100.0, 1321.0, 1314.15, 2390.0, 899.0, 1236.5, 3706.83, 1550.0, 660.0, 914.0, 2555.59, 2740.0, 1793.0, 1266.0, 1282.5, 1454.74, 2439.6, 1970.0, 2811.38, 655.0, 1524.0, 1489.0, 2300.0, 2129.0, 1350.0, 3500.0, 843.0, 1357.46, 1007.0, 610.0, 3925.0, 1283.71, 622.0, 1366.0, 780.0, 741.0, 771.0, 4040.0, 1728.0, 1079.0, 770.0, 2180.0, 720.0, 2155.5, 577.0, 772.0, 1970.0, 693.0, 959.0, 649.0, 2750.0, 1259.0, 888.0]}],\n",
              "                        {\"template\": {\"data\": {\"bar\": [{\"error_x\": {\"color\": \"#2a3f5f\"}, \"error_y\": {\"color\": \"#2a3f5f\"}, \"marker\": {\"line\": {\"color\": \"#E5ECF6\", \"width\": 0.5}}, \"type\": \"bar\"}], \"barpolar\": [{\"marker\": {\"line\": {\"color\": \"#E5ECF6\", \"width\": 0.5}}, \"type\": \"barpolar\"}], \"carpet\": [{\"aaxis\": {\"endlinecolor\": \"#2a3f5f\", \"gridcolor\": \"white\", \"linecolor\": \"white\", \"minorgridcolor\": \"white\", \"startlinecolor\": \"#2a3f5f\"}, \"baxis\": {\"endlinecolor\": \"#2a3f5f\", \"gridcolor\": \"white\", \"linecolor\": \"white\", \"minorgridcolor\": \"white\", \"startlinecolor\": \"#2a3f5f\"}, \"type\": \"carpet\"}], \"choropleth\": [{\"colorbar\": {\"outlinewidth\": 0, \"ticks\": \"\"}, \"type\": \"choropleth\"}], \"contour\": [{\"colorbar\": {\"outlinewidth\": 0, \"ticks\": \"\"}, \"colorscale\": [[0.0, \"#0d0887\"], [0.1111111111111111, \"#46039f\"], [0.2222222222222222, \"#7201a8\"], [0.3333333333333333, \"#9c179e\"], [0.4444444444444444, \"#bd3786\"], [0.5555555555555556, \"#d8576b\"], [0.6666666666666666, \"#ed7953\"], [0.7777777777777778, \"#fb9f3a\"], [0.8888888888888888, \"#fdca26\"], [1.0, \"#f0f921\"]], \"type\": \"contour\"}], \"contourcarpet\": [{\"colorbar\": {\"outlinewidth\": 0, \"ticks\": \"\"}, \"type\": \"contourcarpet\"}], \"heatmap\": [{\"colorbar\": {\"outlinewidth\": 0, \"ticks\": \"\"}, \"colorscale\": [[0.0, \"#0d0887\"], [0.1111111111111111, \"#46039f\"], [0.2222222222222222, \"#7201a8\"], [0.3333333333333333, \"#9c179e\"], [0.4444444444444444, \"#bd3786\"], [0.5555555555555556, \"#d8576b\"], [0.6666666666666666, \"#ed7953\"], [0.7777777777777778, \"#fb9f3a\"], [0.8888888888888888, \"#fdca26\"], [1.0, \"#f0f921\"]], \"type\": \"heatmap\"}], \"heatmapgl\": [{\"colorbar\": {\"outlinewidth\": 0, \"ticks\": \"\"}, \"colorscale\": [[0.0, \"#0d0887\"], [0.1111111111111111, \"#46039f\"], [0.2222222222222222, \"#7201a8\"], [0.3333333333333333, \"#9c179e\"], [0.4444444444444444, \"#bd3786\"], [0.5555555555555556, \"#d8576b\"], [0.6666666666666666, \"#ed7953\"], [0.7777777777777778, \"#fb9f3a\"], [0.8888888888888888, \"#fdca26\"], [1.0, \"#f0f921\"]], \"type\": \"heatmapgl\"}], \"histogram\": [{\"marker\": {\"colorbar\": {\"outlinewidth\": 0, \"ticks\": \"\"}}, \"type\": \"histogram\"}], \"histogram2d\": [{\"colorbar\": {\"outlinewidth\": 0, \"ticks\": \"\"}, \"colorscale\": [[0.0, \"#0d0887\"], [0.1111111111111111, \"#46039f\"], [0.2222222222222222, \"#7201a8\"], [0.3333333333333333, \"#9c179e\"], [0.4444444444444444, \"#bd3786\"], [0.5555555555555556, \"#d8576b\"], [0.6666666666666666, \"#ed7953\"], [0.7777777777777778, \"#fb9f3a\"], [0.8888888888888888, \"#fdca26\"], [1.0, \"#f0f921\"]], \"type\": \"histogram2d\"}], \"histogram2dcontour\": [{\"colorbar\": {\"outlinewidth\": 0, \"ticks\": \"\"}, \"colorscale\": [[0.0, \"#0d0887\"], [0.1111111111111111, \"#46039f\"], [0.2222222222222222, \"#7201a8\"], [0.3333333333333333, \"#9c179e\"], [0.4444444444444444, \"#bd3786\"], [0.5555555555555556, \"#d8576b\"], [0.6666666666666666, \"#ed7953\"], [0.7777777777777778, \"#fb9f3a\"], [0.8888888888888888, \"#fdca26\"], [1.0, \"#f0f921\"]], \"type\": \"histogram2dcontour\"}], \"mesh3d\": [{\"colorbar\": {\"outlinewidth\": 0, \"ticks\": \"\"}, \"type\": \"mesh3d\"}], \"parcoords\": [{\"line\": {\"colorbar\": {\"outlinewidth\": 0, \"ticks\": \"\"}}, \"type\": \"parcoords\"}], \"pie\": [{\"automargin\": true, \"type\": \"pie\"}], \"scatter\": [{\"marker\": {\"colorbar\": {\"outlinewidth\": 0, \"ticks\": \"\"}}, \"type\": \"scatter\"}], \"scatter3d\": [{\"line\": {\"colorbar\": {\"outlinewidth\": 0, \"ticks\": \"\"}}, \"marker\": {\"colorbar\": {\"outlinewidth\": 0, \"ticks\": \"\"}}, \"type\": \"scatter3d\"}], \"scattercarpet\": [{\"marker\": {\"colorbar\": {\"outlinewidth\": 0, \"ticks\": \"\"}}, \"type\": \"scattercarpet\"}], \"scattergeo\": [{\"marker\": {\"colorbar\": {\"outlinewidth\": 0, \"ticks\": \"\"}}, \"type\": \"scattergeo\"}], \"scattergl\": [{\"marker\": {\"colorbar\": {\"outlinewidth\": 0, \"ticks\": \"\"}}, \"type\": \"scattergl\"}], \"scattermapbox\": [{\"marker\": {\"colorbar\": {\"outlinewidth\": 0, \"ticks\": \"\"}}, \"type\": \"scattermapbox\"}], \"scatterpolar\": [{\"marker\": {\"colorbar\": {\"outlinewidth\": 0, \"ticks\": \"\"}}, \"type\": \"scatterpolar\"}], \"scatterpolargl\": [{\"marker\": {\"colorbar\": {\"outlinewidth\": 0, \"ticks\": \"\"}}, \"type\": \"scatterpolargl\"}], \"scatterternary\": [{\"marker\": {\"colorbar\": {\"outlinewidth\": 0, \"ticks\": \"\"}}, \"type\": \"scatterternary\"}], \"surface\": [{\"colorbar\": {\"outlinewidth\": 0, \"ticks\": \"\"}, \"colorscale\": [[0.0, \"#0d0887\"], [0.1111111111111111, \"#46039f\"], [0.2222222222222222, \"#7201a8\"], [0.3333333333333333, \"#9c179e\"], [0.4444444444444444, \"#bd3786\"], [0.5555555555555556, \"#d8576b\"], [0.6666666666666666, \"#ed7953\"], [0.7777777777777778, \"#fb9f3a\"], [0.8888888888888888, \"#fdca26\"], [1.0, \"#f0f921\"]], \"type\": \"surface\"}], \"table\": [{\"cells\": {\"fill\": {\"color\": \"#EBF0F8\"}, \"line\": {\"color\": \"white\"}}, \"header\": {\"fill\": {\"color\": \"#C8D4E3\"}, \"line\": {\"color\": \"white\"}}, \"type\": \"table\"}]}, \"layout\": {\"annotationdefaults\": {\"arrowcolor\": \"#2a3f5f\", \"arrowhead\": 0, \"arrowwidth\": 1}, \"coloraxis\": {\"colorbar\": {\"outlinewidth\": 0, \"ticks\": \"\"}}, \"colorscale\": {\"diverging\": [[0, \"#8e0152\"], [0.1, \"#c51b7d\"], [0.2, \"#de77ae\"], [0.3, \"#f1b6da\"], [0.4, \"#fde0ef\"], [0.5, \"#f7f7f7\"], [0.6, \"#e6f5d0\"], [0.7, \"#b8e186\"], [0.8, \"#7fbc41\"], [0.9, \"#4d9221\"], [1, \"#276419\"]], \"sequential\": [[0.0, \"#0d0887\"], [0.1111111111111111, \"#46039f\"], [0.2222222222222222, \"#7201a8\"], [0.3333333333333333, \"#9c179e\"], [0.4444444444444444, \"#bd3786\"], [0.5555555555555556, \"#d8576b\"], [0.6666666666666666, \"#ed7953\"], [0.7777777777777778, \"#fb9f3a\"], [0.8888888888888888, \"#fdca26\"], [1.0, \"#f0f921\"]], \"sequentialminus\": [[0.0, \"#0d0887\"], [0.1111111111111111, \"#46039f\"], [0.2222222222222222, \"#7201a8\"], [0.3333333333333333, \"#9c179e\"], [0.4444444444444444, \"#bd3786\"], [0.5555555555555556, \"#d8576b\"], [0.6666666666666666, \"#ed7953\"], [0.7777777777777778, \"#fb9f3a\"], [0.8888888888888888, \"#fdca26\"], [1.0, \"#f0f921\"]]}, \"colorway\": [\"#636efa\", \"#EF553B\", \"#00cc96\", \"#ab63fa\", \"#FFA15A\", \"#19d3f3\", \"#FF6692\", \"#B6E880\", \"#FF97FF\", \"#FECB52\"], \"font\": {\"color\": \"#2a3f5f\"}, \"geo\": {\"bgcolor\": \"white\", \"lakecolor\": \"white\", \"landcolor\": \"#E5ECF6\", \"showlakes\": true, \"showland\": true, \"subunitcolor\": \"white\"}, \"hoverlabel\": {\"align\": \"left\"}, \"hovermode\": \"closest\", \"mapbox\": {\"style\": \"light\"}, \"paper_bgcolor\": \"white\", \"plot_bgcolor\": \"#E5ECF6\", \"polar\": {\"angularaxis\": {\"gridcolor\": \"white\", \"linecolor\": \"white\", \"ticks\": \"\"}, \"bgcolor\": \"#E5ECF6\", \"radialaxis\": {\"gridcolor\": \"white\", \"linecolor\": \"white\", \"ticks\": \"\"}}, \"scene\": {\"xaxis\": {\"backgroundcolor\": \"#E5ECF6\", \"gridcolor\": \"white\", \"gridwidth\": 2, \"linecolor\": \"white\", \"showbackground\": true, \"ticks\": \"\", \"zerolinecolor\": \"white\"}, \"yaxis\": {\"backgroundcolor\": \"#E5ECF6\", \"gridcolor\": \"white\", \"gridwidth\": 2, \"linecolor\": \"white\", \"showbackground\": true, \"ticks\": \"\", \"zerolinecolor\": \"white\"}, \"zaxis\": {\"backgroundcolor\": \"#E5ECF6\", \"gridcolor\": \"white\", \"gridwidth\": 2, \"linecolor\": \"white\", \"showbackground\": true, \"ticks\": \"\", \"zerolinecolor\": \"white\"}}, \"shapedefaults\": {\"line\": {\"color\": \"#2a3f5f\"}}, \"ternary\": {\"aaxis\": {\"gridcolor\": \"white\", \"linecolor\": \"white\", \"ticks\": \"\"}, \"baxis\": {\"gridcolor\": \"white\", \"linecolor\": \"white\", \"ticks\": \"\"}, \"bgcolor\": \"#E5ECF6\", \"caxis\": {\"gridcolor\": \"white\", \"linecolor\": \"white\", \"ticks\": \"\"}}, \"title\": {\"x\": 0.05}, \"xaxis\": {\"automargin\": true, \"gridcolor\": \"white\", \"linecolor\": \"white\", \"ticks\": \"\", \"title\": {\"standoff\": 15}, \"zerolinecolor\": \"white\", \"zerolinewidth\": 2}, \"yaxis\": {\"automargin\": true, \"gridcolor\": \"white\", \"linecolor\": \"white\", \"ticks\": \"\", \"title\": {\"standoff\": 15}, \"zerolinecolor\": \"white\", \"zerolinewidth\": 2}}}, \"title\": {\"text\": \"Relationship between the Space and the rent\"}, \"xaxis\": {\"ticklen\": 5, \"title\": {\"text\": \"Rent\"}, \"zeroline\": false}, \"yaxis\": {\"ticklen\": 5, \"title\": {\"text\": \"Space\"}, \"zeroline\": false}},\n",
              "                        {\"responsive\": true}\n",
              "                    ).then(function(){\n",
              "                            \n",
              "var gd = document.getElementById('861f164e-b2ac-456f-abbf-ff42ce4a1c97');\n",
              "var x = new MutationObserver(function (mutations, observer) {{\n",
              "        var display = window.getComputedStyle(gd).display;\n",
              "        if (!display || display === 'none') {{\n",
              "            console.log([gd, 'removed!']);\n",
              "            Plotly.purge(gd);\n",
              "            observer.disconnect();\n",
              "        }}\n",
              "}});\n",
              "\n",
              "// Listen for the removal of the full notebook cells\n",
              "var notebookContainer = gd.closest('#notebook-container');\n",
              "if (notebookContainer) {{\n",
              "    x.observe(notebookContainer, {childList: true});\n",
              "}}\n",
              "\n",
              "// Listen for the clearing of the current output cell\n",
              "var outputEl = gd.closest('.output');\n",
              "if (outputEl) {{\n",
              "    x.observe(outputEl, {childList: true});\n",
              "}}\n",
              "\n",
              "                        })\n",
              "                };\n",
              "                });\n",
              "            </script>\n",
              "        </div>"
            ],
            "application/vnd.plotly.v1+json": {
              "data": [
                {
                  "name": "Space",
                  "y": [
                    2659,
                    1200,
                    979,
                    1830.22,
                    2272,
                    840,
                    1509.45,
                    730.73,
                    561.93,
                    1789,
                    2499,
                    2328,
                    2500,
                    6450,
                    1399.65,
                    1505.6,
                    1429.1,
                    930,
                    868.06,
                    2179,
                    1829,
                    1589,
                    1831,
                    1060,
                    3103,
                    1619,
                    715,
                    1237.83,
                    2290,
                    1810,
                    2320,
                    2230,
                    2155,
                    2660.9,
                    1427.82,
                    3170,
                    999,
                    849.24,
                    658.11,
                    1340,
                    2433,
                    3275,
                    311.04,
                    3677.7,
                    1740,
                    1404.66,
                    772,
                    479.87,
                    1853.33,
                    511.15,
                    845,
                    2724.17,
                    2251,
                    3195,
                    2812,
                    976,
                    2044.85,
                    959,
                    850,
                    2071.9,
                    4500,
                    5530,
                    1049,
                    1629,
                    1640,
                    1498,
                    889,
                    1598,
                    4945,
                    1500,
                    1949.26,
                    1265,
                    2500,
                    1565,
                    1550,
                    1424.75,
                    4400,
                    1690,
                    3400,
                    1189.48,
                    1570,
                    1000,
                    2680,
                    2100,
                    450,
                    1520,
                    1025,
                    1790,
                    1960,
                    1610,
                    1690,
                    794,
                    1790,
                    3228.25,
                    2862,
                    3390,
                    1490,
                    383.46,
                    872.07,
                    900,
                    3732.64,
                    4288,
                    3251.66,
                    4500,
                    2237.78,
                    2000,
                    3362.41,
                    3664.25,
                    2080,
                    2227,
                    1750,
                    2879,
                    3780,
                    2320,
                    1318,
                    1209,
                    990,
                    4475,
                    1850,
                    5930,
                    2076.38,
                    1820,
                    1499,
                    1609.64,
                    1550,
                    1215,
                    1320,
                    836,
                    1455,
                    1038,
                    1615.57,
                    1480,
                    2244,
                    2555,
                    1095,
                    1265,
                    1633,
                    3295,
                    1368.17,
                    1300,
                    1300,
                    1683,
                    969,
                    1784,
                    1300,
                    990,
                    1706.81,
                    1300,
                    3739.46,
                    1388,
                    1533,
                    1883.27,
                    440.94,
                    990,
                    1490,
                    3593.17,
                    1240,
                    735,
                    2250,
                    1673.95,
                    1950,
                    919,
                    421.87,
                    1386.43,
                    719,
                    719,
                    719,
                    999,
                    1901,
                    496.13,
                    649,
                    895,
                    719,
                    2199,
                    583.03,
                    1397,
                    2999,
                    271.25,
                    458.91,
                    433.71,
                    1563.75,
                    2550,
                    670.86,
                    1405,
                    1266.3,
                    1665,
                    3000,
                    1116,
                    1703,
                    2180,
                    960,
                    2370.71,
                    1645,
                    773.6,
                    1478,
                    914,
                    3060,
                    1159,
                    1180,
                    1872,
                    1707,
                    1454.18,
                    737.49,
                    1528.25,
                    705.06,
                    605.8,
                    407.42,
                    1399.92,
                    1399.92,
                    1590.39,
                    1800,
                    408.78,
                    1465.62,
                    1691,
                    1625,
                    2124.29,
                    1510,
                    1600,
                    1410,
                    1897.2,
                    4192.63,
                    1570,
                    1470,
                    2528.86,
                    1800,
                    1359.33,
                    1480,
                    2670,
                    691.29,
                    1935.17,
                    1093.16,
                    2260,
                    900.23,
                    887.53,
                    621.38,
                    2580,
                    2124.29,
                    1783.89,
                    674.8,
                    435.74,
                    2990,
                    378.14,
                    1563.75,
                    1876.78,
                    4500,
                    9774,
                    1397,
                    1897.5,
                    1189.27,
                    1987.04,
                    2434,
                    2410.8,
                    2346,
                    1069.26,
                    699,
                    1258,
                    1942.72,
                    2250,
                    668.4,
                    1777,
                    1265,
                    2096,
                    1350,
                    1500,
                    885.68,
                    656.1,
                    1007,
                    489.07,
                    4600,
                    2450,
                    649,
                    2148,
                    1639,
                    909,
                    565.63,
                    889,
                    1800,
                    1615,
                    352.95,
                    2997,
                    404.39,
                    6855.48,
                    280.74,
                    720,
                    2180,
                    4325.69,
                    2492.05,
                    2322.02,
                    1650,
                    2567,
                    2277.91,
                    845,
                    771,
                    1571.44,
                    680,
                    803,
                    793,
                    1557.28,
                    2320,
                    1301.13,
                    730,
                    1010.31,
                    1930.38,
                    705.92,
                    1181.3,
                    2043.49,
                    3568.5,
                    2115,
                    1530,
                    2734,
                    1500,
                    1490,
                    1040.51,
                    547.9,
                    3360,
                    1181.3,
                    1500,
                    2752,
                    599.74,
                    1558.8,
                    1590.35,
                    2159.2,
                    580.16,
                    2950,
                    960.38,
                    1494.64,
                    1817,
                    2105,
                    5774.83,
                    755.3,
                    1650,
                    1570,
                    2405,
                    1493,
                    1685,
                    759,
                    1300,
                    877.71,
                    1845,
                    2060,
                    1440,
                    2485,
                    1200,
                    780,
                    3380,
                    2498,
                    1040,
                    1055.43,
                    1720,
                    1980,
                    2375,
                    967.4,
                    1785,
                    2435,
                    1350,
                    2310,
                    1290,
                    1359,
                    1700,
                    1136.72,
                    1500,
                    1250,
                    2380,
                    2170,
                    1040,
                    975,
                    1999.47,
                    1490,
                    1200,
                    2040,
                    512.93,
                    1250,
                    1600,
                    2799,
                    1160,
                    950,
                    1654.39,
                    920,
                    993.96,
                    4875,
                    1428.64,
                    984.4,
                    914.87,
                    776.47,
                    886.05,
                    950,
                    2400,
                    379.95,
                    669,
                    1400,
                    558.06,
                    964,
                    924.44,
                    1394,
                    1632.54,
                    2202,
                    727,
                    427,
                    1266.28,
                    475,
                    1700,
                    2850,
                    1452.8,
                    1480,
                    1395,
                    1959,
                    2255.84,
                    938,
                    1650,
                    1650,
                    2815,
                    1650,
                    1161,
                    2028.2,
                    563.91,
                    642.77,
                    1650,
                    420.09,
                    808.46,
                    620,
                    2193,
                    900,
                    1231.23,
                    971.15,
                    991.19,
                    887,
                    1370,
                    690,
                    712,
                    982,
                    1246,
                    1755,
                    1228.75,
                    1753,
                    1223.98,
                    685,
                    1432.6,
                    1530,
                    2620,
                    2484.62,
                    1565.4,
                    1780.9,
                    2079.02,
                    1800,
                    1635,
                    768,
                    4800,
                    585,
                    1413.03,
                    2300,
                    1380.05,
                    1200,
                    811.1,
                    1609.1,
                    2320,
                    1030,
                    647.05,
                    3090.4,
                    816.49,
                    699.3,
                    846,
                    1124.93,
                    2807,
                    2892.25,
                    2488,
                    1749.32,
                    3994,
                    2708,
                    1336.41,
                    4184,
                    1854.98,
                    570,
                    2293.31,
                    1200,
                    1502,
                    1015,
                    1400,
                    825,
                    1499,
                    2070,
                    876,
                    2320,
                    1700,
                    656.5,
                    886.05,
                    703.86,
                    1886.81,
                    1500,
                    1660,
                    1690,
                    478.52,
                    1600,
                    2999,
                    670.03,
                    860,
                    2269,
                    948.1,
                    873,
                    2130.31,
                    969,
                    1175.72,
                    1200,
                    1834,
                    1349.58,
                    1320.49,
                    1886.3,
                    2295,
                    1980,
                    1846.23,
                    1447,
                    1770,
                    1343,
                    750,
                    730.36,
                    1281.5,
                    976.5,
                    984.5,
                    719.56,
                    2170,
                    2170,
                    995,
                    1250,
                    995,
                    921.59,
                    1236.72,
                    1090,
                    2105.4,
                    1497.45,
                    829,
                    948.09,
                    1494,
                    829,
                    2475.98,
                    2549,
                    1182,
                    1350,
                    3104,
                    1160.55,
                    1285,
                    1725.15,
                    575.45,
                    1709.33,
                    1535.3,
                    1356.44,
                    521.09,
                    1890,
                    1277.21,
                    1939.2,
                    2645.9,
                    2630.39,
                    813.4,
                    1906.14,
                    960,
                    2039,
                    2265.47,
                    1184,
                    2700,
                    1639.52,
                    891.65,
                    1489,
                    4800,
                    1455.61,
                    2550,
                    1565.56,
                    2865.49,
                    2014.21,
                    1760.37,
                    1191.35,
                    2280,
                    4450,
                    1558,
                    1174.25,
                    1519,
                    1650,
                    2499.59,
                    1997.37,
                    1095,
                    2073.32,
                    1783.08,
                    1358.64,
                    1834,
                    1327.99,
                    1163,
                    2575,
                    1356.04,
                    2427,
                    1202,
                    2555,
                    1250.06,
                    1529,
                    5936.4,
                    5936.4,
                    4747.6,
                    1800,
                    4747.6,
                    2650,
                    4747.6,
                    2138.68,
                    1189.09,
                    929.34,
                    1960.8,
                    2150,
                    1124,
                    896.46,
                    2033.1,
                    1031,
                    2039.3,
                    398,
                    1800,
                    2075.12,
                    2067.77,
                    1347.51,
                    2162,
                    2041,
                    1320.73,
                    1700,
                    1429.1,
                    2007.02,
                    868.06,
                    1326.61,
                    2020.99,
                    2031.52,
                    2508.24,
                    2125,
                    1410,
                    1841.68,
                    2130.96,
                    2525.97,
                    1627.11,
                    1410,
                    1774.43,
                    1768.29,
                    2280,
                    4678.3,
                    1788.57,
                    2851.96,
                    3160,
                    1488.25,
                    1869.56,
                    2200,
                    1814.85,
                    3250,
                    1720,
                    2175,
                    1449.24,
                    1756.36,
                    5322.5,
                    1958.69,
                    2288.06,
                    2436.48,
                    2356.2,
                    2525,
                    2283.98,
                    6022.5,
                    1788.14,
                    2488.26,
                    929,
                    1897.95,
                    2107.43,
                    2982.41,
                    2130.96,
                    1755,
                    1839.78,
                    3230,
                    1846.87,
                    525,
                    2158.01,
                    1774.43,
                    2119.62,
                    2525.97,
                    1959.27,
                    2642.69,
                    2622.9,
                    1383.23,
                    2069.26,
                    5876.35,
                    1833.98,
                    2440.56,
                    2286,
                    2851.96,
                    1200,
                    2105,
                    1931.26,
                    1716,
                    1774.15,
                    2630,
                    1349,
                    2500,
                    2508.24,
                    2065.06,
                    1567.39,
                    1367,
                    1099,
                    1561.65,
                    14207,
                    1757.11,
                    1063,
                    1399,
                    2497.38,
                    1697,
                    2260.46,
                    2264.83,
                    2747.36,
                    1990,
                    1395,
                    2198.75,
                    2555,
                    2198.97,
                    1768.29,
                    869,
                    1294,
                    1100,
                    1321,
                    1314.15,
                    2390,
                    899,
                    1236.5,
                    3706.83,
                    1550,
                    660,
                    914,
                    2555.59,
                    2740,
                    1793,
                    1266,
                    1282.5,
                    1454.74,
                    2439.6,
                    1970,
                    2811.38,
                    655,
                    1524,
                    1489,
                    2300,
                    2129,
                    1350,
                    3500,
                    843,
                    1357.46,
                    1007,
                    610,
                    3925,
                    1283.71,
                    622,
                    1366,
                    780,
                    741,
                    771,
                    4040,
                    1728,
                    1079,
                    770,
                    2180,
                    720,
                    2155.5,
                    577,
                    772,
                    1970,
                    693,
                    959,
                    649,
                    2750,
                    1259,
                    888
                  ],
                  "mode": "markers",
                  "marker": {
                    "color": "rgba(0, 255, 200, 0.8)"
                  },
                  "x": [
                    117.2,
                    29.33,
                    83.61,
                    171.18,
                    88.27,
                    73.51,
                    61.61,
                    72.61,
                    62.4,
                    77.66,
                    125.2,
                    90.36,
                    81.1,
                    186,
                    66.65,
                    75.28,
                    82.05,
                    29.12,
                    49.19,
                    95.8,
                    67,
                    105.47,
                    72.28,
                    32,
                    141.75,
                    60,
                    19,
                    80.97,
                    96.81,
                    100.47,
                    101.38,
                    112.26,
                    101.15,
                    132.81,
                    73.97,
                    139.07,
                    28,
                    84,
                    60,
                    47.4,
                    120.64,
                    156.68,
                    32,
                    125.54,
                    75.7,
                    68.52,
                    20.5,
                    47.12,
                    82.37,
                    49,
                    27.8,
                    135.68,
                    79.05,
                    170,
                    100.7,
                    37.69,
                    114.99,
                    27.8,
                    55,
                    107.33,
                    225,
                    201,
                    40.51,
                    106,
                    80,
                    47.2,
                    27.71,
                    118,
                    215,
                    57,
                    104.63,
                    59,
                    125,
                    67.27,
                    46,
                    88.5,
                    236,
                    99.4,
                    106,
                    61.44,
                    83,
                    56.7,
                    116.5,
                    121.91,
                    14,
                    98.72,
                    37,
                    30,
                    116.21,
                    83,
                    25,
                    40.2,
                    34,
                    142.1,
                    106,
                    55,
                    21,
                    48.23,
                    61.71,
                    33.75,
                    182,
                    202,
                    151,
                    230,
                    109,
                    98,
                    164,
                    170,
                    95,
                    105.97,
                    80,
                    167,
                    207,
                    95,
                    105.76,
                    81,
                    35,
                    209,
                    109,
                    324,
                    90.06,
                    91,
                    66.4,
                    99.63,
                    55,
                    67,
                    55,
                    83.05,
                    61.41,
                    30,
                    50.31,
                    66.2,
                    76.6,
                    140.16,
                    48.26,
                    56.25,
                    60,
                    168.86,
                    65.4,
                    34.87,
                    36.75,
                    81,
                    36,
                    80,
                    39.4,
                    25.85,
                    104,
                    38.36,
                    237,
                    53,
                    65,
                    98.38,
                    41.45,
                    23.62,
                    69.78,
                    139.23,
                    45.2,
                    50.11,
                    127,
                    85.35,
                    86.4,
                    76,
                    43,
                    72.97,
                    60,
                    60,
                    60,
                    28.9,
                    133.42,
                    55,
                    56,
                    74,
                    60,
                    106.98,
                    58,
                    70.22,
                    160.94,
                    24,
                    39,
                    36,
                    75.91,
                    121,
                    76,
                    65.5,
                    64.9,
                    85.64,
                    99,
                    52,
                    88.58,
                    103.27,
                    43.1,
                    101.74,
                    47,
                    27,
                    70,
                    73.67,
                    127.66,
                    57,
                    56,
                    77,
                    85,
                    97,
                    65,
                    84.75,
                    73,
                    51,
                    42.75,
                    39.5,
                    53.5,
                    99,
                    80.9,
                    44,
                    75.16,
                    115,
                    83,
                    136.61,
                    77,
                    56,
                    80,
                    102,
                    191.13,
                    85,
                    76,
                    150.99,
                    51.59,
                    63.52,
                    73.72,
                    147,
                    71,
                    119,
                    123,
                    161.24,
                    90,
                    76,
                    63,
                    105,
                    136.61,
                    90.66,
                    71,
                    38,
                    118,
                    36.61,
                    75.91,
                    91.55,
                    230,
                    274,
                    53,
                    115.1,
                    79.71,
                    106.83,
                    112,
                    117.6,
                    117.3,
                    60.45,
                    20,
                    65.01,
                    90.15,
                    118.37,
                    49.99,
                    84,
                    63,
                    98,
                    50.3,
                    61,
                    76,
                    69,
                    46,
                    48,
                    160,
                    94,
                    56,
                    118.68,
                    96,
                    76,
                    64,
                    74,
                    68,
                    70,
                    32,
                    133.19,
                    34,
                    286.84,
                    26,
                    49.36,
                    77.54,
                    198.75,
                    126.5,
                    124.84,
                    69,
                    131.19,
                    95.31,
                    27.7,
                    20.5,
                    104.39,
                    20.5,
                    24.1,
                    20.5,
                    80.84,
                    160,
                    71.97,
                    20.5,
                    73.21,
                    117.04,
                    45.21,
                    60.55,
                    83.78,
                    170.45,
                    79.56,
                    64,
                    99.39,
                    43.5,
                    49,
                    53.03,
                    63,
                    164,
                    60.55,
                    78,
                    129.53,
                    51,
                    94,
                    99,
                    128,
                    51,
                    161,
                    102,
                    90,
                    97.62,
                    119,
                    242.64,
                    61.95,
                    77,
                    95.5,
                    106,
                    66,
                    73.78,
                    22,
                    60,
                    37,
                    85.48,
                    85.5,
                    95,
                    97.3,
                    54,
                    61.5,
                    120,
                    124,
                    26.9,
                    61,
                    74.37,
                    84,
                    100,
                    48.8,
                    66.55,
                    122.98,
                    52.97,
                    142,
                    44,
                    77,
                    82.07,
                    83.03,
                    57.7,
                    61,
                    108.5,
                    105,
                    57,
                    56,
                    103,
                    64.14,
                    72,
                    136,
                    41.03,
                    62.5,
                    90,
                    105,
                    65,
                    60.72,
                    85.32,
                    42,
                    50.33,
                    195,
                    73.72,
                    51.88,
                    48.56,
                    41,
                    47.04,
                    40,
                    108,
                    32.99,
                    35,
                    72,
                    40.38,
                    51.41,
                    61.14,
                    52,
                    101.61,
                    120.41,
                    59.2,
                    37.16,
                    56.24,
                    18,
                    80.77,
                    127,
                    78.3,
                    48,
                    86.26,
                    85,
                    136.53,
                    61.46,
                    75,
                    77,
                    175,
                    75,
                    91.11,
                    115.48,
                    49.4,
                    55.13,
                    77,
                    29.48,
                    74.9,
                    28,
                    115.48,
                    42.3,
                    57.94,
                    64.63,
                    43.1,
                    67.88,
                    106.1,
                    25.68,
                    60,
                    71.41,
                    80.79,
                    92,
                    65,
                    92,
                    66,
                    57.08,
                    66.4,
                    68,
                    75.95,
                    112.71,
                    66.4,
                    82.6,
                    106.36,
                    70.49,
                    58,
                    32,
                    143.22,
                    36.94,
                    66.81,
                    97,
                    82.16,
                    31,
                    46.82,
                    58.64,
                    160,
                    63,
                    59.02,
                    154.52,
                    43.39,
                    42,
                    62.59,
                    82.25,
                    112.27,
                    144.61,
                    90,
                    101.89,
                    160,
                    140.13,
                    102.88,
                    167.36,
                    90.92,
                    54.02,
                    102.38,
                    30,
                    101.81,
                    70.88,
                    60,
                    57.75,
                    61.26,
                    105.35,
                    61.53,
                    160,
                    100,
                    61.83,
                    48.59,
                    42.45,
                    120.29,
                    75.12,
                    114.14,
                    99.4,
                    47.76,
                    111,
                    145,
                    49.67,
                    60.5,
                    92,
                    75.31,
                    54.78,
                    95.96,
                    40,
                    33.95,
                    67,
                    96.44,
                    60.4,
                    64.73,
                    90.47,
                    137.31,
                    83.73,
                    89.19,
                    64,
                    83,
                    84.48,
                    62,
                    32.61,
                    76.15,
                    58.2,
                    56.68,
                    28.4,
                    83.65,
                    146,
                    36,
                    67,
                    36,
                    67.24,
                    72.18,
                    54.7,
                    87.4,
                    71.82,
                    36,
                    43.1,
                    66.77,
                    36,
                    115.7,
                    143.13,
                    91.11,
                    35,
                    174.63,
                    61.31,
                    64,
                    82.15,
                    73.5,
                    90.21,
                    88.29,
                    75.5,
                    48.72,
                    75.65,
                    65.96,
                    87.43,
                    131.05,
                    126.4,
                    48.99,
                    112.99,
                    77.96,
                    110,
                    133.42,
                    74.31,
                    119,
                    79,
                    51.72,
                    73.41,
                    240,
                    79.44,
                    116,
                    88.3,
                    123.08,
                    76.22,
                    100.65,
                    52.48,
                    73,
                    152.7,
                    76,
                    46.97,
                    95.9,
                    67.55,
                    122.83,
                    95.34,
                    66,
                    99.44,
                    68.58,
                    66.6,
                    100.93,
                    64.78,
                    52.85,
                    150,
                    66.31,
                    108.13,
                    57.4,
                    125.49,
                    52.24,
                    71,
                    131.92,
                    131.92,
                    110.41,
                    85,
                    110.41,
                    123,
                    110.41,
                    118.44,
                    57.96,
                    50.65,
                    98.04,
                    95.8,
                    65.79,
                    50.2,
                    113.06,
                    48.99,
                    91.04,
                    18,
                    80.95,
                    100.49,
                    98.7,
                    66.38,
                    107,
                    96.73,
                    68.17,
                    84,
                    82.05,
                    96.26,
                    49.19,
                    65.35,
                    96.93,
                    96.97,
                    119.44,
                    130,
                    47,
                    86.06,
                    92.05,
                    107.26,
                    76.57,
                    47,
                    81.96,
                    84.81,
                    73,
                    212.3,
                    81.67,
                    121.36,
                    169.53,
                    59.53,
                    84.98,
                    84,
                    98.7,
                    173.79,
                    116.35,
                    101.02,
                    54.05,
                    50.18,
                    123,
                    112.31,
                    65.37,
                    101.52,
                    67.32,
                    170,
                    101.51,
                    123,
                    81.65,
                    71.09,
                    28.45,
                    111.34,
                    98.02,
                    129.67,
                    92.05,
                    101.46,
                    81.95,
                    68,
                    81.72,
                    22,
                    92.42,
                    81.96,
                    92.56,
                    107.26,
                    93.97,
                    122.29,
                    121.15,
                    128.81,
                    82.77,
                    300,
                    85.7,
                    101.69,
                    110.75,
                    121.36,
                    55,
                    90.02,
                    80.78,
                    90.4,
                    81.57,
                    142.35,
                    51,
                    173.14,
                    119.44,
                    97.87,
                    88.19,
                    66.33,
                    43,
                    86.91,
                    413.91,
                    84.68,
                    69.5,
                    50,
                    111.49,
                    115.35,
                    101.43,
                    104.13,
                    122.65,
                    80,
                    52,
                    108.58,
                    125.46,
                    108.86,
                    84.81,
                    30,
                    42.52,
                    30,
                    49.9,
                    40.32,
                    100.46,
                    30.98,
                    46.02,
                    141.26,
                    100,
                    25,
                    33.7,
                    91.72,
                    99.65,
                    110,
                    47.13,
                    44.4,
                    54.97,
                    103.6,
                    85.6,
                    124.95,
                    23.16,
                    45,
                    73.41,
                    99.47,
                    96.6,
                    68,
                    165,
                    32.2,
                    59.8,
                    79.87,
                    21,
                    138,
                    54.59,
                    19.22,
                    46,
                    26,
                    20.5,
                    20.5,
                    176.5,
                    94.65,
                    50.79,
                    35,
                    85,
                    20.5,
                    86.42,
                    48.47,
                    20.5,
                    127,
                    57,
                    27.8,
                    20.5,
                    110,
                    91.2,
                    68.48
                  ],
                  "type": "scatter"
                }
              ],
              "config": {
                "plotlyServerURL": "https://plot.ly",
                "linkText": "Export to plot.ly",
                "showLink": false
              },
              "layout": {
                "yaxis": {
                  "zeroline": false,
                  "ticklen": 5,
                  "title": {
                    "text": "Space"
                  }
                },
                "xaxis": {
                  "zeroline": false,
                  "ticklen": 5,
                  "title": {
                    "text": "Rent"
                  }
                },
                "template": {
                  "layout": {
                    "shapedefaults": {
                      "line": {
                        "color": "#2a3f5f"
                      }
                    },
                    "polar": {
                      "radialaxis": {
                        "ticks": "",
                        "gridcolor": "white",
                        "linecolor": "white"
                      },
                      "bgcolor": "#E5ECF6",
                      "angularaxis": {
                        "ticks": "",
                        "gridcolor": "white",
                        "linecolor": "white"
                      }
                    },
                    "colorway": [
                      "#636efa",
                      "#EF553B",
                      "#00cc96",
                      "#ab63fa",
                      "#FFA15A",
                      "#19d3f3",
                      "#FF6692",
                      "#B6E880",
                      "#FF97FF",
                      "#FECB52"
                    ],
                    "xaxis": {
                      "automargin": true,
                      "title": {
                        "standoff": 15
                      },
                      "zerolinewidth": 2,
                      "ticks": "",
                      "zerolinecolor": "white",
                      "gridcolor": "white",
                      "linecolor": "white"
                    },
                    "colorscale": {
                      "diverging": [
                        [
                          0,
                          "#8e0152"
                        ],
                        [
                          0.1,
                          "#c51b7d"
                        ],
                        [
                          0.2,
                          "#de77ae"
                        ],
                        [
                          0.3,
                          "#f1b6da"
                        ],
                        [
                          0.4,
                          "#fde0ef"
                        ],
                        [
                          0.5,
                          "#f7f7f7"
                        ],
                        [
                          0.6,
                          "#e6f5d0"
                        ],
                        [
                          0.7,
                          "#b8e186"
                        ],
                        [
                          0.8,
                          "#7fbc41"
                        ],
                        [
                          0.9,
                          "#4d9221"
                        ],
                        [
                          1,
                          "#276419"
                        ]
                      ],
                      "sequential": [
                        [
                          0,
                          "#0d0887"
                        ],
                        [
                          0.1111111111111111,
                          "#46039f"
                        ],
                        [
                          0.2222222222222222,
                          "#7201a8"
                        ],
                        [
                          0.3333333333333333,
                          "#9c179e"
                        ],
                        [
                          0.4444444444444444,
                          "#bd3786"
                        ],
                        [
                          0.5555555555555556,
                          "#d8576b"
                        ],
                        [
                          0.6666666666666666,
                          "#ed7953"
                        ],
                        [
                          0.7777777777777778,
                          "#fb9f3a"
                        ],
                        [
                          0.8888888888888888,
                          "#fdca26"
                        ],
                        [
                          1,
                          "#f0f921"
                        ]
                      ],
                      "sequentialminus": [
                        [
                          0,
                          "#0d0887"
                        ],
                        [
                          0.1111111111111111,
                          "#46039f"
                        ],
                        [
                          0.2222222222222222,
                          "#7201a8"
                        ],
                        [
                          0.3333333333333333,
                          "#9c179e"
                        ],
                        [
                          0.4444444444444444,
                          "#bd3786"
                        ],
                        [
                          0.5555555555555556,
                          "#d8576b"
                        ],
                        [
                          0.6666666666666666,
                          "#ed7953"
                        ],
                        [
                          0.7777777777777778,
                          "#fb9f3a"
                        ],
                        [
                          0.8888888888888888,
                          "#fdca26"
                        ],
                        [
                          1,
                          "#f0f921"
                        ]
                      ]
                    },
                    "paper_bgcolor": "white",
                    "plot_bgcolor": "#E5ECF6",
                    "title": {
                      "x": 0.05
                    },
                    "scene": {
                      "zaxis": {
                        "backgroundcolor": "#E5ECF6",
                        "ticks": "",
                        "gridwidth": 2,
                        "showbackground": true,
                        "zerolinecolor": "white",
                        "gridcolor": "white",
                        "linecolor": "white"
                      },
                      "xaxis": {
                        "backgroundcolor": "#E5ECF6",
                        "ticks": "",
                        "gridwidth": 2,
                        "showbackground": true,
                        "zerolinecolor": "white",
                        "gridcolor": "white",
                        "linecolor": "white"
                      },
                      "yaxis": {
                        "backgroundcolor": "#E5ECF6",
                        "ticks": "",
                        "gridwidth": 2,
                        "showbackground": true,
                        "zerolinecolor": "white",
                        "gridcolor": "white",
                        "linecolor": "white"
                      }
                    },
                    "yaxis": {
                      "automargin": true,
                      "title": {
                        "standoff": 15
                      },
                      "zerolinewidth": 2,
                      "ticks": "",
                      "zerolinecolor": "white",
                      "gridcolor": "white",
                      "linecolor": "white"
                    },
                    "annotationdefaults": {
                      "arrowwidth": 1,
                      "arrowhead": 0,
                      "arrowcolor": "#2a3f5f"
                    },
                    "hoverlabel": {
                      "align": "left"
                    },
                    "ternary": {
                      "bgcolor": "#E5ECF6",
                      "baxis": {
                        "ticks": "",
                        "gridcolor": "white",
                        "linecolor": "white"
                      },
                      "caxis": {
                        "ticks": "",
                        "gridcolor": "white",
                        "linecolor": "white"
                      },
                      "aaxis": {
                        "ticks": "",
                        "gridcolor": "white",
                        "linecolor": "white"
                      }
                    },
                    "mapbox": {
                      "style": "light"
                    },
                    "hovermode": "closest",
                    "font": {
                      "color": "#2a3f5f"
                    },
                    "geo": {
                      "showland": true,
                      "landcolor": "#E5ECF6",
                      "showlakes": true,
                      "bgcolor": "white",
                      "subunitcolor": "white",
                      "lakecolor": "white"
                    },
                    "coloraxis": {
                      "colorbar": {
                        "outlinewidth": 0,
                        "ticks": ""
                      }
                    }
                  },
                  "data": {
                    "mesh3d": [
                      {
                        "colorbar": {
                          "outlinewidth": 0,
                          "ticks": ""
                        },
                        "type": "mesh3d"
                      }
                    ],
                    "scattercarpet": [
                      {
                        "marker": {
                          "colorbar": {
                            "outlinewidth": 0,
                            "ticks": ""
                          }
                        },
                        "type": "scattercarpet"
                      }
                    ],
                    "pie": [
                      {
                        "automargin": true,
                        "type": "pie"
                      }
                    ],
                    "surface": [
                      {
                        "colorbar": {
                          "outlinewidth": 0,
                          "ticks": ""
                        },
                        "type": "surface",
                        "colorscale": [
                          [
                            0,
                            "#0d0887"
                          ],
                          [
                            0.1111111111111111,
                            "#46039f"
                          ],
                          [
                            0.2222222222222222,
                            "#7201a8"
                          ],
                          [
                            0.3333333333333333,
                            "#9c179e"
                          ],
                          [
                            0.4444444444444444,
                            "#bd3786"
                          ],
                          [
                            0.5555555555555556,
                            "#d8576b"
                          ],
                          [
                            0.6666666666666666,
                            "#ed7953"
                          ],
                          [
                            0.7777777777777778,
                            "#fb9f3a"
                          ],
                          [
                            0.8888888888888888,
                            "#fdca26"
                          ],
                          [
                            1,
                            "#f0f921"
                          ]
                        ]
                      }
                    ],
                    "table": [
                      {
                        "header": {
                          "line": {
                            "color": "white"
                          },
                          "fill": {
                            "color": "#C8D4E3"
                          }
                        },
                        "cells": {
                          "line": {
                            "color": "white"
                          },
                          "fill": {
                            "color": "#EBF0F8"
                          }
                        },
                        "type": "table"
                      }
                    ],
                    "scatterpolargl": [
                      {
                        "marker": {
                          "colorbar": {
                            "outlinewidth": 0,
                            "ticks": ""
                          }
                        },
                        "type": "scatterpolargl"
                      }
                    ],
                    "contour": [
                      {
                        "colorbar": {
                          "outlinewidth": 0,
                          "ticks": ""
                        },
                        "type": "contour",
                        "colorscale": [
                          [
                            0,
                            "#0d0887"
                          ],
                          [
                            0.1111111111111111,
                            "#46039f"
                          ],
                          [
                            0.2222222222222222,
                            "#7201a8"
                          ],
                          [
                            0.3333333333333333,
                            "#9c179e"
                          ],
                          [
                            0.4444444444444444,
                            "#bd3786"
                          ],
                          [
                            0.5555555555555556,
                            "#d8576b"
                          ],
                          [
                            0.6666666666666666,
                            "#ed7953"
                          ],
                          [
                            0.7777777777777778,
                            "#fb9f3a"
                          ],
                          [
                            0.8888888888888888,
                            "#fdca26"
                          ],
                          [
                            1,
                            "#f0f921"
                          ]
                        ]
                      }
                    ],
                    "carpet": [
                      {
                        "type": "carpet",
                        "baxis": {
                          "minorgridcolor": "white",
                          "gridcolor": "white",
                          "linecolor": "white",
                          "endlinecolor": "#2a3f5f",
                          "startlinecolor": "#2a3f5f"
                        },
                        "aaxis": {
                          "minorgridcolor": "white",
                          "gridcolor": "white",
                          "linecolor": "white",
                          "endlinecolor": "#2a3f5f",
                          "startlinecolor": "#2a3f5f"
                        }
                      }
                    ],
                    "contourcarpet": [
                      {
                        "colorbar": {
                          "outlinewidth": 0,
                          "ticks": ""
                        },
                        "type": "contourcarpet"
                      }
                    ],
                    "heatmap": [
                      {
                        "colorbar": {
                          "outlinewidth": 0,
                          "ticks": ""
                        },
                        "type": "heatmap",
                        "colorscale": [
                          [
                            0,
                            "#0d0887"
                          ],
                          [
                            0.1111111111111111,
                            "#46039f"
                          ],
                          [
                            0.2222222222222222,
                            "#7201a8"
                          ],
                          [
                            0.3333333333333333,
                            "#9c179e"
                          ],
                          [
                            0.4444444444444444,
                            "#bd3786"
                          ],
                          [
                            0.5555555555555556,
                            "#d8576b"
                          ],
                          [
                            0.6666666666666666,
                            "#ed7953"
                          ],
                          [
                            0.7777777777777778,
                            "#fb9f3a"
                          ],
                          [
                            0.8888888888888888,
                            "#fdca26"
                          ],
                          [
                            1,
                            "#f0f921"
                          ]
                        ]
                      }
                    ],
                    "scattermapbox": [
                      {
                        "marker": {
                          "colorbar": {
                            "outlinewidth": 0,
                            "ticks": ""
                          }
                        },
                        "type": "scattermapbox"
                      }
                    ],
                    "scatter3d": [
                      {
                        "marker": {
                          "colorbar": {
                            "outlinewidth": 0,
                            "ticks": ""
                          }
                        },
                        "line": {
                          "colorbar": {
                            "outlinewidth": 0,
                            "ticks": ""
                          }
                        },
                        "type": "scatter3d"
                      }
                    ],
                    "scattergl": [
                      {
                        "marker": {
                          "colorbar": {
                            "outlinewidth": 0,
                            "ticks": ""
                          }
                        },
                        "type": "scattergl"
                      }
                    ],
                    "scatterternary": [
                      {
                        "marker": {
                          "colorbar": {
                            "outlinewidth": 0,
                            "ticks": ""
                          }
                        },
                        "type": "scatterternary"
                      }
                    ],
                    "histogram": [
                      {
                        "marker": {
                          "colorbar": {
                            "outlinewidth": 0,
                            "ticks": ""
                          }
                        },
                        "type": "histogram"
                      }
                    ],
                    "heatmapgl": [
                      {
                        "colorbar": {
                          "outlinewidth": 0,
                          "ticks": ""
                        },
                        "type": "heatmapgl",
                        "colorscale": [
                          [
                            0,
                            "#0d0887"
                          ],
                          [
                            0.1111111111111111,
                            "#46039f"
                          ],
                          [
                            0.2222222222222222,
                            "#7201a8"
                          ],
                          [
                            0.3333333333333333,
                            "#9c179e"
                          ],
                          [
                            0.4444444444444444,
                            "#bd3786"
                          ],
                          [
                            0.5555555555555556,
                            "#d8576b"
                          ],
                          [
                            0.6666666666666666,
                            "#ed7953"
                          ],
                          [
                            0.7777777777777778,
                            "#fb9f3a"
                          ],
                          [
                            0.8888888888888888,
                            "#fdca26"
                          ],
                          [
                            1,
                            "#f0f921"
                          ]
                        ]
                      }
                    ],
                    "scatterpolar": [
                      {
                        "marker": {
                          "colorbar": {
                            "outlinewidth": 0,
                            "ticks": ""
                          }
                        },
                        "type": "scatterpolar"
                      }
                    ],
                    "histogram2d": [
                      {
                        "colorbar": {
                          "outlinewidth": 0,
                          "ticks": ""
                        },
                        "type": "histogram2d",
                        "colorscale": [
                          [
                            0,
                            "#0d0887"
                          ],
                          [
                            0.1111111111111111,
                            "#46039f"
                          ],
                          [
                            0.2222222222222222,
                            "#7201a8"
                          ],
                          [
                            0.3333333333333333,
                            "#9c179e"
                          ],
                          [
                            0.4444444444444444,
                            "#bd3786"
                          ],
                          [
                            0.5555555555555556,
                            "#d8576b"
                          ],
                          [
                            0.6666666666666666,
                            "#ed7953"
                          ],
                          [
                            0.7777777777777778,
                            "#fb9f3a"
                          ],
                          [
                            0.8888888888888888,
                            "#fdca26"
                          ],
                          [
                            1,
                            "#f0f921"
                          ]
                        ]
                      }
                    ],
                    "scattergeo": [
                      {
                        "marker": {
                          "colorbar": {
                            "outlinewidth": 0,
                            "ticks": ""
                          }
                        },
                        "type": "scattergeo"
                      }
                    ],
                    "bar": [
                      {
                        "marker": {
                          "line": {
                            "color": "#E5ECF6",
                            "width": 0.5
                          }
                        },
                        "type": "bar",
                        "error_x": {
                          "color": "#2a3f5f"
                        },
                        "error_y": {
                          "color": "#2a3f5f"
                        }
                      }
                    ],
                    "choropleth": [
                      {
                        "colorbar": {
                          "outlinewidth": 0,
                          "ticks": ""
                        },
                        "type": "choropleth"
                      }
                    ],
                    "parcoords": [
                      {
                        "line": {
                          "colorbar": {
                            "outlinewidth": 0,
                            "ticks": ""
                          }
                        },
                        "type": "parcoords"
                      }
                    ],
                    "barpolar": [
                      {
                        "marker": {
                          "line": {
                            "color": "#E5ECF6",
                            "width": 0.5
                          }
                        },
                        "type": "barpolar"
                      }
                    ],
                    "histogram2dcontour": [
                      {
                        "colorbar": {
                          "outlinewidth": 0,
                          "ticks": ""
                        },
                        "type": "histogram2dcontour",
                        "colorscale": [
                          [
                            0,
                            "#0d0887"
                          ],
                          [
                            0.1111111111111111,
                            "#46039f"
                          ],
                          [
                            0.2222222222222222,
                            "#7201a8"
                          ],
                          [
                            0.3333333333333333,
                            "#9c179e"
                          ],
                          [
                            0.4444444444444444,
                            "#bd3786"
                          ],
                          [
                            0.5555555555555556,
                            "#d8576b"
                          ],
                          [
                            0.6666666666666666,
                            "#ed7953"
                          ],
                          [
                            0.7777777777777778,
                            "#fb9f3a"
                          ],
                          [
                            0.8888888888888888,
                            "#fdca26"
                          ],
                          [
                            1,
                            "#f0f921"
                          ]
                        ]
                      }
                    ],
                    "scatter": [
                      {
                        "marker": {
                          "colorbar": {
                            "outlinewidth": 0,
                            "ticks": ""
                          }
                        },
                        "type": "scatter"
                      }
                    ]
                  }
                },
                "title": {
                  "text": "Relationship between the Space and the rent"
                }
              }
            }
          },
          "metadata": {
            "tags": []
          }
        }
      ]
    },
    {
      "cell_type": "markdown",
      "metadata": {
        "id": "oB85qxcn-A0r"
      },
      "source": [
        "## **A Plot to show the relationship between the Rooms and rental prices**"
      ]
    },
    {
      "cell_type": "code",
      "metadata": {
        "id": "3uRI_2OzsQK_",
        "colab": {
          "base_uri": "https://localhost:8080/",
          "height": 542
        },
        "outputId": "16296bd7-0136-4c61-9fb4-c2456905f491"
      },
      "source": [
        "\n",
        "Rm_rnt=go.Scatter(\n",
        "                    x = rentals['Rooms'],\n",
        "                    y = rentals['Rent'],\n",
        "                    mode = \"markers\",\n",
        "                    name = \"2014\",\n",
        "                    marker = dict(color = 'rgba(0, 0, 0, 0.8)'),\n",
        "                    )\n",
        "\n",
        "layout = dict(title = 'Relationship between the number of rooms and the rent',\n",
        "              xaxis= dict(title= 'Rent',ticklen= 5,zeroline= False),\n",
        "              yaxis= dict(title= 'Number of Rooms',ticklen= 5,zeroline= False)\n",
        "             )\n",
        "fig = dict(data = Rm_rnt, layout = layout)\n",
        "iplot(fig)"
      ],
      "execution_count": 27,
      "outputs": [
        {
          "output_type": "display_data",
          "data": {
            "text/html": [
              "<div>\n",
              "        \n",
              "        \n",
              "            <div id=\"c3ee5b72-991f-472b-9c71-cff31798011e\" class=\"plotly-graph-div\" style=\"height:525px; width:100%;\"></div>\n",
              "            <script type=\"text/javascript\">\n",
              "                require([\"plotly\"], function(Plotly) {\n",
              "                    window.PLOTLYENV=window.PLOTLYENV || {};\n",
              "                    \n",
              "                if (document.getElementById(\"c3ee5b72-991f-472b-9c71-cff31798011e\")) {\n",
              "                    Plotly.newPlot(\n",
              "                        'c3ee5b72-991f-472b-9c71-cff31798011e',\n",
              "                        [{\"marker\": {\"color\": \"rgba(0, 0, 0, 0.8)\"}, \"mode\": \"markers\", \"name\": \"2014\", \"type\": \"scatter\", \"x\": [4.0, 1.0, 2.0, 4.0, 2.0, 2.0, 2.0, 2.0, 2.0, 3.0, 4.0, 2.0, 3.0, 2.0, 2.0, 2.0, 3.5, 1.0, 2.0, 4.0, 3.0, 3.0, 3.0, 1.0, 3.0, 2.0, 1.0, 3.0, 3.0, 2.0, 3.0, 4.0, 3.0, 4.0, 2.0, 4.0, 1.0, 2.0, 2.5, 2.0, 4.0, 4.0, 1.0, 4.0, 3.0, 2.0, 1.0, 2.0, 3.0, 1.0, 1.0, 2.0, 2.0, 5.0, 3.0, 1.0, 3.0, 1.0, 2.0, 3.0, 4.0, 4.0, 1.0, 3.0, 2.5, 2.0, 1.0, 4.0, 5.0, 2.0, 4.0, 2.0, 2.5, 2.0, 2.0, 3.0, 5.0, 3.0, 2.5, 2.5, 3.0, 2.0, 4.0, 3.0, 1.0, 2.0, 1.0, 2.0, 4.0, 3.0, 1.0, 2.0, 2.0, 3.0, 3.5, 4.0, 1.5, 2.0, 2.0, 2.0, 3.0, 7.0, 3.0, 3.0, 2.5, 3.0, 4.0, 4.0, 3.0, 3.0, 2.0, 3.0, 3.0, 2.0, 3.0, 2.5, 1.0, 4.0, 1.0, 5.0, 3.5, 4.0, 2.0, 2.0, 1.0, 2.0, 2.0, 2.0, 2.0, 1.0, 2.0, 2.0, 3.0, 4.0, 1.0, 2.0, 2.0, 4.0, 2.0, 1.0, 1.0, 2.0, 1.0, 2.0, 1.0, 1.0, 3.0, 1.0, 6.0, 2.0, 2.0, 3.0, 1.0, 1.0, 2.0, 3.0, 2.0, 2.0, 4.0, 3.0, 3.0, 3.0, 1.0, 3.0, 2.0, 2.0, 2.0, 1.0, 4.0, 2.0, 2.0, 3.0, 2.0, 3.0, 2.0, 2.0, 4.0, 1.0, 1.0, 1.5, 2.0, 4.0, 3.0, 2.0, 2.0, 3.0, 3.0, 1.5, 3.0, 3.0, 1.0, 2.0, 2.0, 2.0, 2.0, 2.0, 4.0, 2.0, 2.0, 2.0, 2.0, 3.0, 2.0, 3.0, 2.5, 2.0, 1.0, 1.5, 2.0, 2.0, 3.0, 2.0, 3.0, 3.0, 3.0, 4.0, 2.0, 2.0, 2.0, 3.0, 4.0, 2.0, 3.0, 4.0, 2.0, 2.0, 2.0, 4.0, 3.0, 3.0, 4.0, 3.0, 3.0, 2.5, 2.0, 3.0, 4.0, 3.0, 2.0, 1.0, 2.0, 1.0, 2.0, 2.0, 3.0, 5.0, 2.0, 3.0, 2.5, 3.0, 3.0, 3.0, 3.0, 2.0, 1.0, 2.0, 3.0, 4.0, 1.5, 2.0, 2.0, 3.0, 2.0, 2.0, 3.0, 3.0, 1.0, 1.5, 4.0, 3.0, 2.0, 4.0, 3.0, 3.0, 3.0, 3.0, 2.0, 2.0, 1.0, 2.0, 1.0, 5.0, 1.0, 2.0, 2.0, 5.0, 4.0, 5.0, 3.0, 4.0, 2.0, 1.0, 1.0, 4.0, 1.0, 1.0, 1.0, 3.0, 4.0, 3.0, 1.0, 2.0, 3.0, 2.0, 2.0, 3.0, 3.0, 2.0, 2.0, 4.0, 2.0, 2.0, 2.0, 2.0, 4.0, 2.0, 3.0, 4.0, 2.0, 3.0, 2.0, 4.0, 2.0, 2.5, 3.5, 2.0, 3.0, 4.0, 4.0, 2.0, 3.0, 3.0, 4.0, 2.0, 2.0, 1.0, 2.0, 1.0, 3.0, 3.0, 3.0, 3.0, 2.0, 2.0, 3.0, 3.0, 1.0, 2.0, 3.0, 2.0, 3.0, 1.0, 3.0, 3.0, 2.0, 5.0, 2.0, 2.0, 3.0, 2.0, 2.0, 2.0, 4.0, 3.0, 2.0, 2.0, 3.5, 2.0, 2.0, 5.0, 2.0, 2.0, 3.0, 3.5, 3.0, 2.0, 4.0, 1.0, 1.0, 3.0, 3.0, 2.0, 2.0, 2.0, 2.0, 1.0, 4.0, 1.0, 1.0, 3.0, 1.0, 2.0, 1.0, 2.0, 2.5, 3.0, 2.0, 1.0, 2.0, 1.0, 2.0, 4.0, 3.0, 2.0, 4.0, 2.0, 4.0, 2.0, 3.0, 2.0, 5.0, 3.0, 4.0, 3.0, 2.0, 2.0, 2.0, 1.0, 3.0, 1.0, 4.0, 1.0, 2.0, 2.0, 2.0, 2.0, 4.5, 1.0, 2.0, 3.0, 3.0, 3.0, 2.0, 3.0, 2.0, 2.0, 2.0, 2.0, 2.0, 3.0, 2.0, 2.0, 3.0, 2.0, 2.0, 1.0, 4.0, 1.0, 2.0, 3.0, 3.0, 1.0, 1.0, 2.0, 4.0, 2.0, 2.0, 3.0, 2.0, 1.0, 2.0, 2.5, 3.0, 3.0, 2.5, 4.0, 4.0, 3.0, 4.0, 4.0, 3.0, 2.0, 3.0, 1.0, 3.0, 2.0, 2.0, 2.0, 2.0, 3.0, 2.0, 4.0, 3.0, 3.0, 1.0, 1.0, 3.0, 2.0, 3.5, 3.0, 1.5, 4.0, 4.0, 1.0, 2.0, 3.0, 2.0, 2.0, 3.0, 2.0, 1.0, 2.0, 2.0, 2.0, 2.0, 3.0, 5.0, 3.0, 3.0, 2.0, 3.0, 3.0, 2.0, 1.0, 3.0, 2.0, 2.0, 1.0, 2.0, 4.0, 1.0, 2.0, 1.0, 2.0, 3.0, 2.0, 3.0, 2.0, 1.0, 2.0, 2.0, 1.0, 4.0, 3.0, 4.0, 2.0, 5.0, 2.0, 3.0, 3.0, 3.0, 3.0, 4.0, 3.0, 1.0, 3.0, 2.0, 3.0, 4.0, 4.0, 2.0, 3.0, 3.0, 3.0, 3.0, 3.0, 4.0, 2.0, 1.0, 2.0, 4.0, 3.0, 3.0, 3.0, 5.0, 3.0, 3.0, 2.0, 3.0, 4.0, 3.0, 2.0, 3.0, 2.0, 4.0, 3.0, 2.0, 3.0, 3.0, 2.0, 2.0, 2.0, 1.0, 5.0, 2.0, 3.0, 2.0, 3.0, 1.0, 2.5, 3.0, 3.0, 3.0, 2.0, 3.0, 3.0, 3.0, 4.0, 2.0, 2.0, 3.0, 3.0, 3.0, 2.0, 4.0, 2.0, 3.0, 1.0, 3.0, 3.0, 3.0, 2.0, 3.0, 3.0, 2.0, 3.0, 3.5, 3.0, 2.0, 2.0, 3.0, 3.0, 3.0, 4.0, 2.0, 3.0, 4.0, 4.0, 2.0, 2.0, 3.0, 3.0, 3.0, 4.0, 3.0, 5.0, 5.0, 2.0, 3.0, 3.0, 3.0, 2.0, 3.0, 3.0, 2.0, 2.0, 3.0, 3.0, 2.0, 3.0, 2.0, 3.0, 3.0, 2.0, 3.0, 2.0, 1.0, 2.0, 3.0, 4.0, 4.0, 3.0, 3.0, 2.0, 3.0, 1.0, 4.0, 3.0, 4.0, 4.0, 3.0, 4.0, 3.0, 3.0, 4.0, 7.0, 3.0, 3.0, 3.0, 5.0, 1.0, 3.0, 3.0, 2.5, 3.0, 3.0, 2.0, 4.0, 3.0, 4.0, 3.0, 2.0, 1.5, 3.0, 5.0, 3.0, 2.0, 2.0, 3.0, 3.0, 3.0, 4.0, 4.0, 3.0, 1.0, 3.0, 3.0, 3.0, 3.0, 1.0, 2.0, 2.0, 2.0, 2.0, 3.0, 1.0, 2.0, 4.0, 3.0, 1.0, 1.0, 4.0, 4.0, 3.0, 2.0, 2.0, 2.0, 3.0, 2.0, 3.0, 1.0, 2.0, 2.0, 3.0, 3.0, 2.0, 3.0, 1.0, 2.0, 3.0, 1.0, 4.0, 1.0, 1.0, 2.0, 1.0, 1.0, 1.0, 4.0, 3.0, 2.0, 1.5, 3.0, 1.0, 3.0, 1.0, 1.0, 4.0, 2.0, 1.0, 1.0, 4.0, 2.0, 2.0], \"y\": [2659.0, 1200.0, 979.0, 1830.22, 2272.0, 840.0, 1509.45, 730.73, 561.93, 1789.0, 2499.0, 2328.0, 2500.0, 6450.0, 1399.65, 1505.6, 1429.1, 930.0, 868.06, 2179.0, 1829.0, 1589.0, 1831.0, 1060.0, 3103.0, 1619.0, 715.0, 1237.83, 2290.0, 1810.0, 2320.0, 2230.0, 2155.0, 2660.9, 1427.82, 3170.0, 999.0, 849.24, 658.11, 1340.0, 2433.0, 3275.0, 311.04, 3677.7, 1740.0, 1404.66, 772.0, 479.87, 1853.33, 511.15, 845.0, 2724.17, 2251.0, 3195.0, 2812.0, 976.0, 2044.85, 959.0, 850.0, 2071.9, 4500.0, 5530.0, 1049.0, 1629.0, 1640.0, 1498.0, 889.0, 1598.0, 4945.0, 1500.0, 1949.26, 1265.0, 2500.0, 1565.0, 1550.0, 1424.75, 4400.0, 1690.0, 3400.0, 1189.48, 1570.0, 1000.0, 2680.0, 2100.0, 450.0, 1520.0, 1025.0, 1790.0, 1960.0, 1610.0, 1690.0, 794.0, 1790.0, 3228.25, 2862.0, 3390.0, 1490.0, 383.46, 872.07, 900.0, 3732.64, 4288.0, 3251.66, 4500.0, 2237.78, 2000.0, 3362.41, 3664.25, 2080.0, 2227.0, 1750.0, 2879.0, 3780.0, 2320.0, 1318.0, 1209.0, 990.0, 4475.0, 1850.0, 5930.0, 2076.38, 1820.0, 1499.0, 1609.64, 1550.0, 1215.0, 1320.0, 836.0, 1455.0, 1038.0, 1615.57, 1480.0, 2244.0, 2555.0, 1095.0, 1265.0, 1633.0, 3295.0, 1368.17, 1300.0, 1300.0, 1683.0, 969.0, 1784.0, 1300.0, 990.0, 1706.81, 1300.0, 3739.46, 1388.0, 1533.0, 1883.27, 440.94, 990.0, 1490.0, 3593.17, 1240.0, 735.0, 2250.0, 1673.95, 1950.0, 919.0, 421.87, 1386.43, 719.0, 719.0, 719.0, 999.0, 1901.0, 496.13, 649.0, 895.0, 719.0, 2199.0, 583.03, 1397.0, 2999.0, 271.25, 458.91, 433.71, 1563.75, 2550.0, 670.86, 1405.0, 1266.3, 1665.0, 3000.0, 1116.0, 1703.0, 2180.0, 960.0, 2370.71, 1645.0, 773.6, 1478.0, 914.0, 3060.0, 1159.0, 1180.0, 1872.0, 1707.0, 1454.18, 737.49, 1528.25, 705.06, 605.8, 407.42, 1399.92, 1399.92, 1590.39, 1800.0, 408.78, 1465.62, 1691.0, 1625.0, 2124.29, 1510.0, 1600.0, 1410.0, 1897.2, 4192.63, 1570.0, 1470.0, 2528.86, 1800.0, 1359.33, 1480.0, 2670.0, 691.29, 1935.17, 1093.16, 2260.0, 900.23, 887.53, 621.38, 2580.0, 2124.29, 1783.89, 674.8, 435.74, 2990.0, 378.14, 1563.75, 1876.78, 4500.0, 9774.0, 1397.0, 1897.5, 1189.27, 1987.04, 2434.0, 2410.8, 2346.0, 1069.26, 699.0, 1258.0, 1942.72, 2250.0, 668.4, 1777.0, 1265.0, 2096.0, 1350.0, 1500.0, 885.68, 656.1, 1007.0, 489.07, 4600.0, 2450.0, 649.0, 2148.0, 1639.0, 909.0, 565.63, 889.0, 1800.0, 1615.0, 352.95, 2997.0, 404.39, 6855.48, 280.74, 720.0, 2180.0, 4325.69, 2492.05, 2322.02, 1650.0, 2567.0, 2277.91, 845.0, 771.0, 1571.44, 680.0, 803.0, 793.0, 1557.28, 2320.0, 1301.13, 730.0, 1010.31, 1930.38, 705.92, 1181.3, 2043.49, 3568.5, 2115.0, 1530.0, 2734.0, 1500.0, 1490.0, 1040.51, 547.9, 3360.0, 1181.3, 1500.0, 2752.0, 599.74, 1558.8, 1590.35, 2159.2, 580.16, 2950.0, 960.38, 1494.64, 1817.0, 2105.0, 5774.83, 755.3, 1650.0, 1570.0, 2405.0, 1493.0, 1685.0, 759.0, 1300.0, 877.71, 1845.0, 2060.0, 1440.0, 2485.0, 1200.0, 780.0, 3380.0, 2498.0, 1040.0, 1055.43, 1720.0, 1980.0, 2375.0, 967.4, 1785.0, 2435.0, 1350.0, 2310.0, 1290.0, 1359.0, 1700.0, 1136.72, 1500.0, 1250.0, 2380.0, 2170.0, 1040.0, 975.0, 1999.47, 1490.0, 1200.0, 2040.0, 512.93, 1250.0, 1600.0, 2799.0, 1160.0, 950.0, 1654.39, 920.0, 993.96, 4875.0, 1428.64, 984.4, 914.87, 776.47, 886.05, 950.0, 2400.0, 379.95, 669.0, 1400.0, 558.06, 964.0, 924.44, 1394.0, 1632.54, 2202.0, 727.0, 427.0, 1266.28, 475.0, 1700.0, 2850.0, 1452.8, 1480.0, 1395.0, 1959.0, 2255.84, 938.0, 1650.0, 1650.0, 2815.0, 1650.0, 1161.0, 2028.2, 563.91, 642.77, 1650.0, 420.09, 808.46, 620.0, 2193.0, 900.0, 1231.23, 971.15, 991.19, 887.0, 1370.0, 690.0, 712.0, 982.0, 1246.0, 1755.0, 1228.75, 1753.0, 1223.98, 685.0, 1432.6, 1530.0, 2620.0, 2484.62, 1565.4, 1780.9, 2079.02, 1800.0, 1635.0, 768.0, 4800.0, 585.0, 1413.03, 2300.0, 1380.05, 1200.0, 811.1, 1609.1, 2320.0, 1030.0, 647.05, 3090.4, 816.49, 699.3, 846.0, 1124.93, 2807.0, 2892.25, 2488.0, 1749.32, 3994.0, 2708.0, 1336.41, 4184.0, 1854.98, 570.0, 2293.31, 1200.0, 1502.0, 1015.0, 1400.0, 825.0, 1499.0, 2070.0, 876.0, 2320.0, 1700.0, 656.5, 886.05, 703.86, 1886.81, 1500.0, 1660.0, 1690.0, 478.52, 1600.0, 2999.0, 670.03, 860.0, 2269.0, 948.1, 873.0, 2130.31, 969.0, 1175.72, 1200.0, 1834.0, 1349.58, 1320.49, 1886.3, 2295.0, 1980.0, 1846.23, 1447.0, 1770.0, 1343.0, 750.0, 730.36, 1281.5, 976.5, 984.5, 719.56, 2170.0, 2170.0, 995.0, 1250.0, 995.0, 921.59, 1236.72, 1090.0, 2105.4, 1497.45, 829.0, 948.09, 1494.0, 829.0, 2475.98, 2549.0, 1182.0, 1350.0, 3104.0, 1160.55, 1285.0, 1725.15, 575.45, 1709.33, 1535.3, 1356.44, 521.09, 1890.0, 1277.21, 1939.2, 2645.9, 2630.39, 813.4, 1906.14, 960.0, 2039.0, 2265.47, 1184.0, 2700.0, 1639.52, 891.65, 1489.0, 4800.0, 1455.61, 2550.0, 1565.56, 2865.49, 2014.21, 1760.37, 1191.35, 2280.0, 4450.0, 1558.0, 1174.25, 1519.0, 1650.0, 2499.59, 1997.37, 1095.0, 2073.32, 1783.08, 1358.64, 1834.0, 1327.99, 1163.0, 2575.0, 1356.04, 2427.0, 1202.0, 2555.0, 1250.06, 1529.0, 5936.4, 5936.4, 4747.6, 1800.0, 4747.6, 2650.0, 4747.6, 2138.68, 1189.09, 929.34, 1960.8, 2150.0, 1124.0, 896.46, 2033.1, 1031.0, 2039.3, 398.0, 1800.0, 2075.12, 2067.77, 1347.51, 2162.0, 2041.0, 1320.73, 1700.0, 1429.1, 2007.02, 868.06, 1326.61, 2020.99, 2031.52, 2508.24, 2125.0, 1410.0, 1841.68, 2130.96, 2525.97, 1627.11, 1410.0, 1774.43, 1768.29, 2280.0, 4678.3, 1788.57, 2851.96, 3160.0, 1488.25, 1869.56, 2200.0, 1814.85, 3250.0, 1720.0, 2175.0, 1449.24, 1756.36, 5322.5, 1958.69, 2288.06, 2436.48, 2356.2, 2525.0, 2283.98, 6022.5, 1788.14, 2488.26, 929.0, 1897.95, 2107.43, 2982.41, 2130.96, 1755.0, 1839.78, 3230.0, 1846.87, 525.0, 2158.01, 1774.43, 2119.62, 2525.97, 1959.27, 2642.69, 2622.9, 1383.23, 2069.26, 5876.35, 1833.98, 2440.56, 2286.0, 2851.96, 1200.0, 2105.0, 1931.26, 1716.0, 1774.15, 2630.0, 1349.0, 2500.0, 2508.24, 2065.06, 1567.39, 1367.0, 1099.0, 1561.65, 14207.0, 1757.11, 1063.0, 1399.0, 2497.38, 1697.0, 2260.46, 2264.83, 2747.36, 1990.0, 1395.0, 2198.75, 2555.0, 2198.97, 1768.29, 869.0, 1294.0, 1100.0, 1321.0, 1314.15, 2390.0, 899.0, 1236.5, 3706.83, 1550.0, 660.0, 914.0, 2555.59, 2740.0, 1793.0, 1266.0, 1282.5, 1454.74, 2439.6, 1970.0, 2811.38, 655.0, 1524.0, 1489.0, 2300.0, 2129.0, 1350.0, 3500.0, 843.0, 1357.46, 1007.0, 610.0, 3925.0, 1283.71, 622.0, 1366.0, 780.0, 741.0, 771.0, 4040.0, 1728.0, 1079.0, 770.0, 2180.0, 720.0, 2155.5, 577.0, 772.0, 1970.0, 693.0, 959.0, 649.0, 2750.0, 1259.0, 888.0]}],\n",
              "                        {\"template\": {\"data\": {\"bar\": [{\"error_x\": {\"color\": \"#2a3f5f\"}, \"error_y\": {\"color\": \"#2a3f5f\"}, \"marker\": {\"line\": {\"color\": \"#E5ECF6\", \"width\": 0.5}}, \"type\": \"bar\"}], \"barpolar\": [{\"marker\": {\"line\": {\"color\": \"#E5ECF6\", \"width\": 0.5}}, \"type\": \"barpolar\"}], \"carpet\": [{\"aaxis\": {\"endlinecolor\": \"#2a3f5f\", \"gridcolor\": \"white\", \"linecolor\": \"white\", \"minorgridcolor\": \"white\", \"startlinecolor\": \"#2a3f5f\"}, \"baxis\": {\"endlinecolor\": \"#2a3f5f\", \"gridcolor\": \"white\", \"linecolor\": \"white\", \"minorgridcolor\": \"white\", \"startlinecolor\": \"#2a3f5f\"}, \"type\": \"carpet\"}], \"choropleth\": [{\"colorbar\": {\"outlinewidth\": 0, \"ticks\": \"\"}, \"type\": \"choropleth\"}], \"contour\": [{\"colorbar\": {\"outlinewidth\": 0, \"ticks\": \"\"}, \"colorscale\": [[0.0, \"#0d0887\"], [0.1111111111111111, \"#46039f\"], [0.2222222222222222, \"#7201a8\"], [0.3333333333333333, \"#9c179e\"], [0.4444444444444444, \"#bd3786\"], [0.5555555555555556, \"#d8576b\"], [0.6666666666666666, \"#ed7953\"], [0.7777777777777778, \"#fb9f3a\"], [0.8888888888888888, \"#fdca26\"], [1.0, \"#f0f921\"]], \"type\": \"contour\"}], \"contourcarpet\": [{\"colorbar\": {\"outlinewidth\": 0, \"ticks\": \"\"}, \"type\": \"contourcarpet\"}], \"heatmap\": [{\"colorbar\": {\"outlinewidth\": 0, \"ticks\": \"\"}, \"colorscale\": [[0.0, \"#0d0887\"], [0.1111111111111111, \"#46039f\"], [0.2222222222222222, \"#7201a8\"], [0.3333333333333333, \"#9c179e\"], [0.4444444444444444, \"#bd3786\"], [0.5555555555555556, \"#d8576b\"], [0.6666666666666666, \"#ed7953\"], [0.7777777777777778, \"#fb9f3a\"], [0.8888888888888888, \"#fdca26\"], [1.0, \"#f0f921\"]], \"type\": \"heatmap\"}], \"heatmapgl\": [{\"colorbar\": {\"outlinewidth\": 0, \"ticks\": \"\"}, \"colorscale\": [[0.0, \"#0d0887\"], [0.1111111111111111, \"#46039f\"], [0.2222222222222222, \"#7201a8\"], [0.3333333333333333, \"#9c179e\"], [0.4444444444444444, \"#bd3786\"], [0.5555555555555556, \"#d8576b\"], [0.6666666666666666, \"#ed7953\"], [0.7777777777777778, \"#fb9f3a\"], [0.8888888888888888, \"#fdca26\"], [1.0, \"#f0f921\"]], \"type\": \"heatmapgl\"}], \"histogram\": [{\"marker\": {\"colorbar\": {\"outlinewidth\": 0, \"ticks\": \"\"}}, \"type\": \"histogram\"}], \"histogram2d\": [{\"colorbar\": {\"outlinewidth\": 0, \"ticks\": \"\"}, \"colorscale\": [[0.0, \"#0d0887\"], [0.1111111111111111, \"#46039f\"], [0.2222222222222222, \"#7201a8\"], [0.3333333333333333, \"#9c179e\"], [0.4444444444444444, \"#bd3786\"], [0.5555555555555556, \"#d8576b\"], [0.6666666666666666, \"#ed7953\"], [0.7777777777777778, \"#fb9f3a\"], [0.8888888888888888, \"#fdca26\"], [1.0, \"#f0f921\"]], \"type\": \"histogram2d\"}], \"histogram2dcontour\": [{\"colorbar\": {\"outlinewidth\": 0, \"ticks\": \"\"}, \"colorscale\": [[0.0, \"#0d0887\"], [0.1111111111111111, \"#46039f\"], [0.2222222222222222, \"#7201a8\"], [0.3333333333333333, \"#9c179e\"], [0.4444444444444444, \"#bd3786\"], [0.5555555555555556, \"#d8576b\"], [0.6666666666666666, \"#ed7953\"], [0.7777777777777778, \"#fb9f3a\"], [0.8888888888888888, \"#fdca26\"], [1.0, \"#f0f921\"]], \"type\": \"histogram2dcontour\"}], \"mesh3d\": [{\"colorbar\": {\"outlinewidth\": 0, \"ticks\": \"\"}, \"type\": \"mesh3d\"}], \"parcoords\": [{\"line\": {\"colorbar\": {\"outlinewidth\": 0, \"ticks\": \"\"}}, \"type\": \"parcoords\"}], \"pie\": [{\"automargin\": true, \"type\": \"pie\"}], \"scatter\": [{\"marker\": {\"colorbar\": {\"outlinewidth\": 0, \"ticks\": \"\"}}, \"type\": \"scatter\"}], \"scatter3d\": [{\"line\": {\"colorbar\": {\"outlinewidth\": 0, \"ticks\": \"\"}}, \"marker\": {\"colorbar\": {\"outlinewidth\": 0, \"ticks\": \"\"}}, \"type\": \"scatter3d\"}], \"scattercarpet\": [{\"marker\": {\"colorbar\": {\"outlinewidth\": 0, \"ticks\": \"\"}}, \"type\": \"scattercarpet\"}], \"scattergeo\": [{\"marker\": {\"colorbar\": {\"outlinewidth\": 0, \"ticks\": \"\"}}, \"type\": \"scattergeo\"}], \"scattergl\": [{\"marker\": {\"colorbar\": {\"outlinewidth\": 0, \"ticks\": \"\"}}, \"type\": \"scattergl\"}], \"scattermapbox\": [{\"marker\": {\"colorbar\": {\"outlinewidth\": 0, \"ticks\": \"\"}}, \"type\": \"scattermapbox\"}], \"scatterpolar\": [{\"marker\": {\"colorbar\": {\"outlinewidth\": 0, \"ticks\": \"\"}}, \"type\": \"scatterpolar\"}], \"scatterpolargl\": [{\"marker\": {\"colorbar\": {\"outlinewidth\": 0, \"ticks\": \"\"}}, \"type\": \"scatterpolargl\"}], \"scatterternary\": [{\"marker\": {\"colorbar\": {\"outlinewidth\": 0, \"ticks\": \"\"}}, \"type\": \"scatterternary\"}], \"surface\": [{\"colorbar\": {\"outlinewidth\": 0, \"ticks\": \"\"}, \"colorscale\": [[0.0, \"#0d0887\"], [0.1111111111111111, \"#46039f\"], [0.2222222222222222, \"#7201a8\"], [0.3333333333333333, \"#9c179e\"], [0.4444444444444444, \"#bd3786\"], [0.5555555555555556, \"#d8576b\"], [0.6666666666666666, \"#ed7953\"], [0.7777777777777778, \"#fb9f3a\"], [0.8888888888888888, \"#fdca26\"], [1.0, \"#f0f921\"]], \"type\": \"surface\"}], \"table\": [{\"cells\": {\"fill\": {\"color\": \"#EBF0F8\"}, \"line\": {\"color\": \"white\"}}, \"header\": {\"fill\": {\"color\": \"#C8D4E3\"}, \"line\": {\"color\": \"white\"}}, \"type\": \"table\"}]}, \"layout\": {\"annotationdefaults\": {\"arrowcolor\": \"#2a3f5f\", \"arrowhead\": 0, \"arrowwidth\": 1}, \"coloraxis\": {\"colorbar\": {\"outlinewidth\": 0, \"ticks\": \"\"}}, \"colorscale\": {\"diverging\": [[0, \"#8e0152\"], [0.1, \"#c51b7d\"], [0.2, \"#de77ae\"], [0.3, \"#f1b6da\"], [0.4, \"#fde0ef\"], [0.5, \"#f7f7f7\"], [0.6, \"#e6f5d0\"], [0.7, \"#b8e186\"], [0.8, \"#7fbc41\"], [0.9, \"#4d9221\"], [1, \"#276419\"]], \"sequential\": [[0.0, \"#0d0887\"], [0.1111111111111111, \"#46039f\"], [0.2222222222222222, \"#7201a8\"], [0.3333333333333333, \"#9c179e\"], [0.4444444444444444, \"#bd3786\"], [0.5555555555555556, \"#d8576b\"], [0.6666666666666666, \"#ed7953\"], [0.7777777777777778, \"#fb9f3a\"], [0.8888888888888888, \"#fdca26\"], [1.0, \"#f0f921\"]], \"sequentialminus\": [[0.0, \"#0d0887\"], [0.1111111111111111, \"#46039f\"], [0.2222222222222222, \"#7201a8\"], [0.3333333333333333, \"#9c179e\"], [0.4444444444444444, \"#bd3786\"], [0.5555555555555556, \"#d8576b\"], [0.6666666666666666, \"#ed7953\"], [0.7777777777777778, \"#fb9f3a\"], [0.8888888888888888, \"#fdca26\"], [1.0, \"#f0f921\"]]}, \"colorway\": [\"#636efa\", \"#EF553B\", \"#00cc96\", \"#ab63fa\", \"#FFA15A\", \"#19d3f3\", \"#FF6692\", \"#B6E880\", \"#FF97FF\", \"#FECB52\"], \"font\": {\"color\": \"#2a3f5f\"}, \"geo\": {\"bgcolor\": \"white\", \"lakecolor\": \"white\", \"landcolor\": \"#E5ECF6\", \"showlakes\": true, \"showland\": true, \"subunitcolor\": \"white\"}, \"hoverlabel\": {\"align\": \"left\"}, \"hovermode\": \"closest\", \"mapbox\": {\"style\": \"light\"}, \"paper_bgcolor\": \"white\", \"plot_bgcolor\": \"#E5ECF6\", \"polar\": {\"angularaxis\": {\"gridcolor\": \"white\", \"linecolor\": \"white\", \"ticks\": \"\"}, \"bgcolor\": \"#E5ECF6\", \"radialaxis\": {\"gridcolor\": \"white\", \"linecolor\": \"white\", \"ticks\": \"\"}}, \"scene\": {\"xaxis\": {\"backgroundcolor\": \"#E5ECF6\", \"gridcolor\": \"white\", \"gridwidth\": 2, \"linecolor\": \"white\", \"showbackground\": true, \"ticks\": \"\", \"zerolinecolor\": \"white\"}, \"yaxis\": {\"backgroundcolor\": \"#E5ECF6\", \"gridcolor\": \"white\", \"gridwidth\": 2, \"linecolor\": \"white\", \"showbackground\": true, \"ticks\": \"\", \"zerolinecolor\": \"white\"}, \"zaxis\": {\"backgroundcolor\": \"#E5ECF6\", \"gridcolor\": \"white\", \"gridwidth\": 2, \"linecolor\": \"white\", \"showbackground\": true, \"ticks\": \"\", \"zerolinecolor\": \"white\"}}, \"shapedefaults\": {\"line\": {\"color\": \"#2a3f5f\"}}, \"ternary\": {\"aaxis\": {\"gridcolor\": \"white\", \"linecolor\": \"white\", \"ticks\": \"\"}, \"baxis\": {\"gridcolor\": \"white\", \"linecolor\": \"white\", \"ticks\": \"\"}, \"bgcolor\": \"#E5ECF6\", \"caxis\": {\"gridcolor\": \"white\", \"linecolor\": \"white\", \"ticks\": \"\"}}, \"title\": {\"x\": 0.05}, \"xaxis\": {\"automargin\": true, \"gridcolor\": \"white\", \"linecolor\": \"white\", \"ticks\": \"\", \"title\": {\"standoff\": 15}, \"zerolinecolor\": \"white\", \"zerolinewidth\": 2}, \"yaxis\": {\"automargin\": true, \"gridcolor\": \"white\", \"linecolor\": \"white\", \"ticks\": \"\", \"title\": {\"standoff\": 15}, \"zerolinecolor\": \"white\", \"zerolinewidth\": 2}}}, \"title\": {\"text\": \"Relationship between the number of rooms and the rent\"}, \"xaxis\": {\"ticklen\": 5, \"title\": {\"text\": \"Rent\"}, \"zeroline\": false}, \"yaxis\": {\"ticklen\": 5, \"title\": {\"text\": \"Number of Rooms\"}, \"zeroline\": false}},\n",
              "                        {\"responsive\": true}\n",
              "                    ).then(function(){\n",
              "                            \n",
              "var gd = document.getElementById('c3ee5b72-991f-472b-9c71-cff31798011e');\n",
              "var x = new MutationObserver(function (mutations, observer) {{\n",
              "        var display = window.getComputedStyle(gd).display;\n",
              "        if (!display || display === 'none') {{\n",
              "            console.log([gd, 'removed!']);\n",
              "            Plotly.purge(gd);\n",
              "            observer.disconnect();\n",
              "        }}\n",
              "}});\n",
              "\n",
              "// Listen for the removal of the full notebook cells\n",
              "var notebookContainer = gd.closest('#notebook-container');\n",
              "if (notebookContainer) {{\n",
              "    x.observe(notebookContainer, {childList: true});\n",
              "}}\n",
              "\n",
              "// Listen for the clearing of the current output cell\n",
              "var outputEl = gd.closest('.output');\n",
              "if (outputEl) {{\n",
              "    x.observe(outputEl, {childList: true});\n",
              "}}\n",
              "\n",
              "                        })\n",
              "                };\n",
              "                });\n",
              "            </script>\n",
              "        </div>"
            ],
            "application/vnd.plotly.v1+json": {
              "data": [
                {
                  "name": "2014",
                  "y": [
                    2659,
                    1200,
                    979,
                    1830.22,
                    2272,
                    840,
                    1509.45,
                    730.73,
                    561.93,
                    1789,
                    2499,
                    2328,
                    2500,
                    6450,
                    1399.65,
                    1505.6,
                    1429.1,
                    930,
                    868.06,
                    2179,
                    1829,
                    1589,
                    1831,
                    1060,
                    3103,
                    1619,
                    715,
                    1237.83,
                    2290,
                    1810,
                    2320,
                    2230,
                    2155,
                    2660.9,
                    1427.82,
                    3170,
                    999,
                    849.24,
                    658.11,
                    1340,
                    2433,
                    3275,
                    311.04,
                    3677.7,
                    1740,
                    1404.66,
                    772,
                    479.87,
                    1853.33,
                    511.15,
                    845,
                    2724.17,
                    2251,
                    3195,
                    2812,
                    976,
                    2044.85,
                    959,
                    850,
                    2071.9,
                    4500,
                    5530,
                    1049,
                    1629,
                    1640,
                    1498,
                    889,
                    1598,
                    4945,
                    1500,
                    1949.26,
                    1265,
                    2500,
                    1565,
                    1550,
                    1424.75,
                    4400,
                    1690,
                    3400,
                    1189.48,
                    1570,
                    1000,
                    2680,
                    2100,
                    450,
                    1520,
                    1025,
                    1790,
                    1960,
                    1610,
                    1690,
                    794,
                    1790,
                    3228.25,
                    2862,
                    3390,
                    1490,
                    383.46,
                    872.07,
                    900,
                    3732.64,
                    4288,
                    3251.66,
                    4500,
                    2237.78,
                    2000,
                    3362.41,
                    3664.25,
                    2080,
                    2227,
                    1750,
                    2879,
                    3780,
                    2320,
                    1318,
                    1209,
                    990,
                    4475,
                    1850,
                    5930,
                    2076.38,
                    1820,
                    1499,
                    1609.64,
                    1550,
                    1215,
                    1320,
                    836,
                    1455,
                    1038,
                    1615.57,
                    1480,
                    2244,
                    2555,
                    1095,
                    1265,
                    1633,
                    3295,
                    1368.17,
                    1300,
                    1300,
                    1683,
                    969,
                    1784,
                    1300,
                    990,
                    1706.81,
                    1300,
                    3739.46,
                    1388,
                    1533,
                    1883.27,
                    440.94,
                    990,
                    1490,
                    3593.17,
                    1240,
                    735,
                    2250,
                    1673.95,
                    1950,
                    919,
                    421.87,
                    1386.43,
                    719,
                    719,
                    719,
                    999,
                    1901,
                    496.13,
                    649,
                    895,
                    719,
                    2199,
                    583.03,
                    1397,
                    2999,
                    271.25,
                    458.91,
                    433.71,
                    1563.75,
                    2550,
                    670.86,
                    1405,
                    1266.3,
                    1665,
                    3000,
                    1116,
                    1703,
                    2180,
                    960,
                    2370.71,
                    1645,
                    773.6,
                    1478,
                    914,
                    3060,
                    1159,
                    1180,
                    1872,
                    1707,
                    1454.18,
                    737.49,
                    1528.25,
                    705.06,
                    605.8,
                    407.42,
                    1399.92,
                    1399.92,
                    1590.39,
                    1800,
                    408.78,
                    1465.62,
                    1691,
                    1625,
                    2124.29,
                    1510,
                    1600,
                    1410,
                    1897.2,
                    4192.63,
                    1570,
                    1470,
                    2528.86,
                    1800,
                    1359.33,
                    1480,
                    2670,
                    691.29,
                    1935.17,
                    1093.16,
                    2260,
                    900.23,
                    887.53,
                    621.38,
                    2580,
                    2124.29,
                    1783.89,
                    674.8,
                    435.74,
                    2990,
                    378.14,
                    1563.75,
                    1876.78,
                    4500,
                    9774,
                    1397,
                    1897.5,
                    1189.27,
                    1987.04,
                    2434,
                    2410.8,
                    2346,
                    1069.26,
                    699,
                    1258,
                    1942.72,
                    2250,
                    668.4,
                    1777,
                    1265,
                    2096,
                    1350,
                    1500,
                    885.68,
                    656.1,
                    1007,
                    489.07,
                    4600,
                    2450,
                    649,
                    2148,
                    1639,
                    909,
                    565.63,
                    889,
                    1800,
                    1615,
                    352.95,
                    2997,
                    404.39,
                    6855.48,
                    280.74,
                    720,
                    2180,
                    4325.69,
                    2492.05,
                    2322.02,
                    1650,
                    2567,
                    2277.91,
                    845,
                    771,
                    1571.44,
                    680,
                    803,
                    793,
                    1557.28,
                    2320,
                    1301.13,
                    730,
                    1010.31,
                    1930.38,
                    705.92,
                    1181.3,
                    2043.49,
                    3568.5,
                    2115,
                    1530,
                    2734,
                    1500,
                    1490,
                    1040.51,
                    547.9,
                    3360,
                    1181.3,
                    1500,
                    2752,
                    599.74,
                    1558.8,
                    1590.35,
                    2159.2,
                    580.16,
                    2950,
                    960.38,
                    1494.64,
                    1817,
                    2105,
                    5774.83,
                    755.3,
                    1650,
                    1570,
                    2405,
                    1493,
                    1685,
                    759,
                    1300,
                    877.71,
                    1845,
                    2060,
                    1440,
                    2485,
                    1200,
                    780,
                    3380,
                    2498,
                    1040,
                    1055.43,
                    1720,
                    1980,
                    2375,
                    967.4,
                    1785,
                    2435,
                    1350,
                    2310,
                    1290,
                    1359,
                    1700,
                    1136.72,
                    1500,
                    1250,
                    2380,
                    2170,
                    1040,
                    975,
                    1999.47,
                    1490,
                    1200,
                    2040,
                    512.93,
                    1250,
                    1600,
                    2799,
                    1160,
                    950,
                    1654.39,
                    920,
                    993.96,
                    4875,
                    1428.64,
                    984.4,
                    914.87,
                    776.47,
                    886.05,
                    950,
                    2400,
                    379.95,
                    669,
                    1400,
                    558.06,
                    964,
                    924.44,
                    1394,
                    1632.54,
                    2202,
                    727,
                    427,
                    1266.28,
                    475,
                    1700,
                    2850,
                    1452.8,
                    1480,
                    1395,
                    1959,
                    2255.84,
                    938,
                    1650,
                    1650,
                    2815,
                    1650,
                    1161,
                    2028.2,
                    563.91,
                    642.77,
                    1650,
                    420.09,
                    808.46,
                    620,
                    2193,
                    900,
                    1231.23,
                    971.15,
                    991.19,
                    887,
                    1370,
                    690,
                    712,
                    982,
                    1246,
                    1755,
                    1228.75,
                    1753,
                    1223.98,
                    685,
                    1432.6,
                    1530,
                    2620,
                    2484.62,
                    1565.4,
                    1780.9,
                    2079.02,
                    1800,
                    1635,
                    768,
                    4800,
                    585,
                    1413.03,
                    2300,
                    1380.05,
                    1200,
                    811.1,
                    1609.1,
                    2320,
                    1030,
                    647.05,
                    3090.4,
                    816.49,
                    699.3,
                    846,
                    1124.93,
                    2807,
                    2892.25,
                    2488,
                    1749.32,
                    3994,
                    2708,
                    1336.41,
                    4184,
                    1854.98,
                    570,
                    2293.31,
                    1200,
                    1502,
                    1015,
                    1400,
                    825,
                    1499,
                    2070,
                    876,
                    2320,
                    1700,
                    656.5,
                    886.05,
                    703.86,
                    1886.81,
                    1500,
                    1660,
                    1690,
                    478.52,
                    1600,
                    2999,
                    670.03,
                    860,
                    2269,
                    948.1,
                    873,
                    2130.31,
                    969,
                    1175.72,
                    1200,
                    1834,
                    1349.58,
                    1320.49,
                    1886.3,
                    2295,
                    1980,
                    1846.23,
                    1447,
                    1770,
                    1343,
                    750,
                    730.36,
                    1281.5,
                    976.5,
                    984.5,
                    719.56,
                    2170,
                    2170,
                    995,
                    1250,
                    995,
                    921.59,
                    1236.72,
                    1090,
                    2105.4,
                    1497.45,
                    829,
                    948.09,
                    1494,
                    829,
                    2475.98,
                    2549,
                    1182,
                    1350,
                    3104,
                    1160.55,
                    1285,
                    1725.15,
                    575.45,
                    1709.33,
                    1535.3,
                    1356.44,
                    521.09,
                    1890,
                    1277.21,
                    1939.2,
                    2645.9,
                    2630.39,
                    813.4,
                    1906.14,
                    960,
                    2039,
                    2265.47,
                    1184,
                    2700,
                    1639.52,
                    891.65,
                    1489,
                    4800,
                    1455.61,
                    2550,
                    1565.56,
                    2865.49,
                    2014.21,
                    1760.37,
                    1191.35,
                    2280,
                    4450,
                    1558,
                    1174.25,
                    1519,
                    1650,
                    2499.59,
                    1997.37,
                    1095,
                    2073.32,
                    1783.08,
                    1358.64,
                    1834,
                    1327.99,
                    1163,
                    2575,
                    1356.04,
                    2427,
                    1202,
                    2555,
                    1250.06,
                    1529,
                    5936.4,
                    5936.4,
                    4747.6,
                    1800,
                    4747.6,
                    2650,
                    4747.6,
                    2138.68,
                    1189.09,
                    929.34,
                    1960.8,
                    2150,
                    1124,
                    896.46,
                    2033.1,
                    1031,
                    2039.3,
                    398,
                    1800,
                    2075.12,
                    2067.77,
                    1347.51,
                    2162,
                    2041,
                    1320.73,
                    1700,
                    1429.1,
                    2007.02,
                    868.06,
                    1326.61,
                    2020.99,
                    2031.52,
                    2508.24,
                    2125,
                    1410,
                    1841.68,
                    2130.96,
                    2525.97,
                    1627.11,
                    1410,
                    1774.43,
                    1768.29,
                    2280,
                    4678.3,
                    1788.57,
                    2851.96,
                    3160,
                    1488.25,
                    1869.56,
                    2200,
                    1814.85,
                    3250,
                    1720,
                    2175,
                    1449.24,
                    1756.36,
                    5322.5,
                    1958.69,
                    2288.06,
                    2436.48,
                    2356.2,
                    2525,
                    2283.98,
                    6022.5,
                    1788.14,
                    2488.26,
                    929,
                    1897.95,
                    2107.43,
                    2982.41,
                    2130.96,
                    1755,
                    1839.78,
                    3230,
                    1846.87,
                    525,
                    2158.01,
                    1774.43,
                    2119.62,
                    2525.97,
                    1959.27,
                    2642.69,
                    2622.9,
                    1383.23,
                    2069.26,
                    5876.35,
                    1833.98,
                    2440.56,
                    2286,
                    2851.96,
                    1200,
                    2105,
                    1931.26,
                    1716,
                    1774.15,
                    2630,
                    1349,
                    2500,
                    2508.24,
                    2065.06,
                    1567.39,
                    1367,
                    1099,
                    1561.65,
                    14207,
                    1757.11,
                    1063,
                    1399,
                    2497.38,
                    1697,
                    2260.46,
                    2264.83,
                    2747.36,
                    1990,
                    1395,
                    2198.75,
                    2555,
                    2198.97,
                    1768.29,
                    869,
                    1294,
                    1100,
                    1321,
                    1314.15,
                    2390,
                    899,
                    1236.5,
                    3706.83,
                    1550,
                    660,
                    914,
                    2555.59,
                    2740,
                    1793,
                    1266,
                    1282.5,
                    1454.74,
                    2439.6,
                    1970,
                    2811.38,
                    655,
                    1524,
                    1489,
                    2300,
                    2129,
                    1350,
                    3500,
                    843,
                    1357.46,
                    1007,
                    610,
                    3925,
                    1283.71,
                    622,
                    1366,
                    780,
                    741,
                    771,
                    4040,
                    1728,
                    1079,
                    770,
                    2180,
                    720,
                    2155.5,
                    577,
                    772,
                    1970,
                    693,
                    959,
                    649,
                    2750,
                    1259,
                    888
                  ],
                  "mode": "markers",
                  "marker": {
                    "color": "rgba(0, 0, 0, 0.8)"
                  },
                  "x": [
                    4,
                    1,
                    2,
                    4,
                    2,
                    2,
                    2,
                    2,
                    2,
                    3,
                    4,
                    2,
                    3,
                    2,
                    2,
                    2,
                    3.5,
                    1,
                    2,
                    4,
                    3,
                    3,
                    3,
                    1,
                    3,
                    2,
                    1,
                    3,
                    3,
                    2,
                    3,
                    4,
                    3,
                    4,
                    2,
                    4,
                    1,
                    2,
                    2.5,
                    2,
                    4,
                    4,
                    1,
                    4,
                    3,
                    2,
                    1,
                    2,
                    3,
                    1,
                    1,
                    2,
                    2,
                    5,
                    3,
                    1,
                    3,
                    1,
                    2,
                    3,
                    4,
                    4,
                    1,
                    3,
                    2.5,
                    2,
                    1,
                    4,
                    5,
                    2,
                    4,
                    2,
                    2.5,
                    2,
                    2,
                    3,
                    5,
                    3,
                    2.5,
                    2.5,
                    3,
                    2,
                    4,
                    3,
                    1,
                    2,
                    1,
                    2,
                    4,
                    3,
                    1,
                    2,
                    2,
                    3,
                    3.5,
                    4,
                    1.5,
                    2,
                    2,
                    2,
                    3,
                    7,
                    3,
                    3,
                    2.5,
                    3,
                    4,
                    4,
                    3,
                    3,
                    2,
                    3,
                    3,
                    2,
                    3,
                    2.5,
                    1,
                    4,
                    1,
                    5,
                    3.5,
                    4,
                    2,
                    2,
                    1,
                    2,
                    2,
                    2,
                    2,
                    1,
                    2,
                    2,
                    3,
                    4,
                    1,
                    2,
                    2,
                    4,
                    2,
                    1,
                    1,
                    2,
                    1,
                    2,
                    1,
                    1,
                    3,
                    1,
                    6,
                    2,
                    2,
                    3,
                    1,
                    1,
                    2,
                    3,
                    2,
                    2,
                    4,
                    3,
                    3,
                    3,
                    1,
                    3,
                    2,
                    2,
                    2,
                    1,
                    4,
                    2,
                    2,
                    3,
                    2,
                    3,
                    2,
                    2,
                    4,
                    1,
                    1,
                    1.5,
                    2,
                    4,
                    3,
                    2,
                    2,
                    3,
                    3,
                    1.5,
                    3,
                    3,
                    1,
                    2,
                    2,
                    2,
                    2,
                    2,
                    4,
                    2,
                    2,
                    2,
                    2,
                    3,
                    2,
                    3,
                    2.5,
                    2,
                    1,
                    1.5,
                    2,
                    2,
                    3,
                    2,
                    3,
                    3,
                    3,
                    4,
                    2,
                    2,
                    2,
                    3,
                    4,
                    2,
                    3,
                    4,
                    2,
                    2,
                    2,
                    4,
                    3,
                    3,
                    4,
                    3,
                    3,
                    2.5,
                    2,
                    3,
                    4,
                    3,
                    2,
                    1,
                    2,
                    1,
                    2,
                    2,
                    3,
                    5,
                    2,
                    3,
                    2.5,
                    3,
                    3,
                    3,
                    3,
                    2,
                    1,
                    2,
                    3,
                    4,
                    1.5,
                    2,
                    2,
                    3,
                    2,
                    2,
                    3,
                    3,
                    1,
                    1.5,
                    4,
                    3,
                    2,
                    4,
                    3,
                    3,
                    3,
                    3,
                    2,
                    2,
                    1,
                    2,
                    1,
                    5,
                    1,
                    2,
                    2,
                    5,
                    4,
                    5,
                    3,
                    4,
                    2,
                    1,
                    1,
                    4,
                    1,
                    1,
                    1,
                    3,
                    4,
                    3,
                    1,
                    2,
                    3,
                    2,
                    2,
                    3,
                    3,
                    2,
                    2,
                    4,
                    2,
                    2,
                    2,
                    2,
                    4,
                    2,
                    3,
                    4,
                    2,
                    3,
                    2,
                    4,
                    2,
                    2.5,
                    3.5,
                    2,
                    3,
                    4,
                    4,
                    2,
                    3,
                    3,
                    4,
                    2,
                    2,
                    1,
                    2,
                    1,
                    3,
                    3,
                    3,
                    3,
                    2,
                    2,
                    3,
                    3,
                    1,
                    2,
                    3,
                    2,
                    3,
                    1,
                    3,
                    3,
                    2,
                    5,
                    2,
                    2,
                    3,
                    2,
                    2,
                    2,
                    4,
                    3,
                    2,
                    2,
                    3.5,
                    2,
                    2,
                    5,
                    2,
                    2,
                    3,
                    3.5,
                    3,
                    2,
                    4,
                    1,
                    1,
                    3,
                    3,
                    2,
                    2,
                    2,
                    2,
                    1,
                    4,
                    1,
                    1,
                    3,
                    1,
                    2,
                    1,
                    2,
                    2.5,
                    3,
                    2,
                    1,
                    2,
                    1,
                    2,
                    4,
                    3,
                    2,
                    4,
                    2,
                    4,
                    2,
                    3,
                    2,
                    5,
                    3,
                    4,
                    3,
                    2,
                    2,
                    2,
                    1,
                    3,
                    1,
                    4,
                    1,
                    2,
                    2,
                    2,
                    2,
                    4.5,
                    1,
                    2,
                    3,
                    3,
                    3,
                    2,
                    3,
                    2,
                    2,
                    2,
                    2,
                    2,
                    3,
                    2,
                    2,
                    3,
                    2,
                    2,
                    1,
                    4,
                    1,
                    2,
                    3,
                    3,
                    1,
                    1,
                    2,
                    4,
                    2,
                    2,
                    3,
                    2,
                    1,
                    2,
                    2.5,
                    3,
                    3,
                    2.5,
                    4,
                    4,
                    3,
                    4,
                    4,
                    3,
                    2,
                    3,
                    1,
                    3,
                    2,
                    2,
                    2,
                    2,
                    3,
                    2,
                    4,
                    3,
                    3,
                    1,
                    1,
                    3,
                    2,
                    3.5,
                    3,
                    1.5,
                    4,
                    4,
                    1,
                    2,
                    3,
                    2,
                    2,
                    3,
                    2,
                    1,
                    2,
                    2,
                    2,
                    2,
                    3,
                    5,
                    3,
                    3,
                    2,
                    3,
                    3,
                    2,
                    1,
                    3,
                    2,
                    2,
                    1,
                    2,
                    4,
                    1,
                    2,
                    1,
                    2,
                    3,
                    2,
                    3,
                    2,
                    1,
                    2,
                    2,
                    1,
                    4,
                    3,
                    4,
                    2,
                    5,
                    2,
                    3,
                    3,
                    3,
                    3,
                    4,
                    3,
                    1,
                    3,
                    2,
                    3,
                    4,
                    4,
                    2,
                    3,
                    3,
                    3,
                    3,
                    3,
                    4,
                    2,
                    1,
                    2,
                    4,
                    3,
                    3,
                    3,
                    5,
                    3,
                    3,
                    2,
                    3,
                    4,
                    3,
                    2,
                    3,
                    2,
                    4,
                    3,
                    2,
                    3,
                    3,
                    2,
                    2,
                    2,
                    1,
                    5,
                    2,
                    3,
                    2,
                    3,
                    1,
                    2.5,
                    3,
                    3,
                    3,
                    2,
                    3,
                    3,
                    3,
                    4,
                    2,
                    2,
                    3,
                    3,
                    3,
                    2,
                    4,
                    2,
                    3,
                    1,
                    3,
                    3,
                    3,
                    2,
                    3,
                    3,
                    2,
                    3,
                    3.5,
                    3,
                    2,
                    2,
                    3,
                    3,
                    3,
                    4,
                    2,
                    3,
                    4,
                    4,
                    2,
                    2,
                    3,
                    3,
                    3,
                    4,
                    3,
                    5,
                    5,
                    2,
                    3,
                    3,
                    3,
                    2,
                    3,
                    3,
                    2,
                    2,
                    3,
                    3,
                    2,
                    3,
                    2,
                    3,
                    3,
                    2,
                    3,
                    2,
                    1,
                    2,
                    3,
                    4,
                    4,
                    3,
                    3,
                    2,
                    3,
                    1,
                    4,
                    3,
                    4,
                    4,
                    3,
                    4,
                    3,
                    3,
                    4,
                    7,
                    3,
                    3,
                    3,
                    5,
                    1,
                    3,
                    3,
                    2.5,
                    3,
                    3,
                    2,
                    4,
                    3,
                    4,
                    3,
                    2,
                    1.5,
                    3,
                    5,
                    3,
                    2,
                    2,
                    3,
                    3,
                    3,
                    4,
                    4,
                    3,
                    1,
                    3,
                    3,
                    3,
                    3,
                    1,
                    2,
                    2,
                    2,
                    2,
                    3,
                    1,
                    2,
                    4,
                    3,
                    1,
                    1,
                    4,
                    4,
                    3,
                    2,
                    2,
                    2,
                    3,
                    2,
                    3,
                    1,
                    2,
                    2,
                    3,
                    3,
                    2,
                    3,
                    1,
                    2,
                    3,
                    1,
                    4,
                    1,
                    1,
                    2,
                    1,
                    1,
                    1,
                    4,
                    3,
                    2,
                    1.5,
                    3,
                    1,
                    3,
                    1,
                    1,
                    4,
                    2,
                    1,
                    1,
                    4,
                    2,
                    2
                  ],
                  "type": "scatter"
                }
              ],
              "config": {
                "plotlyServerURL": "https://plot.ly",
                "linkText": "Export to plot.ly",
                "showLink": false
              },
              "layout": {
                "yaxis": {
                  "zeroline": false,
                  "ticklen": 5,
                  "title": {
                    "text": "Number of Rooms"
                  }
                },
                "xaxis": {
                  "zeroline": false,
                  "ticklen": 5,
                  "title": {
                    "text": "Rent"
                  }
                },
                "template": {
                  "layout": {
                    "shapedefaults": {
                      "line": {
                        "color": "#2a3f5f"
                      }
                    },
                    "polar": {
                      "radialaxis": {
                        "ticks": "",
                        "gridcolor": "white",
                        "linecolor": "white"
                      },
                      "bgcolor": "#E5ECF6",
                      "angularaxis": {
                        "ticks": "",
                        "gridcolor": "white",
                        "linecolor": "white"
                      }
                    },
                    "colorway": [
                      "#636efa",
                      "#EF553B",
                      "#00cc96",
                      "#ab63fa",
                      "#FFA15A",
                      "#19d3f3",
                      "#FF6692",
                      "#B6E880",
                      "#FF97FF",
                      "#FECB52"
                    ],
                    "xaxis": {
                      "automargin": true,
                      "title": {
                        "standoff": 15
                      },
                      "zerolinewidth": 2,
                      "ticks": "",
                      "zerolinecolor": "white",
                      "gridcolor": "white",
                      "linecolor": "white"
                    },
                    "colorscale": {
                      "diverging": [
                        [
                          0,
                          "#8e0152"
                        ],
                        [
                          0.1,
                          "#c51b7d"
                        ],
                        [
                          0.2,
                          "#de77ae"
                        ],
                        [
                          0.3,
                          "#f1b6da"
                        ],
                        [
                          0.4,
                          "#fde0ef"
                        ],
                        [
                          0.5,
                          "#f7f7f7"
                        ],
                        [
                          0.6,
                          "#e6f5d0"
                        ],
                        [
                          0.7,
                          "#b8e186"
                        ],
                        [
                          0.8,
                          "#7fbc41"
                        ],
                        [
                          0.9,
                          "#4d9221"
                        ],
                        [
                          1,
                          "#276419"
                        ]
                      ],
                      "sequential": [
                        [
                          0,
                          "#0d0887"
                        ],
                        [
                          0.1111111111111111,
                          "#46039f"
                        ],
                        [
                          0.2222222222222222,
                          "#7201a8"
                        ],
                        [
                          0.3333333333333333,
                          "#9c179e"
                        ],
                        [
                          0.4444444444444444,
                          "#bd3786"
                        ],
                        [
                          0.5555555555555556,
                          "#d8576b"
                        ],
                        [
                          0.6666666666666666,
                          "#ed7953"
                        ],
                        [
                          0.7777777777777778,
                          "#fb9f3a"
                        ],
                        [
                          0.8888888888888888,
                          "#fdca26"
                        ],
                        [
                          1,
                          "#f0f921"
                        ]
                      ],
                      "sequentialminus": [
                        [
                          0,
                          "#0d0887"
                        ],
                        [
                          0.1111111111111111,
                          "#46039f"
                        ],
                        [
                          0.2222222222222222,
                          "#7201a8"
                        ],
                        [
                          0.3333333333333333,
                          "#9c179e"
                        ],
                        [
                          0.4444444444444444,
                          "#bd3786"
                        ],
                        [
                          0.5555555555555556,
                          "#d8576b"
                        ],
                        [
                          0.6666666666666666,
                          "#ed7953"
                        ],
                        [
                          0.7777777777777778,
                          "#fb9f3a"
                        ],
                        [
                          0.8888888888888888,
                          "#fdca26"
                        ],
                        [
                          1,
                          "#f0f921"
                        ]
                      ]
                    },
                    "paper_bgcolor": "white",
                    "plot_bgcolor": "#E5ECF6",
                    "title": {
                      "x": 0.05
                    },
                    "scene": {
                      "zaxis": {
                        "backgroundcolor": "#E5ECF6",
                        "ticks": "",
                        "gridwidth": 2,
                        "showbackground": true,
                        "zerolinecolor": "white",
                        "gridcolor": "white",
                        "linecolor": "white"
                      },
                      "xaxis": {
                        "backgroundcolor": "#E5ECF6",
                        "ticks": "",
                        "gridwidth": 2,
                        "showbackground": true,
                        "zerolinecolor": "white",
                        "gridcolor": "white",
                        "linecolor": "white"
                      },
                      "yaxis": {
                        "backgroundcolor": "#E5ECF6",
                        "ticks": "",
                        "gridwidth": 2,
                        "showbackground": true,
                        "zerolinecolor": "white",
                        "gridcolor": "white",
                        "linecolor": "white"
                      }
                    },
                    "yaxis": {
                      "automargin": true,
                      "title": {
                        "standoff": 15
                      },
                      "zerolinewidth": 2,
                      "ticks": "",
                      "zerolinecolor": "white",
                      "gridcolor": "white",
                      "linecolor": "white"
                    },
                    "annotationdefaults": {
                      "arrowwidth": 1,
                      "arrowhead": 0,
                      "arrowcolor": "#2a3f5f"
                    },
                    "hoverlabel": {
                      "align": "left"
                    },
                    "ternary": {
                      "bgcolor": "#E5ECF6",
                      "baxis": {
                        "ticks": "",
                        "gridcolor": "white",
                        "linecolor": "white"
                      },
                      "caxis": {
                        "ticks": "",
                        "gridcolor": "white",
                        "linecolor": "white"
                      },
                      "aaxis": {
                        "ticks": "",
                        "gridcolor": "white",
                        "linecolor": "white"
                      }
                    },
                    "mapbox": {
                      "style": "light"
                    },
                    "hovermode": "closest",
                    "font": {
                      "color": "#2a3f5f"
                    },
                    "geo": {
                      "showland": true,
                      "landcolor": "#E5ECF6",
                      "showlakes": true,
                      "bgcolor": "white",
                      "subunitcolor": "white",
                      "lakecolor": "white"
                    },
                    "coloraxis": {
                      "colorbar": {
                        "outlinewidth": 0,
                        "ticks": ""
                      }
                    }
                  },
                  "data": {
                    "mesh3d": [
                      {
                        "colorbar": {
                          "outlinewidth": 0,
                          "ticks": ""
                        },
                        "type": "mesh3d"
                      }
                    ],
                    "scattercarpet": [
                      {
                        "marker": {
                          "colorbar": {
                            "outlinewidth": 0,
                            "ticks": ""
                          }
                        },
                        "type": "scattercarpet"
                      }
                    ],
                    "pie": [
                      {
                        "automargin": true,
                        "type": "pie"
                      }
                    ],
                    "surface": [
                      {
                        "colorbar": {
                          "outlinewidth": 0,
                          "ticks": ""
                        },
                        "type": "surface",
                        "colorscale": [
                          [
                            0,
                            "#0d0887"
                          ],
                          [
                            0.1111111111111111,
                            "#46039f"
                          ],
                          [
                            0.2222222222222222,
                            "#7201a8"
                          ],
                          [
                            0.3333333333333333,
                            "#9c179e"
                          ],
                          [
                            0.4444444444444444,
                            "#bd3786"
                          ],
                          [
                            0.5555555555555556,
                            "#d8576b"
                          ],
                          [
                            0.6666666666666666,
                            "#ed7953"
                          ],
                          [
                            0.7777777777777778,
                            "#fb9f3a"
                          ],
                          [
                            0.8888888888888888,
                            "#fdca26"
                          ],
                          [
                            1,
                            "#f0f921"
                          ]
                        ]
                      }
                    ],
                    "table": [
                      {
                        "header": {
                          "line": {
                            "color": "white"
                          },
                          "fill": {
                            "color": "#C8D4E3"
                          }
                        },
                        "cells": {
                          "line": {
                            "color": "white"
                          },
                          "fill": {
                            "color": "#EBF0F8"
                          }
                        },
                        "type": "table"
                      }
                    ],
                    "scatterpolargl": [
                      {
                        "marker": {
                          "colorbar": {
                            "outlinewidth": 0,
                            "ticks": ""
                          }
                        },
                        "type": "scatterpolargl"
                      }
                    ],
                    "contour": [
                      {
                        "colorbar": {
                          "outlinewidth": 0,
                          "ticks": ""
                        },
                        "type": "contour",
                        "colorscale": [
                          [
                            0,
                            "#0d0887"
                          ],
                          [
                            0.1111111111111111,
                            "#46039f"
                          ],
                          [
                            0.2222222222222222,
                            "#7201a8"
                          ],
                          [
                            0.3333333333333333,
                            "#9c179e"
                          ],
                          [
                            0.4444444444444444,
                            "#bd3786"
                          ],
                          [
                            0.5555555555555556,
                            "#d8576b"
                          ],
                          [
                            0.6666666666666666,
                            "#ed7953"
                          ],
                          [
                            0.7777777777777778,
                            "#fb9f3a"
                          ],
                          [
                            0.8888888888888888,
                            "#fdca26"
                          ],
                          [
                            1,
                            "#f0f921"
                          ]
                        ]
                      }
                    ],
                    "carpet": [
                      {
                        "type": "carpet",
                        "baxis": {
                          "minorgridcolor": "white",
                          "gridcolor": "white",
                          "linecolor": "white",
                          "endlinecolor": "#2a3f5f",
                          "startlinecolor": "#2a3f5f"
                        },
                        "aaxis": {
                          "minorgridcolor": "white",
                          "gridcolor": "white",
                          "linecolor": "white",
                          "endlinecolor": "#2a3f5f",
                          "startlinecolor": "#2a3f5f"
                        }
                      }
                    ],
                    "contourcarpet": [
                      {
                        "colorbar": {
                          "outlinewidth": 0,
                          "ticks": ""
                        },
                        "type": "contourcarpet"
                      }
                    ],
                    "heatmap": [
                      {
                        "colorbar": {
                          "outlinewidth": 0,
                          "ticks": ""
                        },
                        "type": "heatmap",
                        "colorscale": [
                          [
                            0,
                            "#0d0887"
                          ],
                          [
                            0.1111111111111111,
                            "#46039f"
                          ],
                          [
                            0.2222222222222222,
                            "#7201a8"
                          ],
                          [
                            0.3333333333333333,
                            "#9c179e"
                          ],
                          [
                            0.4444444444444444,
                            "#bd3786"
                          ],
                          [
                            0.5555555555555556,
                            "#d8576b"
                          ],
                          [
                            0.6666666666666666,
                            "#ed7953"
                          ],
                          [
                            0.7777777777777778,
                            "#fb9f3a"
                          ],
                          [
                            0.8888888888888888,
                            "#fdca26"
                          ],
                          [
                            1,
                            "#f0f921"
                          ]
                        ]
                      }
                    ],
                    "scattermapbox": [
                      {
                        "marker": {
                          "colorbar": {
                            "outlinewidth": 0,
                            "ticks": ""
                          }
                        },
                        "type": "scattermapbox"
                      }
                    ],
                    "scatter3d": [
                      {
                        "marker": {
                          "colorbar": {
                            "outlinewidth": 0,
                            "ticks": ""
                          }
                        },
                        "line": {
                          "colorbar": {
                            "outlinewidth": 0,
                            "ticks": ""
                          }
                        },
                        "type": "scatter3d"
                      }
                    ],
                    "scattergl": [
                      {
                        "marker": {
                          "colorbar": {
                            "outlinewidth": 0,
                            "ticks": ""
                          }
                        },
                        "type": "scattergl"
                      }
                    ],
                    "scatterternary": [
                      {
                        "marker": {
                          "colorbar": {
                            "outlinewidth": 0,
                            "ticks": ""
                          }
                        },
                        "type": "scatterternary"
                      }
                    ],
                    "histogram": [
                      {
                        "marker": {
                          "colorbar": {
                            "outlinewidth": 0,
                            "ticks": ""
                          }
                        },
                        "type": "histogram"
                      }
                    ],
                    "heatmapgl": [
                      {
                        "colorbar": {
                          "outlinewidth": 0,
                          "ticks": ""
                        },
                        "type": "heatmapgl",
                        "colorscale": [
                          [
                            0,
                            "#0d0887"
                          ],
                          [
                            0.1111111111111111,
                            "#46039f"
                          ],
                          [
                            0.2222222222222222,
                            "#7201a8"
                          ],
                          [
                            0.3333333333333333,
                            "#9c179e"
                          ],
                          [
                            0.4444444444444444,
                            "#bd3786"
                          ],
                          [
                            0.5555555555555556,
                            "#d8576b"
                          ],
                          [
                            0.6666666666666666,
                            "#ed7953"
                          ],
                          [
                            0.7777777777777778,
                            "#fb9f3a"
                          ],
                          [
                            0.8888888888888888,
                            "#fdca26"
                          ],
                          [
                            1,
                            "#f0f921"
                          ]
                        ]
                      }
                    ],
                    "scatterpolar": [
                      {
                        "marker": {
                          "colorbar": {
                            "outlinewidth": 0,
                            "ticks": ""
                          }
                        },
                        "type": "scatterpolar"
                      }
                    ],
                    "histogram2d": [
                      {
                        "colorbar": {
                          "outlinewidth": 0,
                          "ticks": ""
                        },
                        "type": "histogram2d",
                        "colorscale": [
                          [
                            0,
                            "#0d0887"
                          ],
                          [
                            0.1111111111111111,
                            "#46039f"
                          ],
                          [
                            0.2222222222222222,
                            "#7201a8"
                          ],
                          [
                            0.3333333333333333,
                            "#9c179e"
                          ],
                          [
                            0.4444444444444444,
                            "#bd3786"
                          ],
                          [
                            0.5555555555555556,
                            "#d8576b"
                          ],
                          [
                            0.6666666666666666,
                            "#ed7953"
                          ],
                          [
                            0.7777777777777778,
                            "#fb9f3a"
                          ],
                          [
                            0.8888888888888888,
                            "#fdca26"
                          ],
                          [
                            1,
                            "#f0f921"
                          ]
                        ]
                      }
                    ],
                    "scattergeo": [
                      {
                        "marker": {
                          "colorbar": {
                            "outlinewidth": 0,
                            "ticks": ""
                          }
                        },
                        "type": "scattergeo"
                      }
                    ],
                    "bar": [
                      {
                        "marker": {
                          "line": {
                            "color": "#E5ECF6",
                            "width": 0.5
                          }
                        },
                        "type": "bar",
                        "error_x": {
                          "color": "#2a3f5f"
                        },
                        "error_y": {
                          "color": "#2a3f5f"
                        }
                      }
                    ],
                    "choropleth": [
                      {
                        "colorbar": {
                          "outlinewidth": 0,
                          "ticks": ""
                        },
                        "type": "choropleth"
                      }
                    ],
                    "parcoords": [
                      {
                        "line": {
                          "colorbar": {
                            "outlinewidth": 0,
                            "ticks": ""
                          }
                        },
                        "type": "parcoords"
                      }
                    ],
                    "barpolar": [
                      {
                        "marker": {
                          "line": {
                            "color": "#E5ECF6",
                            "width": 0.5
                          }
                        },
                        "type": "barpolar"
                      }
                    ],
                    "histogram2dcontour": [
                      {
                        "colorbar": {
                          "outlinewidth": 0,
                          "ticks": ""
                        },
                        "type": "histogram2dcontour",
                        "colorscale": [
                          [
                            0,
                            "#0d0887"
                          ],
                          [
                            0.1111111111111111,
                            "#46039f"
                          ],
                          [
                            0.2222222222222222,
                            "#7201a8"
                          ],
                          [
                            0.3333333333333333,
                            "#9c179e"
                          ],
                          [
                            0.4444444444444444,
                            "#bd3786"
                          ],
                          [
                            0.5555555555555556,
                            "#d8576b"
                          ],
                          [
                            0.6666666666666666,
                            "#ed7953"
                          ],
                          [
                            0.7777777777777778,
                            "#fb9f3a"
                          ],
                          [
                            0.8888888888888888,
                            "#fdca26"
                          ],
                          [
                            1,
                            "#f0f921"
                          ]
                        ]
                      }
                    ],
                    "scatter": [
                      {
                        "marker": {
                          "colorbar": {
                            "outlinewidth": 0,
                            "ticks": ""
                          }
                        },
                        "type": "scatter"
                      }
                    ]
                  }
                },
                "title": {
                  "text": "Relationship between the number of rooms and the rent"
                }
              }
            }
          },
          "metadata": {
            "tags": []
          }
        }
      ]
    },
    {
      "cell_type": "markdown",
      "metadata": {
        "id": "3lKrqK34-G4i"
      },
      "source": [
        "## **A Plot of the relationship between the condition and rental prices**"
      ]
    },
    {
      "cell_type": "code",
      "metadata": {
        "id": "-kulUq3_NPJl",
        "colab": {
          "base_uri": "https://localhost:8080/",
          "height": 542
        },
        "outputId": "af2e777d-d4a9-4b00-8fe6-b6849e7276c4"
      },
      "source": [
        "data = {\n",
        "  'x': rentals['Condition'],\n",
        "  'name': 'Condition',\n",
        "  'type': 'bar'\n",
        "};\n",
        "\n",
        "layout = {\n",
        "  'xaxis': {'title': 'Regions'},\n",
        "    'yaxis': {'title': 'Count of Condition'},\n",
        "  'barmode': 'relative',\n",
        "  'title': 'Total count of Condition'\n",
        "};\n",
        "fig = go.Figure(data = data, layout = layout)\n",
        "iplot(fig)"
      ],
      "execution_count": 28,
      "outputs": [
        {
          "output_type": "display_data",
          "data": {
            "text/html": [
              "<div>\n",
              "        \n",
              "        \n",
              "            <div id=\"28bb183c-31e3-4595-864c-310340ea0e0b\" class=\"plotly-graph-div\" style=\"height:525px; width:100%;\"></div>\n",
              "            <script type=\"text/javascript\">\n",
              "                require([\"plotly\"], function(Plotly) {\n",
              "                    window.PLOTLYENV=window.PLOTLYENV || {};\n",
              "                    \n",
              "                if (document.getElementById(\"28bb183c-31e3-4595-864c-310340ea0e0b\")) {\n",
              "                    Plotly.newPlot(\n",
              "                        '28bb183c-31e3-4595-864c-310340ea0e0b',\n",
              "                        [{\"name\": \"Condition\", \"type\": \"bar\", \"x\": [\"first_time_use\", \"first_time_use\", \"well_kept\", \"well_kept\", \"first_time_use\", \"well_kept\", \"mint_condition\", \"well_kept\", \"well_kept\", \"first_time_use\", \"first_time_use\", \"first_time_use\", \"first_time_use\", \"mint_condition\", \"first_time_use\", \"well_kept\", \"first_time_use\", \"mint_condition\", \"first_time_use\", \"first_time_use\", \"no_information\", \"well_kept\", \"mint_condition\", \"no_information\", \"mint_condition\", \"no_information\", \"mint_condition\", \"mint_condition\", \"first_time_use\", \"mint_condition\", \"first_time_use\", \"first_time_use\", \"fully_renovated\", \"mint_condition\", \"mint_condition\", \"first_time_use\", \"first_time_use\", \"well_kept\", \"no_information\", \"first_time_use\", \"fully_renovated\", \"fully_renovated\", \"no_information\", \"no_information\", \"first_time_use\", \"first_time_use\", \"mint_condition\", \"well_kept\", \"first_time_use\", \"no_information\", \"mint_condition\", \"first_time_use_after_refurbishment\", \"first_time_use\", \"fully_renovated\", \"first_time_use\", \"first_time_use\", \"well_kept\", \"first_time_use\", \"well_kept\", \"mint_condition\", \"first_time_use\", \"mint_condition\", \"first_time_use\", \"no_information\", \"mint_condition\", \"first_time_use\", \"first_time_use\", \"first_time_use\", \"mint_condition\", \"no_information\", \"first_time_use_after_refurbishment\", \"first_time_use\", \"mint_condition\", \"mint_condition\", \"mint_condition\", \"fully_renovated\", \"first_time_use\", \"first_time_use\", \"fully_renovated\", \"first_time_use_after_refurbishment\", \"no_information\", \"first_time_use\", \"first_time_use\", \"first_time_use\", \"well_kept\", \"first_time_use\", \"refurbished\", \"mint_condition\", \"no_information\", \"no_information\", \"mint_condition\", \"modernized\", \"mint_condition\", \"mint_condition\", \"first_time_use\", \"mint_condition\", \"mint_condition\", \"no_information\", \"fully_renovated\", \"no_information\", \"mint_condition\", \"first_time_use_after_refurbishment\", \"mint_condition\", \"mint_condition\", \"mint_condition\", \"no_information\", \"mint_condition\", \"mint_condition\", \"mint_condition\", \"mint_condition\", \"no_information\", \"mint_condition\", \"mint_condition\", \"no_information\", \"modernized\", \"well_kept\", \"first_time_use_after_refurbishment\", \"mint_condition\", \"mint_condition\", \"mint_condition\", \"first_time_use\", \"first_time_use\", \"first_time_use\", \"no_information\", \"first_time_use_after_refurbishment\", \"no_information\", \"no_information\", \"modernized\", \"first_time_use\", \"no_information\", \"no_information\", \"mint_condition\", \"no_information\", \"no_information\", \"no_information\", \"no_information\", \"no_information\", \"mint_condition\", \"first_time_use\", \"first_time_use\", \"first_time_use\", \"well_kept\", \"mint_condition\", \"first_time_use\", \"first_time_use\", \"first_time_use\", \"first_time_use_after_refurbishment\", \"first_time_use\", \"mint_condition\", \"mint_condition\", \"first_time_use\", \"mint_condition\", \"no_information\", \"first_time_use\", \"mint_condition\", \"well_kept\", \"fully_renovated\", \"fully_renovated\", \"no_information\", \"mint_condition\", \"first_time_use\", \"well_kept\", \"no_information\", \"first_time_use\", \"well_kept\", \"well_kept\", \"well_kept\", \"first_time_use\", \"first_time_use\", \"well_kept\", \"well_kept\", \"well_kept\", \"well_kept\", \"first_time_use_after_refurbishment\", \"well_kept\", \"first_time_use\", \"first_time_use_after_refurbishment\", \"well_kept\", \"need_of_renovation\", \"need_of_renovation\", \"no_information\", \"no_information\", \"need_of_renovation\", \"mint_condition\", \"modernized\", \"no_information\", \"mint_condition\", \"mint_condition\", \"first_time_use\", \"first_time_use\", \"no_information\", \"mint_condition\", \"first_time_use\", \"first_time_use\", \"no_information\", \"modernized\", \"no_information\", \"no_information\", \"no_information\", \"mint_condition\", \"mint_condition\", \"first_time_use_after_refurbishment\", \"well_kept\", \"mint_condition\", \"no_information\", \"no_information\", \"well_kept\", \"well_kept\", \"well_kept\", \"first_time_use_after_refurbishment\", \"first_time_use\", \"well_kept\", \"no_information\", \"mint_condition\", \"no_information\", \"refurbished\", \"first_time_use\", \"mint_condition\", \"first_time_use\", \"no_information\", \"mint_condition\", \"first_time_use\", \"first_time_use\", \"first_time_use_after_refurbishment\", \"mint_condition\", \"first_time_use\", \"fully_renovated\", \"no_information\", \"no_information\", \"well_kept\", \"well_kept\", \"well_kept\", \"no_information\", \"well_kept\", \"well_kept\", \"first_time_use\", \"refurbished\", \"first_time_use\", \"well_kept\", \"well_kept\", \"no_information\", \"well_kept\", \"refurbished\", \"first_time_use_after_refurbishment\", \"refurbished\", \"no_information\", \"first_time_use\", \"first_time_use_after_refurbishment\", \"well_kept\", \"no_information\", \"no_information\", \"first_time_use_after_refurbishment\", \"first_time_use_after_refurbishment\", \"first_time_use\", \"first_time_use\", \"first_time_use\", \"first_time_use\", \"first_time_use\", \"well_kept\", \"first_time_use\", \"no_information\", \"first_time_use\", \"first_time_use\", \"well_kept\", \"need_of_renovation\", \"well_kept\", \"mint_condition\", \"well_kept\", \"mint_condition\", \"mint_condition\", \"well_kept\", \"mint_condition\", \"well_kept\", \"well_kept\", \"well_kept\", \"well_kept\", \"first_time_use\", \"mint_condition\", \"no_information\", \"first_time_use_after_refurbishment\", \"well_kept\", \"first_time_use\", \"well_kept\", \"first_time_use_after_refurbishment\", \"refurbished\", \"first_time_use\", \"no_information\", \"no_information\", \"mint_condition\", \"no_information\", \"first_time_use\", \"first_time_use\", \"mint_condition\", \"no_information\", \"first_time_use\", \"mint_condition\", \"mint_condition\", \"no_information\", \"first_time_use_after_refurbishment\", \"no_information\", \"mint_condition\", \"no_information\", \"well_kept\", \"well_kept\", \"mint_condition\", \"no_information\", \"mint_condition\", \"no_information\", \"no_information\", \"no_information\", \"mint_condition\", \"mint_condition\", \"mint_condition\", \"no_information\", \"mint_condition\", \"mint_condition\", \"mint_condition\", \"first_time_use\", \"well_kept\", \"first_time_use_after_refurbishment\", \"first_time_use_after_refurbishment\", \"first_time_use_after_refurbishment\", \"well_kept\", \"mint_condition\", \"well_kept\", \"first_time_use_after_refurbishment\", \"mint_condition\", \"fully_renovated\", \"first_time_use\", \"no_information\", \"mint_condition\", \"first_time_use\", \"mint_condition\", \"first_time_use\", \"refurbished\", \"first_time_use\", \"mint_condition\", \"fully_renovated\", \"mint_condition\", \"first_time_use\", \"modernized\", \"first_time_use\", \"modernized\", \"fully_renovated\", \"first_time_use\", \"first_time_use_after_refurbishment\", \"first_time_use\", \"mint_condition\", \"mint_condition\", \"mint_condition\", \"first_time_use\", \"mint_condition\", \"first_time_use\", \"mint_condition\", \"first_time_use\", \"mint_condition\", \"first_time_use\", \"fully_renovated\", \"first_time_use\", \"fully_renovated\", \"well_kept\", \"fully_renovated\", \"first_time_use\", \"first_time_use\", \"well_kept\", \"refurbished\", \"first_time_use\", \"first_time_use\", \"well_kept\", \"well_kept\", \"first_time_use_after_refurbishment\", \"first_time_use_after_refurbishment\", \"no_information\", \"mint_condition\", \"mint_condition\", \"mint_condition\", \"first_time_use\", \"first_time_use\", \"first_time_use\", \"fully_renovated\", \"first_time_use\", \"first_time_use\", \"first_time_use\", \"first_time_use\", \"first_time_use\", \"modernized\", \"first_time_use_after_refurbishment\", \"no_information\", \"refurbished\", \"well_kept\", \"first_time_use\", \"fully_renovated\", \"well_kept\", \"mint_condition\", \"first_time_use\", \"first_time_use\", \"well_kept\", \"well_kept\", \"first_time_use\", \"refurbished\", \"modernized\", \"refurbished\", \"first_time_use\", \"mint_condition\", \"well_kept\", \"mint_condition\", \"modernized\", \"refurbished\", \"refurbished\", \"refurbished\", \"modernized\", \"refurbished\", \"modernized\", \"refurbished\", \"no_information\", \"fully_renovated\", \"refurbished\", \"fully_renovated\", \"fully_renovated\", \"modernized\", \"modernized\", \"modernized\", \"first_time_use\", \"no_information\", \"mint_condition\", \"modernized\", \"modernized\", \"first_time_use\", \"fully_renovated\", \"modernized\", \"modernized\", \"first_time_use\", \"first_time_use\", \"first_time_use\", \"first_time_use\", \"no_information\", \"first_time_use\", \"mint_condition\", \"first_time_use\", \"first_time_use\", \"first_time_use\", \"first_time_use\", \"first_time_use\", \"first_time_use\", \"first_time_use\", \"no_information\", \"fully_renovated\", \"modernized\", \"first_time_use\", \"mint_condition\", \"first_time_use\", \"first_time_use\", \"first_time_use\", \"no_information\", \"first_time_use_after_refurbishment\", \"first_time_use\", \"no_information\", \"refurbished\", \"first_time_use\", \"fully_renovated\", \"first_time_use\", \"fully_renovated\", \"first_time_use\", \"refurbished\", \"mint_condition\", \"well_kept\", \"first_time_use\", \"well_kept\", \"well_kept\", \"first_time_use\", \"mint_condition\", \"well_kept\", \"first_time_use\", \"refurbished\", \"no_information\", \"no_information\", \"refurbished\", \"no_information\", \"first_time_use\", \"first_time_use\", \"modernized\", \"first_time_use_after_refurbishment\", \"well_kept\", \"no_information\", \"first_time_use\", \"first_time_use\", \"first_time_use\", \"mint_condition\", \"first_time_use_after_refurbishment\", \"first_time_use\", \"no_information\", \"well_kept\", \"mint_condition\", \"well_kept\", \"modernized\", \"first_time_use\", \"well_kept\", \"well_kept\", \"first_time_use\", \"first_time_use\", \"refurbished\", \"no_information\", \"first_time_use\", \"modernized\", \"first_time_use\", \"first_time_use\", \"mint_condition\", \"first_time_use\", \"first_time_use\", \"first_time_use\", \"first_time_use\", \"well_kept\", \"modernized\", \"well_kept\", \"modernized\", \"well_kept\", \"refurbished\", \"well_kept\", \"no_information\", \"fully_renovated\", \"well_kept\", \"mint_condition\", \"well_kept\", \"well_kept\", \"first_time_use\", \"mint_condition\", \"refurbished\", \"first_time_use\", \"well_kept\", \"mint_condition\", \"fully_renovated\", \"well_kept\", \"first_time_use\", \"first_time_use\", \"modernized\", \"mint_condition\", \"well_kept\", \"first_time_use\", \"fully_renovated\", \"first_time_use\", \"no_information\", \"first_time_use\", \"first_time_use\", \"no_information\", \"no_information\", \"first_time_use\", \"first_time_use\", \"first_time_use\", \"first_time_use\", \"first_time_use\", \"first_time_use\", \"first_time_use\", \"well_kept\", \"mint_condition\", \"first_time_use\", \"well_kept\", \"mint_condition\", \"first_time_use_after_refurbishment\", \"first_time_use\", \"well_kept\", \"fully_renovated\", \"no_information\", \"first_time_use\", \"first_time_use\", \"mint_condition\", \"first_time_use\", \"first_time_use\", \"first_time_use\", \"first_time_use\", \"first_time_use\", \"first_time_use\", \"mint_condition\", \"no_information\", \"mint_condition\", \"first_time_use\", \"first_time_use\", \"first_time_use\", \"first_time_use\", \"refurbished\", \"first_time_use\", \"first_time_use\", \"first_time_use\", \"fully_renovated\", \"mint_condition\", \"first_time_use\", \"no_information\", \"no_information\", \"fully_renovated\", \"mint_condition\", \"first_time_use\", \"refurbished\", \"refurbished\", \"refurbished\", \"first_time_use\", \"refurbished\", \"mint_condition\", \"refurbished\", \"first_time_use\", \"first_time_use\", \"first_time_use\", \"first_time_use\", \"mint_condition\", \"no_information\", \"first_time_use\", \"first_time_use\", \"no_information\", \"first_time_use\", \"mint_condition\", \"well_kept\", \"first_time_use\", \"first_time_use\", \"first_time_use\", \"well_kept\", \"first_time_use\", \"first_time_use\", \"mint_condition\", \"first_time_use\", \"first_time_use\", \"first_time_use\", \"first_time_use\", \"first_time_use\", \"first_time_use\", \"first_time_use\", \"first_time_use_after_refurbishment\", \"first_time_use\", \"first_time_use\", \"first_time_use\", \"first_time_use\", \"first_time_use\", \"first_time_use\", \"first_time_use\", \"first_time_use\", \"first_time_use\", \"mint_condition\", \"first_time_use\", \"first_time_use\", \"well_kept\", \"refurbished\", \"first_time_use\", \"first_time_use_after_refurbishment\", \"no_information\", \"well_kept\", \"first_time_use\", \"no_information\", \"first_time_use\", \"refurbished\", \"first_time_use\", \"first_time_use\", \"refurbished\", \"first_time_use\", \"refurbished\", \"mint_condition\", \"first_time_use\", \"first_time_use\", \"first_time_use\", \"refurbished\", \"first_time_use\", \"no_information\", \"first_time_use\", \"first_time_use\", \"first_time_use\", \"mint_condition\", \"first_time_use\", \"first_time_use\", \"first_time_use\", \"first_time_use\", \"first_time_use\", \"first_time_use\", \"first_time_use\", \"first_time_use\", \"first_time_use\", \"first_time_use\", \"first_time_use\", \"modernized\", \"refurbished\", \"well_kept\", \"first_time_use\", \"first_time_use\", \"no_information\", \"first_time_use\", \"fully_renovated\", \"first_time_use\", \"first_time_use\", \"first_time_use\", \"first_time_use\", \"no_information\", \"first_time_use_after_refurbishment\", \"no_information\", \"first_time_use\", \"first_time_use\", \"refurbished\", \"no_information\", \"first_time_use_after_refurbishment\", \"no_information\", \"mint_condition\", \"first_time_use\", \"refurbished\", \"first_time_use_after_refurbishment\", \"first_time_use\", \"first_time_use\", \"first_time_use\", \"first_time_use\", \"first_time_use\", \"mint_condition\", \"no_information\", \"first_time_use\", \"fully_renovated\", \"first_time_use\", \"first_time_use\", \"refurbished\", \"no_information\", \"first_time_use\", \"no_information\", \"first_time_use\", \"first_time_use\", \"first_time_use\", \"no_information\", \"first_time_use\", \"mint_condition\", \"refurbished\", \"no_information\", \"first_time_use\", \"no_information\", \"mint_condition\", \"no_information\", \"no_information\", \"first_time_use\", \"first_time_use\", \"mint_condition\", \"mint_condition\", \"mint_condition\", \"mint_condition\", \"well_kept\", \"mint_condition\", \"mint_condition\", \"well_kept\", \"well_kept\", \"no_information\", \"no_information\", \"mint_condition\", \"mint_condition\", \"mint_condition\", \"mint_condition\", \"mint_condition\", \"fully_renovated\", \"mint_condition\", \"mint_condition\", \"mint_condition\", \"mint_condition\", \"no_information\", \"no_information\", \"no_information\", \"first_time_use\", \"mint_condition\", \"no_information\", \"modernized\", \"mint_condition\", \"well_kept\", \"modernized\", \"mint_condition\", \"mint_condition\", \"mint_condition\", \"well_kept\", \"fully_renovated\"]}],\n",
              "                        {\"barmode\": \"relative\", \"template\": {\"data\": {\"bar\": [{\"error_x\": {\"color\": \"#2a3f5f\"}, \"error_y\": {\"color\": \"#2a3f5f\"}, \"marker\": {\"line\": {\"color\": \"#E5ECF6\", \"width\": 0.5}}, \"type\": \"bar\"}], \"barpolar\": [{\"marker\": {\"line\": {\"color\": \"#E5ECF6\", \"width\": 0.5}}, \"type\": \"barpolar\"}], \"carpet\": [{\"aaxis\": {\"endlinecolor\": \"#2a3f5f\", \"gridcolor\": \"white\", \"linecolor\": \"white\", \"minorgridcolor\": \"white\", \"startlinecolor\": \"#2a3f5f\"}, \"baxis\": {\"endlinecolor\": \"#2a3f5f\", \"gridcolor\": \"white\", \"linecolor\": \"white\", \"minorgridcolor\": \"white\", \"startlinecolor\": \"#2a3f5f\"}, \"type\": \"carpet\"}], \"choropleth\": [{\"colorbar\": {\"outlinewidth\": 0, \"ticks\": \"\"}, \"type\": \"choropleth\"}], \"contour\": [{\"colorbar\": {\"outlinewidth\": 0, \"ticks\": \"\"}, \"colorscale\": [[0.0, \"#0d0887\"], [0.1111111111111111, \"#46039f\"], [0.2222222222222222, \"#7201a8\"], [0.3333333333333333, \"#9c179e\"], [0.4444444444444444, \"#bd3786\"], [0.5555555555555556, \"#d8576b\"], [0.6666666666666666, \"#ed7953\"], [0.7777777777777778, \"#fb9f3a\"], [0.8888888888888888, \"#fdca26\"], [1.0, \"#f0f921\"]], \"type\": \"contour\"}], \"contourcarpet\": [{\"colorbar\": {\"outlinewidth\": 0, \"ticks\": \"\"}, \"type\": \"contourcarpet\"}], \"heatmap\": [{\"colorbar\": {\"outlinewidth\": 0, \"ticks\": \"\"}, \"colorscale\": [[0.0, \"#0d0887\"], [0.1111111111111111, \"#46039f\"], [0.2222222222222222, \"#7201a8\"], [0.3333333333333333, \"#9c179e\"], [0.4444444444444444, \"#bd3786\"], [0.5555555555555556, \"#d8576b\"], [0.6666666666666666, \"#ed7953\"], [0.7777777777777778, \"#fb9f3a\"], [0.8888888888888888, \"#fdca26\"], [1.0, \"#f0f921\"]], \"type\": \"heatmap\"}], \"heatmapgl\": [{\"colorbar\": {\"outlinewidth\": 0, \"ticks\": \"\"}, \"colorscale\": [[0.0, \"#0d0887\"], [0.1111111111111111, \"#46039f\"], [0.2222222222222222, \"#7201a8\"], [0.3333333333333333, \"#9c179e\"], [0.4444444444444444, \"#bd3786\"], [0.5555555555555556, \"#d8576b\"], [0.6666666666666666, \"#ed7953\"], [0.7777777777777778, \"#fb9f3a\"], [0.8888888888888888, \"#fdca26\"], [1.0, \"#f0f921\"]], \"type\": \"heatmapgl\"}], \"histogram\": [{\"marker\": {\"colorbar\": {\"outlinewidth\": 0, \"ticks\": \"\"}}, \"type\": \"histogram\"}], \"histogram2d\": [{\"colorbar\": {\"outlinewidth\": 0, \"ticks\": \"\"}, \"colorscale\": [[0.0, \"#0d0887\"], [0.1111111111111111, \"#46039f\"], [0.2222222222222222, \"#7201a8\"], [0.3333333333333333, \"#9c179e\"], [0.4444444444444444, \"#bd3786\"], [0.5555555555555556, \"#d8576b\"], [0.6666666666666666, \"#ed7953\"], [0.7777777777777778, \"#fb9f3a\"], [0.8888888888888888, \"#fdca26\"], [1.0, \"#f0f921\"]], \"type\": \"histogram2d\"}], \"histogram2dcontour\": [{\"colorbar\": {\"outlinewidth\": 0, \"ticks\": \"\"}, \"colorscale\": [[0.0, \"#0d0887\"], [0.1111111111111111, \"#46039f\"], [0.2222222222222222, \"#7201a8\"], [0.3333333333333333, \"#9c179e\"], [0.4444444444444444, \"#bd3786\"], [0.5555555555555556, \"#d8576b\"], [0.6666666666666666, \"#ed7953\"], [0.7777777777777778, \"#fb9f3a\"], [0.8888888888888888, \"#fdca26\"], [1.0, \"#f0f921\"]], \"type\": \"histogram2dcontour\"}], \"mesh3d\": [{\"colorbar\": {\"outlinewidth\": 0, \"ticks\": \"\"}, \"type\": \"mesh3d\"}], \"parcoords\": [{\"line\": {\"colorbar\": {\"outlinewidth\": 0, \"ticks\": \"\"}}, \"type\": \"parcoords\"}], \"pie\": [{\"automargin\": true, \"type\": \"pie\"}], \"scatter\": [{\"marker\": {\"colorbar\": {\"outlinewidth\": 0, \"ticks\": \"\"}}, \"type\": \"scatter\"}], \"scatter3d\": [{\"line\": {\"colorbar\": {\"outlinewidth\": 0, \"ticks\": \"\"}}, \"marker\": {\"colorbar\": {\"outlinewidth\": 0, \"ticks\": \"\"}}, \"type\": \"scatter3d\"}], \"scattercarpet\": [{\"marker\": {\"colorbar\": {\"outlinewidth\": 0, \"ticks\": \"\"}}, \"type\": \"scattercarpet\"}], \"scattergeo\": [{\"marker\": {\"colorbar\": {\"outlinewidth\": 0, \"ticks\": \"\"}}, \"type\": \"scattergeo\"}], \"scattergl\": [{\"marker\": {\"colorbar\": {\"outlinewidth\": 0, \"ticks\": \"\"}}, \"type\": \"scattergl\"}], \"scattermapbox\": [{\"marker\": {\"colorbar\": {\"outlinewidth\": 0, \"ticks\": \"\"}}, \"type\": \"scattermapbox\"}], \"scatterpolar\": [{\"marker\": {\"colorbar\": {\"outlinewidth\": 0, \"ticks\": \"\"}}, \"type\": \"scatterpolar\"}], \"scatterpolargl\": [{\"marker\": {\"colorbar\": {\"outlinewidth\": 0, \"ticks\": \"\"}}, \"type\": \"scatterpolargl\"}], \"scatterternary\": [{\"marker\": {\"colorbar\": {\"outlinewidth\": 0, \"ticks\": \"\"}}, \"type\": \"scatterternary\"}], \"surface\": [{\"colorbar\": {\"outlinewidth\": 0, \"ticks\": \"\"}, \"colorscale\": [[0.0, \"#0d0887\"], [0.1111111111111111, \"#46039f\"], [0.2222222222222222, \"#7201a8\"], [0.3333333333333333, \"#9c179e\"], [0.4444444444444444, \"#bd3786\"], [0.5555555555555556, \"#d8576b\"], [0.6666666666666666, \"#ed7953\"], [0.7777777777777778, \"#fb9f3a\"], [0.8888888888888888, \"#fdca26\"], [1.0, \"#f0f921\"]], \"type\": \"surface\"}], \"table\": [{\"cells\": {\"fill\": {\"color\": \"#EBF0F8\"}, \"line\": {\"color\": \"white\"}}, \"header\": {\"fill\": {\"color\": \"#C8D4E3\"}, \"line\": {\"color\": \"white\"}}, \"type\": \"table\"}]}, \"layout\": {\"annotationdefaults\": {\"arrowcolor\": \"#2a3f5f\", \"arrowhead\": 0, \"arrowwidth\": 1}, \"coloraxis\": {\"colorbar\": {\"outlinewidth\": 0, \"ticks\": \"\"}}, \"colorscale\": {\"diverging\": [[0, \"#8e0152\"], [0.1, \"#c51b7d\"], [0.2, \"#de77ae\"], [0.3, \"#f1b6da\"], [0.4, \"#fde0ef\"], [0.5, \"#f7f7f7\"], [0.6, \"#e6f5d0\"], [0.7, \"#b8e186\"], [0.8, \"#7fbc41\"], [0.9, \"#4d9221\"], [1, \"#276419\"]], \"sequential\": [[0.0, \"#0d0887\"], [0.1111111111111111, \"#46039f\"], [0.2222222222222222, \"#7201a8\"], [0.3333333333333333, \"#9c179e\"], [0.4444444444444444, \"#bd3786\"], [0.5555555555555556, \"#d8576b\"], [0.6666666666666666, \"#ed7953\"], [0.7777777777777778, \"#fb9f3a\"], [0.8888888888888888, \"#fdca26\"], [1.0, \"#f0f921\"]], \"sequentialminus\": [[0.0, \"#0d0887\"], [0.1111111111111111, \"#46039f\"], [0.2222222222222222, \"#7201a8\"], [0.3333333333333333, \"#9c179e\"], [0.4444444444444444, \"#bd3786\"], [0.5555555555555556, \"#d8576b\"], [0.6666666666666666, \"#ed7953\"], [0.7777777777777778, \"#fb9f3a\"], [0.8888888888888888, \"#fdca26\"], [1.0, \"#f0f921\"]]}, \"colorway\": [\"#636efa\", \"#EF553B\", \"#00cc96\", \"#ab63fa\", \"#FFA15A\", \"#19d3f3\", \"#FF6692\", \"#B6E880\", \"#FF97FF\", \"#FECB52\"], \"font\": {\"color\": \"#2a3f5f\"}, \"geo\": {\"bgcolor\": \"white\", \"lakecolor\": \"white\", \"landcolor\": \"#E5ECF6\", \"showlakes\": true, \"showland\": true, \"subunitcolor\": \"white\"}, \"hoverlabel\": {\"align\": \"left\"}, \"hovermode\": \"closest\", \"mapbox\": {\"style\": \"light\"}, \"paper_bgcolor\": \"white\", \"plot_bgcolor\": \"#E5ECF6\", \"polar\": {\"angularaxis\": {\"gridcolor\": \"white\", \"linecolor\": \"white\", \"ticks\": \"\"}, \"bgcolor\": \"#E5ECF6\", \"radialaxis\": {\"gridcolor\": \"white\", \"linecolor\": \"white\", \"ticks\": \"\"}}, \"scene\": {\"xaxis\": {\"backgroundcolor\": \"#E5ECF6\", \"gridcolor\": \"white\", \"gridwidth\": 2, \"linecolor\": \"white\", \"showbackground\": true, \"ticks\": \"\", \"zerolinecolor\": \"white\"}, \"yaxis\": {\"backgroundcolor\": \"#E5ECF6\", \"gridcolor\": \"white\", \"gridwidth\": 2, \"linecolor\": \"white\", \"showbackground\": true, \"ticks\": \"\", \"zerolinecolor\": \"white\"}, \"zaxis\": {\"backgroundcolor\": \"#E5ECF6\", \"gridcolor\": \"white\", \"gridwidth\": 2, \"linecolor\": \"white\", \"showbackground\": true, \"ticks\": \"\", \"zerolinecolor\": \"white\"}}, \"shapedefaults\": {\"line\": {\"color\": \"#2a3f5f\"}}, \"ternary\": {\"aaxis\": {\"gridcolor\": \"white\", \"linecolor\": \"white\", \"ticks\": \"\"}, \"baxis\": {\"gridcolor\": \"white\", \"linecolor\": \"white\", \"ticks\": \"\"}, \"bgcolor\": \"#E5ECF6\", \"caxis\": {\"gridcolor\": \"white\", \"linecolor\": \"white\", \"ticks\": \"\"}}, \"title\": {\"x\": 0.05}, \"xaxis\": {\"automargin\": true, \"gridcolor\": \"white\", \"linecolor\": \"white\", \"ticks\": \"\", \"title\": {\"standoff\": 15}, \"zerolinecolor\": \"white\", \"zerolinewidth\": 2}, \"yaxis\": {\"automargin\": true, \"gridcolor\": \"white\", \"linecolor\": \"white\", \"ticks\": \"\", \"title\": {\"standoff\": 15}, \"zerolinecolor\": \"white\", \"zerolinewidth\": 2}}}, \"title\": {\"text\": \"Total count of Condition\"}, \"xaxis\": {\"title\": {\"text\": \"Regions\"}}, \"yaxis\": {\"title\": {\"text\": \"Count of Condition\"}}},\n",
              "                        {\"responsive\": true}\n",
              "                    ).then(function(){\n",
              "                            \n",
              "var gd = document.getElementById('28bb183c-31e3-4595-864c-310340ea0e0b');\n",
              "var x = new MutationObserver(function (mutations, observer) {{\n",
              "        var display = window.getComputedStyle(gd).display;\n",
              "        if (!display || display === 'none') {{\n",
              "            console.log([gd, 'removed!']);\n",
              "            Plotly.purge(gd);\n",
              "            observer.disconnect();\n",
              "        }}\n",
              "}});\n",
              "\n",
              "// Listen for the removal of the full notebook cells\n",
              "var notebookContainer = gd.closest('#notebook-container');\n",
              "if (notebookContainer) {{\n",
              "    x.observe(notebookContainer, {childList: true});\n",
              "}}\n",
              "\n",
              "// Listen for the clearing of the current output cell\n",
              "var outputEl = gd.closest('.output');\n",
              "if (outputEl) {{\n",
              "    x.observe(outputEl, {childList: true});\n",
              "}}\n",
              "\n",
              "                        })\n",
              "                };\n",
              "                });\n",
              "            </script>\n",
              "        </div>"
            ],
            "application/vnd.plotly.v1+json": {
              "data": [
                {
                  "x": [
                    "first_time_use",
                    "first_time_use",
                    "well_kept",
                    "well_kept",
                    "first_time_use",
                    "well_kept",
                    "mint_condition",
                    "well_kept",
                    "well_kept",
                    "first_time_use",
                    "first_time_use",
                    "first_time_use",
                    "first_time_use",
                    "mint_condition",
                    "first_time_use",
                    "well_kept",
                    "first_time_use",
                    "mint_condition",
                    "first_time_use",
                    "first_time_use",
                    "no_information",
                    "well_kept",
                    "mint_condition",
                    "no_information",
                    "mint_condition",
                    "no_information",
                    "mint_condition",
                    "mint_condition",
                    "first_time_use",
                    "mint_condition",
                    "first_time_use",
                    "first_time_use",
                    "fully_renovated",
                    "mint_condition",
                    "mint_condition",
                    "first_time_use",
                    "first_time_use",
                    "well_kept",
                    "no_information",
                    "first_time_use",
                    "fully_renovated",
                    "fully_renovated",
                    "no_information",
                    "no_information",
                    "first_time_use",
                    "first_time_use",
                    "mint_condition",
                    "well_kept",
                    "first_time_use",
                    "no_information",
                    "mint_condition",
                    "first_time_use_after_refurbishment",
                    "first_time_use",
                    "fully_renovated",
                    "first_time_use",
                    "first_time_use",
                    "well_kept",
                    "first_time_use",
                    "well_kept",
                    "mint_condition",
                    "first_time_use",
                    "mint_condition",
                    "first_time_use",
                    "no_information",
                    "mint_condition",
                    "first_time_use",
                    "first_time_use",
                    "first_time_use",
                    "mint_condition",
                    "no_information",
                    "first_time_use_after_refurbishment",
                    "first_time_use",
                    "mint_condition",
                    "mint_condition",
                    "mint_condition",
                    "fully_renovated",
                    "first_time_use",
                    "first_time_use",
                    "fully_renovated",
                    "first_time_use_after_refurbishment",
                    "no_information",
                    "first_time_use",
                    "first_time_use",
                    "first_time_use",
                    "well_kept",
                    "first_time_use",
                    "refurbished",
                    "mint_condition",
                    "no_information",
                    "no_information",
                    "mint_condition",
                    "modernized",
                    "mint_condition",
                    "mint_condition",
                    "first_time_use",
                    "mint_condition",
                    "mint_condition",
                    "no_information",
                    "fully_renovated",
                    "no_information",
                    "mint_condition",
                    "first_time_use_after_refurbishment",
                    "mint_condition",
                    "mint_condition",
                    "mint_condition",
                    "no_information",
                    "mint_condition",
                    "mint_condition",
                    "mint_condition",
                    "mint_condition",
                    "no_information",
                    "mint_condition",
                    "mint_condition",
                    "no_information",
                    "modernized",
                    "well_kept",
                    "first_time_use_after_refurbishment",
                    "mint_condition",
                    "mint_condition",
                    "mint_condition",
                    "first_time_use",
                    "first_time_use",
                    "first_time_use",
                    "no_information",
                    "first_time_use_after_refurbishment",
                    "no_information",
                    "no_information",
                    "modernized",
                    "first_time_use",
                    "no_information",
                    "no_information",
                    "mint_condition",
                    "no_information",
                    "no_information",
                    "no_information",
                    "no_information",
                    "no_information",
                    "mint_condition",
                    "first_time_use",
                    "first_time_use",
                    "first_time_use",
                    "well_kept",
                    "mint_condition",
                    "first_time_use",
                    "first_time_use",
                    "first_time_use",
                    "first_time_use_after_refurbishment",
                    "first_time_use",
                    "mint_condition",
                    "mint_condition",
                    "first_time_use",
                    "mint_condition",
                    "no_information",
                    "first_time_use",
                    "mint_condition",
                    "well_kept",
                    "fully_renovated",
                    "fully_renovated",
                    "no_information",
                    "mint_condition",
                    "first_time_use",
                    "well_kept",
                    "no_information",
                    "first_time_use",
                    "well_kept",
                    "well_kept",
                    "well_kept",
                    "first_time_use",
                    "first_time_use",
                    "well_kept",
                    "well_kept",
                    "well_kept",
                    "well_kept",
                    "first_time_use_after_refurbishment",
                    "well_kept",
                    "first_time_use",
                    "first_time_use_after_refurbishment",
                    "well_kept",
                    "need_of_renovation",
                    "need_of_renovation",
                    "no_information",
                    "no_information",
                    "need_of_renovation",
                    "mint_condition",
                    "modernized",
                    "no_information",
                    "mint_condition",
                    "mint_condition",
                    "first_time_use",
                    "first_time_use",
                    "no_information",
                    "mint_condition",
                    "first_time_use",
                    "first_time_use",
                    "no_information",
                    "modernized",
                    "no_information",
                    "no_information",
                    "no_information",
                    "mint_condition",
                    "mint_condition",
                    "first_time_use_after_refurbishment",
                    "well_kept",
                    "mint_condition",
                    "no_information",
                    "no_information",
                    "well_kept",
                    "well_kept",
                    "well_kept",
                    "first_time_use_after_refurbishment",
                    "first_time_use",
                    "well_kept",
                    "no_information",
                    "mint_condition",
                    "no_information",
                    "refurbished",
                    "first_time_use",
                    "mint_condition",
                    "first_time_use",
                    "no_information",
                    "mint_condition",
                    "first_time_use",
                    "first_time_use",
                    "first_time_use_after_refurbishment",
                    "mint_condition",
                    "first_time_use",
                    "fully_renovated",
                    "no_information",
                    "no_information",
                    "well_kept",
                    "well_kept",
                    "well_kept",
                    "no_information",
                    "well_kept",
                    "well_kept",
                    "first_time_use",
                    "refurbished",
                    "first_time_use",
                    "well_kept",
                    "well_kept",
                    "no_information",
                    "well_kept",
                    "refurbished",
                    "first_time_use_after_refurbishment",
                    "refurbished",
                    "no_information",
                    "first_time_use",
                    "first_time_use_after_refurbishment",
                    "well_kept",
                    "no_information",
                    "no_information",
                    "first_time_use_after_refurbishment",
                    "first_time_use_after_refurbishment",
                    "first_time_use",
                    "first_time_use",
                    "first_time_use",
                    "first_time_use",
                    "first_time_use",
                    "well_kept",
                    "first_time_use",
                    "no_information",
                    "first_time_use",
                    "first_time_use",
                    "well_kept",
                    "need_of_renovation",
                    "well_kept",
                    "mint_condition",
                    "well_kept",
                    "mint_condition",
                    "mint_condition",
                    "well_kept",
                    "mint_condition",
                    "well_kept",
                    "well_kept",
                    "well_kept",
                    "well_kept",
                    "first_time_use",
                    "mint_condition",
                    "no_information",
                    "first_time_use_after_refurbishment",
                    "well_kept",
                    "first_time_use",
                    "well_kept",
                    "first_time_use_after_refurbishment",
                    "refurbished",
                    "first_time_use",
                    "no_information",
                    "no_information",
                    "mint_condition",
                    "no_information",
                    "first_time_use",
                    "first_time_use",
                    "mint_condition",
                    "no_information",
                    "first_time_use",
                    "mint_condition",
                    "mint_condition",
                    "no_information",
                    "first_time_use_after_refurbishment",
                    "no_information",
                    "mint_condition",
                    "no_information",
                    "well_kept",
                    "well_kept",
                    "mint_condition",
                    "no_information",
                    "mint_condition",
                    "no_information",
                    "no_information",
                    "no_information",
                    "mint_condition",
                    "mint_condition",
                    "mint_condition",
                    "no_information",
                    "mint_condition",
                    "mint_condition",
                    "mint_condition",
                    "first_time_use",
                    "well_kept",
                    "first_time_use_after_refurbishment",
                    "first_time_use_after_refurbishment",
                    "first_time_use_after_refurbishment",
                    "well_kept",
                    "mint_condition",
                    "well_kept",
                    "first_time_use_after_refurbishment",
                    "mint_condition",
                    "fully_renovated",
                    "first_time_use",
                    "no_information",
                    "mint_condition",
                    "first_time_use",
                    "mint_condition",
                    "first_time_use",
                    "refurbished",
                    "first_time_use",
                    "mint_condition",
                    "fully_renovated",
                    "mint_condition",
                    "first_time_use",
                    "modernized",
                    "first_time_use",
                    "modernized",
                    "fully_renovated",
                    "first_time_use",
                    "first_time_use_after_refurbishment",
                    "first_time_use",
                    "mint_condition",
                    "mint_condition",
                    "mint_condition",
                    "first_time_use",
                    "mint_condition",
                    "first_time_use",
                    "mint_condition",
                    "first_time_use",
                    "mint_condition",
                    "first_time_use",
                    "fully_renovated",
                    "first_time_use",
                    "fully_renovated",
                    "well_kept",
                    "fully_renovated",
                    "first_time_use",
                    "first_time_use",
                    "well_kept",
                    "refurbished",
                    "first_time_use",
                    "first_time_use",
                    "well_kept",
                    "well_kept",
                    "first_time_use_after_refurbishment",
                    "first_time_use_after_refurbishment",
                    "no_information",
                    "mint_condition",
                    "mint_condition",
                    "mint_condition",
                    "first_time_use",
                    "first_time_use",
                    "first_time_use",
                    "fully_renovated",
                    "first_time_use",
                    "first_time_use",
                    "first_time_use",
                    "first_time_use",
                    "first_time_use",
                    "modernized",
                    "first_time_use_after_refurbishment",
                    "no_information",
                    "refurbished",
                    "well_kept",
                    "first_time_use",
                    "fully_renovated",
                    "well_kept",
                    "mint_condition",
                    "first_time_use",
                    "first_time_use",
                    "well_kept",
                    "well_kept",
                    "first_time_use",
                    "refurbished",
                    "modernized",
                    "refurbished",
                    "first_time_use",
                    "mint_condition",
                    "well_kept",
                    "mint_condition",
                    "modernized",
                    "refurbished",
                    "refurbished",
                    "refurbished",
                    "modernized",
                    "refurbished",
                    "modernized",
                    "refurbished",
                    "no_information",
                    "fully_renovated",
                    "refurbished",
                    "fully_renovated",
                    "fully_renovated",
                    "modernized",
                    "modernized",
                    "modernized",
                    "first_time_use",
                    "no_information",
                    "mint_condition",
                    "modernized",
                    "modernized",
                    "first_time_use",
                    "fully_renovated",
                    "modernized",
                    "modernized",
                    "first_time_use",
                    "first_time_use",
                    "first_time_use",
                    "first_time_use",
                    "no_information",
                    "first_time_use",
                    "mint_condition",
                    "first_time_use",
                    "first_time_use",
                    "first_time_use",
                    "first_time_use",
                    "first_time_use",
                    "first_time_use",
                    "first_time_use",
                    "no_information",
                    "fully_renovated",
                    "modernized",
                    "first_time_use",
                    "mint_condition",
                    "first_time_use",
                    "first_time_use",
                    "first_time_use",
                    "no_information",
                    "first_time_use_after_refurbishment",
                    "first_time_use",
                    "no_information",
                    "refurbished",
                    "first_time_use",
                    "fully_renovated",
                    "first_time_use",
                    "fully_renovated",
                    "first_time_use",
                    "refurbished",
                    "mint_condition",
                    "well_kept",
                    "first_time_use",
                    "well_kept",
                    "well_kept",
                    "first_time_use",
                    "mint_condition",
                    "well_kept",
                    "first_time_use",
                    "refurbished",
                    "no_information",
                    "no_information",
                    "refurbished",
                    "no_information",
                    "first_time_use",
                    "first_time_use",
                    "modernized",
                    "first_time_use_after_refurbishment",
                    "well_kept",
                    "no_information",
                    "first_time_use",
                    "first_time_use",
                    "first_time_use",
                    "mint_condition",
                    "first_time_use_after_refurbishment",
                    "first_time_use",
                    "no_information",
                    "well_kept",
                    "mint_condition",
                    "well_kept",
                    "modernized",
                    "first_time_use",
                    "well_kept",
                    "well_kept",
                    "first_time_use",
                    "first_time_use",
                    "refurbished",
                    "no_information",
                    "first_time_use",
                    "modernized",
                    "first_time_use",
                    "first_time_use",
                    "mint_condition",
                    "first_time_use",
                    "first_time_use",
                    "first_time_use",
                    "first_time_use",
                    "well_kept",
                    "modernized",
                    "well_kept",
                    "modernized",
                    "well_kept",
                    "refurbished",
                    "well_kept",
                    "no_information",
                    "fully_renovated",
                    "well_kept",
                    "mint_condition",
                    "well_kept",
                    "well_kept",
                    "first_time_use",
                    "mint_condition",
                    "refurbished",
                    "first_time_use",
                    "well_kept",
                    "mint_condition",
                    "fully_renovated",
                    "well_kept",
                    "first_time_use",
                    "first_time_use",
                    "modernized",
                    "mint_condition",
                    "well_kept",
                    "first_time_use",
                    "fully_renovated",
                    "first_time_use",
                    "no_information",
                    "first_time_use",
                    "first_time_use",
                    "no_information",
                    "no_information",
                    "first_time_use",
                    "first_time_use",
                    "first_time_use",
                    "first_time_use",
                    "first_time_use",
                    "first_time_use",
                    "first_time_use",
                    "well_kept",
                    "mint_condition",
                    "first_time_use",
                    "well_kept",
                    "mint_condition",
                    "first_time_use_after_refurbishment",
                    "first_time_use",
                    "well_kept",
                    "fully_renovated",
                    "no_information",
                    "first_time_use",
                    "first_time_use",
                    "mint_condition",
                    "first_time_use",
                    "first_time_use",
                    "first_time_use",
                    "first_time_use",
                    "first_time_use",
                    "first_time_use",
                    "mint_condition",
                    "no_information",
                    "mint_condition",
                    "first_time_use",
                    "first_time_use",
                    "first_time_use",
                    "first_time_use",
                    "refurbished",
                    "first_time_use",
                    "first_time_use",
                    "first_time_use",
                    "fully_renovated",
                    "mint_condition",
                    "first_time_use",
                    "no_information",
                    "no_information",
                    "fully_renovated",
                    "mint_condition",
                    "first_time_use",
                    "refurbished",
                    "refurbished",
                    "refurbished",
                    "first_time_use",
                    "refurbished",
                    "mint_condition",
                    "refurbished",
                    "first_time_use",
                    "first_time_use",
                    "first_time_use",
                    "first_time_use",
                    "mint_condition",
                    "no_information",
                    "first_time_use",
                    "first_time_use",
                    "no_information",
                    "first_time_use",
                    "mint_condition",
                    "well_kept",
                    "first_time_use",
                    "first_time_use",
                    "first_time_use",
                    "well_kept",
                    "first_time_use",
                    "first_time_use",
                    "mint_condition",
                    "first_time_use",
                    "first_time_use",
                    "first_time_use",
                    "first_time_use",
                    "first_time_use",
                    "first_time_use",
                    "first_time_use",
                    "first_time_use_after_refurbishment",
                    "first_time_use",
                    "first_time_use",
                    "first_time_use",
                    "first_time_use",
                    "first_time_use",
                    "first_time_use",
                    "first_time_use",
                    "first_time_use",
                    "first_time_use",
                    "mint_condition",
                    "first_time_use",
                    "first_time_use",
                    "well_kept",
                    "refurbished",
                    "first_time_use",
                    "first_time_use_after_refurbishment",
                    "no_information",
                    "well_kept",
                    "first_time_use",
                    "no_information",
                    "first_time_use",
                    "refurbished",
                    "first_time_use",
                    "first_time_use",
                    "refurbished",
                    "first_time_use",
                    "refurbished",
                    "mint_condition",
                    "first_time_use",
                    "first_time_use",
                    "first_time_use",
                    "refurbished",
                    "first_time_use",
                    "no_information",
                    "first_time_use",
                    "first_time_use",
                    "first_time_use",
                    "mint_condition",
                    "first_time_use",
                    "first_time_use",
                    "first_time_use",
                    "first_time_use",
                    "first_time_use",
                    "first_time_use",
                    "first_time_use",
                    "first_time_use",
                    "first_time_use",
                    "first_time_use",
                    "first_time_use",
                    "modernized",
                    "refurbished",
                    "well_kept",
                    "first_time_use",
                    "first_time_use",
                    "no_information",
                    "first_time_use",
                    "fully_renovated",
                    "first_time_use",
                    "first_time_use",
                    "first_time_use",
                    "first_time_use",
                    "no_information",
                    "first_time_use_after_refurbishment",
                    "no_information",
                    "first_time_use",
                    "first_time_use",
                    "refurbished",
                    "no_information",
                    "first_time_use_after_refurbishment",
                    "no_information",
                    "mint_condition",
                    "first_time_use",
                    "refurbished",
                    "first_time_use_after_refurbishment",
                    "first_time_use",
                    "first_time_use",
                    "first_time_use",
                    "first_time_use",
                    "first_time_use",
                    "mint_condition",
                    "no_information",
                    "first_time_use",
                    "fully_renovated",
                    "first_time_use",
                    "first_time_use",
                    "refurbished",
                    "no_information",
                    "first_time_use",
                    "no_information",
                    "first_time_use",
                    "first_time_use",
                    "first_time_use",
                    "no_information",
                    "first_time_use",
                    "mint_condition",
                    "refurbished",
                    "no_information",
                    "first_time_use",
                    "no_information",
                    "mint_condition",
                    "no_information",
                    "no_information",
                    "first_time_use",
                    "first_time_use",
                    "mint_condition",
                    "mint_condition",
                    "mint_condition",
                    "mint_condition",
                    "well_kept",
                    "mint_condition",
                    "mint_condition",
                    "well_kept",
                    "well_kept",
                    "no_information",
                    "no_information",
                    "mint_condition",
                    "mint_condition",
                    "mint_condition",
                    "mint_condition",
                    "mint_condition",
                    "fully_renovated",
                    "mint_condition",
                    "mint_condition",
                    "mint_condition",
                    "mint_condition",
                    "no_information",
                    "no_information",
                    "no_information",
                    "first_time_use",
                    "mint_condition",
                    "no_information",
                    "modernized",
                    "mint_condition",
                    "well_kept",
                    "modernized",
                    "mint_condition",
                    "mint_condition",
                    "mint_condition",
                    "well_kept",
                    "fully_renovated"
                  ],
                  "type": "bar",
                  "name": "Condition"
                }
              ],
              "config": {
                "plotlyServerURL": "https://plot.ly",
                "linkText": "Export to plot.ly",
                "showLink": false
              },
              "layout": {
                "barmode": "relative",
                "yaxis": {
                  "title": {
                    "text": "Count of Condition"
                  }
                },
                "xaxis": {
                  "title": {
                    "text": "Regions"
                  }
                },
                "template": {
                  "layout": {
                    "shapedefaults": {
                      "line": {
                        "color": "#2a3f5f"
                      }
                    },
                    "polar": {
                      "radialaxis": {
                        "ticks": "",
                        "gridcolor": "white",
                        "linecolor": "white"
                      },
                      "bgcolor": "#E5ECF6",
                      "angularaxis": {
                        "ticks": "",
                        "gridcolor": "white",
                        "linecolor": "white"
                      }
                    },
                    "colorway": [
                      "#636efa",
                      "#EF553B",
                      "#00cc96",
                      "#ab63fa",
                      "#FFA15A",
                      "#19d3f3",
                      "#FF6692",
                      "#B6E880",
                      "#FF97FF",
                      "#FECB52"
                    ],
                    "xaxis": {
                      "automargin": true,
                      "title": {
                        "standoff": 15
                      },
                      "zerolinewidth": 2,
                      "ticks": "",
                      "zerolinecolor": "white",
                      "gridcolor": "white",
                      "linecolor": "white"
                    },
                    "colorscale": {
                      "diverging": [
                        [
                          0,
                          "#8e0152"
                        ],
                        [
                          0.1,
                          "#c51b7d"
                        ],
                        [
                          0.2,
                          "#de77ae"
                        ],
                        [
                          0.3,
                          "#f1b6da"
                        ],
                        [
                          0.4,
                          "#fde0ef"
                        ],
                        [
                          0.5,
                          "#f7f7f7"
                        ],
                        [
                          0.6,
                          "#e6f5d0"
                        ],
                        [
                          0.7,
                          "#b8e186"
                        ],
                        [
                          0.8,
                          "#7fbc41"
                        ],
                        [
                          0.9,
                          "#4d9221"
                        ],
                        [
                          1,
                          "#276419"
                        ]
                      ],
                      "sequential": [
                        [
                          0,
                          "#0d0887"
                        ],
                        [
                          0.1111111111111111,
                          "#46039f"
                        ],
                        [
                          0.2222222222222222,
                          "#7201a8"
                        ],
                        [
                          0.3333333333333333,
                          "#9c179e"
                        ],
                        [
                          0.4444444444444444,
                          "#bd3786"
                        ],
                        [
                          0.5555555555555556,
                          "#d8576b"
                        ],
                        [
                          0.6666666666666666,
                          "#ed7953"
                        ],
                        [
                          0.7777777777777778,
                          "#fb9f3a"
                        ],
                        [
                          0.8888888888888888,
                          "#fdca26"
                        ],
                        [
                          1,
                          "#f0f921"
                        ]
                      ],
                      "sequentialminus": [
                        [
                          0,
                          "#0d0887"
                        ],
                        [
                          0.1111111111111111,
                          "#46039f"
                        ],
                        [
                          0.2222222222222222,
                          "#7201a8"
                        ],
                        [
                          0.3333333333333333,
                          "#9c179e"
                        ],
                        [
                          0.4444444444444444,
                          "#bd3786"
                        ],
                        [
                          0.5555555555555556,
                          "#d8576b"
                        ],
                        [
                          0.6666666666666666,
                          "#ed7953"
                        ],
                        [
                          0.7777777777777778,
                          "#fb9f3a"
                        ],
                        [
                          0.8888888888888888,
                          "#fdca26"
                        ],
                        [
                          1,
                          "#f0f921"
                        ]
                      ]
                    },
                    "paper_bgcolor": "white",
                    "plot_bgcolor": "#E5ECF6",
                    "title": {
                      "x": 0.05
                    },
                    "scene": {
                      "zaxis": {
                        "backgroundcolor": "#E5ECF6",
                        "ticks": "",
                        "gridwidth": 2,
                        "showbackground": true,
                        "zerolinecolor": "white",
                        "gridcolor": "white",
                        "linecolor": "white"
                      },
                      "xaxis": {
                        "backgroundcolor": "#E5ECF6",
                        "ticks": "",
                        "gridwidth": 2,
                        "showbackground": true,
                        "zerolinecolor": "white",
                        "gridcolor": "white",
                        "linecolor": "white"
                      },
                      "yaxis": {
                        "backgroundcolor": "#E5ECF6",
                        "ticks": "",
                        "gridwidth": 2,
                        "showbackground": true,
                        "zerolinecolor": "white",
                        "gridcolor": "white",
                        "linecolor": "white"
                      }
                    },
                    "yaxis": {
                      "automargin": true,
                      "title": {
                        "standoff": 15
                      },
                      "zerolinewidth": 2,
                      "ticks": "",
                      "zerolinecolor": "white",
                      "gridcolor": "white",
                      "linecolor": "white"
                    },
                    "annotationdefaults": {
                      "arrowwidth": 1,
                      "arrowhead": 0,
                      "arrowcolor": "#2a3f5f"
                    },
                    "hoverlabel": {
                      "align": "left"
                    },
                    "ternary": {
                      "bgcolor": "#E5ECF6",
                      "baxis": {
                        "ticks": "",
                        "gridcolor": "white",
                        "linecolor": "white"
                      },
                      "caxis": {
                        "ticks": "",
                        "gridcolor": "white",
                        "linecolor": "white"
                      },
                      "aaxis": {
                        "ticks": "",
                        "gridcolor": "white",
                        "linecolor": "white"
                      }
                    },
                    "mapbox": {
                      "style": "light"
                    },
                    "hovermode": "closest",
                    "font": {
                      "color": "#2a3f5f"
                    },
                    "geo": {
                      "showland": true,
                      "landcolor": "#E5ECF6",
                      "showlakes": true,
                      "bgcolor": "white",
                      "subunitcolor": "white",
                      "lakecolor": "white"
                    },
                    "coloraxis": {
                      "colorbar": {
                        "outlinewidth": 0,
                        "ticks": ""
                      }
                    }
                  },
                  "data": {
                    "mesh3d": [
                      {
                        "colorbar": {
                          "outlinewidth": 0,
                          "ticks": ""
                        },
                        "type": "mesh3d"
                      }
                    ],
                    "scattercarpet": [
                      {
                        "marker": {
                          "colorbar": {
                            "outlinewidth": 0,
                            "ticks": ""
                          }
                        },
                        "type": "scattercarpet"
                      }
                    ],
                    "pie": [
                      {
                        "automargin": true,
                        "type": "pie"
                      }
                    ],
                    "surface": [
                      {
                        "colorbar": {
                          "outlinewidth": 0,
                          "ticks": ""
                        },
                        "type": "surface",
                        "colorscale": [
                          [
                            0,
                            "#0d0887"
                          ],
                          [
                            0.1111111111111111,
                            "#46039f"
                          ],
                          [
                            0.2222222222222222,
                            "#7201a8"
                          ],
                          [
                            0.3333333333333333,
                            "#9c179e"
                          ],
                          [
                            0.4444444444444444,
                            "#bd3786"
                          ],
                          [
                            0.5555555555555556,
                            "#d8576b"
                          ],
                          [
                            0.6666666666666666,
                            "#ed7953"
                          ],
                          [
                            0.7777777777777778,
                            "#fb9f3a"
                          ],
                          [
                            0.8888888888888888,
                            "#fdca26"
                          ],
                          [
                            1,
                            "#f0f921"
                          ]
                        ]
                      }
                    ],
                    "table": [
                      {
                        "header": {
                          "line": {
                            "color": "white"
                          },
                          "fill": {
                            "color": "#C8D4E3"
                          }
                        },
                        "cells": {
                          "line": {
                            "color": "white"
                          },
                          "fill": {
                            "color": "#EBF0F8"
                          }
                        },
                        "type": "table"
                      }
                    ],
                    "scatterpolargl": [
                      {
                        "marker": {
                          "colorbar": {
                            "outlinewidth": 0,
                            "ticks": ""
                          }
                        },
                        "type": "scatterpolargl"
                      }
                    ],
                    "contour": [
                      {
                        "colorbar": {
                          "outlinewidth": 0,
                          "ticks": ""
                        },
                        "type": "contour",
                        "colorscale": [
                          [
                            0,
                            "#0d0887"
                          ],
                          [
                            0.1111111111111111,
                            "#46039f"
                          ],
                          [
                            0.2222222222222222,
                            "#7201a8"
                          ],
                          [
                            0.3333333333333333,
                            "#9c179e"
                          ],
                          [
                            0.4444444444444444,
                            "#bd3786"
                          ],
                          [
                            0.5555555555555556,
                            "#d8576b"
                          ],
                          [
                            0.6666666666666666,
                            "#ed7953"
                          ],
                          [
                            0.7777777777777778,
                            "#fb9f3a"
                          ],
                          [
                            0.8888888888888888,
                            "#fdca26"
                          ],
                          [
                            1,
                            "#f0f921"
                          ]
                        ]
                      }
                    ],
                    "carpet": [
                      {
                        "type": "carpet",
                        "baxis": {
                          "minorgridcolor": "white",
                          "gridcolor": "white",
                          "linecolor": "white",
                          "endlinecolor": "#2a3f5f",
                          "startlinecolor": "#2a3f5f"
                        },
                        "aaxis": {
                          "minorgridcolor": "white",
                          "gridcolor": "white",
                          "linecolor": "white",
                          "endlinecolor": "#2a3f5f",
                          "startlinecolor": "#2a3f5f"
                        }
                      }
                    ],
                    "contourcarpet": [
                      {
                        "colorbar": {
                          "outlinewidth": 0,
                          "ticks": ""
                        },
                        "type": "contourcarpet"
                      }
                    ],
                    "heatmap": [
                      {
                        "colorbar": {
                          "outlinewidth": 0,
                          "ticks": ""
                        },
                        "type": "heatmap",
                        "colorscale": [
                          [
                            0,
                            "#0d0887"
                          ],
                          [
                            0.1111111111111111,
                            "#46039f"
                          ],
                          [
                            0.2222222222222222,
                            "#7201a8"
                          ],
                          [
                            0.3333333333333333,
                            "#9c179e"
                          ],
                          [
                            0.4444444444444444,
                            "#bd3786"
                          ],
                          [
                            0.5555555555555556,
                            "#d8576b"
                          ],
                          [
                            0.6666666666666666,
                            "#ed7953"
                          ],
                          [
                            0.7777777777777778,
                            "#fb9f3a"
                          ],
                          [
                            0.8888888888888888,
                            "#fdca26"
                          ],
                          [
                            1,
                            "#f0f921"
                          ]
                        ]
                      }
                    ],
                    "scattermapbox": [
                      {
                        "marker": {
                          "colorbar": {
                            "outlinewidth": 0,
                            "ticks": ""
                          }
                        },
                        "type": "scattermapbox"
                      }
                    ],
                    "scatter3d": [
                      {
                        "marker": {
                          "colorbar": {
                            "outlinewidth": 0,
                            "ticks": ""
                          }
                        },
                        "line": {
                          "colorbar": {
                            "outlinewidth": 0,
                            "ticks": ""
                          }
                        },
                        "type": "scatter3d"
                      }
                    ],
                    "scattergl": [
                      {
                        "marker": {
                          "colorbar": {
                            "outlinewidth": 0,
                            "ticks": ""
                          }
                        },
                        "type": "scattergl"
                      }
                    ],
                    "scatterternary": [
                      {
                        "marker": {
                          "colorbar": {
                            "outlinewidth": 0,
                            "ticks": ""
                          }
                        },
                        "type": "scatterternary"
                      }
                    ],
                    "histogram": [
                      {
                        "marker": {
                          "colorbar": {
                            "outlinewidth": 0,
                            "ticks": ""
                          }
                        },
                        "type": "histogram"
                      }
                    ],
                    "heatmapgl": [
                      {
                        "colorbar": {
                          "outlinewidth": 0,
                          "ticks": ""
                        },
                        "type": "heatmapgl",
                        "colorscale": [
                          [
                            0,
                            "#0d0887"
                          ],
                          [
                            0.1111111111111111,
                            "#46039f"
                          ],
                          [
                            0.2222222222222222,
                            "#7201a8"
                          ],
                          [
                            0.3333333333333333,
                            "#9c179e"
                          ],
                          [
                            0.4444444444444444,
                            "#bd3786"
                          ],
                          [
                            0.5555555555555556,
                            "#d8576b"
                          ],
                          [
                            0.6666666666666666,
                            "#ed7953"
                          ],
                          [
                            0.7777777777777778,
                            "#fb9f3a"
                          ],
                          [
                            0.8888888888888888,
                            "#fdca26"
                          ],
                          [
                            1,
                            "#f0f921"
                          ]
                        ]
                      }
                    ],
                    "scatterpolar": [
                      {
                        "marker": {
                          "colorbar": {
                            "outlinewidth": 0,
                            "ticks": ""
                          }
                        },
                        "type": "scatterpolar"
                      }
                    ],
                    "histogram2d": [
                      {
                        "colorbar": {
                          "outlinewidth": 0,
                          "ticks": ""
                        },
                        "type": "histogram2d",
                        "colorscale": [
                          [
                            0,
                            "#0d0887"
                          ],
                          [
                            0.1111111111111111,
                            "#46039f"
                          ],
                          [
                            0.2222222222222222,
                            "#7201a8"
                          ],
                          [
                            0.3333333333333333,
                            "#9c179e"
                          ],
                          [
                            0.4444444444444444,
                            "#bd3786"
                          ],
                          [
                            0.5555555555555556,
                            "#d8576b"
                          ],
                          [
                            0.6666666666666666,
                            "#ed7953"
                          ],
                          [
                            0.7777777777777778,
                            "#fb9f3a"
                          ],
                          [
                            0.8888888888888888,
                            "#fdca26"
                          ],
                          [
                            1,
                            "#f0f921"
                          ]
                        ]
                      }
                    ],
                    "scattergeo": [
                      {
                        "marker": {
                          "colorbar": {
                            "outlinewidth": 0,
                            "ticks": ""
                          }
                        },
                        "type": "scattergeo"
                      }
                    ],
                    "bar": [
                      {
                        "marker": {
                          "line": {
                            "color": "#E5ECF6",
                            "width": 0.5
                          }
                        },
                        "type": "bar",
                        "error_x": {
                          "color": "#2a3f5f"
                        },
                        "error_y": {
                          "color": "#2a3f5f"
                        }
                      }
                    ],
                    "choropleth": [
                      {
                        "colorbar": {
                          "outlinewidth": 0,
                          "ticks": ""
                        },
                        "type": "choropleth"
                      }
                    ],
                    "parcoords": [
                      {
                        "line": {
                          "colorbar": {
                            "outlinewidth": 0,
                            "ticks": ""
                          }
                        },
                        "type": "parcoords"
                      }
                    ],
                    "barpolar": [
                      {
                        "marker": {
                          "line": {
                            "color": "#E5ECF6",
                            "width": 0.5
                          }
                        },
                        "type": "barpolar"
                      }
                    ],
                    "histogram2dcontour": [
                      {
                        "colorbar": {
                          "outlinewidth": 0,
                          "ticks": ""
                        },
                        "type": "histogram2dcontour",
                        "colorscale": [
                          [
                            0,
                            "#0d0887"
                          ],
                          [
                            0.1111111111111111,
                            "#46039f"
                          ],
                          [
                            0.2222222222222222,
                            "#7201a8"
                          ],
                          [
                            0.3333333333333333,
                            "#9c179e"
                          ],
                          [
                            0.4444444444444444,
                            "#bd3786"
                          ],
                          [
                            0.5555555555555556,
                            "#d8576b"
                          ],
                          [
                            0.6666666666666666,
                            "#ed7953"
                          ],
                          [
                            0.7777777777777778,
                            "#fb9f3a"
                          ],
                          [
                            0.8888888888888888,
                            "#fdca26"
                          ],
                          [
                            1,
                            "#f0f921"
                          ]
                        ]
                      }
                    ],
                    "scatter": [
                      {
                        "marker": {
                          "colorbar": {
                            "outlinewidth": 0,
                            "ticks": ""
                          }
                        },
                        "type": "scatter"
                      }
                    ]
                  }
                },
                "title": {
                  "text": "Total count of Condition"
                }
              }
            }
          },
          "metadata": {
            "tags": []
          }
        }
      ]
    },
    {
      "cell_type": "markdown",
      "metadata": {
        "id": "ENwCT7XBWumX"
      },
      "source": [
        "#**Let's recommend a good flat to Jane!**\n",
        "My friend Jane is looking for a flat. She is still a student and cannot afford an expensive flat. Are there flats with a rent less than 500€ and more than 25 sqm (Space). She would like to move to Kreuzberg, Wedding, Prenzlauer Berg or Mitte. Any flats available for her? Is there a flat with two rooms and these constraints?\n",
        "\n",
        "Did you find any suitable flats? Send me the url via Slack!"
      ]
    },
    {
      "cell_type": "code",
      "metadata": {
        "id": "rGLlDILn01lA",
        "colab": {
          "base_uri": "https://localhost:8080/",
          "height": 80
        },
        "outputId": "f5ae7ea8-16aa-4af7-f3fe-fa7213b63392"
      },
      "source": [
        "rentals[(rentals['Rent']< 500) & (rentals['Space'] > 25) & \n",
        "        ((rentals['Region'] == \"Kreuzberg\") | (rentals['Region'] == \"Wedding\")| \n",
        "         (rentals['Region'] == \"Prenzlauer Berg\")| (rentals['Region'] == \"Mitte\")) &  \n",
        "        (rentals['Rooms'] == 2)]"
      ],
      "execution_count": 29,
      "outputs": [
        {
          "output_type": "execute_result",
          "data": {
            "text/html": [
              "<div>\n",
              "<style scoped>\n",
              "    .dataframe tbody tr th:only-of-type {\n",
              "        vertical-align: middle;\n",
              "    }\n",
              "\n",
              "    .dataframe tbody tr th {\n",
              "        vertical-align: top;\n",
              "    }\n",
              "\n",
              "    .dataframe thead th {\n",
              "        text-align: right;\n",
              "    }\n",
              "</style>\n",
              "<table border=\"1\" class=\"dataframe\">\n",
              "  <thead>\n",
              "    <tr style=\"text-align: right;\">\n",
              "      <th></th>\n",
              "      <th>URL</th>\n",
              "      <th>Region</th>\n",
              "      <th>Condition</th>\n",
              "      <th>Rooms</th>\n",
              "      <th>Rent</th>\n",
              "      <th>Year_Construction</th>\n",
              "      <th>Space</th>\n",
              "      <th>Per_sqr_meter</th>\n",
              "    </tr>\n",
              "  </thead>\n",
              "  <tbody>\n",
              "    <tr>\n",
              "      <th>97</th>\n",
              "      <td>https://www.immobilienscout24.de/expose/116697084</td>\n",
              "      <td>Wedding</td>\n",
              "      <td>no_information</td>\n",
              "      <td>2.0</td>\n",
              "      <td>383.46</td>\n",
              "      <td>1890</td>\n",
              "      <td>48.23</td>\n",
              "      <td>7.950653</td>\n",
              "    </tr>\n",
              "  </tbody>\n",
              "</table>\n",
              "</div>"
            ],
            "text/plain": [
              "                                                  URL  ... Per_sqr_meter\n",
              "97  https://www.immobilienscout24.de/expose/116697084  ...      7.950653\n",
              "\n",
              "[1 rows x 8 columns]"
            ]
          },
          "metadata": {
            "tags": []
          },
          "execution_count": 29
        }
      ]
    },
    {
      "cell_type": "markdown",
      "metadata": {
        "id": "v_ZP85iH0d4l"
      },
      "source": [
        "## **My recommendations to Jane:**\n",
        "Hi Jane,\n",
        "So i filtered the search based on your request and most important criteria (Rent, Space, Region, No. of rooms) and I can recommend a 48.23m2, two bedroom apartment in Wedding at a rental cost of 383.46 Euros per month. Here is the URL for the Ad; https://www.immobilienscout24.de/expose/116697084"
      ]
    },
    {
      "cell_type": "markdown",
      "metadata": {
        "id": "pQ4giC1YE4eq"
      },
      "source": [
        "# **ML Prediction**"
      ]
    },
    {
      "cell_type": "markdown",
      "metadata": {
        "id": "gKGdfxsNOwVZ"
      },
      "source": [
        "## **Predicting Year of Construction on rental price**"
      ]
    },
    {
      "cell_type": "code",
      "metadata": {
        "id": "DMOu8qPqBeSH",
        "colab": {
          "base_uri": "https://localhost:8080/",
          "height": 204
        },
        "outputId": "a09138c8-da14-47df-92da-217e77f076de"
      },
      "source": [
        "rentals.head()"
      ],
      "execution_count": 30,
      "outputs": [
        {
          "output_type": "execute_result",
          "data": {
            "text/html": [
              "<div>\n",
              "<style scoped>\n",
              "    .dataframe tbody tr th:only-of-type {\n",
              "        vertical-align: middle;\n",
              "    }\n",
              "\n",
              "    .dataframe tbody tr th {\n",
              "        vertical-align: top;\n",
              "    }\n",
              "\n",
              "    .dataframe thead th {\n",
              "        text-align: right;\n",
              "    }\n",
              "</style>\n",
              "<table border=\"1\" class=\"dataframe\">\n",
              "  <thead>\n",
              "    <tr style=\"text-align: right;\">\n",
              "      <th></th>\n",
              "      <th>URL</th>\n",
              "      <th>Region</th>\n",
              "      <th>Condition</th>\n",
              "      <th>Rooms</th>\n",
              "      <th>Rent</th>\n",
              "      <th>Year_Construction</th>\n",
              "      <th>Space</th>\n",
              "      <th>Per_sqr_meter</th>\n",
              "    </tr>\n",
              "  </thead>\n",
              "  <tbody>\n",
              "    <tr>\n",
              "      <th>0</th>\n",
              "      <td>https://www.immobilienscout24.de/expose/116051687</td>\n",
              "      <td>Mitte</td>\n",
              "      <td>first_time_use</td>\n",
              "      <td>4.0</td>\n",
              "      <td>2659.00</td>\n",
              "      <td>2019</td>\n",
              "      <td>117.20</td>\n",
              "      <td>22.687713</td>\n",
              "    </tr>\n",
              "    <tr>\n",
              "      <th>1</th>\n",
              "      <td>https://www.immobilienscout24.de/expose/115338103</td>\n",
              "      <td>Kreuzberg</td>\n",
              "      <td>first_time_use</td>\n",
              "      <td>1.0</td>\n",
              "      <td>1200.00</td>\n",
              "      <td>2020</td>\n",
              "      <td>29.33</td>\n",
              "      <td>40.913740</td>\n",
              "    </tr>\n",
              "    <tr>\n",
              "      <th>2</th>\n",
              "      <td>https://www.immobilienscout24.de/expose/116458710</td>\n",
              "      <td>Köpenick</td>\n",
              "      <td>well_kept</td>\n",
              "      <td>2.0</td>\n",
              "      <td>979.00</td>\n",
              "      <td>1997</td>\n",
              "      <td>83.61</td>\n",
              "      <td>11.709126</td>\n",
              "    </tr>\n",
              "    <tr>\n",
              "      <th>3</th>\n",
              "      <td>https://www.immobilienscout24.de/expose/116573177</td>\n",
              "      <td>Wilmersdorf</td>\n",
              "      <td>well_kept</td>\n",
              "      <td>4.0</td>\n",
              "      <td>1830.22</td>\n",
              "      <td>1900</td>\n",
              "      <td>171.18</td>\n",
              "      <td>10.691786</td>\n",
              "    </tr>\n",
              "    <tr>\n",
              "      <th>4</th>\n",
              "      <td>https://www.immobilienscout24.de/expose/115925878</td>\n",
              "      <td>Kreuzberg</td>\n",
              "      <td>first_time_use</td>\n",
              "      <td>2.0</td>\n",
              "      <td>2272.00</td>\n",
              "      <td>2020</td>\n",
              "      <td>88.27</td>\n",
              "      <td>25.739209</td>\n",
              "    </tr>\n",
              "  </tbody>\n",
              "</table>\n",
              "</div>"
            ],
            "text/plain": [
              "                                                 URL  ... Per_sqr_meter\n",
              "0  https://www.immobilienscout24.de/expose/116051687  ...     22.687713\n",
              "1  https://www.immobilienscout24.de/expose/115338103  ...     40.913740\n",
              "2  https://www.immobilienscout24.de/expose/116458710  ...     11.709126\n",
              "3  https://www.immobilienscout24.de/expose/116573177  ...     10.691786\n",
              "4  https://www.immobilienscout24.de/expose/115925878  ...     25.739209\n",
              "\n",
              "[5 rows x 8 columns]"
            ]
          },
          "metadata": {
            "tags": []
          },
          "execution_count": 30
        }
      ]
    },
    {
      "cell_type": "code",
      "metadata": {
        "id": "PC8_mjRWPBLX"
      },
      "source": [
        "#We can use the get_dummies function of the pandas library in order to convert a column to its one hot encoded version.\n",
        "dummy = pd.get_dummies(rentals['Region'])\n",
        "\n",
        "# We merge the new results again into a new dataframe\n",
        "rentals = pd.concat([rentals,dummy],axis=1)\n",
        "\n",
        "# Select the column that we want to teach the algorithm to predict\n",
        "predictors = ['Rooms','Space', 'Per_sqr_meter','Mitte', 'Kreuzberg', 'Köpenick', 'Wilmersdorf', 'Charlottenburg',\n",
        "       'Friedrichsfelde', 'Tiergarten', 'Prenzlauer', 'Wedding',\n",
        "       'Neukölln']\n",
        "\n",
        "X= rentals[predictors]\n",
        "\n",
        "Y= rentals['Rent']"
      ],
      "execution_count": 31,
      "outputs": []
    },
    {
      "cell_type": "code",
      "metadata": {
        "id": "qjyTrpFSPF9w"
      },
      "source": [
        "X_train, X_test, Y_train, Y_test = train_test_split(X, Y, test_size=0.2,random_state=1) "
      ],
      "execution_count": 32,
      "outputs": []
    },
    {
      "cell_type": "code",
      "metadata": {
        "id": "60EK7CklPG2_"
      },
      "source": [
        "clf= LinearRegression()"
      ],
      "execution_count": 33,
      "outputs": []
    },
    {
      "cell_type": "code",
      "metadata": {
        "id": "KRNo0ud9PQgb",
        "colab": {
          "base_uri": "https://localhost:8080/"
        },
        "outputId": "db80616c-ce18-4167-8859-5b91f9c8b13d"
      },
      "source": [
        "#Fit linear model\n",
        "clf.fit(X_train, Y_train)"
      ],
      "execution_count": 34,
      "outputs": [
        {
          "output_type": "execute_result",
          "data": {
            "text/plain": [
              "LinearRegression(copy_X=True, fit_intercept=True, n_jobs=None, normalize=False)"
            ]
          },
          "metadata": {
            "tags": []
          },
          "execution_count": 34
        }
      ]
    },
    {
      "cell_type": "code",
      "metadata": {
        "id": "kxwtBu1qPQj-",
        "colab": {
          "base_uri": "https://localhost:8080/"
        },
        "outputId": "a7e8f736-eb42-4d59-c489-9e03581ba2ea"
      },
      "source": [
        "#Time to Predict using the linear model\n",
        "clf.predict(X_test)"
      ],
      "execution_count": 35,
      "outputs": [
        {
          "output_type": "execute_result",
          "data": {
            "text/plain": [
              "array([ 3356.57730988,  4711.95882754,  3427.51934078,  1932.85637626,\n",
              "        1590.03368491,   940.99911628,  2672.14222033,   871.80124556,\n",
              "        1941.64088365,  4176.67841322,  1737.04448511,  1770.5715767 ,\n",
              "        1427.47596868,  1300.08721397,  3331.45450614,  1141.92399813,\n",
              "        2117.86929248,  1535.24328836,  1082.78906632,  2137.00896512,\n",
              "        1874.58912007,   721.97318509,  2180.88573278,   761.67246598,\n",
              "        1701.11442649,  1753.23156121,  2042.18134729,  1544.43537608,\n",
              "        1635.02840788, 10063.33755351,  4638.66942179,  2911.15050598,\n",
              "        1950.17746833,  1175.06277558,   727.56629312,  1727.61668642,\n",
              "        1411.17388339,  1866.1668872 ,  2025.80135623,  2042.32378929,\n",
              "         987.58713207,  3478.40909439,   267.47765242,   451.119147  ,\n",
              "        1986.99222439,  1655.97120013,   574.28511372,  1763.44366885,\n",
              "         993.27640297,  2494.04393843,  1186.28494964,  1933.07820333,\n",
              "        4370.55247818,   823.59891738,   521.1283869 ,  2627.47704201,\n",
              "        1437.91055675,  2068.23559383,  2085.82947131,  1572.57295926,\n",
              "        4795.88633345,  1148.94405769,   583.38800021,  1447.48191052,\n",
              "        1895.97705808,  2076.94873157,   625.25622887,  1672.01254596,\n",
              "        2247.1690237 ,   858.4977344 ,   984.57023853,  1261.31377358,\n",
              "         496.94302679,  1364.43497447,  1075.60432191,  1547.24931941,\n",
              "         916.99466966,   536.49142537,  1437.91055675,  1395.19123827,\n",
              "        1030.44168651,  2312.93997481,   108.90194574,  1664.93504581,\n",
              "        1159.71554168,  1114.73852183,  4330.45964516,  2641.24518508,\n",
              "        2263.50823021,   915.87596964,   810.97782845,  1625.37201627,\n",
              "        1232.56701307,  1010.99082884,  1610.29675764,  2241.12732227,\n",
              "        1948.473218  ,  1962.49968213,  2826.59576825,   840.77212641,\n",
              "         851.3468542 ,  1093.16768847,  1719.34736619,  2294.77673772,\n",
              "        4819.25389368,  2368.02546937,  1091.62053372,  2838.9397917 ,\n",
              "        1417.60575603,  3000.64326484,   843.73654168,  1725.03242384,\n",
              "        1743.12964456,   801.99737125,  1457.27784294,  2366.89122837,\n",
              "        1398.55370431,  2243.36300763,  1286.43075772,  2037.38093562,\n",
              "        1160.77998801,  2578.56533608,  2911.63280909,  2329.83821549,\n",
              "         973.47171279,  1216.49441766,  3951.30156386,   992.37271502,\n",
              "        2062.10323647,   628.83617524,  2528.07665896,   676.04693166,\n",
              "        2985.7917122 ,  1310.89378582,  1367.9506567 ,  3337.46008851,\n",
              "        2126.22889957,   705.30858434,  2015.46679852,  2013.04717645,\n",
              "        2449.71907781,  1349.56716117,  2606.03608987,  2357.81729935,\n",
              "        1735.29625749,  2358.72417819,  1272.51268988,  1197.97393933,\n",
              "        1805.98387278,  2150.05800611,  2568.13234599,  1719.22934367,\n",
              "        2449.29913575])"
            ]
          },
          "metadata": {
            "tags": []
          },
          "execution_count": 35
        }
      ]
    },
    {
      "cell_type": "markdown",
      "metadata": {
        "id": "3z-I-y-EeCKD"
      },
      "source": [
        "## This gives our model an accuracy of 90%"
      ]
    },
    {
      "cell_type": "code",
      "metadata": {
        "id": "KkRsNZPHPW6P",
        "colab": {
          "base_uri": "https://localhost:8080/"
        },
        "outputId": "03c7d51f-8c1a-45d0-e460-9946b7a003e7"
      },
      "source": [
        "clf.score(X_test,Y_test) "
      ],
      "execution_count": 36,
      "outputs": [
        {
          "output_type": "execute_result",
          "data": {
            "text/plain": [
              "0.9004119399625929"
            ]
          },
          "metadata": {
            "tags": []
          },
          "execution_count": 36
        }
      ]
    },
    {
      "cell_type": "markdown",
      "metadata": {
        "id": "dgK3J9pJVUMH"
      },
      "source": [
        "# **Conclusion and Recommendation:**\n",
        "\n",
        "There are ten (10) diffent regions available on the Immobilien Scout database and a possibility for users to filter their searches based on these regions. Finding a suitable apartment depends on a lot of factors such as; the year of construction, the size of the apartment, the condition of the apartment but most especially the location. \n",
        "\n",
        "The maximum and minimum rent per apartment available in the Immobilien Scout data is 14207 and 271.25. While an apartment in Charlottenburg, constructed in the year 1889 is currently the oldest building available on the platform.\n",
        "\n",
        "From the data, we can see that an average three (3) bedroom apartment costs about 2048 Euros while an individual looking for a one (1) bedroom apartment can estimate a budget of 830 euros per month.\n",
        "\n",
        "Further more, Apartments in **\"mint conditions\"** or **\"first time use\"** are often more expensive, which is expected due to its condition. For an individual looking for an affordation or low budget accommodation, he/she should focus more on apartments in **\"Need of renovation\"** or **\"Just well kept\"**.\n",
        "\n",
        "\n",
        "A well kept, one bederoom apartment in Neuköln with a space of 14 sqr meters, constructed in the year 1910 and at the rental cost of 450 Euros Is the cheapest apartment available on the platform.\n",
        "\n",
        "\n",
        "Mitte, Kreuzberg and Prenzlauer are the most expensive areas of Berlin when searching based on the location, followed by Charlottenburg and Tiergarten which is fast rising.\n",
        "\n",
        "In Berlin Mitte, you can expect a rental price of 2409 Euro per month at an average size of 96 square meters and 1915 Euros in Tiergarten for about the same size. This is because it is in the capital of Germany and of course the price can get a lot higher.\n",
        "\n",
        "\n",
        "In conclusion, I would like to recommend a flat to Jane who is searching for an in-expensive flat. Considering her criteria, I found a suitable two bedroom apartment of 48.23m2 in Wedding at a cost of 383.46 Euros monthly. Kindly check out the ad on the website https://www.immobilienscout24.de/expose/116697084"
      ]
    }
  ]
}