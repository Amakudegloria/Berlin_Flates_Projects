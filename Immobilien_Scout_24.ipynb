{
  "nbformat": 4,
  "nbformat_minor": 0,
  "metadata": {
    "colab": {
      "name": "Immobilien_Scout_24.ipynb",
      "provenance": [],
      "collapsed_sections": [
        "KAxkfPwXadvb",
        "A9wXNOoAHCXT",
        "v_ZP85iH0d4l"
      ],
      "include_colab_link": true
    },
    "kernelspec": {
      "name": "python3",
      "display_name": "Python 3"
    }
  },
  "cells": [
    {
      "cell_type": "markdown",
      "metadata": {
        "id": "view-in-github",
        "colab_type": "text"
      },
      "source": [
        "<a href=\"https://colab.research.google.com/github/Amakudegloria/Immobilien_Scout_24_Project/blob/main/Immobilien_Scout_24.ipynb\" target=\"_parent\"><img src=\"https://colab.research.google.com/assets/colab-badge.svg\" alt=\"Open In Colab\"/></a>"
      ]
    },
    {
      "cell_type": "markdown",
      "metadata": {
        "id": "jHXW5E0kZ38J"
      },
      "source": [
        "![Immoscout](https://raw.githubusercontent.com/juliandnl/redi_ss20/master/image.png)"
      ]
    },
    {
      "cell_type": "markdown",
      "metadata": {
        "id": "KAxkfPwXadvb"
      },
      "source": [
        "# **Immobilien Scout 24 Dataset**\n",
        "Immobilien Scout 24 is the leading online platform for residential and commercial real estate in Germany. For over 20 years, ImmoScout24 has been revolutionising the real estate market, and supports 14.5 million users each month on their way to acquiring their new home or commercial space.\n",
        "\n",
        "With its digital solutions, the online marketplace coordinates and brings owners, realtors, tenants and buyers successfully together. Immobilien Scout 24 is working towards the goal of digitising the process of real estate transactions and thereby making complex decisions easy. Since 2012, Immobilien Scout 24 has also been active in the German real estate market, reaching around 3 million users monthly.\n",
        "\n",
        "This dataset contains entries from rental flats in Berlin. \n",
        "\n",
        "**Lets explore the dataset and find a suitable flat for my friend Josy, who is currently, desperately in need of a new flat in Berlin!!!**"
      ]
    },
    {
      "cell_type": "markdown",
      "metadata": {
        "id": "k2Gv9pEiU4Ao"
      },
      "source": [
        "**There are 6 relevant columns in this dataset, which are:**\n",
        "- URL: is the link to the rental expose. You can have a look at the flat!\n",
        "- Region: is the Berlin district, where the flat is located\n",
        "- Condition: is the condition of the flat\n",
        "- Rooms: The number of rooms the flat has\n",
        "- Rent: Monthly rent for the flat\n",
        "- Year_Construction: The year in which the house was build\n",
        "- Space: How many square meters does the flat has?\n",
        "\n",
        "---\n",
        "\n",
        "\n",
        "**Let us start by asking questions we might want to understand the Immobilien scout data and to make smarter business decisions Questions such as;**\n",
        "\n",
        "1. How many different Regions are there?\n",
        "2. What is the maximum and minimum rent?\n",
        "3. What is on average the most expensive region and at what size?\n",
        "4. What is the mean rent for the different room sizes and per condition?\n",
        "5. Which region has the best price per square meter?"
      ]
    },
    {
      "cell_type": "markdown",
      "metadata": {
        "id": "JM8aJEFXUxQO"
      },
      "source": [
        "# **Import Packages**"
      ]
    },
    {
      "cell_type": "code",
      "metadata": {
        "id": "lhduQalLT4mA",
        "colab": {
          "base_uri": "https://localhost:8080/",
          "height": 17
        },
        "outputId": "dff579ae-228b-4bc6-b932-4070729966de"
      },
      "source": [
        "# Import necessary packages\n",
        "import pandas as pd\n",
        "import numpy as np\n",
        "import seaborn as sns\n",
        "sns.set(style=\"darkgrid\")\n",
        "import matplotlib.pyplot as plt\n",
        "import datetime\n",
        "from plotly.offline import init_notebook_mode, iplot, plot\n",
        "import plotly as py\n",
        "init_notebook_mode(connected=True)\n",
        "import plotly.graph_objs as go\n",
        "from dateutil.relativedelta import relativedelta\n",
        "from wordcloud import WordCloud\n",
        "from sklearn.ensemble import RandomForestClassifier\n",
        "from sklearn.model_selection import train_test_split\n",
        "from sklearn.linear_model import LinearRegression"
      ],
      "execution_count": 1,
      "outputs": [
        {
          "output_type": "display_data",
          "data": {
            "text/html": [
              "        <script type=\"text/javascript\">\n",
              "        window.PlotlyConfig = {MathJaxConfig: 'local'};\n",
              "        if (window.MathJax) {MathJax.Hub.Config({SVG: {font: \"STIX-Web\"}});}\n",
              "        if (typeof require !== 'undefined') {\n",
              "        require.undef(\"plotly\");\n",
              "        requirejs.config({\n",
              "            paths: {\n",
              "                'plotly': ['https://cdn.plot.ly/plotly-latest.min']\n",
              "            }\n",
              "        });\n",
              "        require(['plotly'], function(Plotly) {\n",
              "            window._Plotly = Plotly;\n",
              "        });\n",
              "        }\n",
              "        </script>\n",
              "        "
            ]
          },
          "metadata": {
            "tags": []
          }
        }
      ]
    },
    {
      "cell_type": "markdown",
      "metadata": {
        "id": "c0FRT4TxUwLZ"
      },
      "source": [
        "# **Load Dataset**"
      ]
    },
    {
      "cell_type": "code",
      "metadata": {
        "id": "v9cxv3jwUp5Z",
        "colab": {
          "base_uri": "https://localhost:8080/",
          "height": 359
        },
        "outputId": "81d482f3-c82b-4987-ecd6-64d01c63220b"
      },
      "source": [
        "#loading the data from github files directly\n",
        "rentals = pd.read_csv(\"https://raw.githubusercontent.com/juliandnl/redi_ss20/master/berlin_rental.csv\")\n",
        "\n",
        "##looking at the head of labeled data\n",
        "rentals.head(10)"
      ],
      "execution_count": 2,
      "outputs": [
        {
          "output_type": "execute_result",
          "data": {
            "text/html": [
              "<div>\n",
              "<style scoped>\n",
              "    .dataframe tbody tr th:only-of-type {\n",
              "        vertical-align: middle;\n",
              "    }\n",
              "\n",
              "    .dataframe tbody tr th {\n",
              "        vertical-align: top;\n",
              "    }\n",
              "\n",
              "    .dataframe thead th {\n",
              "        text-align: right;\n",
              "    }\n",
              "</style>\n",
              "<table border=\"1\" class=\"dataframe\">\n",
              "  <thead>\n",
              "    <tr style=\"text-align: right;\">\n",
              "      <th></th>\n",
              "      <th>Region</th>\n",
              "      <th>Condition</th>\n",
              "      <th>Rooms</th>\n",
              "      <th>Rent</th>\n",
              "      <th>Year_Construction</th>\n",
              "      <th>Space</th>\n",
              "    </tr>\n",
              "  </thead>\n",
              "  <tbody>\n",
              "    <tr>\n",
              "      <th>0</th>\n",
              "      <td>Mitte</td>\n",
              "      <td>first_time_use</td>\n",
              "      <td>4.0</td>\n",
              "      <td>2659.00</td>\n",
              "      <td>2019</td>\n",
              "      <td>117.20</td>\n",
              "    </tr>\n",
              "    <tr>\n",
              "      <th>1</th>\n",
              "      <td>Kreuzberg</td>\n",
              "      <td>first_time_use</td>\n",
              "      <td>1.0</td>\n",
              "      <td>1200.00</td>\n",
              "      <td>2020</td>\n",
              "      <td>29.33</td>\n",
              "    </tr>\n",
              "    <tr>\n",
              "      <th>2</th>\n",
              "      <td>Köpenick</td>\n",
              "      <td>well_kept</td>\n",
              "      <td>2.0</td>\n",
              "      <td>979.00</td>\n",
              "      <td>1997</td>\n",
              "      <td>83.61</td>\n",
              "    </tr>\n",
              "    <tr>\n",
              "      <th>3</th>\n",
              "      <td>Wilmersdorf</td>\n",
              "      <td>well_kept</td>\n",
              "      <td>4.0</td>\n",
              "      <td>1830.22</td>\n",
              "      <td>1900</td>\n",
              "      <td>171.18</td>\n",
              "    </tr>\n",
              "    <tr>\n",
              "      <th>4</th>\n",
              "      <td>Kreuzberg</td>\n",
              "      <td>first_time_use</td>\n",
              "      <td>2.0</td>\n",
              "      <td>2272.00</td>\n",
              "      <td>2020</td>\n",
              "      <td>88.27</td>\n",
              "    </tr>\n",
              "    <tr>\n",
              "      <th>5</th>\n",
              "      <td>Köpenick</td>\n",
              "      <td>well_kept</td>\n",
              "      <td>2.0</td>\n",
              "      <td>840.00</td>\n",
              "      <td>1997</td>\n",
              "      <td>73.51</td>\n",
              "    </tr>\n",
              "    <tr>\n",
              "      <th>6</th>\n",
              "      <td>Mitte</td>\n",
              "      <td>mint_condition</td>\n",
              "      <td>2.0</td>\n",
              "      <td>1509.45</td>\n",
              "      <td>2015</td>\n",
              "      <td>61.61</td>\n",
              "    </tr>\n",
              "    <tr>\n",
              "      <th>7</th>\n",
              "      <td>Charlottenburg</td>\n",
              "      <td>well_kept</td>\n",
              "      <td>2.0</td>\n",
              "      <td>730.73</td>\n",
              "      <td>1900</td>\n",
              "      <td>72.61</td>\n",
              "    </tr>\n",
              "    <tr>\n",
              "      <th>8</th>\n",
              "      <td>Friedrichsfelde</td>\n",
              "      <td>well_kept</td>\n",
              "      <td>2.0</td>\n",
              "      <td>561.93</td>\n",
              "      <td>1971</td>\n",
              "      <td>62.40</td>\n",
              "    </tr>\n",
              "    <tr>\n",
              "      <th>9</th>\n",
              "      <td>Tiergarten</td>\n",
              "      <td>first_time_use</td>\n",
              "      <td>3.0</td>\n",
              "      <td>1789.00</td>\n",
              "      <td>2020</td>\n",
              "      <td>77.66</td>\n",
              "    </tr>\n",
              "  </tbody>\n",
              "</table>\n",
              "</div>"
            ],
            "text/plain": [
              "            Region       Condition  Rooms     Rent  Year_Construction   Space\n",
              "0            Mitte  first_time_use    4.0  2659.00               2019  117.20\n",
              "1        Kreuzberg  first_time_use    1.0  1200.00               2020   29.33\n",
              "2         Köpenick       well_kept    2.0   979.00               1997   83.61\n",
              "3      Wilmersdorf       well_kept    4.0  1830.22               1900  171.18\n",
              "4        Kreuzberg  first_time_use    2.0  2272.00               2020   88.27\n",
              "5         Köpenick       well_kept    2.0   840.00               1997   73.51\n",
              "6            Mitte  mint_condition    2.0  1509.45               2015   61.61\n",
              "7   Charlottenburg       well_kept    2.0   730.73               1900   72.61\n",
              "8  Friedrichsfelde       well_kept    2.0   561.93               1971   62.40\n",
              "9       Tiergarten  first_time_use    3.0  1789.00               2020   77.66"
            ]
          },
          "metadata": {
            "tags": []
          },
          "execution_count": 2
        }
      ]
    },
    {
      "cell_type": "markdown",
      "metadata": {
        "id": "lXkG7JvHNE4X"
      },
      "source": [
        "# **Exploratory Data Analysis**"
      ]
    },
    {
      "cell_type": "markdown",
      "metadata": {
        "id": "fCdc0uznF5X5"
      },
      "source": [
        "## **Checking shape, dtypes, missing values, duplicates**"
      ]
    },
    {
      "cell_type": "code",
      "metadata": {
        "colab": {
          "base_uri": "https://localhost:8080/"
        },
        "id": "VQecO5kIgBYP",
        "outputId": "d121513d-4bb1-40df-f5a1-bb026f9ca9e6"
      },
      "source": [
        "#Get the number of rows\n",
        "len(rentals)"
      ],
      "execution_count": 3,
      "outputs": [
        {
          "output_type": "execute_result",
          "data": {
            "text/plain": [
              "764"
            ]
          },
          "metadata": {
            "tags": []
          },
          "execution_count": 3
        }
      ]
    },
    {
      "cell_type": "code",
      "metadata": {
        "id": "zLb8bSjUZ0Z5",
        "colab": {
          "base_uri": "https://localhost:8080/"
        },
        "outputId": "1873a5f5-e450-43ec-efc4-8538d34e2d43"
      },
      "source": [
        "##looking at the shape of Rental data\n",
        "print(f\"Rental data has {rentals.shape[0]} rows and {rentals.shape[1]} columns\")"
      ],
      "execution_count": 4,
      "outputs": [
        {
          "output_type": "stream",
          "text": [
            "Rental data has 764 rows and 6 columns\n"
          ],
          "name": "stdout"
        }
      ]
    },
    {
      "cell_type": "code",
      "metadata": {
        "colab": {
          "base_uri": "https://localhost:8080/"
        },
        "id": "dpQAzV1iHeMd",
        "outputId": "555ef6dd-cdc0-43ed-8511-8f12e191a766"
      },
      "source": [
        "##looking at dtypes \n",
        "print(rentals.dtypes)"
      ],
      "execution_count": 5,
      "outputs": [
        {
          "output_type": "stream",
          "text": [
            "Region                object\n",
            "Condition             object\n",
            "Rooms                float64\n",
            "Rent                 float64\n",
            "Year_Construction      int64\n",
            "Space                float64\n",
            "dtype: object\n"
          ],
          "name": "stdout"
        }
      ]
    },
    {
      "cell_type": "code",
      "metadata": {
        "id": "a1bLxxK5Xkx8",
        "colab": {
          "base_uri": "https://localhost:8080/",
          "height": 390
        },
        "outputId": "394733d3-23e3-43ee-eee6-a88308a7fd99"
      },
      "source": [
        "##looking at the continous varaiables of Rental data\n",
        "rentals.describe(include='all')"
      ],
      "execution_count": 6,
      "outputs": [
        {
          "output_type": "execute_result",
          "data": {
            "text/html": [
              "<div>\n",
              "<style scoped>\n",
              "    .dataframe tbody tr th:only-of-type {\n",
              "        vertical-align: middle;\n",
              "    }\n",
              "\n",
              "    .dataframe tbody tr th {\n",
              "        vertical-align: top;\n",
              "    }\n",
              "\n",
              "    .dataframe thead th {\n",
              "        text-align: right;\n",
              "    }\n",
              "</style>\n",
              "<table border=\"1\" class=\"dataframe\">\n",
              "  <thead>\n",
              "    <tr style=\"text-align: right;\">\n",
              "      <th></th>\n",
              "      <th>Region</th>\n",
              "      <th>Condition</th>\n",
              "      <th>Rooms</th>\n",
              "      <th>Rent</th>\n",
              "      <th>Year_Construction</th>\n",
              "      <th>Space</th>\n",
              "    </tr>\n",
              "  </thead>\n",
              "  <tbody>\n",
              "    <tr>\n",
              "      <th>count</th>\n",
              "      <td>764</td>\n",
              "      <td>764</td>\n",
              "      <td>764.000000</td>\n",
              "      <td>764.000000</td>\n",
              "      <td>764.000000</td>\n",
              "      <td>764.000000</td>\n",
              "    </tr>\n",
              "    <tr>\n",
              "      <th>unique</th>\n",
              "      <td>10</td>\n",
              "      <td>9</td>\n",
              "      <td>NaN</td>\n",
              "      <td>NaN</td>\n",
              "      <td>NaN</td>\n",
              "      <td>NaN</td>\n",
              "    </tr>\n",
              "    <tr>\n",
              "      <th>top</th>\n",
              "      <td>Tiergarten</td>\n",
              "      <td>first_time_use</td>\n",
              "      <td>NaN</td>\n",
              "      <td>NaN</td>\n",
              "      <td>NaN</td>\n",
              "      <td>NaN</td>\n",
              "    </tr>\n",
              "    <tr>\n",
              "      <th>freq</th>\n",
              "      <td>171</td>\n",
              "      <td>270</td>\n",
              "      <td>NaN</td>\n",
              "      <td>NaN</td>\n",
              "      <td>NaN</td>\n",
              "      <td>NaN</td>\n",
              "    </tr>\n",
              "    <tr>\n",
              "      <th>mean</th>\n",
              "      <td>NaN</td>\n",
              "      <td>NaN</td>\n",
              "      <td>2.549738</td>\n",
              "      <td>1768.560942</td>\n",
              "      <td>1983.695026</td>\n",
              "      <td>84.656270</td>\n",
              "    </tr>\n",
              "    <tr>\n",
              "      <th>std</th>\n",
              "      <td>NaN</td>\n",
              "      <td>NaN</td>\n",
              "      <td>1.010826</td>\n",
              "      <td>1118.263961</td>\n",
              "      <td>48.006060</td>\n",
              "      <td>44.195338</td>\n",
              "    </tr>\n",
              "    <tr>\n",
              "      <th>min</th>\n",
              "      <td>NaN</td>\n",
              "      <td>NaN</td>\n",
              "      <td>1.000000</td>\n",
              "      <td>271.250000</td>\n",
              "      <td>1864.000000</td>\n",
              "      <td>14.000000</td>\n",
              "    </tr>\n",
              "    <tr>\n",
              "      <th>25%</th>\n",
              "      <td>NaN</td>\n",
              "      <td>NaN</td>\n",
              "      <td>2.000000</td>\n",
              "      <td>1039.500000</td>\n",
              "      <td>1959.000000</td>\n",
              "      <td>55.097500</td>\n",
              "    </tr>\n",
              "    <tr>\n",
              "      <th>50%</th>\n",
              "      <td>NaN</td>\n",
              "      <td>NaN</td>\n",
              "      <td>2.500000</td>\n",
              "      <td>1565.480000</td>\n",
              "      <td>2015.000000</td>\n",
              "      <td>77.600000</td>\n",
              "    </tr>\n",
              "    <tr>\n",
              "      <th>75%</th>\n",
              "      <td>NaN</td>\n",
              "      <td>NaN</td>\n",
              "      <td>3.000000</td>\n",
              "      <td>2170.000000</td>\n",
              "      <td>2019.000000</td>\n",
              "      <td>104.450000</td>\n",
              "    </tr>\n",
              "    <tr>\n",
              "      <th>max</th>\n",
              "      <td>NaN</td>\n",
              "      <td>NaN</td>\n",
              "      <td>7.000000</td>\n",
              "      <td>14207.000000</td>\n",
              "      <td>2020.000000</td>\n",
              "      <td>413.910000</td>\n",
              "    </tr>\n",
              "  </tbody>\n",
              "</table>\n",
              "</div>"
            ],
            "text/plain": [
              "            Region       Condition  ...  Year_Construction       Space\n",
              "count          764             764  ...         764.000000  764.000000\n",
              "unique          10               9  ...                NaN         NaN\n",
              "top     Tiergarten  first_time_use  ...                NaN         NaN\n",
              "freq           171             270  ...                NaN         NaN\n",
              "mean           NaN             NaN  ...        1983.695026   84.656270\n",
              "std            NaN             NaN  ...          48.006060   44.195338\n",
              "min            NaN             NaN  ...        1864.000000   14.000000\n",
              "25%            NaN             NaN  ...        1959.000000   55.097500\n",
              "50%            NaN             NaN  ...        2015.000000   77.600000\n",
              "75%            NaN             NaN  ...        2019.000000  104.450000\n",
              "max            NaN             NaN  ...        2020.000000  413.910000\n",
              "\n",
              "[11 rows x 6 columns]"
            ]
          },
          "metadata": {
            "tags": []
          },
          "execution_count": 6
        }
      ]
    },
    {
      "cell_type": "code",
      "metadata": {
        "colab": {
          "base_uri": "https://localhost:8080/"
        },
        "id": "0395XrBjGl7H",
        "outputId": "e4286670-3e3d-41db-85b4-4f744a3772b9"
      },
      "source": [
        "##Checking for missing values in Rental data\n",
        "rentals.isna().sum()"
      ],
      "execution_count": 7,
      "outputs": [
        {
          "output_type": "execute_result",
          "data": {
            "text/plain": [
              "Region               0\n",
              "Condition            0\n",
              "Rooms                0\n",
              "Rent                 0\n",
              "Year_Construction    0\n",
              "Space                0\n",
              "dtype: int64"
            ]
          },
          "metadata": {
            "tags": []
          },
          "execution_count": 7
        }
      ]
    },
    {
      "cell_type": "markdown",
      "metadata": {
        "id": "A9wXNOoAHCXT"
      },
      "source": [
        "### **Some initial observation**\n",
        "\n",
        "* The number of rooms are in the range of 1-7 \n",
        "\n",
        "* The monthly rents have a high range from 271 to 14207 Euros with an average rent of about 1768 Euros.\n",
        "\n",
        "* The year of construction for the available apartments are between 1864 and 2020.\n",
        "\n",
        "* There are 10 berlin regions available in the data.\n",
        "\n",
        "* The room space ranges between 84m² and 413m²\n",
        "\n",
        "* There are no missing values in the data"
      ]
    },
    {
      "cell_type": "markdown",
      "metadata": {
        "id": "fYtv_QpPKH3a"
      },
      "source": [
        "# **Checking the different Regions available**"
      ]
    },
    {
      "cell_type": "code",
      "metadata": {
        "id": "_mgLYJ2oJrvB",
        "colab": {
          "base_uri": "https://localhost:8080/"
        },
        "outputId": "2bef012b-4da1-4618-f1ab-cb9906ea37fa"
      },
      "source": [
        "#Checking the available regions in the Rental data\n",
        "\n",
        "rentals.Region.unique()"
      ],
      "execution_count": 8,
      "outputs": [
        {
          "output_type": "execute_result",
          "data": {
            "text/plain": [
              "array(['Mitte', 'Kreuzberg', 'Köpenick', 'Wilmersdorf', 'Charlottenburg',\n",
              "       'Friedrichsfelde', 'Tiergarten', 'Prenzlauer', 'Wedding',\n",
              "       'Neukölln'], dtype=object)"
            ]
          },
          "metadata": {
            "tags": []
          },
          "execution_count": 8
        }
      ]
    },
    {
      "cell_type": "code",
      "metadata": {
        "id": "4g1O7VrBJr2q",
        "colab": {
          "base_uri": "https://localhost:8080/"
        },
        "outputId": "03756956-b45d-4946-991c-9d2c52a17c4b"
      },
      "source": [
        "#More details about the regions\n",
        "print(f\"There are ten {rentals.Region.nunique()} regions available on the Immobilien Scout data which are; {rentals.Region.unique()}. Users can filter their searches based on the regions in berlin.\")"
      ],
      "execution_count": 9,
      "outputs": [
        {
          "output_type": "stream",
          "text": [
            "There are ten 10 regions available on the Immobilien Scout data which are; ['Mitte' 'Kreuzberg' 'Köpenick' 'Wilmersdorf' 'Charlottenburg'\n",
            " 'Friedrichsfelde' 'Tiergarten' 'Prenzlauer' 'Wedding' 'Neukölln']. Users can filter their searches based on the regions in berlin.\n"
          ],
          "name": "stdout"
        }
      ]
    },
    {
      "cell_type": "code",
      "metadata": {
        "id": "S-P4gW70KYwr",
        "colab": {
          "base_uri": "https://localhost:8080/",
          "height": 80
        },
        "outputId": "0e8cdd0a-61c1-44f3-83e0-27b01c14b2e1"
      },
      "source": [
        "#Checking the minimum rent per apartment \n",
        "ren_min = rentals['Rent']== rentals['Rent'].min()\n",
        "rentals[ren_min]"
      ],
      "execution_count": 10,
      "outputs": [
        {
          "output_type": "execute_result",
          "data": {
            "text/html": [
              "<div>\n",
              "<style scoped>\n",
              "    .dataframe tbody tr th:only-of-type {\n",
              "        vertical-align: middle;\n",
              "    }\n",
              "\n",
              "    .dataframe tbody tr th {\n",
              "        vertical-align: top;\n",
              "    }\n",
              "\n",
              "    .dataframe thead th {\n",
              "        text-align: right;\n",
              "    }\n",
              "</style>\n",
              "<table border=\"1\" class=\"dataframe\">\n",
              "  <thead>\n",
              "    <tr style=\"text-align: right;\">\n",
              "      <th></th>\n",
              "      <th>Region</th>\n",
              "      <th>Condition</th>\n",
              "      <th>Rooms</th>\n",
              "      <th>Rent</th>\n",
              "      <th>Year_Construction</th>\n",
              "      <th>Space</th>\n",
              "    </tr>\n",
              "  </thead>\n",
              "  <tbody>\n",
              "    <tr>\n",
              "      <th>177</th>\n",
              "      <td>Tiergarten</td>\n",
              "      <td>well_kept</td>\n",
              "      <td>1.0</td>\n",
              "      <td>271.25</td>\n",
              "      <td>1900</td>\n",
              "      <td>24.0</td>\n",
              "    </tr>\n",
              "  </tbody>\n",
              "</table>\n",
              "</div>"
            ],
            "text/plain": [
              "         Region  Condition  Rooms    Rent  Year_Construction  Space\n",
              "177  Tiergarten  well_kept    1.0  271.25               1900   24.0"
            ]
          },
          "metadata": {
            "tags": []
          },
          "execution_count": 10
        }
      ]
    },
    {
      "cell_type": "code",
      "metadata": {
        "id": "fQR7DkKeKYhP",
        "colab": {
          "base_uri": "https://localhost:8080/",
          "height": 80
        },
        "outputId": "c2f5560e-4576-4be6-91bd-724cfd765886"
      },
      "source": [
        "#Checking the maximum rent per apartment \n",
        "ren_max = rentals['Rent']== rentals['Rent'].max()\n",
        "rentals[ren_max]\n"
      ],
      "execution_count": 11,
      "outputs": [
        {
          "output_type": "execute_result",
          "data": {
            "text/html": [
              "<div>\n",
              "<style scoped>\n",
              "    .dataframe tbody tr th:only-of-type {\n",
              "        vertical-align: middle;\n",
              "    }\n",
              "\n",
              "    .dataframe tbody tr th {\n",
              "        vertical-align: top;\n",
              "    }\n",
              "\n",
              "    .dataframe thead th {\n",
              "        text-align: right;\n",
              "    }\n",
              "</style>\n",
              "<table border=\"1\" class=\"dataframe\">\n",
              "  <thead>\n",
              "    <tr style=\"text-align: right;\">\n",
              "      <th></th>\n",
              "      <th>Region</th>\n",
              "      <th>Condition</th>\n",
              "      <th>Rooms</th>\n",
              "      <th>Rent</th>\n",
              "      <th>Year_Construction</th>\n",
              "      <th>Space</th>\n",
              "    </tr>\n",
              "  </thead>\n",
              "  <tbody>\n",
              "    <tr>\n",
              "      <th>694</th>\n",
              "      <td>Mitte</td>\n",
              "      <td>mint_condition</td>\n",
              "      <td>5.0</td>\n",
              "      <td>14207.0</td>\n",
              "      <td>2015</td>\n",
              "      <td>413.91</td>\n",
              "    </tr>\n",
              "  </tbody>\n",
              "</table>\n",
              "</div>"
            ],
            "text/plain": [
              "    Region       Condition  Rooms     Rent  Year_Construction   Space\n",
              "694  Mitte  mint_condition    5.0  14207.0               2015  413.91"
            ]
          },
          "metadata": {
            "tags": []
          },
          "execution_count": 11
        }
      ]
    },
    {
      "cell_type": "markdown",
      "metadata": {
        "id": "KyTVyXoLbYO9"
      },
      "source": [
        "* The cheapest availble room on immobilien scout costs about 271 Euros monthly, while the most expensive room goes for 14207 and above. Although, we have to consider other factors that determine the rent."
      ]
    },
    {
      "cell_type": "code",
      "metadata": {
        "colab": {
          "base_uri": "https://localhost:8080/",
          "height": 390
        },
        "id": "P0-Ss455e2_s",
        "outputId": "011fbab1-d032-4264-eafe-39e4cda63963"
      },
      "source": [
        "#Lets find the average rent per room for a 1 bedroom apartment in all regions\n",
        "one_bed = rentals['Rooms']==1\n",
        "one_bed = rentals[one_bed]\n",
        "one_bed = one_bed.groupby(['Region'])[['Rent']].agg('mean')\n",
        "one_bed"
      ],
      "execution_count": 12,
      "outputs": [
        {
          "output_type": "execute_result",
          "data": {
            "text/html": [
              "<div>\n",
              "<style scoped>\n",
              "    .dataframe tbody tr th:only-of-type {\n",
              "        vertical-align: middle;\n",
              "    }\n",
              "\n",
              "    .dataframe tbody tr th {\n",
              "        vertical-align: top;\n",
              "    }\n",
              "\n",
              "    .dataframe thead th {\n",
              "        text-align: right;\n",
              "    }\n",
              "</style>\n",
              "<table border=\"1\" class=\"dataframe\">\n",
              "  <thead>\n",
              "    <tr style=\"text-align: right;\">\n",
              "      <th></th>\n",
              "      <th>Rent</th>\n",
              "    </tr>\n",
              "    <tr>\n",
              "      <th>Region</th>\n",
              "      <th></th>\n",
              "    </tr>\n",
              "  </thead>\n",
              "  <tbody>\n",
              "    <tr>\n",
              "      <th>Charlottenburg</th>\n",
              "      <td>1080.083333</td>\n",
              "    </tr>\n",
              "    <tr>\n",
              "      <th>Friedrichsfelde</th>\n",
              "      <td>593.958000</td>\n",
              "    </tr>\n",
              "    <tr>\n",
              "      <th>Kreuzberg</th>\n",
              "      <td>907.182500</td>\n",
              "    </tr>\n",
              "    <tr>\n",
              "      <th>Köpenick</th>\n",
              "      <td>788.498750</td>\n",
              "    </tr>\n",
              "    <tr>\n",
              "      <th>Mitte</th>\n",
              "      <td>1047.050000</td>\n",
              "    </tr>\n",
              "    <tr>\n",
              "      <th>Neukölln</th>\n",
              "      <td>649.077273</td>\n",
              "    </tr>\n",
              "    <tr>\n",
              "      <th>Prenzlauer</th>\n",
              "      <td>892.715714</td>\n",
              "    </tr>\n",
              "    <tr>\n",
              "      <th>Tiergarten</th>\n",
              "      <td>794.130769</td>\n",
              "    </tr>\n",
              "    <tr>\n",
              "      <th>Wedding</th>\n",
              "      <td>699.206250</td>\n",
              "    </tr>\n",
              "    <tr>\n",
              "      <th>Wilmersdorf</th>\n",
              "      <td>966.487778</td>\n",
              "    </tr>\n",
              "  </tbody>\n",
              "</table>\n",
              "</div>"
            ],
            "text/plain": [
              "                        Rent\n",
              "Region                      \n",
              "Charlottenburg   1080.083333\n",
              "Friedrichsfelde   593.958000\n",
              "Kreuzberg         907.182500\n",
              "Köpenick          788.498750\n",
              "Mitte            1047.050000\n",
              "Neukölln          649.077273\n",
              "Prenzlauer        892.715714\n",
              "Tiergarten        794.130769\n",
              "Wedding           699.206250\n",
              "Wilmersdorf       966.487778"
            ]
          },
          "metadata": {
            "tags": []
          },
          "execution_count": 12
        }
      ]
    },
    {
      "cell_type": "code",
      "metadata": {
        "colab": {
          "base_uri": "https://localhost:8080/",
          "height": 376
        },
        "id": "xHqSkQEJhn8W",
        "outputId": "6538e190-7d6f-4df4-edbd-c826ede92693"
      },
      "source": [
        "one_bed_plt = one_bed.plot.bar()\n",
        "one_bed_plt"
      ],
      "execution_count": 13,
      "outputs": [
        {
          "output_type": "execute_result",
          "data": {
            "text/plain": [
              "<matplotlib.axes._subplots.AxesSubplot at 0x7f3e2b2f7610>"
            ]
          },
          "metadata": {
            "tags": []
          },
          "execution_count": 13
        },
        {
          "output_type": "display_data",
          "data": {
            "image/png": "[encoded data removed]",
            "text/plain": [
              "<Figure size 432x288 with 1 Axes>"
            ]
          },
          "metadata": {
            "tags": [],
            "needs_background": "light"
          }
        }
      ]
    },
    {
      "cell_type": "markdown",
      "metadata": {
        "id": "Ixeg4Hmo6Q8e"
      },
      "source": [
        "* The cheapest one bedroom apartment can be found in Friedrichsfelde which is located in the eastern suburb of Berlin at an average rental cost of 594 Euros. Individuals looking for an affordable apartment should maybe have a look at apartments in this region and avoid more expensive regions like Berlin Mitte (City Center) or charlottenburg."
      ]
    },
    {
      "cell_type": "markdown",
      "metadata": {
        "id": "88wtrYaNKrcb"
      },
      "source": [
        "# **What about the room sizes and space?**\n",
        "\n",
        "---\n"
      ]
    },
    {
      "cell_type": "code",
      "metadata": {
        "id": "zDtAV8Y-K28P",
        "colab": {
          "base_uri": "https://localhost:8080/",
          "height": 419
        },
        "outputId": "0f233d88-d56c-4105-c041-40e1fabf66d1"
      },
      "source": [
        "#Checking the minimum number of rooms available\n",
        "min_rooms = rentals['Rooms']== rentals['Rooms'].min()\n",
        "\n",
        "rentals[min_rooms].sort_values(by='Rooms')"
      ],
      "execution_count": 14,
      "outputs": [
        {
          "output_type": "execute_result",
          "data": {
            "text/html": [
              "<div>\n",
              "<style scoped>\n",
              "    .dataframe tbody tr th:only-of-type {\n",
              "        vertical-align: middle;\n",
              "    }\n",
              "\n",
              "    .dataframe tbody tr th {\n",
              "        vertical-align: top;\n",
              "    }\n",
              "\n",
              "    .dataframe thead th {\n",
              "        text-align: right;\n",
              "    }\n",
              "</style>\n",
              "<table border=\"1\" class=\"dataframe\">\n",
              "  <thead>\n",
              "    <tr style=\"text-align: right;\">\n",
              "      <th></th>\n",
              "      <th>Region</th>\n",
              "      <th>Condition</th>\n",
              "      <th>Rooms</th>\n",
              "      <th>Rent</th>\n",
              "      <th>Year_Construction</th>\n",
              "      <th>Space</th>\n",
              "    </tr>\n",
              "  </thead>\n",
              "  <tbody>\n",
              "    <tr>\n",
              "      <th>1</th>\n",
              "      <td>Kreuzberg</td>\n",
              "      <td>first_time_use</td>\n",
              "      <td>1.0</td>\n",
              "      <td>1200.00</td>\n",
              "      <td>2020</td>\n",
              "      <td>29.33</td>\n",
              "    </tr>\n",
              "    <tr>\n",
              "      <th>520</th>\n",
              "      <td>Kreuzberg</td>\n",
              "      <td>well_kept</td>\n",
              "      <td>1.0</td>\n",
              "      <td>995.00</td>\n",
              "      <td>2016</td>\n",
              "      <td>36.00</td>\n",
              "    </tr>\n",
              "    <tr>\n",
              "      <th>517</th>\n",
              "      <td>Köpenick</td>\n",
              "      <td>well_kept</td>\n",
              "      <td>1.0</td>\n",
              "      <td>719.56</td>\n",
              "      <td>2016</td>\n",
              "      <td>28.40</td>\n",
              "    </tr>\n",
              "    <tr>\n",
              "      <th>513</th>\n",
              "      <td>Köpenick</td>\n",
              "      <td>well_kept</td>\n",
              "      <td>1.0</td>\n",
              "      <td>730.36</td>\n",
              "      <td>2016</td>\n",
              "      <td>32.61</td>\n",
              "    </tr>\n",
              "    <tr>\n",
              "      <th>500</th>\n",
              "      <td>Kreuzberg</td>\n",
              "      <td>refurbished</td>\n",
              "      <td>1.0</td>\n",
              "      <td>1175.72</td>\n",
              "      <td>1910</td>\n",
              "      <td>33.95</td>\n",
              "    </tr>\n",
              "    <tr>\n",
              "      <th>...</th>\n",
              "      <td>...</td>\n",
              "      <td>...</td>\n",
              "      <td>...</td>\n",
              "      <td>...</td>\n",
              "      <td>...</td>\n",
              "      <td>...</td>\n",
              "    </tr>\n",
              "    <tr>\n",
              "      <th>167</th>\n",
              "      <td>Tiergarten</td>\n",
              "      <td>first_time_use</td>\n",
              "      <td>1.0</td>\n",
              "      <td>999.00</td>\n",
              "      <td>2019</td>\n",
              "      <td>28.90</td>\n",
              "    </tr>\n",
              "    <tr>\n",
              "      <th>162</th>\n",
              "      <td>Tiergarten</td>\n",
              "      <td>no_information</td>\n",
              "      <td>1.0</td>\n",
              "      <td>421.87</td>\n",
              "      <td>1900</td>\n",
              "      <td>43.00</td>\n",
              "    </tr>\n",
              "    <tr>\n",
              "      <th>153</th>\n",
              "      <td>Charlottenburg</td>\n",
              "      <td>first_time_use</td>\n",
              "      <td>1.0</td>\n",
              "      <td>990.00</td>\n",
              "      <td>2019</td>\n",
              "      <td>23.62</td>\n",
              "    </tr>\n",
              "    <tr>\n",
              "      <th>147</th>\n",
              "      <td>Charlottenburg</td>\n",
              "      <td>first_time_use</td>\n",
              "      <td>1.0</td>\n",
              "      <td>1300.00</td>\n",
              "      <td>2019</td>\n",
              "      <td>38.36</td>\n",
              "    </tr>\n",
              "    <tr>\n",
              "      <th>760</th>\n",
              "      <td>Wedding</td>\n",
              "      <td>mint_condition</td>\n",
              "      <td>1.0</td>\n",
              "      <td>649.00</td>\n",
              "      <td>2017</td>\n",
              "      <td>20.50</td>\n",
              "    </tr>\n",
              "  </tbody>\n",
              "</table>\n",
              "<p>107 rows × 6 columns</p>\n",
              "</div>"
            ],
            "text/plain": [
              "             Region       Condition  Rooms     Rent  Year_Construction  Space\n",
              "1         Kreuzberg  first_time_use    1.0  1200.00               2020  29.33\n",
              "520       Kreuzberg       well_kept    1.0   995.00               2016  36.00\n",
              "517        Köpenick       well_kept    1.0   719.56               2016  28.40\n",
              "513        Köpenick       well_kept    1.0   730.36               2016  32.61\n",
              "500       Kreuzberg     refurbished    1.0  1175.72               1910  33.95\n",
              "..              ...             ...    ...      ...                ...    ...\n",
              "167      Tiergarten  first_time_use    1.0   999.00               2019  28.90\n",
              "162      Tiergarten  no_information    1.0   421.87               1900  43.00\n",
              "153  Charlottenburg  first_time_use    1.0   990.00               2019  23.62\n",
              "147  Charlottenburg  first_time_use    1.0  1300.00               2019  38.36\n",
              "760         Wedding  mint_condition    1.0   649.00               2017  20.50\n",
              "\n",
              "[107 rows x 6 columns]"
            ]
          },
          "metadata": {
            "tags": []
          },
          "execution_count": 14
        }
      ]
    },
    {
      "cell_type": "code",
      "metadata": {
        "id": "zWu1RCGbKqRZ",
        "colab": {
          "base_uri": "https://localhost:8080/",
          "height": 111
        },
        "outputId": "898c27e4-039c-4bd9-f012-63c4345ce351"
      },
      "source": [
        "#Checking the maximum number of rooms available\n",
        "max_rooms = rentals['Rooms']== rentals['Rooms'].max()\n",
        "rentals[max_rooms]\n"
      ],
      "execution_count": 15,
      "outputs": [
        {
          "output_type": "execute_result",
          "data": {
            "text/html": [
              "<div>\n",
              "<style scoped>\n",
              "    .dataframe tbody tr th:only-of-type {\n",
              "        vertical-align: middle;\n",
              "    }\n",
              "\n",
              "    .dataframe tbody tr th {\n",
              "        vertical-align: top;\n",
              "    }\n",
              "\n",
              "    .dataframe thead th {\n",
              "        text-align: right;\n",
              "    }\n",
              "</style>\n",
              "<table border=\"1\" class=\"dataframe\">\n",
              "  <thead>\n",
              "    <tr style=\"text-align: right;\">\n",
              "      <th></th>\n",
              "      <th>Region</th>\n",
              "      <th>Condition</th>\n",
              "      <th>Rooms</th>\n",
              "      <th>Rent</th>\n",
              "      <th>Year_Construction</th>\n",
              "      <th>Space</th>\n",
              "    </tr>\n",
              "  </thead>\n",
              "  <tbody>\n",
              "    <tr>\n",
              "      <th>101</th>\n",
              "      <td>Wilmersdorf</td>\n",
              "      <td>first_time_use_after_refurbishment</td>\n",
              "      <td>7.0</td>\n",
              "      <td>4288.00</td>\n",
              "      <td>1900</td>\n",
              "      <td>202.0</td>\n",
              "    </tr>\n",
              "    <tr>\n",
              "      <th>675</th>\n",
              "      <td>Wilmersdorf</td>\n",
              "      <td>well_kept</td>\n",
              "      <td>7.0</td>\n",
              "      <td>5876.35</td>\n",
              "      <td>1912</td>\n",
              "      <td>300.0</td>\n",
              "    </tr>\n",
              "  </tbody>\n",
              "</table>\n",
              "</div>"
            ],
            "text/plain": [
              "          Region                           Condition  ...  Year_Construction  Space\n",
              "101  Wilmersdorf  first_time_use_after_refurbishment  ...               1900  202.0\n",
              "675  Wilmersdorf                           well_kept  ...               1912  300.0\n",
              "\n",
              "[2 rows x 6 columns]"
            ]
          },
          "metadata": {
            "tags": []
          },
          "execution_count": 15
        }
      ]
    },
    {
      "cell_type": "code",
      "metadata": {
        "colab": {
          "base_uri": "https://localhost:8080/",
          "height": 376
        },
        "id": "L-oGpWtm9hZk",
        "outputId": "1037d113-6b7b-472f-dfef-ee82ba0a0493"
      },
      "source": [
        "#Checking the most frequently advertised number of rooms in a region \n",
        "rentals.groupby(['Region'])[['Rooms']].agg(pd.Series.mode).plot.bar()"
      ],
      "execution_count": 16,
      "outputs": [
        {
          "output_type": "execute_result",
          "data": {
            "text/plain": [
              "<matplotlib.axes._subplots.AxesSubplot at 0x7f3e2b1fb0d0>"
            ]
          },
          "metadata": {
            "tags": []
          },
          "execution_count": 16
        },
        {
          "output_type": "display_data",
          "data": {
            "image/png": "[encoded data removed]",
            "text/plain": [
              "<Figure size 432x288 with 1 Axes>"
            ]
          },
          "metadata": {
            "tags": [],
            "needs_background": "light"
          }
        }
      ]
    },
    {
      "cell_type": "code",
      "metadata": {
        "colab": {
          "base_uri": "https://localhost:8080/",
          "height": 390
        },
        "id": "7_52OZms_kal",
        "outputId": "9a67d601-46a2-4af0-f9c5-81de2f543397"
      },
      "source": [
        "#Checking for four bedroom apartments and above\n",
        "four_rooms = rentals['Rooms']>=4.0\n",
        "four_rooms = rentals[four_rooms]\n",
        "four_rooms.groupby('Region')[['Rooms']].count()"
      ],
      "execution_count": 17,
      "outputs": [
        {
          "output_type": "execute_result",
          "data": {
            "text/html": [
              "<div>\n",
              "<style scoped>\n",
              "    .dataframe tbody tr th:only-of-type {\n",
              "        vertical-align: middle;\n",
              "    }\n",
              "\n",
              "    .dataframe tbody tr th {\n",
              "        vertical-align: top;\n",
              "    }\n",
              "\n",
              "    .dataframe thead th {\n",
              "        text-align: right;\n",
              "    }\n",
              "</style>\n",
              "<table border=\"1\" class=\"dataframe\">\n",
              "  <thead>\n",
              "    <tr style=\"text-align: right;\">\n",
              "      <th></th>\n",
              "      <th>Rooms</th>\n",
              "    </tr>\n",
              "    <tr>\n",
              "      <th>Region</th>\n",
              "      <th></th>\n",
              "    </tr>\n",
              "  </thead>\n",
              "  <tbody>\n",
              "    <tr>\n",
              "      <th>Charlottenburg</th>\n",
              "      <td>17</td>\n",
              "    </tr>\n",
              "    <tr>\n",
              "      <th>Friedrichsfelde</th>\n",
              "      <td>9</td>\n",
              "    </tr>\n",
              "    <tr>\n",
              "      <th>Kreuzberg</th>\n",
              "      <td>8</td>\n",
              "    </tr>\n",
              "    <tr>\n",
              "      <th>Köpenick</th>\n",
              "      <td>2</td>\n",
              "    </tr>\n",
              "    <tr>\n",
              "      <th>Mitte</th>\n",
              "      <td>33</td>\n",
              "    </tr>\n",
              "    <tr>\n",
              "      <th>Neukölln</th>\n",
              "      <td>3</td>\n",
              "    </tr>\n",
              "    <tr>\n",
              "      <th>Prenzlauer</th>\n",
              "      <td>11</td>\n",
              "    </tr>\n",
              "    <tr>\n",
              "      <th>Tiergarten</th>\n",
              "      <td>28</td>\n",
              "    </tr>\n",
              "    <tr>\n",
              "      <th>Wedding</th>\n",
              "      <td>2</td>\n",
              "    </tr>\n",
              "    <tr>\n",
              "      <th>Wilmersdorf</th>\n",
              "      <td>9</td>\n",
              "    </tr>\n",
              "  </tbody>\n",
              "</table>\n",
              "</div>"
            ],
            "text/plain": [
              "                 Rooms\n",
              "Region                \n",
              "Charlottenburg      17\n",
              "Friedrichsfelde      9\n",
              "Kreuzberg            8\n",
              "Köpenick             2\n",
              "Mitte               33\n",
              "Neukölln             3\n",
              "Prenzlauer          11\n",
              "Tiergarten          28\n",
              "Wedding              2\n",
              "Wilmersdorf          9"
            ]
          },
          "metadata": {
            "tags": []
          },
          "execution_count": 17
        }
      ]
    },
    {
      "cell_type": "markdown",
      "metadata": {
        "id": "ygdZB4uVBW9V"
      },
      "source": [
        "* As mentioned earlier, the number of rooms are between 1 to 7 bedroom apartments.\n",
        "\n",
        "\n",
        "* The two(2) rooms apartment are frequently advertised in majority of the regions except mitte and tiergarten where you can  mostly find 3 bedroom apartments. \n",
        "\n",
        "* If you may be looking for a 1 bedroom apartment and regions with more rental options to choose from, then Wedding is an easy region to start your search.\n",
        "\n",
        "\n",
        "* Large families looking for apartments with 4 rooms and above would find lesser rental options within Köpenick, Neukölln or wedding regions and should consider regions such as charlottenburg, tiergarten or mitte."
      ]
    },
    {
      "cell_type": "markdown",
      "metadata": {
        "id": "1i4xL0GTNT0C"
      },
      "source": [
        "# **A look at the rental conditions within these regions**\n",
        "\n",
        "**Answer:**\n",
        "\n",
        "Apartments in mint conditions or first time use are often more expensive, which is expected due to its condition. For an individual looking for an affordation or low budget accommodation, he/she should focus more on apartments in need of renovation or just well kept."
      ]
    },
    {
      "cell_type": "code",
      "metadata": {
        "colab": {
          "base_uri": "https://localhost:8080/",
          "height": 390
        },
        "id": "g-IdlX4wLyJN",
        "outputId": "2e331c47-7ae7-4885-db49-e51d26c3cd65"
      },
      "source": [
        "#Checking the condition of apartments within regions \n",
        "rentals.groupby(['Region'])[['Condition']].agg(pd.Series.mode)"
      ],
      "execution_count": 18,
      "outputs": [
        {
          "output_type": "execute_result",
          "data": {
            "text/html": [
              "<div>\n",
              "<style scoped>\n",
              "    .dataframe tbody tr th:only-of-type {\n",
              "        vertical-align: middle;\n",
              "    }\n",
              "\n",
              "    .dataframe tbody tr th {\n",
              "        vertical-align: top;\n",
              "    }\n",
              "\n",
              "    .dataframe thead th {\n",
              "        text-align: right;\n",
              "    }\n",
              "</style>\n",
              "<table border=\"1\" class=\"dataframe\">\n",
              "  <thead>\n",
              "    <tr style=\"text-align: right;\">\n",
              "      <th></th>\n",
              "      <th>Condition</th>\n",
              "    </tr>\n",
              "    <tr>\n",
              "      <th>Region</th>\n",
              "      <th></th>\n",
              "    </tr>\n",
              "  </thead>\n",
              "  <tbody>\n",
              "    <tr>\n",
              "      <th>Charlottenburg</th>\n",
              "      <td>first_time_use</td>\n",
              "    </tr>\n",
              "    <tr>\n",
              "      <th>Friedrichsfelde</th>\n",
              "      <td>first_time_use</td>\n",
              "    </tr>\n",
              "    <tr>\n",
              "      <th>Kreuzberg</th>\n",
              "      <td>mint_condition</td>\n",
              "    </tr>\n",
              "    <tr>\n",
              "      <th>Köpenick</th>\n",
              "      <td>well_kept</td>\n",
              "    </tr>\n",
              "    <tr>\n",
              "      <th>Mitte</th>\n",
              "      <td>mint_condition</td>\n",
              "    </tr>\n",
              "    <tr>\n",
              "      <th>Neukölln</th>\n",
              "      <td>first_time_use</td>\n",
              "    </tr>\n",
              "    <tr>\n",
              "      <th>Prenzlauer</th>\n",
              "      <td>mint_condition</td>\n",
              "    </tr>\n",
              "    <tr>\n",
              "      <th>Tiergarten</th>\n",
              "      <td>first_time_use</td>\n",
              "    </tr>\n",
              "    <tr>\n",
              "      <th>Wedding</th>\n",
              "      <td>mint_condition</td>\n",
              "    </tr>\n",
              "    <tr>\n",
              "      <th>Wilmersdorf</th>\n",
              "      <td>first_time_use</td>\n",
              "    </tr>\n",
              "  </tbody>\n",
              "</table>\n",
              "</div>"
            ],
            "text/plain": [
              "                      Condition\n",
              "Region                         \n",
              "Charlottenburg   first_time_use\n",
              "Friedrichsfelde  first_time_use\n",
              "Kreuzberg        mint_condition\n",
              "Köpenick              well_kept\n",
              "Mitte            mint_condition\n",
              "Neukölln         first_time_use\n",
              "Prenzlauer       mint_condition\n",
              "Tiergarten       first_time_use\n",
              "Wedding          mint_condition\n",
              "Wilmersdorf      first_time_use"
            ]
          },
          "metadata": {
            "tags": []
          },
          "execution_count": 18
        }
      ]
    },
    {
      "cell_type": "markdown",
      "metadata": {
        "id": "0W15krStoC5q"
      },
      "source": [
        "newly developing regions\n"
      ]
    },
    {
      "cell_type": "code",
      "metadata": {
        "colab": {
          "base_uri": "https://localhost:8080/",
          "height": 204
        },
        "id": "XvchT90ELyMO",
        "outputId": "1d7c0de9-8fcb-4a56-8c91-1fb3859711ab"
      },
      "source": [
        "#Looking at the condition of a 1 bedroom apartment in mitte\n",
        "\n",
        "bed_apart = rentals['Rooms']==1\n",
        "mit_apart =  rentals['Region']=='Mitte' \n",
        "\n",
        "bed_mitte = bed_apart & mit_apart\n",
        "avg_one_bed = rentals[bed_mitte]\n",
        "\n",
        "avg_one_bed = avg_one_bed.groupby(['Condition'])[['Rent']].agg('mean')\n",
        "avg_one_bed"
      ],
      "execution_count": 19,
      "outputs": [
        {
          "output_type": "execute_result",
          "data": {
            "text/html": [
              "<div>\n",
              "<style scoped>\n",
              "    .dataframe tbody tr th:only-of-type {\n",
              "        vertical-align: middle;\n",
              "    }\n",
              "\n",
              "    .dataframe tbody tr th {\n",
              "        vertical-align: top;\n",
              "    }\n",
              "\n",
              "    .dataframe thead th {\n",
              "        text-align: right;\n",
              "    }\n",
              "</style>\n",
              "<table border=\"1\" class=\"dataframe\">\n",
              "  <thead>\n",
              "    <tr style=\"text-align: right;\">\n",
              "      <th></th>\n",
              "      <th>Rent</th>\n",
              "    </tr>\n",
              "    <tr>\n",
              "      <th>Condition</th>\n",
              "      <th></th>\n",
              "    </tr>\n",
              "  </thead>\n",
              "  <tbody>\n",
              "    <tr>\n",
              "      <th>first_time_use</th>\n",
              "      <td>894.00</td>\n",
              "    </tr>\n",
              "    <tr>\n",
              "      <th>fully_renovated</th>\n",
              "      <td>1200.00</td>\n",
              "    </tr>\n",
              "    <tr>\n",
              "      <th>mint_condition</th>\n",
              "      <td>1093.01</td>\n",
              "    </tr>\n",
              "    <tr>\n",
              "      <th>well_kept</th>\n",
              "      <td>924.44</td>\n",
              "    </tr>\n",
              "  </tbody>\n",
              "</table>\n",
              "</div>"
            ],
            "text/plain": [
              "                    Rent\n",
              "Condition               \n",
              "first_time_use    894.00\n",
              "fully_renovated  1200.00\n",
              "mint_condition   1093.01\n",
              "well_kept         924.44"
            ]
          },
          "metadata": {
            "tags": []
          },
          "execution_count": 19
        }
      ]
    },
    {
      "cell_type": "markdown",
      "metadata": {
        "id": "LmWlMN_4O7CJ"
      },
      "source": [
        "# **What about the year of construction?**\n"
      ]
    },
    {
      "cell_type": "code",
      "metadata": {
        "colab": {
          "base_uri": "https://localhost:8080/",
          "height": 80
        },
        "id": "aIbO2DRgR6PZ",
        "outputId": "bf3d51f6-b20e-48f0-c3f4-783a7028d4ff"
      },
      "source": [
        "#A look at the earliest construction year for these apartments \n",
        "min_const_yr = rentals['Year_Construction']== rentals['Year_Construction'].min()\n",
        "rentals[min_const_yr]"
      ],
      "execution_count": 20,
      "outputs": [
        {
          "output_type": "execute_result",
          "data": {
            "text/html": [
              "<div>\n",
              "<style scoped>\n",
              "    .dataframe tbody tr th:only-of-type {\n",
              "        vertical-align: middle;\n",
              "    }\n",
              "\n",
              "    .dataframe tbody tr th {\n",
              "        vertical-align: top;\n",
              "    }\n",
              "\n",
              "    .dataframe thead th {\n",
              "        text-align: right;\n",
              "    }\n",
              "</style>\n",
              "<table border=\"1\" class=\"dataframe\">\n",
              "  <thead>\n",
              "    <tr style=\"text-align: right;\">\n",
              "      <th></th>\n",
              "      <th>Region</th>\n",
              "      <th>Condition</th>\n",
              "      <th>Rooms</th>\n",
              "      <th>Rent</th>\n",
              "      <th>Year_Construction</th>\n",
              "      <th>Space</th>\n",
              "    </tr>\n",
              "  </thead>\n",
              "  <tbody>\n",
              "    <tr>\n",
              "      <th>173</th>\n",
              "      <td>Mitte</td>\n",
              "      <td>first_time_use_after_refurbishment</td>\n",
              "      <td>3.0</td>\n",
              "      <td>2199.0</td>\n",
              "      <td>1864</td>\n",
              "      <td>106.98</td>\n",
              "    </tr>\n",
              "  </tbody>\n",
              "</table>\n",
              "</div>"
            ],
            "text/plain": [
              "    Region                           Condition  ...  Year_Construction   Space\n",
              "173  Mitte  first_time_use_after_refurbishment  ...               1864  106.98\n",
              "\n",
              "[1 rows x 6 columns]"
            ]
          },
          "metadata": {
            "tags": []
          },
          "execution_count": 20
        }
      ]
    },
    {
      "cell_type": "code",
      "metadata": {
        "colab": {
          "base_uri": "https://localhost:8080/"
        },
        "id": "Hq5vcOz2TITO",
        "outputId": "f4d96026-948c-4e48-eb18-41f7e4fab90e"
      },
      "source": [
        "#A look at the most recent construction year for these apartments \n",
        "max_const_yr = rentals['Year_Construction']== rentals['Year_Construction'].max()\n",
        "rentals[max_const_yr].iloc[0]"
      ],
      "execution_count": 21,
      "outputs": [
        {
          "output_type": "execute_result",
          "data": {
            "text/plain": [
              "Region                    Kreuzberg\n",
              "Condition            first_time_use\n",
              "Rooms                             1\n",
              "Rent                           1200\n",
              "Year_Construction              2020\n",
              "Space                         29.33\n",
              "Name: 1, dtype: object"
            ]
          },
          "metadata": {
            "tags": []
          },
          "execution_count": 21
        }
      ]
    },
    {
      "cell_type": "markdown",
      "metadata": {
        "id": "Jklw5yvYXr7U"
      },
      "source": [
        "# **Condition of apartments within the year 1864 and 2000**"
      ]
    },
    {
      "cell_type": "code",
      "metadata": {
        "colab": {
          "base_uri": "https://localhost:8080/",
          "height": 450
        },
        "id": "MkCss-39dxm2",
        "outputId": "b3e3ac14-6ab9-40d3-b6e1-e7d917960f93"
      },
      "source": [
        "#Lets have a look athe condition of apartments between 1864 and 2000\n",
        "early_years = rentals['Year_Construction'].between(1864, 2004)\n",
        "early_years = rentals[early_years]\n",
        "\n",
        "#Find the most common condition with this period\n",
        "early_years.groupby(['Year_Construction'])[['Condition']].agg(pd.Series.mode)\n"
      ],
      "execution_count": 22,
      "outputs": [
        {
          "output_type": "execute_result",
          "data": {
            "text/html": [
              "<div>\n",
              "<style scoped>\n",
              "    .dataframe tbody tr th:only-of-type {\n",
              "        vertical-align: middle;\n",
              "    }\n",
              "\n",
              "    .dataframe tbody tr th {\n",
              "        vertical-align: top;\n",
              "    }\n",
              "\n",
              "    .dataframe thead th {\n",
              "        text-align: right;\n",
              "    }\n",
              "</style>\n",
              "<table border=\"1\" class=\"dataframe\">\n",
              "  <thead>\n",
              "    <tr style=\"text-align: right;\">\n",
              "      <th></th>\n",
              "      <th>Condition</th>\n",
              "    </tr>\n",
              "    <tr>\n",
              "      <th>Year_Construction</th>\n",
              "      <th></th>\n",
              "    </tr>\n",
              "  </thead>\n",
              "  <tbody>\n",
              "    <tr>\n",
              "      <th>1864</th>\n",
              "      <td>first_time_use_after_refurbishment</td>\n",
              "    </tr>\n",
              "    <tr>\n",
              "      <th>1867</th>\n",
              "      <td>first_time_use</td>\n",
              "    </tr>\n",
              "    <tr>\n",
              "      <th>1870</th>\n",
              "      <td>first_time_use_after_refurbishment</td>\n",
              "    </tr>\n",
              "    <tr>\n",
              "      <th>1873</th>\n",
              "      <td>well_kept</td>\n",
              "    </tr>\n",
              "    <tr>\n",
              "      <th>1874</th>\n",
              "      <td>first_time_use_after_refurbishment</td>\n",
              "    </tr>\n",
              "    <tr>\n",
              "      <th>...</th>\n",
              "      <td>...</td>\n",
              "    </tr>\n",
              "    <tr>\n",
              "      <th>1997</th>\n",
              "      <td>well_kept</td>\n",
              "    </tr>\n",
              "    <tr>\n",
              "      <th>1998</th>\n",
              "      <td>fully_renovated</td>\n",
              "    </tr>\n",
              "    <tr>\n",
              "      <th>1999</th>\n",
              "      <td>well_kept</td>\n",
              "    </tr>\n",
              "    <tr>\n",
              "      <th>2000</th>\n",
              "      <td>well_kept</td>\n",
              "    </tr>\n",
              "    <tr>\n",
              "      <th>2003</th>\n",
              "      <td>no_information</td>\n",
              "    </tr>\n",
              "  </tbody>\n",
              "</table>\n",
              "<p>78 rows × 1 columns</p>\n",
              "</div>"
            ],
            "text/plain": [
              "                                            Condition\n",
              "Year_Construction                                    \n",
              "1864               first_time_use_after_refurbishment\n",
              "1867                                   first_time_use\n",
              "1870               first_time_use_after_refurbishment\n",
              "1873                                        well_kept\n",
              "1874               first_time_use_after_refurbishment\n",
              "...                                               ...\n",
              "1997                                        well_kept\n",
              "1998                                  fully_renovated\n",
              "1999                                        well_kept\n",
              "2000                                        well_kept\n",
              "2003                                   no_information\n",
              "\n",
              "[78 rows x 1 columns]"
            ]
          },
          "metadata": {
            "tags": []
          },
          "execution_count": 22
        }
      ]
    },
    {
      "cell_type": "code",
      "metadata": {
        "colab": {
          "base_uri": "https://localhost:8080/"
        },
        "id": "46Q4d7tkecVV",
        "outputId": "c8f16c4f-e3f4-4d09-9411-34585fa6c58e"
      },
      "source": [
        "#All conditions during this time frame\n",
        "early_years['Condition'].unique()"
      ],
      "execution_count": 23,
      "outputs": [
        {
          "output_type": "execute_result",
          "data": {
            "text/plain": [
              "array(['well_kept', 'mint_condition', 'fully_renovated', 'no_information',\n",
              "       'first_time_use_after_refurbishment', 'first_time_use',\n",
              "       'refurbished', 'modernized', 'need_of_renovation'], dtype=object)"
            ]
          },
          "metadata": {
            "tags": []
          },
          "execution_count": 23
        }
      ]
    },
    {
      "cell_type": "code",
      "metadata": {
        "colab": {
          "base_uri": "https://localhost:8080/",
          "height": 545
        },
        "id": "mdpkz5bwX3mr",
        "outputId": "3b74bdb2-e0be-4127-8a5f-df0f28017c2c"
      },
      "source": [
        "#Lets have a look athe condition of apartments between 2005 and 2020\n",
        "late_years = rentals['Year_Construction'].between(2005, 2020)\n",
        "late_years = rentals[late_years]\n",
        "\n",
        "#Find the most common condition with this period\n",
        "late_years.groupby(['Year_Construction'])[['Condition']].agg(pd.Series.mode)"
      ],
      "execution_count": 24,
      "outputs": [
        {
          "output_type": "execute_result",
          "data": {
            "text/html": [
              "<div>\n",
              "<style scoped>\n",
              "    .dataframe tbody tr th:only-of-type {\n",
              "        vertical-align: middle;\n",
              "    }\n",
              "\n",
              "    .dataframe tbody tr th {\n",
              "        vertical-align: top;\n",
              "    }\n",
              "\n",
              "    .dataframe thead th {\n",
              "        text-align: right;\n",
              "    }\n",
              "</style>\n",
              "<table border=\"1\" class=\"dataframe\">\n",
              "  <thead>\n",
              "    <tr style=\"text-align: right;\">\n",
              "      <th></th>\n",
              "      <th>Condition</th>\n",
              "    </tr>\n",
              "    <tr>\n",
              "      <th>Year_Construction</th>\n",
              "      <th></th>\n",
              "    </tr>\n",
              "  </thead>\n",
              "  <tbody>\n",
              "    <tr>\n",
              "      <th>2005</th>\n",
              "      <td>first_time_use</td>\n",
              "    </tr>\n",
              "    <tr>\n",
              "      <th>2006</th>\n",
              "      <td>[mint_condition, no_information]</td>\n",
              "    </tr>\n",
              "    <tr>\n",
              "      <th>2008</th>\n",
              "      <td>mint_condition</td>\n",
              "    </tr>\n",
              "    <tr>\n",
              "      <th>2009</th>\n",
              "      <td>[mint_condition, well_kept]</td>\n",
              "    </tr>\n",
              "    <tr>\n",
              "      <th>2010</th>\n",
              "      <td>mint_condition</td>\n",
              "    </tr>\n",
              "    <tr>\n",
              "      <th>2011</th>\n",
              "      <td>no_information</td>\n",
              "    </tr>\n",
              "    <tr>\n",
              "      <th>2012</th>\n",
              "      <td>fully_renovated</td>\n",
              "    </tr>\n",
              "    <tr>\n",
              "      <th>2013</th>\n",
              "      <td>mint_condition</td>\n",
              "    </tr>\n",
              "    <tr>\n",
              "      <th>2014</th>\n",
              "      <td>mint_condition</td>\n",
              "    </tr>\n",
              "    <tr>\n",
              "      <th>2015</th>\n",
              "      <td>mint_condition</td>\n",
              "    </tr>\n",
              "    <tr>\n",
              "      <th>2016</th>\n",
              "      <td>mint_condition</td>\n",
              "    </tr>\n",
              "    <tr>\n",
              "      <th>2017</th>\n",
              "      <td>mint_condition</td>\n",
              "    </tr>\n",
              "    <tr>\n",
              "      <th>2018</th>\n",
              "      <td>first_time_use</td>\n",
              "    </tr>\n",
              "    <tr>\n",
              "      <th>2019</th>\n",
              "      <td>first_time_use</td>\n",
              "    </tr>\n",
              "    <tr>\n",
              "      <th>2020</th>\n",
              "      <td>first_time_use</td>\n",
              "    </tr>\n",
              "  </tbody>\n",
              "</table>\n",
              "</div>"
            ],
            "text/plain": [
              "                                          Condition\n",
              "Year_Construction                                  \n",
              "2005                                 first_time_use\n",
              "2006               [mint_condition, no_information]\n",
              "2008                                 mint_condition\n",
              "2009                    [mint_condition, well_kept]\n",
              "2010                                 mint_condition\n",
              "2011                                 no_information\n",
              "2012                                fully_renovated\n",
              "2013                                 mint_condition\n",
              "2014                                 mint_condition\n",
              "2015                                 mint_condition\n",
              "2016                                 mint_condition\n",
              "2017                                 mint_condition\n",
              "2018                                 first_time_use\n",
              "2019                                 first_time_use\n",
              "2020                                 first_time_use"
            ]
          },
          "metadata": {
            "tags": []
          },
          "execution_count": 24
        }
      ]
    },
    {
      "cell_type": "code",
      "metadata": {
        "colab": {
          "base_uri": "https://localhost:8080/"
        },
        "id": "4nzMe_r_e786",
        "outputId": "33b09022-f48d-4fff-fc94-1c5a785e3ea4"
      },
      "source": [
        "#All conditions during this time frame\n",
        "late_years['Condition'].unique()"
      ],
      "execution_count": 25,
      "outputs": [
        {
          "output_type": "execute_result",
          "data": {
            "text/plain": [
              "array(['first_time_use', 'mint_condition', 'well_kept', 'no_information',\n",
              "       'fully_renovated', 'first_time_use_after_refurbishment',\n",
              "       'refurbished', 'modernized'], dtype=object)"
            ]
          },
          "metadata": {
            "tags": []
          },
          "execution_count": 25
        }
      ]
    },
    {
      "cell_type": "markdown",
      "metadata": {
        "id": "yoGfZBubpdOZ"
      },
      "source": [
        "### **Further Observations**\n",
        "\n",
        "* The apartments available were constructed between the year 1864 and 2020.\n",
        "\n",
        "* Apartments between 1864 and 2000 are mostly well_kept, refurbished, or in need_of_renovation. A good number of them are also in good condition but this is expected because these are old buildings.\n",
        "\n",
        "* On the other hand, if you are looking for a more modern, first time use apart ments, then it would be best to consider apartments contructed between 2005 and 2020 as they mostly fulfil these conditions. "
      ]
    },
    {
      "cell_type": "markdown",
      "metadata": {
        "id": "ENwCT7XBWumX"
      },
      "source": [
        "#**Let's recommend a good flat to Jane!**\n",
        "My friend Jane is looking for a flat. She is still a student and cannot afford an expensive flat. Are there flats with a rent less than 500€ and more than 25 sqm (Space). She would like to move to Kreuzberg, Wedding, Prenzlauer Berg or Mitte. Is there a flat with two rooms and these constraints?\n",
        "\n",
        "Any suitable flats? Share the url !"
      ]
    },
    {
      "cell_type": "code",
      "metadata": {
        "id": "rGLlDILn01lA",
        "colab": {
          "base_uri": "https://localhost:8080/",
          "height": 80
        },
        "outputId": "0cce83ca-7e90-40f6-85f9-7d0651c49632"
      },
      "source": [
        "#Filter based on her condition\n",
        "rentals[(rentals['Rent']< 500) & (rentals['Space'] > 25) & \n",
        "        ((rentals['Region'] == \"Kreuzberg\") | (rentals['Region'] == \"Wedding\")| \n",
        "         (rentals['Region'] == \"Prenzlauer Berg\")| (rentals['Region'] == \"Mitte\")) &  \n",
        "        (rentals['Rooms'] == 2)]"
      ],
      "execution_count": 26,
      "outputs": [
        {
          "output_type": "execute_result",
          "data": {
            "text/html": [
              "<div>\n",
              "<style scoped>\n",
              "    .dataframe tbody tr th:only-of-type {\n",
              "        vertical-align: middle;\n",
              "    }\n",
              "\n",
              "    .dataframe tbody tr th {\n",
              "        vertical-align: top;\n",
              "    }\n",
              "\n",
              "    .dataframe thead th {\n",
              "        text-align: right;\n",
              "    }\n",
              "</style>\n",
              "<table border=\"1\" class=\"dataframe\">\n",
              "  <thead>\n",
              "    <tr style=\"text-align: right;\">\n",
              "      <th></th>\n",
              "      <th>Region</th>\n",
              "      <th>Condition</th>\n",
              "      <th>Rooms</th>\n",
              "      <th>Rent</th>\n",
              "      <th>Year_Construction</th>\n",
              "      <th>Space</th>\n",
              "    </tr>\n",
              "  </thead>\n",
              "  <tbody>\n",
              "    <tr>\n",
              "      <th>97</th>\n",
              "      <td>Wedding</td>\n",
              "      <td>no_information</td>\n",
              "      <td>2.0</td>\n",
              "      <td>383.46</td>\n",
              "      <td>1890</td>\n",
              "      <td>48.23</td>\n",
              "    </tr>\n",
              "  </tbody>\n",
              "</table>\n",
              "</div>"
            ],
            "text/plain": [
              "     Region       Condition  Rooms    Rent  Year_Construction  Space\n",
              "97  Wedding  no_information    2.0  383.46               1890  48.23"
            ]
          },
          "metadata": {
            "tags": []
          },
          "execution_count": 26
        }
      ]
    },
    {
      "cell_type": "markdown",
      "metadata": {
        "id": "v_ZP85iH0d4l"
      },
      "source": [
        "## **My recommendations to Jane:**\n",
        "Hi Jane,\n",
        "So i filtered the search based on your request and most important criteria (Rent, Space, Region, No. of rooms) and I can recommend a 48.23m2, two bedroom apartment in Wedding at a rental cost of 383.46 Euros per month. Here is the URL for the Ad; https://www.immobilienscout24.de/expose/116697084"
      ]
    },
    {
      "cell_type": "markdown",
      "metadata": {
        "id": "pQ4giC1YE4eq"
      },
      "source": [
        "# **ML Prediction**"
      ]
    },
    {
      "cell_type": "markdown",
      "metadata": {
        "id": "gKGdfxsNOwVZ"
      },
      "source": [
        "## **Predicting Year of Construction on rental price**"
      ]
    },
    {
      "cell_type": "code",
      "metadata": {
        "id": "DMOu8qPqBeSH",
        "colab": {
          "base_uri": "https://localhost:8080/",
          "height": 204
        },
        "outputId": "1f5fff91-d588-4268-9835-df88b01e66bd"
      },
      "source": [
        "rentals.head()"
      ],
      "execution_count": 27,
      "outputs": [
        {
          "output_type": "execute_result",
          "data": {
            "text/html": [
              "<div>\n",
              "<style scoped>\n",
              "    .dataframe tbody tr th:only-of-type {\n",
              "        vertical-align: middle;\n",
              "    }\n",
              "\n",
              "    .dataframe tbody tr th {\n",
              "        vertical-align: top;\n",
              "    }\n",
              "\n",
              "    .dataframe thead th {\n",
              "        text-align: right;\n",
              "    }\n",
              "</style>\n",
              "<table border=\"1\" class=\"dataframe\">\n",
              "  <thead>\n",
              "    <tr style=\"text-align: right;\">\n",
              "      <th></th>\n",
              "      <th>Region</th>\n",
              "      <th>Condition</th>\n",
              "      <th>Rooms</th>\n",
              "      <th>Rent</th>\n",
              "      <th>Year_Construction</th>\n",
              "      <th>Space</th>\n",
              "    </tr>\n",
              "  </thead>\n",
              "  <tbody>\n",
              "    <tr>\n",
              "      <th>0</th>\n",
              "      <td>Mitte</td>\n",
              "      <td>first_time_use</td>\n",
              "      <td>4.0</td>\n",
              "      <td>2659.00</td>\n",
              "      <td>2019</td>\n",
              "      <td>117.20</td>\n",
              "    </tr>\n",
              "    <tr>\n",
              "      <th>1</th>\n",
              "      <td>Kreuzberg</td>\n",
              "      <td>first_time_use</td>\n",
              "      <td>1.0</td>\n",
              "      <td>1200.00</td>\n",
              "      <td>2020</td>\n",
              "      <td>29.33</td>\n",
              "    </tr>\n",
              "    <tr>\n",
              "      <th>2</th>\n",
              "      <td>Köpenick</td>\n",
              "      <td>well_kept</td>\n",
              "      <td>2.0</td>\n",
              "      <td>979.00</td>\n",
              "      <td>1997</td>\n",
              "      <td>83.61</td>\n",
              "    </tr>\n",
              "    <tr>\n",
              "      <th>3</th>\n",
              "      <td>Wilmersdorf</td>\n",
              "      <td>well_kept</td>\n",
              "      <td>4.0</td>\n",
              "      <td>1830.22</td>\n",
              "      <td>1900</td>\n",
              "      <td>171.18</td>\n",
              "    </tr>\n",
              "    <tr>\n",
              "      <th>4</th>\n",
              "      <td>Kreuzberg</td>\n",
              "      <td>first_time_use</td>\n",
              "      <td>2.0</td>\n",
              "      <td>2272.00</td>\n",
              "      <td>2020</td>\n",
              "      <td>88.27</td>\n",
              "    </tr>\n",
              "  </tbody>\n",
              "</table>\n",
              "</div>"
            ],
            "text/plain": [
              "        Region       Condition  Rooms     Rent  Year_Construction   Space\n",
              "0        Mitte  first_time_use    4.0  2659.00               2019  117.20\n",
              "1    Kreuzberg  first_time_use    1.0  1200.00               2020   29.33\n",
              "2     Köpenick       well_kept    2.0   979.00               1997   83.61\n",
              "3  Wilmersdorf       well_kept    4.0  1830.22               1900  171.18\n",
              "4    Kreuzberg  first_time_use    2.0  2272.00               2020   88.27"
            ]
          },
          "metadata": {
            "tags": []
          },
          "execution_count": 27
        }
      ]
    },
    {
      "cell_type": "code",
      "metadata": {
        "id": "PC8_mjRWPBLX"
      },
      "source": [
        "#We can use the get_dummies function of the pandas library in order to convert a column to its one hot encoded version.\n",
        "dummy = pd.get_dummies(rentals['Region'])\n",
        "\n",
        "# We merge the new results again into a new dataframe\n",
        "rentals = pd.concat([rentals,dummy],axis=1)\n",
        "\n",
        "# Select the column that we want to teach the algorithm to predict\n",
        "predictors = ['Rooms','Space','Mitte', 'Kreuzberg', 'Köpenick', 'Wilmersdorf', 'Charlottenburg',\n",
        "       'Friedrichsfelde', 'Tiergarten', 'Prenzlauer', 'Wedding',\n",
        "       'Neukölln']\n",
        "\n",
        "X= rentals[predictors]\n",
        "\n",
        "Y= rentals['Rent']"
      ],
      "execution_count": 28,
      "outputs": []
    },
    {
      "cell_type": "code",
      "metadata": {
        "id": "qjyTrpFSPF9w"
      },
      "source": [
        "X_train, X_test, Y_train, Y_test = train_test_split(X, Y, test_size=0.2,random_state=1) "
      ],
      "execution_count": 29,
      "outputs": []
    },
    {
      "cell_type": "code",
      "metadata": {
        "id": "60EK7CklPG2_"
      },
      "source": [
        "clf= LinearRegression()"
      ],
      "execution_count": 30,
      "outputs": []
    },
    {
      "cell_type": "code",
      "metadata": {
        "id": "KRNo0ud9PQgb",
        "colab": {
          "base_uri": "https://localhost:8080/"
        },
        "outputId": "60d44935-bf58-4b18-d2b0-8e98b3e1242f"
      },
      "source": [
        "#Fit linear model\n",
        "clf.fit(X_train, Y_train)"
      ],
      "execution_count": 31,
      "outputs": [
        {
          "output_type": "execute_result",
          "data": {
            "text/plain": [
              "LinearRegression(copy_X=True, fit_intercept=True, n_jobs=None, normalize=False)"
            ]
          },
          "metadata": {
            "tags": []
          },
          "execution_count": 31
        }
      ]
    },
    {
      "cell_type": "code",
      "metadata": {
        "id": "kxwtBu1qPQj-",
        "colab": {
          "base_uri": "https://localhost:8080/"
        },
        "outputId": "4cada70c-7e97-4c90-ce02-fd77da93b380"
      },
      "source": [
        "#Time to Predict using the linear model\n",
        "clf.predict(X_test)"
      ],
      "execution_count": 32,
      "outputs": [
        {
          "output_type": "execute_result",
          "data": {
            "text/plain": [
              "array([3571.13080474, 4686.69105015, 3131.96586289, 1833.79381253,\n",
              "       1680.2042806 , 1006.93982489, 2643.06956618,  165.51128737,\n",
              "       1931.53601388, 3779.12166539, 1765.11429929, 1700.40998379,\n",
              "       1455.56320955, 1377.61241223, 1045.46925548,  983.30681259,\n",
              "       2248.30174828, 1894.52744943, 1312.12557299, 2391.22897773,\n",
              "       1774.40084406,  280.32534656, 2076.43565762,  703.10208765,\n",
              "       1657.13087831, 1495.23248888, 2099.39239309, 1889.92066968,\n",
              "       1875.06024727, 8816.25819677, 4618.69932586, 2957.53642984,\n",
              "       2347.10811912,  683.02853289, 1542.17078377, 1699.36298839,\n",
              "       1472.84825718, 1162.72822075, 2014.71800181, 2143.13057234,\n",
              "       1444.21151824, 3832.4608557 ,  765.80337512,  566.23891922,\n",
              "       1823.48156984,  993.3243656 , 1006.13131223, 2121.09273409,\n",
              "       1323.92908468, 2578.83573665, 1376.75199249, 2509.81910764,\n",
              "       4310.82760672,  303.00220207, 1026.0313581 , 2343.99260838,\n",
              "       1634.08216346, 1926.82132343, 1517.81398665, 1530.32770477,\n",
              "       4621.88748072, 1499.85735364,  567.03952797, 1277.74400875,\n",
              "       2027.02199404, 2220.50674331, 1277.68831528, 1782.49442287,\n",
              "       2397.08072059,  779.68707809, 1169.37876465, 1326.85355466,\n",
              "        668.44300204,  845.75308728, 1238.71861675, 1622.30864635,\n",
              "       1090.58963826,  841.58301839, 1634.08216346, 1481.43361943,\n",
              "        303.00220207, 2118.57994514,  942.28606283, 2056.07562793,\n",
              "        913.15812103, 1186.2359902 , 3097.88888554, 2891.1569217 ,\n",
              "       2125.29214702,  455.86352996, 1208.24950334, 1685.80712082,\n",
              "       1260.3081917 , 1101.56221981, 1433.84947498, 2745.67963417,\n",
              "       2101.88309137, 1828.42998449, 2951.93772727, 1396.88732632,\n",
              "        330.45555594, 1235.80436177, 1705.43556169, 1993.12842686,\n",
              "       4451.18006243, 2253.4329522 ,  303.00220207, 2964.12928966,\n",
              "       1601.26082771, 3413.4666916 ,  844.03435039, 1973.6803014 ,\n",
              "       1729.04710421,  699.17373177,  977.25157142, 2503.76862501,\n",
              "       1552.83870547, 2332.71465523, 1673.66649335, 1748.15297387,\n",
              "        455.86352996, 2387.81208853, 3152.79786011, 2158.57516928,\n",
              "       1639.52653952, 1098.07484017, 3592.64383733,  846.62428639,\n",
              "       2055.96962043, 1286.11521337, 2429.69190439, 1130.73089775,\n",
              "       2741.086248  , 1450.86135385, 1664.0805515 , 3176.8278193 ,\n",
              "       2051.87744755, 1145.32662739, 2018.90598339, 1675.16850391,\n",
              "       2132.3631245 , 1420.84074316, 2696.41577796, 2266.70677658,\n",
              "       1391.96965913, 1991.62564574, 1102.21640596, 1214.89552811,\n",
              "       1730.24875292, 2104.55020682, 2374.66068267, 1988.96191505,\n",
              "       2349.33773052])"
            ]
          },
          "metadata": {
            "tags": []
          },
          "execution_count": 32
        }
      ]
    },
    {
      "cell_type": "markdown",
      "metadata": {
        "id": "3z-I-y-EeCKD"
      },
      "source": [
        "## This gives our model an accuracy of 90%"
      ]
    },
    {
      "cell_type": "code",
      "metadata": {
        "id": "KkRsNZPHPW6P",
        "colab": {
          "base_uri": "https://localhost:8080/"
        },
        "outputId": "1ca203aa-557f-4cef-d519-fdc7c7c27bea"
      },
      "source": [
        "clf.score(X_test,Y_test) "
      ],
      "execution_count": 33,
      "outputs": [
        {
          "output_type": "execute_result",
          "data": {
            "text/plain": [
              "0.7951393870057795"
            ]
          },
          "metadata": {
            "tags": []
          },
          "execution_count": 33
        }
      ]
    }
  ]
}